{
  "cells": [
    {
      "cell_type": "markdown",
      "metadata": {
        "id": "aPW9uS0LBYYr"
      },
      "source": [
        "###Dataset"
      ]
    },
    {
      "cell_type": "markdown",
      "metadata": {
        "id": "OZ-c3OkNBbGX"
      },
      "source": [
        "Name of the data set: **30Columnists**\n",
        "\n",
        "Dataset consist of 30 author's 50 articles each in English.\n",
        "\n",
        "Dataset: [dataset](http://www.kemik.yildiz.edu.tr/veri_kumelerimiz.html)"
      ]
    },
    {
      "cell_type": "markdown",
      "metadata": {
        "id": "ld6oNQwlD1me"
      },
      "source": [
        "### Load Dataset"
      ]
    },
    {
      "cell_type": "code",
      "execution_count": 1,
      "metadata": {
        "colab": {
          "base_uri": "https://localhost:8080/"
        },
        "id": "LtaziAYwD6Fe",
        "outputId": "3aab6f28-0abc-40fc-c1d4-d7d1ee6da6b6"
      },
      "outputs": [
        {
          "output_type": "stream",
          "name": "stdout",
          "text": [
            "  % Total    % Received % Xferd  Average Speed   Time    Time     Time  Current\n",
            "                                 Dload  Upload   Total   Spent    Left  Speed\n",
            "100 7208k  100 7208k    0     0   364k      0  0:00:19  0:00:19 --:--:--  424k\n"
          ]
        }
      ],
      "source": [
        "!curl http://www.kemik.yildiz.edu.tr/data/File/30Columnists.zip -o ./30Columnists.zip"
      ]
    },
    {
      "cell_type": "code",
      "execution_count": null,
      "metadata": {
        "id": "IhHr2WmoEtFo"
      },
      "outputs": [],
      "source": [
        "!unzip /content/30Columnists.zip -d /content"
      ]
    },
    {
      "cell_type": "code",
      "execution_count": 3,
      "metadata": {
        "id": "Um-ry6YdE7X5",
        "colab": {
          "base_uri": "https://localhost:8080/"
        },
        "outputId": "0c9a91b6-6f26-481a-e11a-b8088269854e"
      },
      "outputs": [
        {
          "output_type": "stream",
          "name": "stdout",
          "text": [
            "['1', '2', '3', '4', '5', '6', '7', '8', '9', '10', '11', '12', '13', '14', '15', '16', '17', '18', '19', '20', '21', '22', '23', '24', '25', '26', '27', '28', '29', '30']\n"
          ]
        }
      ],
      "source": [
        "# Get authors\n",
        "import os\n",
        "PATH = \"/content/30Columnists/raw_texts\"\n",
        "\n",
        "authors = []\n",
        "for author in os.listdir(PATH):\n",
        "  authors.append(author)\n",
        "\n",
        "authors.sort(key = lambda a: int(a))\n",
        "print(authors)"
      ]
    },
    {
      "cell_type": "code",
      "execution_count": 4,
      "metadata": {
        "id": "Tu4rm2XBM3Wa"
      },
      "outputs": [],
      "source": [
        "# Read every article of each author and append to dataset\n",
        "import re\n",
        "dataset = []  # [[author, article], [author, article], ...]\n",
        "for author in authors:\n",
        "  author_path = os.path.join(PATH, author)\n",
        "  for article_file in os.listdir(author_path):\n",
        "    if article_file.endswith(\".txt\"):\n",
        "      article_path = os.path.join(author_path, article_file)\n",
        "      with open(article_path, \"rb\") as f:\n",
        "        article = f.read().decode(\"iso-8859-9\")\n",
        "\n",
        "        article = re.sub(r\"[\\n\\r\\f\\x96]\", \"\", article)\n",
        "        dataset.append([author, article])"
      ]
    },
    {
      "cell_type": "code",
      "execution_count": 5,
      "metadata": {
        "id": "zSTxhnGrHy77",
        "colab": {
          "base_uri": "https://localhost:8080/"
        },
        "outputId": "24d1ded8-f11e-4dd4-8540-bf3d23a3634a"
      },
      "outputs": [
        {
          "output_type": "stream",
          "name": "stdout",
          "text": [
            " 1\t50\n",
            " 2\t50\n",
            " 3\t50\n",
            " 4\t50\n",
            " 5\t50\n",
            " 6\t50\n",
            " 7\t50\n",
            " 8\t50\n",
            " 9\t50\n",
            "10\t50\n",
            "11\t50\n",
            "12\t50\n",
            "13\t50\n",
            "14\t50\n",
            "15\t50\n",
            "16\t50\n",
            "17\t50\n",
            "18\t50\n",
            "19\t50\n",
            "20\t50\n",
            "21\t50\n",
            "22\t50\n",
            "23\t50\n",
            "24\t50\n",
            "25\t50\n",
            "26\t50\n",
            "27\t50\n",
            "28\t50\n",
            "29\t50\n",
            "30\t50\n"
          ]
        }
      ],
      "source": [
        "article_count = {}\n",
        "for author in authors:\n",
        "  article_count.update({author: 0})\n",
        "\n",
        "for row in dataset:\n",
        "  author = row[0]\n",
        "  count = article_count[author]\n",
        "  article_count.update({author: count+1})\n",
        "\n",
        "for author in authors:\n",
        "  print(f\"{author:>2}\\t{article_count[author]}\")"
      ]
    },
    {
      "cell_type": "code",
      "execution_count": 6,
      "metadata": {
        "id": "STBrKOzUNJhb",
        "colab": {
          "base_uri": "https://localhost:8080/"
        },
        "outputId": "9d69bbba-4c68-4df6-ca34-6f508516291b"
      },
      "outputs": [
        {
          "output_type": "stream",
          "name": "stdout",
          "text": [
            "     author                                            article\n",
            "0         1  THE British Motor Show opened this week with t...\n",
            "1         1  THE small assembly of rather embarrassed anony...\n",
            "2         1  LOCAL shopkeepers can rest easy, everything is...\n",
            "3         1   DON'T think it's ever happened to me before, ...\n",
            "4         1  WHAT good news it was this week to see that af...\n",
            "...     ...                                                ...\n",
            "1495     30  There is something about $4 gasoline that look...\n",
            "1496     30  Have you noticed? Gasoline is under $4 a gallo...\n",
            "1497     30  Every year about this time a man gets a remind...\n",
            "1498     30  It was mainly a social occasion. An elegant bl...\n",
            "1499     30  Economic suicide bombing.What else can you cal...\n",
            "\n",
            "[1500 rows x 2 columns]\n"
          ]
        }
      ],
      "source": [
        "import pandas as pd\n",
        "\n",
        "dataset = pd.DataFrame(dataset, columns=[\"author\", \"article\"])\n",
        "print(dataset)"
      ]
    },
    {
      "cell_type": "markdown",
      "metadata": {
        "id": "Uv_d-SNEIxM6"
      },
      "source": [
        "###Tokenization, Punctuations, Stop Words, Case Folding\n",
        "\n",
        "> Tokeinizing, removing punctuations and stopword, applying case folding."
      ]
    },
    {
      "cell_type": "code",
      "execution_count": 9,
      "metadata": {
        "colab": {
          "base_uri": "https://localhost:8080/"
        },
        "id": "ciTHXfwBIwnf",
        "outputId": "9f48bbb1-ab65-466e-826e-2c494e05d462"
      },
      "outputs": [
        {
          "output_type": "stream",
          "name": "stderr",
          "text": [
            "[nltk_data] Downloading package punkt to /root/nltk_data...\n",
            "[nltk_data]   Package punkt is already up-to-date!\n"
          ]
        },
        {
          "output_type": "execute_result",
          "data": {
            "text/plain": [
              "True"
            ]
          },
          "metadata": {},
          "execution_count": 9
        }
      ],
      "source": [
        "# nltk library for tokenizing, punctuations and stopwords\n",
        "import nltk\n",
        "nltk.download(\"punkt\")"
      ]
    },
    {
      "cell_type": "code",
      "execution_count": 10,
      "metadata": {
        "colab": {
          "base_uri": "https://localhost:8080/"
        },
        "id": "2Kl2z1GCKh1u",
        "outputId": "75bbc8a6-b6aa-4ce9-caea-2cea836660d2"
      },
      "outputs": [
        {
          "output_type": "stream",
          "name": "stderr",
          "text": [
            "[nltk_data] Downloading package stopwords to /root/nltk_data...\n",
            "[nltk_data]   Package stopwords is already up-to-date!\n"
          ]
        }
      ],
      "source": [
        "from nltk.corpus import stopwords\n",
        "nltk.download(\"stopwords\")\n",
        "stop_words = stopwords.words(\"english\")"
      ]
    },
    {
      "cell_type": "code",
      "execution_count": 11,
      "metadata": {
        "colab": {
          "base_uri": "https://localhost:8080/"
        },
        "id": "mQ-QCkr-K3mC",
        "outputId": "674da837-f025-4603-d774-f17190deb5f5"
      },
      "outputs": [
        {
          "output_type": "stream",
          "name": "stdout",
          "text": [
            "179 ['i', 'me', 'my', 'myself', 'we', 'our', 'ours', 'ourselves', 'you', \"you're\", \"you've\", \"you'll\", \"you'd\", 'your', 'yours', 'yourself', 'yourselves', 'he', 'him', 'his', 'himself', 'she', \"she's\", 'her', 'hers', 'herself', 'it', \"it's\", 'its', 'itself', 'they', 'them', 'their', 'theirs', 'themselves', 'what', 'which', 'who', 'whom', 'this', 'that', \"that'll\", 'these', 'those', 'am', 'is', 'are', 'was', 'were', 'be', 'been', 'being', 'have', 'has', 'had', 'having', 'do', 'does', 'did', 'doing', 'a', 'an', 'the', 'and', 'but', 'if', 'or', 'because', 'as', 'until', 'while', 'of', 'at', 'by', 'for', 'with', 'about', 'against', 'between', 'into', 'through', 'during', 'before', 'after', 'above', 'below', 'to', 'from', 'up', 'down', 'in', 'out', 'on', 'off', 'over', 'under', 'again', 'further', 'then', 'once', 'here', 'there', 'when', 'where', 'why', 'how', 'all', 'any', 'both', 'each', 'few', 'more', 'most', 'other', 'some', 'such', 'no', 'nor', 'not', 'only', 'own', 'same', 'so', 'than', 'too', 'very', 's', 't', 'can', 'will', 'just', 'don', \"don't\", 'should', \"should've\", 'now', 'd', 'll', 'm', 'o', 're', 've', 'y', 'ain', 'aren', \"aren't\", 'couldn', \"couldn't\", 'didn', \"didn't\", 'doesn', \"doesn't\", 'hadn', \"hadn't\", 'hasn', \"hasn't\", 'haven', \"haven't\", 'isn', \"isn't\", 'ma', 'mightn', \"mightn't\", 'mustn', \"mustn't\", 'needn', \"needn't\", 'shan', \"shan't\", 'shouldn', \"shouldn't\", 'wasn', \"wasn't\", 'weren', \"weren't\", 'won', \"won't\", 'wouldn', \"wouldn't\"]\n"
          ]
        }
      ],
      "source": [
        "print(len(stop_words), stop_words)"
      ]
    },
    {
      "cell_type": "code",
      "execution_count": 12,
      "metadata": {
        "id": "jpoDIgJAI8Jz"
      },
      "outputs": [],
      "source": [
        "from nltk import word_tokenize\n",
        "import re\n",
        "# Tokenizing, removing punctuations and stopwords, applying case folding\n",
        "for idx, row in dataset.iterrows():\n",
        "  dataset.at[idx, \"article\"] = [token.lower() for token in word_tokenize(re.sub(r\"\\.\", \" . \", row[\"article\"])) if token.isalpha() and (token.lower() not in stop_words)]"
      ]
    },
    {
      "cell_type": "code",
      "execution_count": 13,
      "metadata": {
        "colab": {
          "base_uri": "https://localhost:8080/"
        },
        "id": "O1HSKoUQPsqB",
        "outputId": "e9122eb4-5f92-4bdd-fbdf-e5647e437adc"
      },
      "outputs": [
        {
          "output_type": "stream",
          "name": "stdout",
          "text": [
            "     author                                            article\n",
            "0         1  [british, motor, show, opened, week, prime, mi...\n",
            "1         1  [small, assembly, rather, embarrassed, anonymo...\n",
            "2         1  [local, shopkeepers, rest, easy, everything, g...\n",
            "3         1  [think, ever, happened, little, ashamed, admit...\n",
            "4         1  [good, news, week, see, deployment, police, of...\n",
            "...     ...                                                ...\n",
            "1495     30  [something, gasoline, looks, going, away, serv...\n",
            "1496     30  [noticed, gasoline, gallon, supposed, happen, ...\n",
            "1497     30  [every, year, time, man, gets, reminder, best,...\n",
            "1498     30  [mainly, social, occasion, elegant, black, tie...\n",
            "1499     30  [economic, suicide, bombing, else, call, launc...\n",
            "\n",
            "[1500 rows x 2 columns]\n"
          ]
        }
      ],
      "source": [
        "print(dataset)"
      ]
    },
    {
      "cell_type": "markdown",
      "metadata": {
        "id": "JddpVJT2P00b"
      },
      "source": [
        "###Train-Test Splits\n",
        "\n",
        "> Splitting dataset into Train (80%) and Test (20%)"
      ]
    },
    {
      "cell_type": "code",
      "execution_count": 14,
      "metadata": {
        "id": "4KXlkDxaP5T7"
      },
      "outputs": [],
      "source": [
        "# Train Dataset\n",
        "train_dataset = dataset.sample(frac=0.8, random_state=1)"
      ]
    },
    {
      "cell_type": "code",
      "execution_count": 15,
      "metadata": {
        "colab": {
          "base_uri": "https://localhost:8080/",
          "height": 0
        },
        "id": "qbW-MOL0QC5U",
        "outputId": "8e0533e5-dca3-4719-a7a0-6e47265137af"
      },
      "outputs": [
        {
          "output_type": "execute_result",
          "data": {
            "text/plain": [
              "     author                                            article\n",
              "91        2  [americans, queued, round, block, hours, cast,...\n",
              "75        2  [politicians, poring, maps, checking, election...\n",
              "1264     26  [maybe, glass, rioja, champions, league, tie, ...\n",
              "330       7  [nothing, like, sex, scandal, political, class...\n",
              "1349     27  [reasons, dry, man, really, grasp, many, peopl...\n",
              "...     ...                                                ...\n",
              "652      14  [oh, dear, quite, sure, came, full, two, days,...\n",
              "70        2  [america, fire, chiefs, sheriffs, well, govern...\n",
              "610      13  [baseball, regular, season, sundae, cherry, to...\n",
              "1174     24  [digital, age, noticed, many, simple, items, p...\n",
              "1440     29  [old, saw, drinking, eight, glasses, water, da...\n",
              "\n",
              "[1200 rows x 2 columns]"
            ],
            "text/html": [
              "\n",
              "  <div id=\"df-f2a7707b-0b9c-408c-bc4a-8047e80b3117\" class=\"colab-df-container\">\n",
              "    <div>\n",
              "<style scoped>\n",
              "    .dataframe tbody tr th:only-of-type {\n",
              "        vertical-align: middle;\n",
              "    }\n",
              "\n",
              "    .dataframe tbody tr th {\n",
              "        vertical-align: top;\n",
              "    }\n",
              "\n",
              "    .dataframe thead th {\n",
              "        text-align: right;\n",
              "    }\n",
              "</style>\n",
              "<table border=\"1\" class=\"dataframe\">\n",
              "  <thead>\n",
              "    <tr style=\"text-align: right;\">\n",
              "      <th></th>\n",
              "      <th>author</th>\n",
              "      <th>article</th>\n",
              "    </tr>\n",
              "  </thead>\n",
              "  <tbody>\n",
              "    <tr>\n",
              "      <th>91</th>\n",
              "      <td>2</td>\n",
              "      <td>[americans, queued, round, block, hours, cast,...</td>\n",
              "    </tr>\n",
              "    <tr>\n",
              "      <th>75</th>\n",
              "      <td>2</td>\n",
              "      <td>[politicians, poring, maps, checking, election...</td>\n",
              "    </tr>\n",
              "    <tr>\n",
              "      <th>1264</th>\n",
              "      <td>26</td>\n",
              "      <td>[maybe, glass, rioja, champions, league, tie, ...</td>\n",
              "    </tr>\n",
              "    <tr>\n",
              "      <th>330</th>\n",
              "      <td>7</td>\n",
              "      <td>[nothing, like, sex, scandal, political, class...</td>\n",
              "    </tr>\n",
              "    <tr>\n",
              "      <th>1349</th>\n",
              "      <td>27</td>\n",
              "      <td>[reasons, dry, man, really, grasp, many, peopl...</td>\n",
              "    </tr>\n",
              "    <tr>\n",
              "      <th>...</th>\n",
              "      <td>...</td>\n",
              "      <td>...</td>\n",
              "    </tr>\n",
              "    <tr>\n",
              "      <th>652</th>\n",
              "      <td>14</td>\n",
              "      <td>[oh, dear, quite, sure, came, full, two, days,...</td>\n",
              "    </tr>\n",
              "    <tr>\n",
              "      <th>70</th>\n",
              "      <td>2</td>\n",
              "      <td>[america, fire, chiefs, sheriffs, well, govern...</td>\n",
              "    </tr>\n",
              "    <tr>\n",
              "      <th>610</th>\n",
              "      <td>13</td>\n",
              "      <td>[baseball, regular, season, sundae, cherry, to...</td>\n",
              "    </tr>\n",
              "    <tr>\n",
              "      <th>1174</th>\n",
              "      <td>24</td>\n",
              "      <td>[digital, age, noticed, many, simple, items, p...</td>\n",
              "    </tr>\n",
              "    <tr>\n",
              "      <th>1440</th>\n",
              "      <td>29</td>\n",
              "      <td>[old, saw, drinking, eight, glasses, water, da...</td>\n",
              "    </tr>\n",
              "  </tbody>\n",
              "</table>\n",
              "<p>1200 rows × 2 columns</p>\n",
              "</div>\n",
              "    <div class=\"colab-df-buttons\">\n",
              "\n",
              "  <div class=\"colab-df-container\">\n",
              "    <button class=\"colab-df-convert\" onclick=\"convertToInteractive('df-f2a7707b-0b9c-408c-bc4a-8047e80b3117')\"\n",
              "            title=\"Convert this dataframe to an interactive table.\"\n",
              "            style=\"display:none;\">\n",
              "\n",
              "  <svg xmlns=\"http://www.w3.org/2000/svg\" height=\"24px\" viewBox=\"0 -960 960 960\">\n",
              "    <path d=\"M120-120v-720h720v720H120Zm60-500h600v-160H180v160Zm220 220h160v-160H400v160Zm0 220h160v-160H400v160ZM180-400h160v-160H180v160Zm440 0h160v-160H620v160ZM180-180h160v-160H180v160Zm440 0h160v-160H620v160Z\"/>\n",
              "  </svg>\n",
              "    </button>\n",
              "\n",
              "  <style>\n",
              "    .colab-df-container {\n",
              "      display:flex;\n",
              "      gap: 12px;\n",
              "    }\n",
              "\n",
              "    .colab-df-convert {\n",
              "      background-color: #E8F0FE;\n",
              "      border: none;\n",
              "      border-radius: 50%;\n",
              "      cursor: pointer;\n",
              "      display: none;\n",
              "      fill: #1967D2;\n",
              "      height: 32px;\n",
              "      padding: 0 0 0 0;\n",
              "      width: 32px;\n",
              "    }\n",
              "\n",
              "    .colab-df-convert:hover {\n",
              "      background-color: #E2EBFA;\n",
              "      box-shadow: 0px 1px 2px rgba(60, 64, 67, 0.3), 0px 1px 3px 1px rgba(60, 64, 67, 0.15);\n",
              "      fill: #174EA6;\n",
              "    }\n",
              "\n",
              "    .colab-df-buttons div {\n",
              "      margin-bottom: 4px;\n",
              "    }\n",
              "\n",
              "    [theme=dark] .colab-df-convert {\n",
              "      background-color: #3B4455;\n",
              "      fill: #D2E3FC;\n",
              "    }\n",
              "\n",
              "    [theme=dark] .colab-df-convert:hover {\n",
              "      background-color: #434B5C;\n",
              "      box-shadow: 0px 1px 3px 1px rgba(0, 0, 0, 0.15);\n",
              "      filter: drop-shadow(0px 1px 2px rgba(0, 0, 0, 0.3));\n",
              "      fill: #FFFFFF;\n",
              "    }\n",
              "  </style>\n",
              "\n",
              "    <script>\n",
              "      const buttonEl =\n",
              "        document.querySelector('#df-f2a7707b-0b9c-408c-bc4a-8047e80b3117 button.colab-df-convert');\n",
              "      buttonEl.style.display =\n",
              "        google.colab.kernel.accessAllowed ? 'block' : 'none';\n",
              "\n",
              "      async function convertToInteractive(key) {\n",
              "        const element = document.querySelector('#df-f2a7707b-0b9c-408c-bc4a-8047e80b3117');\n",
              "        const dataTable =\n",
              "          await google.colab.kernel.invokeFunction('convertToInteractive',\n",
              "                                                    [key], {});\n",
              "        if (!dataTable) return;\n",
              "\n",
              "        const docLinkHtml = 'Like what you see? Visit the ' +\n",
              "          '<a target=\"_blank\" href=https://colab.research.google.com/notebooks/data_table.ipynb>data table notebook</a>'\n",
              "          + ' to learn more about interactive tables.';\n",
              "        element.innerHTML = '';\n",
              "        dataTable['output_type'] = 'display_data';\n",
              "        await google.colab.output.renderOutput(dataTable, element);\n",
              "        const docLink = document.createElement('div');\n",
              "        docLink.innerHTML = docLinkHtml;\n",
              "        element.appendChild(docLink);\n",
              "      }\n",
              "    </script>\n",
              "  </div>\n",
              "\n",
              "\n",
              "<div id=\"df-64a23632-bb2c-49dd-81b9-cbd34efb1884\">\n",
              "  <button class=\"colab-df-quickchart\" onclick=\"quickchart('df-64a23632-bb2c-49dd-81b9-cbd34efb1884')\"\n",
              "            title=\"Suggest charts\"\n",
              "            style=\"display:none;\">\n",
              "\n",
              "<svg xmlns=\"http://www.w3.org/2000/svg\" height=\"24px\"viewBox=\"0 0 24 24\"\n",
              "     width=\"24px\">\n",
              "    <g>\n",
              "        <path d=\"M19 3H5c-1.1 0-2 .9-2 2v14c0 1.1.9 2 2 2h14c1.1 0 2-.9 2-2V5c0-1.1-.9-2-2-2zM9 17H7v-7h2v7zm4 0h-2V7h2v10zm4 0h-2v-4h2v4z\"/>\n",
              "    </g>\n",
              "</svg>\n",
              "  </button>\n",
              "\n",
              "<style>\n",
              "  .colab-df-quickchart {\n",
              "      --bg-color: #E8F0FE;\n",
              "      --fill-color: #1967D2;\n",
              "      --hover-bg-color: #E2EBFA;\n",
              "      --hover-fill-color: #174EA6;\n",
              "      --disabled-fill-color: #AAA;\n",
              "      --disabled-bg-color: #DDD;\n",
              "  }\n",
              "\n",
              "  [theme=dark] .colab-df-quickchart {\n",
              "      --bg-color: #3B4455;\n",
              "      --fill-color: #D2E3FC;\n",
              "      --hover-bg-color: #434B5C;\n",
              "      --hover-fill-color: #FFFFFF;\n",
              "      --disabled-bg-color: #3B4455;\n",
              "      --disabled-fill-color: #666;\n",
              "  }\n",
              "\n",
              "  .colab-df-quickchart {\n",
              "    background-color: var(--bg-color);\n",
              "    border: none;\n",
              "    border-radius: 50%;\n",
              "    cursor: pointer;\n",
              "    display: none;\n",
              "    fill: var(--fill-color);\n",
              "    height: 32px;\n",
              "    padding: 0;\n",
              "    width: 32px;\n",
              "  }\n",
              "\n",
              "  .colab-df-quickchart:hover {\n",
              "    background-color: var(--hover-bg-color);\n",
              "    box-shadow: 0 1px 2px rgba(60, 64, 67, 0.3), 0 1px 3px 1px rgba(60, 64, 67, 0.15);\n",
              "    fill: var(--button-hover-fill-color);\n",
              "  }\n",
              "\n",
              "  .colab-df-quickchart-complete:disabled,\n",
              "  .colab-df-quickchart-complete:disabled:hover {\n",
              "    background-color: var(--disabled-bg-color);\n",
              "    fill: var(--disabled-fill-color);\n",
              "    box-shadow: none;\n",
              "  }\n",
              "\n",
              "  .colab-df-spinner {\n",
              "    border: 2px solid var(--fill-color);\n",
              "    border-color: transparent;\n",
              "    border-bottom-color: var(--fill-color);\n",
              "    animation:\n",
              "      spin 1s steps(1) infinite;\n",
              "  }\n",
              "\n",
              "  @keyframes spin {\n",
              "    0% {\n",
              "      border-color: transparent;\n",
              "      border-bottom-color: var(--fill-color);\n",
              "      border-left-color: var(--fill-color);\n",
              "    }\n",
              "    20% {\n",
              "      border-color: transparent;\n",
              "      border-left-color: var(--fill-color);\n",
              "      border-top-color: var(--fill-color);\n",
              "    }\n",
              "    30% {\n",
              "      border-color: transparent;\n",
              "      border-left-color: var(--fill-color);\n",
              "      border-top-color: var(--fill-color);\n",
              "      border-right-color: var(--fill-color);\n",
              "    }\n",
              "    40% {\n",
              "      border-color: transparent;\n",
              "      border-right-color: var(--fill-color);\n",
              "      border-top-color: var(--fill-color);\n",
              "    }\n",
              "    60% {\n",
              "      border-color: transparent;\n",
              "      border-right-color: var(--fill-color);\n",
              "    }\n",
              "    80% {\n",
              "      border-color: transparent;\n",
              "      border-right-color: var(--fill-color);\n",
              "      border-bottom-color: var(--fill-color);\n",
              "    }\n",
              "    90% {\n",
              "      border-color: transparent;\n",
              "      border-bottom-color: var(--fill-color);\n",
              "    }\n",
              "  }\n",
              "</style>\n",
              "\n",
              "  <script>\n",
              "    async function quickchart(key) {\n",
              "      const quickchartButtonEl =\n",
              "        document.querySelector('#' + key + ' button');\n",
              "      quickchartButtonEl.disabled = true;  // To prevent multiple clicks.\n",
              "      quickchartButtonEl.classList.add('colab-df-spinner');\n",
              "      try {\n",
              "        const charts = await google.colab.kernel.invokeFunction(\n",
              "            'suggestCharts', [key], {});\n",
              "      } catch (error) {\n",
              "        console.error('Error during call to suggestCharts:', error);\n",
              "      }\n",
              "      quickchartButtonEl.classList.remove('colab-df-spinner');\n",
              "      quickchartButtonEl.classList.add('colab-df-quickchart-complete');\n",
              "    }\n",
              "    (() => {\n",
              "      let quickchartButtonEl =\n",
              "        document.querySelector('#df-64a23632-bb2c-49dd-81b9-cbd34efb1884 button');\n",
              "      quickchartButtonEl.style.display =\n",
              "        google.colab.kernel.accessAllowed ? 'block' : 'none';\n",
              "    })();\n",
              "  </script>\n",
              "</div>\n",
              "\n",
              "  <div id=\"id_47b28505-3405-4b76-b93d-b152e744e009\">\n",
              "    <style>\n",
              "      .colab-df-generate {\n",
              "        background-color: #E8F0FE;\n",
              "        border: none;\n",
              "        border-radius: 50%;\n",
              "        cursor: pointer;\n",
              "        display: none;\n",
              "        fill: #1967D2;\n",
              "        height: 32px;\n",
              "        padding: 0 0 0 0;\n",
              "        width: 32px;\n",
              "      }\n",
              "\n",
              "      .colab-df-generate:hover {\n",
              "        background-color: #E2EBFA;\n",
              "        box-shadow: 0px 1px 2px rgba(60, 64, 67, 0.3), 0px 1px 3px 1px rgba(60, 64, 67, 0.15);\n",
              "        fill: #174EA6;\n",
              "      }\n",
              "\n",
              "      [theme=dark] .colab-df-generate {\n",
              "        background-color: #3B4455;\n",
              "        fill: #D2E3FC;\n",
              "      }\n",
              "\n",
              "      [theme=dark] .colab-df-generate:hover {\n",
              "        background-color: #434B5C;\n",
              "        box-shadow: 0px 1px 3px 1px rgba(0, 0, 0, 0.15);\n",
              "        filter: drop-shadow(0px 1px 2px rgba(0, 0, 0, 0.3));\n",
              "        fill: #FFFFFF;\n",
              "      }\n",
              "    </style>\n",
              "    <button class=\"colab-df-generate\" onclick=\"generateWithVariable('train_dataset')\"\n",
              "            title=\"Generate code using this dataframe.\"\n",
              "            style=\"display:none;\">\n",
              "\n",
              "  <svg xmlns=\"http://www.w3.org/2000/svg\" height=\"24px\"viewBox=\"0 0 24 24\"\n",
              "       width=\"24px\">\n",
              "    <path d=\"M7,19H8.4L18.45,9,17,7.55,7,17.6ZM5,21V16.75L18.45,3.32a2,2,0,0,1,2.83,0l1.4,1.43a1.91,1.91,0,0,1,.58,1.4,1.91,1.91,0,0,1-.58,1.4L9.25,21ZM18.45,9,17,7.55Zm-12,3A5.31,5.31,0,0,0,4.9,8.1,5.31,5.31,0,0,0,1,6.5,5.31,5.31,0,0,0,4.9,4.9,5.31,5.31,0,0,0,6.5,1,5.31,5.31,0,0,0,8.1,4.9,5.31,5.31,0,0,0,12,6.5,5.46,5.46,0,0,0,6.5,12Z\"/>\n",
              "  </svg>\n",
              "    </button>\n",
              "    <script>\n",
              "      (() => {\n",
              "      const buttonEl =\n",
              "        document.querySelector('#id_47b28505-3405-4b76-b93d-b152e744e009 button.colab-df-generate');\n",
              "      buttonEl.style.display =\n",
              "        google.colab.kernel.accessAllowed ? 'block' : 'none';\n",
              "\n",
              "      buttonEl.onclick = () => {\n",
              "        google.colab.notebook.generateWithVariable('train_dataset');\n",
              "      }\n",
              "      })();\n",
              "    </script>\n",
              "  </div>\n",
              "\n",
              "    </div>\n",
              "  </div>\n"
            ],
            "application/vnd.google.colaboratory.intrinsic+json": {
              "type": "dataframe",
              "variable_name": "train_dataset",
              "summary": "{\n  \"name\": \"train_dataset\",\n  \"rows\": 1200,\n  \"fields\": [\n    {\n      \"column\": \"author\",\n      \"properties\": {\n        \"dtype\": \"category\",\n        \"num_unique_values\": 30,\n        \"samples\": [\n          \"8\",\n          \"30\",\n          \"10\"\n        ],\n        \"semantic_type\": \"\",\n        \"description\": \"\"\n      }\n    },\n    {\n      \"column\": \"article\",\n      \"properties\": {\n        \"dtype\": \"object\",\n        \"semantic_type\": \"\",\n        \"description\": \"\"\n      }\n    }\n  ]\n}"
            }
          },
          "metadata": {},
          "execution_count": 15
        }
      ],
      "source": [
        "train_dataset"
      ]
    },
    {
      "cell_type": "code",
      "execution_count": 16,
      "metadata": {
        "colab": {
          "base_uri": "https://localhost:8080/"
        },
        "id": "kJP7cwFwQJmf",
        "outputId": "e8a2b4b4-f7ba-478c-a32c-0ce2f2dc04a7"
      },
      "outputs": [
        {
          "output_type": "execute_result",
          "data": {
            "text/plain": [
              "1200"
            ]
          },
          "metadata": {},
          "execution_count": 16
        }
      ],
      "source": [
        "len(train_dataset)"
      ]
    },
    {
      "cell_type": "code",
      "execution_count": 17,
      "metadata": {
        "colab": {
          "base_uri": "https://localhost:8080/"
        },
        "id": "_gIU0GzqQLQH",
        "outputId": "59ea34cb-18f6-4ec4-f022-51fa26de747f"
      },
      "outputs": [
        {
          "output_type": "execute_result",
          "data": {
            "text/plain": [
              "23    46\n",
              "2     44\n",
              "8     44\n",
              "16    44\n",
              "7     43\n",
              "1     43\n",
              "17    42\n",
              "6     42\n",
              "21    41\n",
              "12    41\n",
              "19    41\n",
              "5     41\n",
              "26    41\n",
              "11    40\n",
              "20    40\n",
              "18    40\n",
              "30    40\n",
              "25    40\n",
              "14    40\n",
              "9     39\n",
              "3     39\n",
              "24    39\n",
              "4     38\n",
              "22    38\n",
              "15    38\n",
              "29    37\n",
              "10    36\n",
              "27    36\n",
              "13    36\n",
              "28    31\n",
              "Name: author, dtype: int64"
            ]
          },
          "metadata": {},
          "execution_count": 17
        }
      ],
      "source": [
        "train_dataset[\"author\"].value_counts()"
      ]
    },
    {
      "cell_type": "code",
      "execution_count": 18,
      "metadata": {
        "id": "yoYuZHKuQYS3"
      },
      "outputs": [],
      "source": [
        "# Test Dataset\n",
        "test_dataset = dataset.drop(train_dataset.index)"
      ]
    },
    {
      "cell_type": "code",
      "execution_count": 19,
      "metadata": {
        "colab": {
          "base_uri": "https://localhost:8080/",
          "height": 0
        },
        "id": "I-kVolpVQgWz",
        "outputId": "08796c14-c603-4fbe-820a-d7585cee5a06"
      },
      "outputs": [
        {
          "output_type": "execute_result",
          "data": {
            "text/plain": [
              "     author                                            article\n",
              "15        1  [slow, relentless, creep, towards, society, in...\n",
              "20        1  [name, andrew, j, volstead, become, one, influ...\n",
              "21        1  [ronald, reagan, said, nine, terrifying, words...\n",
              "24        1  [week, scottish, charities, regulator, decided...\n",
              "25        1  [meant, flagship, policy, designed, show, snp,...\n",
              "...     ...                                                ...\n",
              "1478     30  [tend, wish, john, f, ferguson, got, little, l...\n",
              "1485     30  [uneasy, feeling, grows, hustled, recession, y...\n",
              "1495     30  [something, gasoline, looks, going, away, serv...\n",
              "1498     30  [mainly, social, occasion, elegant, black, tie...\n",
              "1499     30  [economic, suicide, bombing, else, call, launc...\n",
              "\n",
              "[300 rows x 2 columns]"
            ],
            "text/html": [
              "\n",
              "  <div id=\"df-70a0a290-583b-4fc1-a06f-25d68d261f42\" class=\"colab-df-container\">\n",
              "    <div>\n",
              "<style scoped>\n",
              "    .dataframe tbody tr th:only-of-type {\n",
              "        vertical-align: middle;\n",
              "    }\n",
              "\n",
              "    .dataframe tbody tr th {\n",
              "        vertical-align: top;\n",
              "    }\n",
              "\n",
              "    .dataframe thead th {\n",
              "        text-align: right;\n",
              "    }\n",
              "</style>\n",
              "<table border=\"1\" class=\"dataframe\">\n",
              "  <thead>\n",
              "    <tr style=\"text-align: right;\">\n",
              "      <th></th>\n",
              "      <th>author</th>\n",
              "      <th>article</th>\n",
              "    </tr>\n",
              "  </thead>\n",
              "  <tbody>\n",
              "    <tr>\n",
              "      <th>15</th>\n",
              "      <td>1</td>\n",
              "      <td>[slow, relentless, creep, towards, society, in...</td>\n",
              "    </tr>\n",
              "    <tr>\n",
              "      <th>20</th>\n",
              "      <td>1</td>\n",
              "      <td>[name, andrew, j, volstead, become, one, influ...</td>\n",
              "    </tr>\n",
              "    <tr>\n",
              "      <th>21</th>\n",
              "      <td>1</td>\n",
              "      <td>[ronald, reagan, said, nine, terrifying, words...</td>\n",
              "    </tr>\n",
              "    <tr>\n",
              "      <th>24</th>\n",
              "      <td>1</td>\n",
              "      <td>[week, scottish, charities, regulator, decided...</td>\n",
              "    </tr>\n",
              "    <tr>\n",
              "      <th>25</th>\n",
              "      <td>1</td>\n",
              "      <td>[meant, flagship, policy, designed, show, snp,...</td>\n",
              "    </tr>\n",
              "    <tr>\n",
              "      <th>...</th>\n",
              "      <td>...</td>\n",
              "      <td>...</td>\n",
              "    </tr>\n",
              "    <tr>\n",
              "      <th>1478</th>\n",
              "      <td>30</td>\n",
              "      <td>[tend, wish, john, f, ferguson, got, little, l...</td>\n",
              "    </tr>\n",
              "    <tr>\n",
              "      <th>1485</th>\n",
              "      <td>30</td>\n",
              "      <td>[uneasy, feeling, grows, hustled, recession, y...</td>\n",
              "    </tr>\n",
              "    <tr>\n",
              "      <th>1495</th>\n",
              "      <td>30</td>\n",
              "      <td>[something, gasoline, looks, going, away, serv...</td>\n",
              "    </tr>\n",
              "    <tr>\n",
              "      <th>1498</th>\n",
              "      <td>30</td>\n",
              "      <td>[mainly, social, occasion, elegant, black, tie...</td>\n",
              "    </tr>\n",
              "    <tr>\n",
              "      <th>1499</th>\n",
              "      <td>30</td>\n",
              "      <td>[economic, suicide, bombing, else, call, launc...</td>\n",
              "    </tr>\n",
              "  </tbody>\n",
              "</table>\n",
              "<p>300 rows × 2 columns</p>\n",
              "</div>\n",
              "    <div class=\"colab-df-buttons\">\n",
              "\n",
              "  <div class=\"colab-df-container\">\n",
              "    <button class=\"colab-df-convert\" onclick=\"convertToInteractive('df-70a0a290-583b-4fc1-a06f-25d68d261f42')\"\n",
              "            title=\"Convert this dataframe to an interactive table.\"\n",
              "            style=\"display:none;\">\n",
              "\n",
              "  <svg xmlns=\"http://www.w3.org/2000/svg\" height=\"24px\" viewBox=\"0 -960 960 960\">\n",
              "    <path d=\"M120-120v-720h720v720H120Zm60-500h600v-160H180v160Zm220 220h160v-160H400v160Zm0 220h160v-160H400v160ZM180-400h160v-160H180v160Zm440 0h160v-160H620v160ZM180-180h160v-160H180v160Zm440 0h160v-160H620v160Z\"/>\n",
              "  </svg>\n",
              "    </button>\n",
              "\n",
              "  <style>\n",
              "    .colab-df-container {\n",
              "      display:flex;\n",
              "      gap: 12px;\n",
              "    }\n",
              "\n",
              "    .colab-df-convert {\n",
              "      background-color: #E8F0FE;\n",
              "      border: none;\n",
              "      border-radius: 50%;\n",
              "      cursor: pointer;\n",
              "      display: none;\n",
              "      fill: #1967D2;\n",
              "      height: 32px;\n",
              "      padding: 0 0 0 0;\n",
              "      width: 32px;\n",
              "    }\n",
              "\n",
              "    .colab-df-convert:hover {\n",
              "      background-color: #E2EBFA;\n",
              "      box-shadow: 0px 1px 2px rgba(60, 64, 67, 0.3), 0px 1px 3px 1px rgba(60, 64, 67, 0.15);\n",
              "      fill: #174EA6;\n",
              "    }\n",
              "\n",
              "    .colab-df-buttons div {\n",
              "      margin-bottom: 4px;\n",
              "    }\n",
              "\n",
              "    [theme=dark] .colab-df-convert {\n",
              "      background-color: #3B4455;\n",
              "      fill: #D2E3FC;\n",
              "    }\n",
              "\n",
              "    [theme=dark] .colab-df-convert:hover {\n",
              "      background-color: #434B5C;\n",
              "      box-shadow: 0px 1px 3px 1px rgba(0, 0, 0, 0.15);\n",
              "      filter: drop-shadow(0px 1px 2px rgba(0, 0, 0, 0.3));\n",
              "      fill: #FFFFFF;\n",
              "    }\n",
              "  </style>\n",
              "\n",
              "    <script>\n",
              "      const buttonEl =\n",
              "        document.querySelector('#df-70a0a290-583b-4fc1-a06f-25d68d261f42 button.colab-df-convert');\n",
              "      buttonEl.style.display =\n",
              "        google.colab.kernel.accessAllowed ? 'block' : 'none';\n",
              "\n",
              "      async function convertToInteractive(key) {\n",
              "        const element = document.querySelector('#df-70a0a290-583b-4fc1-a06f-25d68d261f42');\n",
              "        const dataTable =\n",
              "          await google.colab.kernel.invokeFunction('convertToInteractive',\n",
              "                                                    [key], {});\n",
              "        if (!dataTable) return;\n",
              "\n",
              "        const docLinkHtml = 'Like what you see? Visit the ' +\n",
              "          '<a target=\"_blank\" href=https://colab.research.google.com/notebooks/data_table.ipynb>data table notebook</a>'\n",
              "          + ' to learn more about interactive tables.';\n",
              "        element.innerHTML = '';\n",
              "        dataTable['output_type'] = 'display_data';\n",
              "        await google.colab.output.renderOutput(dataTable, element);\n",
              "        const docLink = document.createElement('div');\n",
              "        docLink.innerHTML = docLinkHtml;\n",
              "        element.appendChild(docLink);\n",
              "      }\n",
              "    </script>\n",
              "  </div>\n",
              "\n",
              "\n",
              "<div id=\"df-04a51cf9-bd14-4be3-bb75-fd0576bda5fd\">\n",
              "  <button class=\"colab-df-quickchart\" onclick=\"quickchart('df-04a51cf9-bd14-4be3-bb75-fd0576bda5fd')\"\n",
              "            title=\"Suggest charts\"\n",
              "            style=\"display:none;\">\n",
              "\n",
              "<svg xmlns=\"http://www.w3.org/2000/svg\" height=\"24px\"viewBox=\"0 0 24 24\"\n",
              "     width=\"24px\">\n",
              "    <g>\n",
              "        <path d=\"M19 3H5c-1.1 0-2 .9-2 2v14c0 1.1.9 2 2 2h14c1.1 0 2-.9 2-2V5c0-1.1-.9-2-2-2zM9 17H7v-7h2v7zm4 0h-2V7h2v10zm4 0h-2v-4h2v4z\"/>\n",
              "    </g>\n",
              "</svg>\n",
              "  </button>\n",
              "\n",
              "<style>\n",
              "  .colab-df-quickchart {\n",
              "      --bg-color: #E8F0FE;\n",
              "      --fill-color: #1967D2;\n",
              "      --hover-bg-color: #E2EBFA;\n",
              "      --hover-fill-color: #174EA6;\n",
              "      --disabled-fill-color: #AAA;\n",
              "      --disabled-bg-color: #DDD;\n",
              "  }\n",
              "\n",
              "  [theme=dark] .colab-df-quickchart {\n",
              "      --bg-color: #3B4455;\n",
              "      --fill-color: #D2E3FC;\n",
              "      --hover-bg-color: #434B5C;\n",
              "      --hover-fill-color: #FFFFFF;\n",
              "      --disabled-bg-color: #3B4455;\n",
              "      --disabled-fill-color: #666;\n",
              "  }\n",
              "\n",
              "  .colab-df-quickchart {\n",
              "    background-color: var(--bg-color);\n",
              "    border: none;\n",
              "    border-radius: 50%;\n",
              "    cursor: pointer;\n",
              "    display: none;\n",
              "    fill: var(--fill-color);\n",
              "    height: 32px;\n",
              "    padding: 0;\n",
              "    width: 32px;\n",
              "  }\n",
              "\n",
              "  .colab-df-quickchart:hover {\n",
              "    background-color: var(--hover-bg-color);\n",
              "    box-shadow: 0 1px 2px rgba(60, 64, 67, 0.3), 0 1px 3px 1px rgba(60, 64, 67, 0.15);\n",
              "    fill: var(--button-hover-fill-color);\n",
              "  }\n",
              "\n",
              "  .colab-df-quickchart-complete:disabled,\n",
              "  .colab-df-quickchart-complete:disabled:hover {\n",
              "    background-color: var(--disabled-bg-color);\n",
              "    fill: var(--disabled-fill-color);\n",
              "    box-shadow: none;\n",
              "  }\n",
              "\n",
              "  .colab-df-spinner {\n",
              "    border: 2px solid var(--fill-color);\n",
              "    border-color: transparent;\n",
              "    border-bottom-color: var(--fill-color);\n",
              "    animation:\n",
              "      spin 1s steps(1) infinite;\n",
              "  }\n",
              "\n",
              "  @keyframes spin {\n",
              "    0% {\n",
              "      border-color: transparent;\n",
              "      border-bottom-color: var(--fill-color);\n",
              "      border-left-color: var(--fill-color);\n",
              "    }\n",
              "    20% {\n",
              "      border-color: transparent;\n",
              "      border-left-color: var(--fill-color);\n",
              "      border-top-color: var(--fill-color);\n",
              "    }\n",
              "    30% {\n",
              "      border-color: transparent;\n",
              "      border-left-color: var(--fill-color);\n",
              "      border-top-color: var(--fill-color);\n",
              "      border-right-color: var(--fill-color);\n",
              "    }\n",
              "    40% {\n",
              "      border-color: transparent;\n",
              "      border-right-color: var(--fill-color);\n",
              "      border-top-color: var(--fill-color);\n",
              "    }\n",
              "    60% {\n",
              "      border-color: transparent;\n",
              "      border-right-color: var(--fill-color);\n",
              "    }\n",
              "    80% {\n",
              "      border-color: transparent;\n",
              "      border-right-color: var(--fill-color);\n",
              "      border-bottom-color: var(--fill-color);\n",
              "    }\n",
              "    90% {\n",
              "      border-color: transparent;\n",
              "      border-bottom-color: var(--fill-color);\n",
              "    }\n",
              "  }\n",
              "</style>\n",
              "\n",
              "  <script>\n",
              "    async function quickchart(key) {\n",
              "      const quickchartButtonEl =\n",
              "        document.querySelector('#' + key + ' button');\n",
              "      quickchartButtonEl.disabled = true;  // To prevent multiple clicks.\n",
              "      quickchartButtonEl.classList.add('colab-df-spinner');\n",
              "      try {\n",
              "        const charts = await google.colab.kernel.invokeFunction(\n",
              "            'suggestCharts', [key], {});\n",
              "      } catch (error) {\n",
              "        console.error('Error during call to suggestCharts:', error);\n",
              "      }\n",
              "      quickchartButtonEl.classList.remove('colab-df-spinner');\n",
              "      quickchartButtonEl.classList.add('colab-df-quickchart-complete');\n",
              "    }\n",
              "    (() => {\n",
              "      let quickchartButtonEl =\n",
              "        document.querySelector('#df-04a51cf9-bd14-4be3-bb75-fd0576bda5fd button');\n",
              "      quickchartButtonEl.style.display =\n",
              "        google.colab.kernel.accessAllowed ? 'block' : 'none';\n",
              "    })();\n",
              "  </script>\n",
              "</div>\n",
              "\n",
              "  <div id=\"id_89cffd3b-d7c6-4035-a0db-012b61612212\">\n",
              "    <style>\n",
              "      .colab-df-generate {\n",
              "        background-color: #E8F0FE;\n",
              "        border: none;\n",
              "        border-radius: 50%;\n",
              "        cursor: pointer;\n",
              "        display: none;\n",
              "        fill: #1967D2;\n",
              "        height: 32px;\n",
              "        padding: 0 0 0 0;\n",
              "        width: 32px;\n",
              "      }\n",
              "\n",
              "      .colab-df-generate:hover {\n",
              "        background-color: #E2EBFA;\n",
              "        box-shadow: 0px 1px 2px rgba(60, 64, 67, 0.3), 0px 1px 3px 1px rgba(60, 64, 67, 0.15);\n",
              "        fill: #174EA6;\n",
              "      }\n",
              "\n",
              "      [theme=dark] .colab-df-generate {\n",
              "        background-color: #3B4455;\n",
              "        fill: #D2E3FC;\n",
              "      }\n",
              "\n",
              "      [theme=dark] .colab-df-generate:hover {\n",
              "        background-color: #434B5C;\n",
              "        box-shadow: 0px 1px 3px 1px rgba(0, 0, 0, 0.15);\n",
              "        filter: drop-shadow(0px 1px 2px rgba(0, 0, 0, 0.3));\n",
              "        fill: #FFFFFF;\n",
              "      }\n",
              "    </style>\n",
              "    <button class=\"colab-df-generate\" onclick=\"generateWithVariable('test_dataset')\"\n",
              "            title=\"Generate code using this dataframe.\"\n",
              "            style=\"display:none;\">\n",
              "\n",
              "  <svg xmlns=\"http://www.w3.org/2000/svg\" height=\"24px\"viewBox=\"0 0 24 24\"\n",
              "       width=\"24px\">\n",
              "    <path d=\"M7,19H8.4L18.45,9,17,7.55,7,17.6ZM5,21V16.75L18.45,3.32a2,2,0,0,1,2.83,0l1.4,1.43a1.91,1.91,0,0,1,.58,1.4,1.91,1.91,0,0,1-.58,1.4L9.25,21ZM18.45,9,17,7.55Zm-12,3A5.31,5.31,0,0,0,4.9,8.1,5.31,5.31,0,0,0,1,6.5,5.31,5.31,0,0,0,4.9,4.9,5.31,5.31,0,0,0,6.5,1,5.31,5.31,0,0,0,8.1,4.9,5.31,5.31,0,0,0,12,6.5,5.46,5.46,0,0,0,6.5,12Z\"/>\n",
              "  </svg>\n",
              "    </button>\n",
              "    <script>\n",
              "      (() => {\n",
              "      const buttonEl =\n",
              "        document.querySelector('#id_89cffd3b-d7c6-4035-a0db-012b61612212 button.colab-df-generate');\n",
              "      buttonEl.style.display =\n",
              "        google.colab.kernel.accessAllowed ? 'block' : 'none';\n",
              "\n",
              "      buttonEl.onclick = () => {\n",
              "        google.colab.notebook.generateWithVariable('test_dataset');\n",
              "      }\n",
              "      })();\n",
              "    </script>\n",
              "  </div>\n",
              "\n",
              "    </div>\n",
              "  </div>\n"
            ],
            "application/vnd.google.colaboratory.intrinsic+json": {
              "type": "dataframe",
              "variable_name": "test_dataset",
              "summary": "{\n  \"name\": \"test_dataset\",\n  \"rows\": 300,\n  \"fields\": [\n    {\n      \"column\": \"author\",\n      \"properties\": {\n        \"dtype\": \"category\",\n        \"num_unique_values\": 30,\n        \"samples\": [\n          \"28\",\n          \"16\",\n          \"24\"\n        ],\n        \"semantic_type\": \"\",\n        \"description\": \"\"\n      }\n    },\n    {\n      \"column\": \"article\",\n      \"properties\": {\n        \"dtype\": \"object\",\n        \"semantic_type\": \"\",\n        \"description\": \"\"\n      }\n    }\n  ]\n}"
            }
          },
          "metadata": {},
          "execution_count": 19
        }
      ],
      "source": [
        "test_dataset"
      ]
    },
    {
      "cell_type": "code",
      "execution_count": 20,
      "metadata": {
        "colab": {
          "base_uri": "https://localhost:8080/"
        },
        "id": "TnKsWIR5QfqP",
        "outputId": "c5bd45dc-e031-4920-874d-091735dab239"
      },
      "outputs": [
        {
          "output_type": "execute_result",
          "data": {
            "text/plain": [
              "300"
            ]
          },
          "metadata": {},
          "execution_count": 20
        }
      ],
      "source": [
        "len(test_dataset)"
      ]
    },
    {
      "cell_type": "code",
      "execution_count": 21,
      "metadata": {
        "colab": {
          "base_uri": "https://localhost:8080/"
        },
        "id": "NhRxalAjTISe",
        "outputId": "2d062b72-5cd2-444a-c7fe-cbf95772d35f"
      },
      "outputs": [
        {
          "output_type": "execute_result",
          "data": {
            "text/plain": [
              "28    19\n",
              "13    14\n",
              "10    14\n",
              "27    14\n",
              "29    13\n",
              "22    12\n",
              "4     12\n",
              "15    12\n",
              "24    11\n",
              "9     11\n",
              "3     11\n",
              "11    10\n",
              "25    10\n",
              "14    10\n",
              "18    10\n",
              "20    10\n",
              "30    10\n",
              "12     9\n",
              "5      9\n",
              "19     9\n",
              "21     9\n",
              "26     9\n",
              "6      8\n",
              "17     8\n",
              "1      7\n",
              "7      7\n",
              "2      6\n",
              "8      6\n",
              "16     6\n",
              "23     4\n",
              "Name: author, dtype: int64"
            ]
          },
          "metadata": {},
          "execution_count": 21
        }
      ],
      "source": [
        "test_dataset[\"author\"].value_counts()"
      ]
    },
    {
      "cell_type": "markdown",
      "metadata": {
        "id": "MLrVCwy6TSde"
      },
      "source": [
        "###Build Vocabulary"
      ]
    },
    {
      "cell_type": "code",
      "execution_count": 22,
      "metadata": {
        "id": "osGGN3GwTVS8"
      },
      "outputs": [],
      "source": [
        "total_tokens = 0\n",
        "token_set = set()\n",
        "for _, tokens in train_dataset[\"article\"].items():\n",
        "  total_tokens += len(tokens)\n",
        "  for token in tokens:\n",
        "    token_set.add(token)\n",
        "\n",
        "# Add <UNKNOWN> to token set for occurence of words that are not in corpus.\n",
        "token_set.add(\"<UNKNOWN>\")"
      ]
    },
    {
      "cell_type": "code",
      "execution_count": 23,
      "metadata": {
        "colab": {
          "base_uri": "https://localhost:8080/"
        },
        "id": "MtTxOYbTT23Z",
        "outputId": "4650fe0b-1bd7-46c3-f189-c665944bc28c"
      },
      "outputs": [
        {
          "output_type": "stream",
          "name": "stdout",
          "text": [
            "Corpus size: 453506, Vocabulary size: 32328\n",
            "\n",
            "First 10 tokens:\n",
            "beans\n",
            "taller\n",
            "tut\n",
            "genetics\n",
            "stoppard\n",
            "crewe\n",
            "harding\n",
            "circumstantial\n",
            "callidus\n",
            "nieces\n"
          ]
        }
      ],
      "source": [
        "print(f\"Corpus size: {total_tokens}, Vocabulary size: {len(token_set)}\\n\")\n",
        "print(\"First 10 tokens:\")\n",
        "i = 0\n",
        "for token in token_set:\n",
        "  if i >= 10:\n",
        "    break\n",
        "  print(token)\n",
        "  i += 1"
      ]
    },
    {
      "cell_type": "markdown",
      "metadata": {
        "id": "XYBOkCR0UGHP"
      },
      "source": [
        "###Vectorization\n"
      ]
    },
    {
      "cell_type": "code",
      "execution_count": 24,
      "metadata": {
        "id": "Z7xwCm1fUIeo"
      },
      "outputs": [],
      "source": [
        "# term to index mapping\n",
        "term2idx = {}\n",
        "for idx, term in enumerate(token_set):\n",
        "  term2idx.update({term:idx})"
      ]
    },
    {
      "cell_type": "code",
      "execution_count": 25,
      "metadata": {
        "colab": {
          "base_uri": "https://localhost:8080/"
        },
        "id": "UBtnQ-SKUcRC",
        "outputId": "93aead1c-1f67-4af7-a623-1a748f1189bc"
      },
      "outputs": [
        {
          "output_type": "stream",
          "name": "stdout",
          "text": [
            "Size: 32328\n",
            "\n",
            "Terms and Indexes:\n",
            "beans: 0\n",
            "taller: 1\n",
            "tut: 2\n",
            "genetics: 3\n",
            "stoppard: 4\n",
            "crewe: 5\n",
            "harding: 6\n",
            "circumstantial: 7\n",
            "callidus: 8\n",
            "nieces: 9\n"
          ]
        }
      ],
      "source": [
        "print(f\"Size: {len(term2idx)}\\n\\nTerms and Indexes:\")\n",
        "i = 0\n",
        "for key in term2idx:\n",
        "  if i >= 10:\n",
        "    break\n",
        "  print(f\"{key}: {term2idx[key]}\")\n",
        "  i += 1"
      ]
    },
    {
      "cell_type": "code",
      "execution_count": 26,
      "metadata": {
        "id": "Hy4_Fpd1VDim"
      },
      "outputs": [],
      "source": [
        "# Document vectors of Train Set\n",
        "train_vector_df = None\n",
        "vocab_size = len(token_set)\n",
        "article_vectors = []\n",
        "for _, row in train_dataset.iterrows():\n",
        "  vector = [0] * vocab_size\n",
        "  for token in row[\"article\"]:\n",
        "    vector[term2idx[token]] += 1\n",
        "  article_vectors.append([row[\"author\"], vector])\n",
        "\n",
        "train_vector_df = pd.DataFrame(article_vectors, columns=[\"author\", \"vector\"])"
      ]
    },
    {
      "cell_type": "markdown",
      "metadata": {
        "id": "jlSBpsizWDAo"
      },
      "source": [
        "###Model Training"
      ]
    },
    {
      "cell_type": "code",
      "execution_count": 27,
      "metadata": {
        "id": "k-Ot0o_QWF_y"
      },
      "outputs": [],
      "source": [
        "import numpy as np\n",
        "\n",
        "author_vectors = {}\n",
        "for author in authors:\n",
        "  author_vectors.update({author:np.array([0] * vocab_size)})\n",
        "\n",
        "for _, row in train_vector_df.iterrows():\n",
        "  vector = np.array(row[\"vector\"])\n",
        "  author_vectors[row[\"author\"]] += vector"
      ]
    },
    {
      "cell_type": "code",
      "execution_count": 28,
      "metadata": {
        "colab": {
          "base_uri": "https://localhost:8080/"
        },
        "id": "ZNev5qYpczpn",
        "outputId": "650c76b2-be35-4499-b4bb-ecdb72e9fb95"
      },
      "outputs": [
        {
          "output_type": "stream",
          "name": "stdout",
          "text": [
            "Author 1: [0 0 0 0 0 3 0 0 0 0 0 0 0 0 0 0 1 0 0 0 0 0 0 0 0 0 1 0 0 0 1 0 0 0 0]\n",
            "\n",
            "Author 2: [0 0 0 0 0 2 0 0 0 0 0 0 0 0 0 0 0 0 0 0 0 0 0 0 1 0 1 0 0 0 1 0 0 0 0]\n",
            "\n",
            "Author 3: [1 0 0 0 0 0 0 0 0 0 3 0 0 0 0 0 1 0 0 0 0 0 0 0 0 1 4 0 0 0 1 0 0 0 0]\n",
            "\n",
            "Author 4: [0 0 1 0 0 0 0 0 0 0 1 0 1 0 0 0 0 0 0 0 1 0 0 1 0 0 0 0 0 0 0 0 0 0 1]\n",
            "\n",
            "Author 5: [0 0 0 0 0 0 2 0 0 0 0 0 0 0 0 0 0 0 0 0 0 0 0 0 0 0 2 0 0 0 0 0 0 0 1]\n",
            "\n",
            "Author 6: [0 0 0 0 6 0 0 0 0 0 0 0 0 0 0 0 0 0 0 0 1 0 0 0 0 0 0 0 0 0 0 0 0 0 1]\n",
            "\n",
            "Author 7: [0 0 0 0 0 0 0 0 0 0 0 0 0 0 0 0 0 0 0 0 0 0 0 0 0 0 0 0 0 0 1 0 0 0 0]\n",
            "\n",
            "Author 8: [0 0 0 0 0 1 0 0 0 0 1 0 0 0 0 0 0 0 0 0 0 0 0 0 1 0 1 0 1 0 0 0 0 0 0]\n",
            "\n",
            "Author 9: [0 0 0 4 0 0 0 0 0 0 0 0 0 0 0 0 0 0 0 0 0 0 0 0 0 0 1 0 0 0 0 0 0 0 2]\n",
            "\n",
            "Author 10: [0 0 0 0 0 4 0 0 0 0 0 0 0 0 0 0 0 0 1 0 1 0 0 1 0 0 0 0 0 0 0 0 0 0 0]\n",
            "\n",
            "Author 11: [ 0  2  0  1  0  0  0  0  0  1  1  0  0  0  0  0  0  0  0  0  0  1  0  1\n",
            "  0  0  0  0  0  0  0  0  0  0 13]\n",
            "\n",
            "Author 12: [0 0 0 0 0 0 0 0 0 0 0 0 0 1 0 0 1 0 0 0 0 0 0 0 0 0 0 0 0 0 0 0 0 0 0]\n",
            "\n",
            "Author 13: [0 0 0 0 0 0 0 0 0 0 0 0 0 0 0 0 1 0 0 0 0 0 0 0 0 0 0 0 0 0 0 0 0 0 3]\n",
            "\n",
            "Author 14: [0 0 0 0 0 2 0 0 0 0 0 0 0 0 0 0 0 0 0 0 0 0 0 0 0 0 0 0 0 1 0 0 0 0 1]\n",
            "\n",
            "Author 15: [0 0 0 0 0 0 0 0 0 0 0 0 1 1 0 0 0 1 0 0 0 0 0 1 0 0 5 0 0 0 0 0 0 0 0]\n",
            "\n",
            "Author 16: [1 0 0 0 0 0 0 0 0 0 0 2 1 0 0 0 0 1 0 0 0 0 0 2 0 0 1 0 0 0 1 0 0 0 7]\n",
            "\n",
            "Author 17: [0 0 0 0 0 0 0 0 0 0 0 0 0 0 0 0 1 0 0 0 0 0 0 2 0 0 0 2 0 0 0 0 0 0 1]\n",
            "\n",
            "Author 18: [0 0 0 0 0 0 0 0 0 0 0 0 0 0 0 0 0 0 0 0 0 0 0 1 0 0 0 0 0 0 0 0 0 0 0]\n",
            "\n",
            "Author 19: [0 0 0 0 0 0 0 0 1 0 0 0 0 0 0 0 1 0 0 0 0 0 1 0 1 0 0 0 0 0 0 0 0 0 0]\n",
            "\n",
            "Author 20: [ 0  1  0  0  1 10  0  0  0  0  0  0  0  0  0  0  1  0  0  0  0  0  0  0\n",
            "  0  0  0  0  0  0  0  0  0  0  0]\n",
            "\n",
            "Author 21: [1 0 0 0 0 0 0 0 0 0 0 0 0 0 0 0 0 0 0 0 0 0 0 1 0 2 1 0 0 0 1 0 0 0 0]\n",
            "\n",
            "Author 22: [0 0 0 0 0 0 0 0 0 0 0 0 0 0 1 0 0 0 0 0 0 0 0 0 0 0 0 0 0 0 0 0 0 0 0]\n",
            "\n",
            "Author 23: [1 1 0 1 0 0 0 0 0 0 0 0 0 0 0 0 0 0 0 1 0 0 0 2 0 0 0 0 0 0 0 0 7 1 0]\n",
            "\n",
            "Author 24: [0 0 0 0 0 0 0 0 0 1 0 0 0 0 0 0 0 0 0 0 0 0 0 0 0 0 0 0 0 0 0 1 0 0 3]\n",
            "\n",
            "Author 25: [0 0 0 0 0 0 0 0 0 0 0 0 0 0 0 0 0 0 0 0 0 0 0 1 0 0 0 0 0 0 0 0 0 0 0]\n",
            "\n",
            "Author 26: [0 0 0 0 0 0 0 0 0 0 0 0 0 1 1 0 0 0 0 0 0 0 0 0 0 1 0 0 0 0 0 0 0 1 0]\n",
            "\n",
            "Author 27: [0 0 0 0 0 0 0 0 0 0 0 0 0 0 0 0 0 0 0 0 0 0 0 0 0 0 0 0 0 0 0 0 0 0 4]\n",
            "\n",
            "Author 28: [0 0 0 0 0 0 0 0 0 0 0 0 0 0 0 0 0 0 1 0 0 0 0 0 0 0 0 0 0 0 0 0 0 0 0]\n",
            "\n",
            "Author 29: [0 0 0 0 0 0 0 1 0 0 0 0 0 0 0 0 0 0 0 0 0 0 0 0 0 0 0 0 0 0 0 0 0 0 1]\n",
            "\n",
            "Author 30: [0 0 0 0 0 0 0 0 0 0 0 1 0 0 0 1 0 0 0 0 0 0 0 0 0 0 1 0 0 0 0 0 0 0 0]\n",
            "\n"
          ]
        }
      ],
      "source": [
        "# First 35 element of each author's vector\n",
        "for author in authors:\n",
        "  print(f\"Author {author}: {author_vectors[author][:35]}\\n\")"
      ]
    },
    {
      "cell_type": "markdown",
      "metadata": {
        "id": "vtKDCQGNdyHr"
      },
      "source": [
        "###Similarity Measure: Cosine"
      ]
    },
    {
      "cell_type": "code",
      "execution_count": 29,
      "metadata": {
        "id": "eIvxwoJqd0d9"
      },
      "outputs": [],
      "source": [
        "def cosine_sim(vector1, vector2):\n",
        "  dot_product = np.dot(vector1, vector2)  # dot product of the vectors\n",
        "  magnitude1 = np.linalg.norm(vector1)    # length of vector1\n",
        "  magnitude2 = np.linalg.norm(vector2)    # length of vector2\n",
        "\n",
        "  cosine_similarity = dot_product / (magnitude1 * magnitude2)\n",
        "  return cosine_similarity"
      ]
    },
    {
      "cell_type": "markdown",
      "metadata": {
        "id": "SuUdX16hd9MA"
      },
      "source": [
        "###Testing and Result"
      ]
    },
    {
      "cell_type": "code",
      "execution_count": 30,
      "metadata": {
        "id": "F9n7L18DeAnz"
      },
      "outputs": [],
      "source": [
        "# Document vectors of Test Set\n",
        "test_vector_df = None\n",
        "vocab_size = len(token_set)\n",
        "test_article_vectors = []\n",
        "for _, row in test_dataset.iterrows():\n",
        "  vector = [0] * vocab_size\n",
        "  for token in row[\"article\"]:\n",
        "    idx = term2idx.get(token, term2idx.get(\"<UNKNOWN>\"))\n",
        "    vector[idx] += 1\n",
        "  test_article_vectors.append([row[\"author\"], vector])\n",
        "\n",
        "test_vector_df = pd.DataFrame(test_article_vectors, columns=[\"author\", \"vector\"])"
      ]
    },
    {
      "cell_type": "code",
      "execution_count": 31,
      "metadata": {
        "colab": {
          "base_uri": "https://localhost:8080/"
        },
        "id": "mkm4ZX9Ie10h",
        "outputId": "ef5e176f-3a94-4f5b-e330-8a51c4fa7899"
      },
      "outputs": [
        {
          "output_type": "execute_result",
          "data": {
            "text/plain": [
              "28    19\n",
              "13    14\n",
              "10    14\n",
              "27    14\n",
              "29    13\n",
              "22    12\n",
              "4     12\n",
              "15    12\n",
              "24    11\n",
              "9     11\n",
              "3     11\n",
              "11    10\n",
              "25    10\n",
              "14    10\n",
              "18    10\n",
              "20    10\n",
              "30    10\n",
              "12     9\n",
              "5      9\n",
              "19     9\n",
              "21     9\n",
              "26     9\n",
              "6      8\n",
              "17     8\n",
              "1      7\n",
              "7      7\n",
              "2      6\n",
              "8      6\n",
              "16     6\n",
              "23     4\n",
              "Name: author, dtype: int64"
            ]
          },
          "metadata": {},
          "execution_count": 31
        }
      ],
      "source": [
        "# test_authors: true authors of articles\n",
        "test_authors, test_vectors  = test_vector_df.iloc[:,0], test_vector_df.iloc[:,1]\n",
        "test_authors.value_counts()"
      ]
    },
    {
      "cell_type": "code",
      "execution_count": 32,
      "metadata": {
        "id": "Ht8sRU1Ef8sr"
      },
      "outputs": [],
      "source": [
        "# make all predictions\n",
        "predicted_authors = []  # list of predictions\n",
        "for vector in test_vectors:\n",
        "  similarities = []\n",
        "  for author in author_vectors:\n",
        "    similarities.append(cosine_sim(np.array(vector), author_vectors[author]))\n",
        "  max_idx = 0\n",
        "  max_sim = similarities[0]\n",
        "  for i in range(1, len(similarities)):\n",
        "    if similarities[i] > max_sim:\n",
        "      max_sim = similarities[i]\n",
        "      max_idx = i\n",
        "  predicted_authors.append(str(max_idx+1))"
      ]
    },
    {
      "cell_type": "code",
      "execution_count": 33,
      "metadata": {
        "colab": {
          "base_uri": "https://localhost:8080/"
        },
        "id": "KcMw9RTzldCE",
        "outputId": "c5c61142-c82b-454c-c745-dfd941eee295"
      },
      "outputs": [
        {
          "output_type": "stream",
          "name": "stdout",
          "text": [
            "Success rate: 0.79\n"
          ]
        }
      ],
      "source": [
        "correct_predictions = 0\n",
        "for idx, predicted_author in enumerate(predicted_authors):\n",
        "  if predicted_author == test_authors[idx]:\n",
        "    correct_predictions += 1\n",
        "\n",
        "success_rate = correct_predictions / len(predicted_authors)\n",
        "print(f\"Success rate: {success_rate:.4g}\")"
      ]
    },
    {
      "cell_type": "code",
      "execution_count": 34,
      "metadata": {
        "colab": {
          "base_uri": "https://localhost:8080/"
        },
        "id": "gO2zhjNA_6na",
        "outputId": "fab085b1-2c6a-47a6-c9e0-9e604d3da777"
      },
      "outputs": [
        {
          "output_type": "stream",
          "name": "stdout",
          "text": [
            "Author\tPrediction\n",
            "  1   \t    5     \n",
            "  1   \t    4     \n",
            "  2   \t    3     \n",
            "  3   \t    18    \n",
            "  3   \t    4     \n",
            "  3   \t    1     \n",
            "  4   \t    7     \n",
            "  4   \t    7     \n",
            "  4   \t    2     \n",
            "  4   \t    1     \n",
            "  4   \t    2     \n",
            "  4   \t    10    \n",
            "  4   \t    10    \n",
            "  6   \t    7     \n",
            "  6   \t    2     \n",
            "  6   \t    3     \n",
            "  6   \t    10    \n",
            "  6   \t    10    \n",
            "  6   \t    3     \n",
            "  7   \t    20    \n",
            "  7   \t    10    \n",
            "  8   \t    22    \n",
            "  9   \t    24    \n",
            "  9   \t    11    \n",
            "  9   \t    27    \n",
            "  9   \t    11    \n",
            "  10  \t    5     \n",
            "  11  \t    16    \n",
            "  11  \t    1     \n",
            "  11  \t    9     \n",
            "  12  \t    8     \n",
            "  12  \t    26    \n",
            "  12  \t    8     \n",
            "  14  \t    12    \n",
            "  14  \t    8     \n",
            "  15  \t    13    \n",
            "  16  \t    25    \n",
            "  16  \t    24    \n",
            "  17  \t    7     \n",
            "  18  \t    19    \n",
            "  18  \t    17    \n",
            "  19  \t    20    \n",
            "  19  \t    18    \n",
            "  21  \t    19    \n",
            "  21  \t    6     \n",
            "  21  \t    6     \n",
            "  22  \t    14    \n",
            "  24  \t    25    \n",
            "  27  \t    24    \n",
            "  27  \t    11    \n",
            "  27  \t    23    \n",
            "  28  \t    26    \n",
            "  28  \t    22    \n",
            "  28  \t    8     \n",
            "  28  \t    12    \n",
            "  28  \t    22    \n",
            "  29  \t    11    \n",
            "  29  \t    27    \n",
            "  29  \t    27    \n",
            "  29  \t    27    \n",
            "  29  \t    11    \n",
            "  29  \t    27    \n",
            "  30  \t    16    \n"
          ]
        }
      ],
      "source": [
        "# Uncorrect predictions\n",
        "print(\"Author\\tPrediction\")\n",
        "for idx, predicted_author in enumerate(predicted_authors):\n",
        "  if predicted_author != test_authors[idx]:\n",
        "    print(f\"{test_authors[idx]:^6}\\t{predicted_author:^10}\")"
      ]
    }
  ],
  "metadata": {
    "colab": {
      "collapsed_sections": [
        "ld6oNQwlD1me",
        "Uv_d-SNEIxM6",
        "JddpVJT2P00b",
        "MLrVCwy6TSde",
        "XYBOkCR0UGHP",
        "jlSBpsizWDAo",
        "vtKDCQGNdyHr",
        "SuUdX16hd9MA"
      ],
      "provenance": []
    },
    "kernelspec": {
      "display_name": "Python 3",
      "name": "python3"
    },
    "language_info": {
      "name": "python"
    }
  },
  "nbformat": 4,
  "nbformat_minor": 0
}