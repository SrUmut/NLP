{
  "cells": [
    {
      "cell_type": "markdown",
      "metadata": {
        "id": "aPW9uS0LBYYr"
      },
      "source": [
        "### Dataset"
      ]
    },
    {
      "cell_type": "markdown",
      "metadata": {
        "id": "OZ-c3OkNBbGX"
      },
      "source": [
        "Name of the data set: **30Columnists**\n",
        "\n",
        "The dataset consists of 50 articles for each of the 30 authors.\n",
        "\n",
        "[Here](http://www.kemik.yildiz.edu.tr/veri_kumelerimiz.html) is the link to dataset."
      ]
    },
    {
      "cell_type": "markdown",
      "metadata": {
        "id": "ld6oNQwlD1me"
      },
      "source": [
        "### Load Dataset\n",
        "\n",
        "> Load the dataset, unzip it, remove unnecessary stuff, construct the dataframe out of it with respect to columns **[author, article]**."
      ]
    },
    {
      "cell_type": "markdown",
      "source": [
        "> **You can use the curl command the download dataset from its source *(1)*. You can upload the dataset yourself *(2)*.**"
      ],
      "metadata": {
        "id": "UPYsgYuyGvrs"
      }
    },
    {
      "cell_type": "code",
      "execution_count": 1,
      "metadata": {
        "colab": {
          "base_uri": "https://localhost:8080/"
        },
        "id": "LtaziAYwD6Fe",
        "outputId": "f742ba5e-f003-44e0-fe4e-64972f9b6894"
      },
      "outputs": [
        {
          "output_type": "stream",
          "name": "stdout",
          "text": [
            "  % Total    % Received % Xferd  Average Speed   Time    Time     Time  Current\n",
            "                                 Dload  Upload   Total   Spent    Left  Speed\n",
            "100 7208k  100 7208k    0     0   431k      0  0:00:16  0:00:16 --:--:--  454k\n"
          ]
        }
      ],
      "source": [
        "# 1\n",
        "!curl http://www.kemik.yildiz.edu.tr/data/File/30Columnists.zip -o ./30Columnists.zip"
      ]
    },
    {
      "cell_type": "code",
      "source": [
        "# 2\n",
        "#from google.colab import files\n",
        "#uploaded = files.upload()"
      ],
      "metadata": {
        "id": "Il-JFstoG0RK"
      },
      "execution_count": 2,
      "outputs": []
    },
    {
      "cell_type": "code",
      "execution_count": 3,
      "metadata": {
        "id": "IhHr2WmoEtFo"
      },
      "outputs": [],
      "source": [
        "!unzip /content/30Columnists.zip -d /content > /dev/null"
      ]
    },
    {
      "cell_type": "code",
      "source": [
        "# Remove unnecessary files and directories\n",
        "!rm -f /content/30Columnists/*.doc\n",
        "!rm -f /content/30Columnists/*.tmp\n",
        "!rm -rf /content/30Columnists/arff_files\n",
        "!mv /content/30Columnists/raw_texts/* /content/30Columnists\n",
        "!rmdir /content/30Columnists/raw_texts"
      ],
      "metadata": {
        "id": "vHHsOtNGIAhV"
      },
      "execution_count": 4,
      "outputs": []
    },
    {
      "cell_type": "code",
      "execution_count": 5,
      "metadata": {
        "id": "Um-ry6YdE7X5",
        "colab": {
          "base_uri": "https://localhost:8080/"
        },
        "outputId": "8ebe6d1e-c367-47d0-e942-3d8622a27f21"
      },
      "outputs": [
        {
          "output_type": "stream",
          "name": "stdout",
          "text": [
            "['1', '2', '3', '4', '5', '6', '7', '8', '9', '10', '11', '12', '13', '14', '15', '16', '17', '18', '19', '20', '21', '22', '23', '24', '25', '26', '27', '28', '29', '30']\n"
          ]
        }
      ],
      "source": [
        "# Get authors\n",
        "import os\n",
        "PATH = \"/content/30Columnists\"\n",
        "\n",
        "authors = []\n",
        "for author in os.listdir(PATH):\n",
        "  authors.append(author)\n",
        "\n",
        "authors.sort(key = lambda a: int(a))\n",
        "print(authors)"
      ]
    },
    {
      "cell_type": "code",
      "execution_count": 6,
      "metadata": {
        "id": "Tu4rm2XBM3Wa"
      },
      "outputs": [],
      "source": [
        "# Read every article of each author and append to dataset\n",
        "import re\n",
        "dataset = []  # [[author, article], [author, article], ...]\n",
        "for author in authors:\n",
        "  author_path = os.path.join(PATH, author)\n",
        "  for article_file in os.listdir(author_path):\n",
        "    if article_file.endswith(\".txt\"):\n",
        "      article_path = os.path.join(author_path, article_file)\n",
        "      with open(article_path, \"rb\") as f:\n",
        "        article = f.read().decode(\"iso-8859-9\")\n",
        "\n",
        "        article = re.sub(r\"[\\n\\r\\f\\x96]\", \"\", article)\n",
        "        dataset.append([author, article])"
      ]
    },
    {
      "cell_type": "code",
      "execution_count": 7,
      "metadata": {
        "id": "zSTxhnGrHy77",
        "colab": {
          "base_uri": "https://localhost:8080/"
        },
        "outputId": "da73a63a-e20d-4c2d-dc80-3b6f2a715ca3"
      },
      "outputs": [
        {
          "output_type": "stream",
          "name": "stdout",
          "text": [
            " 1\t50\n",
            " 2\t50\n",
            " 3\t50\n",
            " 4\t50\n",
            " 5\t50\n",
            " 6\t50\n",
            " 7\t50\n",
            " 8\t50\n",
            " 9\t50\n",
            "10\t50\n",
            "11\t50\n",
            "12\t50\n",
            "13\t50\n",
            "14\t50\n",
            "15\t50\n",
            "16\t50\n",
            "17\t50\n",
            "18\t50\n",
            "19\t50\n",
            "20\t50\n",
            "21\t50\n",
            "22\t50\n",
            "23\t50\n",
            "24\t50\n",
            "25\t50\n",
            "26\t50\n",
            "27\t50\n",
            "28\t50\n",
            "29\t50\n",
            "30\t50\n"
          ]
        }
      ],
      "source": [
        "article_count = {}\n",
        "for author in authors:\n",
        "  article_count.update({author: 0})\n",
        "\n",
        "for row in dataset:\n",
        "  author = row[0]\n",
        "  count = article_count[author]\n",
        "  article_count.update({author: count+1})\n",
        "\n",
        "for author in authors:\n",
        "  print(f\"{author:>2}\\t{article_count[author]}\")"
      ]
    },
    {
      "cell_type": "code",
      "execution_count": 8,
      "metadata": {
        "id": "STBrKOzUNJhb",
        "colab": {
          "base_uri": "https://localhost:8080/"
        },
        "outputId": "2bf06937-1fe3-49b4-cb0c-20ee19e5f6d8"
      },
      "outputs": [
        {
          "output_type": "stream",
          "name": "stdout",
          "text": [
            "     author                                            article\n",
            "0         1  IT'S been a dreadful week for hearing the deta...\n",
            "1         1  TODAY the Royal Bank of Scotland announced a r...\n",
            "2         1  THERE was a time when the nanny state seemed a...\n",
            "3         1  HAVING, in the past, been to only Scottish Con...\n",
            "4         1  WHY is it  that some politicians think that if...\n",
            "...     ...                                                ...\n",
            "1495     30  It was mainly a social occasion. An elegant bl...\n",
            "1496     30  Seven score and five years after Abraham Linco...\n",
            "1497     30  Americans are waking up this Christmas Day to ...\n",
            "1498     30  The real estate market isn't pain-free when yo...\n",
            "1499     30  It was a different kind of pioneering. As coal...\n",
            "\n",
            "[1500 rows x 2 columns]\n"
          ]
        }
      ],
      "source": [
        "import pandas as pd\n",
        "\n",
        "dataset = pd.DataFrame(dataset, columns=[\"author\", \"article\"])\n",
        "print(dataset)"
      ]
    },
    {
      "cell_type": "markdown",
      "metadata": {
        "id": "Uv_d-SNEIxM6"
      },
      "source": [
        "### Tokenization, Punctuations, Stop Words, Case Folding\n",
        "\n",
        "> Tokeinize, remove punctuations and stopwords, apply case folding."
      ]
    },
    {
      "cell_type": "code",
      "execution_count": 9,
      "metadata": {
        "colab": {
          "base_uri": "https://localhost:8080/"
        },
        "id": "ciTHXfwBIwnf",
        "outputId": "4a74c2fc-d360-48f8-d4b1-012941783ea2"
      },
      "outputs": [
        {
          "output_type": "stream",
          "name": "stderr",
          "text": [
            "[nltk_data] Downloading package punkt to /root/nltk_data...\n",
            "[nltk_data]   Unzipping tokenizers/punkt.zip.\n"
          ]
        },
        {
          "output_type": "execute_result",
          "data": {
            "text/plain": [
              "True"
            ]
          },
          "metadata": {},
          "execution_count": 9
        }
      ],
      "source": [
        "# nltk library for tokenizing, punctuations and stopwords\n",
        "import nltk\n",
        "nltk.download(\"punkt\")"
      ]
    },
    {
      "cell_type": "code",
      "execution_count": 10,
      "metadata": {
        "colab": {
          "base_uri": "https://localhost:8080/"
        },
        "id": "2Kl2z1GCKh1u",
        "outputId": "8957859c-dcb3-41f7-874e-c87941d50391"
      },
      "outputs": [
        {
          "output_type": "stream",
          "name": "stderr",
          "text": [
            "[nltk_data] Downloading package stopwords to /root/nltk_data...\n",
            "[nltk_data]   Unzipping corpora/stopwords.zip.\n"
          ]
        }
      ],
      "source": [
        "from nltk.corpus import stopwords\n",
        "nltk.download(\"stopwords\")\n",
        "stop_words = stopwords.words(\"english\")"
      ]
    },
    {
      "cell_type": "code",
      "execution_count": 11,
      "metadata": {
        "colab": {
          "base_uri": "https://localhost:8080/"
        },
        "id": "mQ-QCkr-K3mC",
        "outputId": "2188d4d0-6f3a-4df3-cf74-80194e4d6070"
      },
      "outputs": [
        {
          "output_type": "stream",
          "name": "stdout",
          "text": [
            "179 ['i', 'me', 'my', 'myself', 'we', 'our', 'ours', 'ourselves', 'you', \"you're\", \"you've\", \"you'll\", \"you'd\", 'your', 'yours', 'yourself', 'yourselves', 'he', 'him', 'his', 'himself', 'she', \"she's\", 'her', 'hers', 'herself', 'it', \"it's\", 'its', 'itself', 'they', 'them', 'their', 'theirs', 'themselves', 'what', 'which', 'who', 'whom', 'this', 'that', \"that'll\", 'these', 'those', 'am', 'is', 'are', 'was', 'were', 'be', 'been', 'being', 'have', 'has', 'had', 'having', 'do', 'does', 'did', 'doing', 'a', 'an', 'the', 'and', 'but', 'if', 'or', 'because', 'as', 'until', 'while', 'of', 'at', 'by', 'for', 'with', 'about', 'against', 'between', 'into', 'through', 'during', 'before', 'after', 'above', 'below', 'to', 'from', 'up', 'down', 'in', 'out', 'on', 'off', 'over', 'under', 'again', 'further', 'then', 'once', 'here', 'there', 'when', 'where', 'why', 'how', 'all', 'any', 'both', 'each', 'few', 'more', 'most', 'other', 'some', 'such', 'no', 'nor', 'not', 'only', 'own', 'same', 'so', 'than', 'too', 'very', 's', 't', 'can', 'will', 'just', 'don', \"don't\", 'should', \"should've\", 'now', 'd', 'll', 'm', 'o', 're', 've', 'y', 'ain', 'aren', \"aren't\", 'couldn', \"couldn't\", 'didn', \"didn't\", 'doesn', \"doesn't\", 'hadn', \"hadn't\", 'hasn', \"hasn't\", 'haven', \"haven't\", 'isn', \"isn't\", 'ma', 'mightn', \"mightn't\", 'mustn', \"mustn't\", 'needn', \"needn't\", 'shan', \"shan't\", 'shouldn', \"shouldn't\", 'wasn', \"wasn't\", 'weren', \"weren't\", 'won', \"won't\", 'wouldn', \"wouldn't\"]\n"
          ]
        }
      ],
      "source": [
        "print(len(stop_words), stop_words)"
      ]
    },
    {
      "cell_type": "code",
      "execution_count": 12,
      "metadata": {
        "id": "jpoDIgJAI8Jz"
      },
      "outputs": [],
      "source": [
        "from nltk import word_tokenize\n",
        "import re\n",
        "# Tokenizing, removing punctuations and stopwords, applying case folding\n",
        "for idx, row in dataset.iterrows():\n",
        "  dataset.at[idx, \"article\"] = [token.lower() for token in word_tokenize(re.sub(r\"\\.\", \" . \", row[\"article\"])) if token.isalpha() and (token.lower() not in stop_words)]"
      ]
    },
    {
      "cell_type": "code",
      "execution_count": 13,
      "metadata": {
        "colab": {
          "base_uri": "https://localhost:8080/"
        },
        "id": "O1HSKoUQPsqB",
        "outputId": "e242867d-3682-433c-e141-c811241ac70a"
      },
      "outputs": [
        {
          "output_type": "stream",
          "name": "stdout",
          "text": [
            "     author                                            article\n",
            "0         1  [dreadful, week, hearing, details, court, case...\n",
            "1         1  [today, royal, bank, scotland, announced, reco...\n",
            "2         1  [time, nanny, state, seemed, attractive, idea,...\n",
            "3         1  [past, scottish, conservative, election, parti...\n",
            "4         1  [politicians, think, ban, something, make, dif...\n",
            "...     ...                                                ...\n",
            "1495     30  [mainly, social, occasion, elegant, black, tie...\n",
            "1496     30  [seven, score, five, years, abraham, lincoln, ...\n",
            "1497     30  [americans, waking, christmas, day, big, packa...\n",
            "1498     30  [real, estate, market, house, may, cut, millio...\n",
            "1499     30  [different, kind, pioneering, coal, mines, wes...\n",
            "\n",
            "[1500 rows x 2 columns]\n"
          ]
        }
      ],
      "source": [
        "print(dataset)"
      ]
    },
    {
      "cell_type": "markdown",
      "metadata": {
        "id": "JddpVJT2P00b"
      },
      "source": [
        "### Train-Test Splits\n",
        "\n",
        "> Split dataset into 2 parts **train dataset** (80%) and **test dataset** (20%)."
      ]
    },
    {
      "cell_type": "code",
      "execution_count": 14,
      "metadata": {
        "id": "4KXlkDxaP5T7"
      },
      "outputs": [],
      "source": [
        "# Train Dataset\n",
        "train_dataset = dataset.sample(frac=0.8, random_state=1)"
      ]
    },
    {
      "cell_type": "code",
      "execution_count": 15,
      "metadata": {
        "colab": {
          "base_uri": "https://localhost:8080/",
          "height": 0
        },
        "id": "qbW-MOL0QC5U",
        "outputId": "016c95aa-8be4-454c-d86a-fa230a7a253e"
      },
      "outputs": [
        {
          "output_type": "execute_result",
          "data": {
            "text/plain": [
              "     author                                            article\n",
              "91        2  [governments, holyrood, westminster, skirmishi...\n",
              "75        2  [thought, safe, go, back, normal, politics, ne...\n",
              "1264     26  [arsène, wenger, cuts, increasingly, aesthetic...\n",
              "330       7  [wanted, hear, binyam, mohamed, repeated, alle...\n",
              "1349     27  [know, going, give, vitamin, c, yet, another, ...\n",
              "...     ...                                                ...\n",
              "652      14  [even, defeat, belarus, rio, ferdinand, given,...\n",
              "70        2  [opposition, politicians, warned, snp, guarant...\n",
              "610      13  [sunday, night, carlos, delgado, plate, facing...\n",
              "1174     24  [everyone, time, develop, chronic, disease, un...\n",
              "1440     29  [blowing, nose, alleviate, stuffiness, may, se...\n",
              "\n",
              "[1200 rows x 2 columns]"
            ],
            "text/html": [
              "\n",
              "  <div id=\"df-1e6438e9-5bbf-4378-a818-53720fc737d4\" class=\"colab-df-container\">\n",
              "    <div>\n",
              "<style scoped>\n",
              "    .dataframe tbody tr th:only-of-type {\n",
              "        vertical-align: middle;\n",
              "    }\n",
              "\n",
              "    .dataframe tbody tr th {\n",
              "        vertical-align: top;\n",
              "    }\n",
              "\n",
              "    .dataframe thead th {\n",
              "        text-align: right;\n",
              "    }\n",
              "</style>\n",
              "<table border=\"1\" class=\"dataframe\">\n",
              "  <thead>\n",
              "    <tr style=\"text-align: right;\">\n",
              "      <th></th>\n",
              "      <th>author</th>\n",
              "      <th>article</th>\n",
              "    </tr>\n",
              "  </thead>\n",
              "  <tbody>\n",
              "    <tr>\n",
              "      <th>91</th>\n",
              "      <td>2</td>\n",
              "      <td>[governments, holyrood, westminster, skirmishi...</td>\n",
              "    </tr>\n",
              "    <tr>\n",
              "      <th>75</th>\n",
              "      <td>2</td>\n",
              "      <td>[thought, safe, go, back, normal, politics, ne...</td>\n",
              "    </tr>\n",
              "    <tr>\n",
              "      <th>1264</th>\n",
              "      <td>26</td>\n",
              "      <td>[arsène, wenger, cuts, increasingly, aesthetic...</td>\n",
              "    </tr>\n",
              "    <tr>\n",
              "      <th>330</th>\n",
              "      <td>7</td>\n",
              "      <td>[wanted, hear, binyam, mohamed, repeated, alle...</td>\n",
              "    </tr>\n",
              "    <tr>\n",
              "      <th>1349</th>\n",
              "      <td>27</td>\n",
              "      <td>[know, going, give, vitamin, c, yet, another, ...</td>\n",
              "    </tr>\n",
              "    <tr>\n",
              "      <th>...</th>\n",
              "      <td>...</td>\n",
              "      <td>...</td>\n",
              "    </tr>\n",
              "    <tr>\n",
              "      <th>652</th>\n",
              "      <td>14</td>\n",
              "      <td>[even, defeat, belarus, rio, ferdinand, given,...</td>\n",
              "    </tr>\n",
              "    <tr>\n",
              "      <th>70</th>\n",
              "      <td>2</td>\n",
              "      <td>[opposition, politicians, warned, snp, guarant...</td>\n",
              "    </tr>\n",
              "    <tr>\n",
              "      <th>610</th>\n",
              "      <td>13</td>\n",
              "      <td>[sunday, night, carlos, delgado, plate, facing...</td>\n",
              "    </tr>\n",
              "    <tr>\n",
              "      <th>1174</th>\n",
              "      <td>24</td>\n",
              "      <td>[everyone, time, develop, chronic, disease, un...</td>\n",
              "    </tr>\n",
              "    <tr>\n",
              "      <th>1440</th>\n",
              "      <td>29</td>\n",
              "      <td>[blowing, nose, alleviate, stuffiness, may, se...</td>\n",
              "    </tr>\n",
              "  </tbody>\n",
              "</table>\n",
              "<p>1200 rows × 2 columns</p>\n",
              "</div>\n",
              "    <div class=\"colab-df-buttons\">\n",
              "\n",
              "  <div class=\"colab-df-container\">\n",
              "    <button class=\"colab-df-convert\" onclick=\"convertToInteractive('df-1e6438e9-5bbf-4378-a818-53720fc737d4')\"\n",
              "            title=\"Convert this dataframe to an interactive table.\"\n",
              "            style=\"display:none;\">\n",
              "\n",
              "  <svg xmlns=\"http://www.w3.org/2000/svg\" height=\"24px\" viewBox=\"0 -960 960 960\">\n",
              "    <path d=\"M120-120v-720h720v720H120Zm60-500h600v-160H180v160Zm220 220h160v-160H400v160Zm0 220h160v-160H400v160ZM180-400h160v-160H180v160Zm440 0h160v-160H620v160ZM180-180h160v-160H180v160Zm440 0h160v-160H620v160Z\"/>\n",
              "  </svg>\n",
              "    </button>\n",
              "\n",
              "  <style>\n",
              "    .colab-df-container {\n",
              "      display:flex;\n",
              "      gap: 12px;\n",
              "    }\n",
              "\n",
              "    .colab-df-convert {\n",
              "      background-color: #E8F0FE;\n",
              "      border: none;\n",
              "      border-radius: 50%;\n",
              "      cursor: pointer;\n",
              "      display: none;\n",
              "      fill: #1967D2;\n",
              "      height: 32px;\n",
              "      padding: 0 0 0 0;\n",
              "      width: 32px;\n",
              "    }\n",
              "\n",
              "    .colab-df-convert:hover {\n",
              "      background-color: #E2EBFA;\n",
              "      box-shadow: 0px 1px 2px rgba(60, 64, 67, 0.3), 0px 1px 3px 1px rgba(60, 64, 67, 0.15);\n",
              "      fill: #174EA6;\n",
              "    }\n",
              "\n",
              "    .colab-df-buttons div {\n",
              "      margin-bottom: 4px;\n",
              "    }\n",
              "\n",
              "    [theme=dark] .colab-df-convert {\n",
              "      background-color: #3B4455;\n",
              "      fill: #D2E3FC;\n",
              "    }\n",
              "\n",
              "    [theme=dark] .colab-df-convert:hover {\n",
              "      background-color: #434B5C;\n",
              "      box-shadow: 0px 1px 3px 1px rgba(0, 0, 0, 0.15);\n",
              "      filter: drop-shadow(0px 1px 2px rgba(0, 0, 0, 0.3));\n",
              "      fill: #FFFFFF;\n",
              "    }\n",
              "  </style>\n",
              "\n",
              "    <script>\n",
              "      const buttonEl =\n",
              "        document.querySelector('#df-1e6438e9-5bbf-4378-a818-53720fc737d4 button.colab-df-convert');\n",
              "      buttonEl.style.display =\n",
              "        google.colab.kernel.accessAllowed ? 'block' : 'none';\n",
              "\n",
              "      async function convertToInteractive(key) {\n",
              "        const element = document.querySelector('#df-1e6438e9-5bbf-4378-a818-53720fc737d4');\n",
              "        const dataTable =\n",
              "          await google.colab.kernel.invokeFunction('convertToInteractive',\n",
              "                                                    [key], {});\n",
              "        if (!dataTable) return;\n",
              "\n",
              "        const docLinkHtml = 'Like what you see? Visit the ' +\n",
              "          '<a target=\"_blank\" href=https://colab.research.google.com/notebooks/data_table.ipynb>data table notebook</a>'\n",
              "          + ' to learn more about interactive tables.';\n",
              "        element.innerHTML = '';\n",
              "        dataTable['output_type'] = 'display_data';\n",
              "        await google.colab.output.renderOutput(dataTable, element);\n",
              "        const docLink = document.createElement('div');\n",
              "        docLink.innerHTML = docLinkHtml;\n",
              "        element.appendChild(docLink);\n",
              "      }\n",
              "    </script>\n",
              "  </div>\n",
              "\n",
              "\n",
              "<div id=\"df-10c60420-2878-473a-9aa8-b976179ce4ae\">\n",
              "  <button class=\"colab-df-quickchart\" onclick=\"quickchart('df-10c60420-2878-473a-9aa8-b976179ce4ae')\"\n",
              "            title=\"Suggest charts\"\n",
              "            style=\"display:none;\">\n",
              "\n",
              "<svg xmlns=\"http://www.w3.org/2000/svg\" height=\"24px\"viewBox=\"0 0 24 24\"\n",
              "     width=\"24px\">\n",
              "    <g>\n",
              "        <path d=\"M19 3H5c-1.1 0-2 .9-2 2v14c0 1.1.9 2 2 2h14c1.1 0 2-.9 2-2V5c0-1.1-.9-2-2-2zM9 17H7v-7h2v7zm4 0h-2V7h2v10zm4 0h-2v-4h2v4z\"/>\n",
              "    </g>\n",
              "</svg>\n",
              "  </button>\n",
              "\n",
              "<style>\n",
              "  .colab-df-quickchart {\n",
              "      --bg-color: #E8F0FE;\n",
              "      --fill-color: #1967D2;\n",
              "      --hover-bg-color: #E2EBFA;\n",
              "      --hover-fill-color: #174EA6;\n",
              "      --disabled-fill-color: #AAA;\n",
              "      --disabled-bg-color: #DDD;\n",
              "  }\n",
              "\n",
              "  [theme=dark] .colab-df-quickchart {\n",
              "      --bg-color: #3B4455;\n",
              "      --fill-color: #D2E3FC;\n",
              "      --hover-bg-color: #434B5C;\n",
              "      --hover-fill-color: #FFFFFF;\n",
              "      --disabled-bg-color: #3B4455;\n",
              "      --disabled-fill-color: #666;\n",
              "  }\n",
              "\n",
              "  .colab-df-quickchart {\n",
              "    background-color: var(--bg-color);\n",
              "    border: none;\n",
              "    border-radius: 50%;\n",
              "    cursor: pointer;\n",
              "    display: none;\n",
              "    fill: var(--fill-color);\n",
              "    height: 32px;\n",
              "    padding: 0;\n",
              "    width: 32px;\n",
              "  }\n",
              "\n",
              "  .colab-df-quickchart:hover {\n",
              "    background-color: var(--hover-bg-color);\n",
              "    box-shadow: 0 1px 2px rgba(60, 64, 67, 0.3), 0 1px 3px 1px rgba(60, 64, 67, 0.15);\n",
              "    fill: var(--button-hover-fill-color);\n",
              "  }\n",
              "\n",
              "  .colab-df-quickchart-complete:disabled,\n",
              "  .colab-df-quickchart-complete:disabled:hover {\n",
              "    background-color: var(--disabled-bg-color);\n",
              "    fill: var(--disabled-fill-color);\n",
              "    box-shadow: none;\n",
              "  }\n",
              "\n",
              "  .colab-df-spinner {\n",
              "    border: 2px solid var(--fill-color);\n",
              "    border-color: transparent;\n",
              "    border-bottom-color: var(--fill-color);\n",
              "    animation:\n",
              "      spin 1s steps(1) infinite;\n",
              "  }\n",
              "\n",
              "  @keyframes spin {\n",
              "    0% {\n",
              "      border-color: transparent;\n",
              "      border-bottom-color: var(--fill-color);\n",
              "      border-left-color: var(--fill-color);\n",
              "    }\n",
              "    20% {\n",
              "      border-color: transparent;\n",
              "      border-left-color: var(--fill-color);\n",
              "      border-top-color: var(--fill-color);\n",
              "    }\n",
              "    30% {\n",
              "      border-color: transparent;\n",
              "      border-left-color: var(--fill-color);\n",
              "      border-top-color: var(--fill-color);\n",
              "      border-right-color: var(--fill-color);\n",
              "    }\n",
              "    40% {\n",
              "      border-color: transparent;\n",
              "      border-right-color: var(--fill-color);\n",
              "      border-top-color: var(--fill-color);\n",
              "    }\n",
              "    60% {\n",
              "      border-color: transparent;\n",
              "      border-right-color: var(--fill-color);\n",
              "    }\n",
              "    80% {\n",
              "      border-color: transparent;\n",
              "      border-right-color: var(--fill-color);\n",
              "      border-bottom-color: var(--fill-color);\n",
              "    }\n",
              "    90% {\n",
              "      border-color: transparent;\n",
              "      border-bottom-color: var(--fill-color);\n",
              "    }\n",
              "  }\n",
              "</style>\n",
              "\n",
              "  <script>\n",
              "    async function quickchart(key) {\n",
              "      const quickchartButtonEl =\n",
              "        document.querySelector('#' + key + ' button');\n",
              "      quickchartButtonEl.disabled = true;  // To prevent multiple clicks.\n",
              "      quickchartButtonEl.classList.add('colab-df-spinner');\n",
              "      try {\n",
              "        const charts = await google.colab.kernel.invokeFunction(\n",
              "            'suggestCharts', [key], {});\n",
              "      } catch (error) {\n",
              "        console.error('Error during call to suggestCharts:', error);\n",
              "      }\n",
              "      quickchartButtonEl.classList.remove('colab-df-spinner');\n",
              "      quickchartButtonEl.classList.add('colab-df-quickchart-complete');\n",
              "    }\n",
              "    (() => {\n",
              "      let quickchartButtonEl =\n",
              "        document.querySelector('#df-10c60420-2878-473a-9aa8-b976179ce4ae button');\n",
              "      quickchartButtonEl.style.display =\n",
              "        google.colab.kernel.accessAllowed ? 'block' : 'none';\n",
              "    })();\n",
              "  </script>\n",
              "</div>\n",
              "\n",
              "  <div id=\"id_d3e4427e-ff9c-453d-8956-d4b20c96e07e\">\n",
              "    <style>\n",
              "      .colab-df-generate {\n",
              "        background-color: #E8F0FE;\n",
              "        border: none;\n",
              "        border-radius: 50%;\n",
              "        cursor: pointer;\n",
              "        display: none;\n",
              "        fill: #1967D2;\n",
              "        height: 32px;\n",
              "        padding: 0 0 0 0;\n",
              "        width: 32px;\n",
              "      }\n",
              "\n",
              "      .colab-df-generate:hover {\n",
              "        background-color: #E2EBFA;\n",
              "        box-shadow: 0px 1px 2px rgba(60, 64, 67, 0.3), 0px 1px 3px 1px rgba(60, 64, 67, 0.15);\n",
              "        fill: #174EA6;\n",
              "      }\n",
              "\n",
              "      [theme=dark] .colab-df-generate {\n",
              "        background-color: #3B4455;\n",
              "        fill: #D2E3FC;\n",
              "      }\n",
              "\n",
              "      [theme=dark] .colab-df-generate:hover {\n",
              "        background-color: #434B5C;\n",
              "        box-shadow: 0px 1px 3px 1px rgba(0, 0, 0, 0.15);\n",
              "        filter: drop-shadow(0px 1px 2px rgba(0, 0, 0, 0.3));\n",
              "        fill: #FFFFFF;\n",
              "      }\n",
              "    </style>\n",
              "    <button class=\"colab-df-generate\" onclick=\"generateWithVariable('train_dataset')\"\n",
              "            title=\"Generate code using this dataframe.\"\n",
              "            style=\"display:none;\">\n",
              "\n",
              "  <svg xmlns=\"http://www.w3.org/2000/svg\" height=\"24px\"viewBox=\"0 0 24 24\"\n",
              "       width=\"24px\">\n",
              "    <path d=\"M7,19H8.4L18.45,9,17,7.55,7,17.6ZM5,21V16.75L18.45,3.32a2,2,0,0,1,2.83,0l1.4,1.43a1.91,1.91,0,0,1,.58,1.4,1.91,1.91,0,0,1-.58,1.4L9.25,21ZM18.45,9,17,7.55Zm-12,3A5.31,5.31,0,0,0,4.9,8.1,5.31,5.31,0,0,0,1,6.5,5.31,5.31,0,0,0,4.9,4.9,5.31,5.31,0,0,0,6.5,1,5.31,5.31,0,0,0,8.1,4.9,5.31,5.31,0,0,0,12,6.5,5.46,5.46,0,0,0,6.5,12Z\"/>\n",
              "  </svg>\n",
              "    </button>\n",
              "    <script>\n",
              "      (() => {\n",
              "      const buttonEl =\n",
              "        document.querySelector('#id_d3e4427e-ff9c-453d-8956-d4b20c96e07e button.colab-df-generate');\n",
              "      buttonEl.style.display =\n",
              "        google.colab.kernel.accessAllowed ? 'block' : 'none';\n",
              "\n",
              "      buttonEl.onclick = () => {\n",
              "        google.colab.notebook.generateWithVariable('train_dataset');\n",
              "      }\n",
              "      })();\n",
              "    </script>\n",
              "  </div>\n",
              "\n",
              "    </div>\n",
              "  </div>\n"
            ],
            "application/vnd.google.colaboratory.intrinsic+json": {
              "type": "dataframe",
              "variable_name": "train_dataset",
              "summary": "{\n  \"name\": \"train_dataset\",\n  \"rows\": 1200,\n  \"fields\": [\n    {\n      \"column\": \"author\",\n      \"properties\": {\n        \"dtype\": \"category\",\n        \"num_unique_values\": 30,\n        \"samples\": [\n          \"8\",\n          \"30\",\n          \"10\"\n        ],\n        \"semantic_type\": \"\",\n        \"description\": \"\"\n      }\n    },\n    {\n      \"column\": \"article\",\n      \"properties\": {\n        \"dtype\": \"object\",\n        \"semantic_type\": \"\",\n        \"description\": \"\"\n      }\n    }\n  ]\n}"
            }
          },
          "metadata": {},
          "execution_count": 15
        }
      ],
      "source": [
        "train_dataset"
      ]
    },
    {
      "cell_type": "code",
      "execution_count": 16,
      "metadata": {
        "colab": {
          "base_uri": "https://localhost:8080/"
        },
        "id": "kJP7cwFwQJmf",
        "outputId": "a19836de-46a8-4b93-e80f-62542c0ab7eb"
      },
      "outputs": [
        {
          "output_type": "execute_result",
          "data": {
            "text/plain": [
              "1200"
            ]
          },
          "metadata": {},
          "execution_count": 16
        }
      ],
      "source": [
        "len(train_dataset)"
      ]
    },
    {
      "cell_type": "code",
      "execution_count": 17,
      "metadata": {
        "colab": {
          "base_uri": "https://localhost:8080/"
        },
        "id": "_gIU0GzqQLQH",
        "outputId": "1a7e19c5-1acf-4cb9-fcbe-6c8fe6f76a09"
      },
      "outputs": [
        {
          "output_type": "execute_result",
          "data": {
            "text/plain": [
              "author\n",
              "23    46\n",
              "2     44\n",
              "8     44\n",
              "16    44\n",
              "7     43\n",
              "1     43\n",
              "17    42\n",
              "6     42\n",
              "21    41\n",
              "12    41\n",
              "19    41\n",
              "5     41\n",
              "26    41\n",
              "11    40\n",
              "20    40\n",
              "18    40\n",
              "30    40\n",
              "25    40\n",
              "14    40\n",
              "9     39\n",
              "3     39\n",
              "24    39\n",
              "4     38\n",
              "22    38\n",
              "15    38\n",
              "29    37\n",
              "10    36\n",
              "27    36\n",
              "13    36\n",
              "28    31\n",
              "Name: count, dtype: int64"
            ]
          },
          "metadata": {},
          "execution_count": 17
        }
      ],
      "source": [
        "train_dataset[\"author\"].value_counts()"
      ]
    },
    {
      "cell_type": "code",
      "execution_count": 18,
      "metadata": {
        "id": "yoYuZHKuQYS3"
      },
      "outputs": [],
      "source": [
        "# Test Dataset\n",
        "test_dataset = dataset.drop(train_dataset.index)"
      ]
    },
    {
      "cell_type": "code",
      "execution_count": 19,
      "metadata": {
        "colab": {
          "base_uri": "https://localhost:8080/",
          "height": 0
        },
        "id": "I-kVolpVQgWz",
        "outputId": "88089e12-eefb-44ad-ff59-767b3786f919"
      },
      "outputs": [
        {
          "output_type": "execute_result",
          "data": {
            "text/plain": [
              "     author                                            article\n",
              "15        1  [always, risk, writing, state, worlds, financi...\n",
              "20        1  [good, news, week, see, deployment, police, of...\n",
              "21        1  [ronnie, reagan, tony, blair, seems, first, mi...\n",
              "24        1  [help, never, thought, writing, political, col...\n",
              "25        1  [going, well, man, plan, sit, back, wait, mayb...\n",
              "...     ...                                                ...\n",
              "1478     30  [volkswagen, returning, western, pennsylvania,...\n",
              "1485     30  [books, unforgettable, trying, remember, full,...\n",
              "1495     30  [mainly, social, occasion, elegant, black, tie...\n",
              "1498     30  [real, estate, market, house, may, cut, millio...\n",
              "1499     30  [different, kind, pioneering, coal, mines, wes...\n",
              "\n",
              "[300 rows x 2 columns]"
            ],
            "text/html": [
              "\n",
              "  <div id=\"df-0cb5862d-4cfe-4920-a1e9-fa19b1557e83\" class=\"colab-df-container\">\n",
              "    <div>\n",
              "<style scoped>\n",
              "    .dataframe tbody tr th:only-of-type {\n",
              "        vertical-align: middle;\n",
              "    }\n",
              "\n",
              "    .dataframe tbody tr th {\n",
              "        vertical-align: top;\n",
              "    }\n",
              "\n",
              "    .dataframe thead th {\n",
              "        text-align: right;\n",
              "    }\n",
              "</style>\n",
              "<table border=\"1\" class=\"dataframe\">\n",
              "  <thead>\n",
              "    <tr style=\"text-align: right;\">\n",
              "      <th></th>\n",
              "      <th>author</th>\n",
              "      <th>article</th>\n",
              "    </tr>\n",
              "  </thead>\n",
              "  <tbody>\n",
              "    <tr>\n",
              "      <th>15</th>\n",
              "      <td>1</td>\n",
              "      <td>[always, risk, writing, state, worlds, financi...</td>\n",
              "    </tr>\n",
              "    <tr>\n",
              "      <th>20</th>\n",
              "      <td>1</td>\n",
              "      <td>[good, news, week, see, deployment, police, of...</td>\n",
              "    </tr>\n",
              "    <tr>\n",
              "      <th>21</th>\n",
              "      <td>1</td>\n",
              "      <td>[ronnie, reagan, tony, blair, seems, first, mi...</td>\n",
              "    </tr>\n",
              "    <tr>\n",
              "      <th>24</th>\n",
              "      <td>1</td>\n",
              "      <td>[help, never, thought, writing, political, col...</td>\n",
              "    </tr>\n",
              "    <tr>\n",
              "      <th>25</th>\n",
              "      <td>1</td>\n",
              "      <td>[going, well, man, plan, sit, back, wait, mayb...</td>\n",
              "    </tr>\n",
              "    <tr>\n",
              "      <th>...</th>\n",
              "      <td>...</td>\n",
              "      <td>...</td>\n",
              "    </tr>\n",
              "    <tr>\n",
              "      <th>1478</th>\n",
              "      <td>30</td>\n",
              "      <td>[volkswagen, returning, western, pennsylvania,...</td>\n",
              "    </tr>\n",
              "    <tr>\n",
              "      <th>1485</th>\n",
              "      <td>30</td>\n",
              "      <td>[books, unforgettable, trying, remember, full,...</td>\n",
              "    </tr>\n",
              "    <tr>\n",
              "      <th>1495</th>\n",
              "      <td>30</td>\n",
              "      <td>[mainly, social, occasion, elegant, black, tie...</td>\n",
              "    </tr>\n",
              "    <tr>\n",
              "      <th>1498</th>\n",
              "      <td>30</td>\n",
              "      <td>[real, estate, market, house, may, cut, millio...</td>\n",
              "    </tr>\n",
              "    <tr>\n",
              "      <th>1499</th>\n",
              "      <td>30</td>\n",
              "      <td>[different, kind, pioneering, coal, mines, wes...</td>\n",
              "    </tr>\n",
              "  </tbody>\n",
              "</table>\n",
              "<p>300 rows × 2 columns</p>\n",
              "</div>\n",
              "    <div class=\"colab-df-buttons\">\n",
              "\n",
              "  <div class=\"colab-df-container\">\n",
              "    <button class=\"colab-df-convert\" onclick=\"convertToInteractive('df-0cb5862d-4cfe-4920-a1e9-fa19b1557e83')\"\n",
              "            title=\"Convert this dataframe to an interactive table.\"\n",
              "            style=\"display:none;\">\n",
              "\n",
              "  <svg xmlns=\"http://www.w3.org/2000/svg\" height=\"24px\" viewBox=\"0 -960 960 960\">\n",
              "    <path d=\"M120-120v-720h720v720H120Zm60-500h600v-160H180v160Zm220 220h160v-160H400v160Zm0 220h160v-160H400v160ZM180-400h160v-160H180v160Zm440 0h160v-160H620v160ZM180-180h160v-160H180v160Zm440 0h160v-160H620v160Z\"/>\n",
              "  </svg>\n",
              "    </button>\n",
              "\n",
              "  <style>\n",
              "    .colab-df-container {\n",
              "      display:flex;\n",
              "      gap: 12px;\n",
              "    }\n",
              "\n",
              "    .colab-df-convert {\n",
              "      background-color: #E8F0FE;\n",
              "      border: none;\n",
              "      border-radius: 50%;\n",
              "      cursor: pointer;\n",
              "      display: none;\n",
              "      fill: #1967D2;\n",
              "      height: 32px;\n",
              "      padding: 0 0 0 0;\n",
              "      width: 32px;\n",
              "    }\n",
              "\n",
              "    .colab-df-convert:hover {\n",
              "      background-color: #E2EBFA;\n",
              "      box-shadow: 0px 1px 2px rgba(60, 64, 67, 0.3), 0px 1px 3px 1px rgba(60, 64, 67, 0.15);\n",
              "      fill: #174EA6;\n",
              "    }\n",
              "\n",
              "    .colab-df-buttons div {\n",
              "      margin-bottom: 4px;\n",
              "    }\n",
              "\n",
              "    [theme=dark] .colab-df-convert {\n",
              "      background-color: #3B4455;\n",
              "      fill: #D2E3FC;\n",
              "    }\n",
              "\n",
              "    [theme=dark] .colab-df-convert:hover {\n",
              "      background-color: #434B5C;\n",
              "      box-shadow: 0px 1px 3px 1px rgba(0, 0, 0, 0.15);\n",
              "      filter: drop-shadow(0px 1px 2px rgba(0, 0, 0, 0.3));\n",
              "      fill: #FFFFFF;\n",
              "    }\n",
              "  </style>\n",
              "\n",
              "    <script>\n",
              "      const buttonEl =\n",
              "        document.querySelector('#df-0cb5862d-4cfe-4920-a1e9-fa19b1557e83 button.colab-df-convert');\n",
              "      buttonEl.style.display =\n",
              "        google.colab.kernel.accessAllowed ? 'block' : 'none';\n",
              "\n",
              "      async function convertToInteractive(key) {\n",
              "        const element = document.querySelector('#df-0cb5862d-4cfe-4920-a1e9-fa19b1557e83');\n",
              "        const dataTable =\n",
              "          await google.colab.kernel.invokeFunction('convertToInteractive',\n",
              "                                                    [key], {});\n",
              "        if (!dataTable) return;\n",
              "\n",
              "        const docLinkHtml = 'Like what you see? Visit the ' +\n",
              "          '<a target=\"_blank\" href=https://colab.research.google.com/notebooks/data_table.ipynb>data table notebook</a>'\n",
              "          + ' to learn more about interactive tables.';\n",
              "        element.innerHTML = '';\n",
              "        dataTable['output_type'] = 'display_data';\n",
              "        await google.colab.output.renderOutput(dataTable, element);\n",
              "        const docLink = document.createElement('div');\n",
              "        docLink.innerHTML = docLinkHtml;\n",
              "        element.appendChild(docLink);\n",
              "      }\n",
              "    </script>\n",
              "  </div>\n",
              "\n",
              "\n",
              "<div id=\"df-5670083b-5e3b-4c10-b277-688c35923910\">\n",
              "  <button class=\"colab-df-quickchart\" onclick=\"quickchart('df-5670083b-5e3b-4c10-b277-688c35923910')\"\n",
              "            title=\"Suggest charts\"\n",
              "            style=\"display:none;\">\n",
              "\n",
              "<svg xmlns=\"http://www.w3.org/2000/svg\" height=\"24px\"viewBox=\"0 0 24 24\"\n",
              "     width=\"24px\">\n",
              "    <g>\n",
              "        <path d=\"M19 3H5c-1.1 0-2 .9-2 2v14c0 1.1.9 2 2 2h14c1.1 0 2-.9 2-2V5c0-1.1-.9-2-2-2zM9 17H7v-7h2v7zm4 0h-2V7h2v10zm4 0h-2v-4h2v4z\"/>\n",
              "    </g>\n",
              "</svg>\n",
              "  </button>\n",
              "\n",
              "<style>\n",
              "  .colab-df-quickchart {\n",
              "      --bg-color: #E8F0FE;\n",
              "      --fill-color: #1967D2;\n",
              "      --hover-bg-color: #E2EBFA;\n",
              "      --hover-fill-color: #174EA6;\n",
              "      --disabled-fill-color: #AAA;\n",
              "      --disabled-bg-color: #DDD;\n",
              "  }\n",
              "\n",
              "  [theme=dark] .colab-df-quickchart {\n",
              "      --bg-color: #3B4455;\n",
              "      --fill-color: #D2E3FC;\n",
              "      --hover-bg-color: #434B5C;\n",
              "      --hover-fill-color: #FFFFFF;\n",
              "      --disabled-bg-color: #3B4455;\n",
              "      --disabled-fill-color: #666;\n",
              "  }\n",
              "\n",
              "  .colab-df-quickchart {\n",
              "    background-color: var(--bg-color);\n",
              "    border: none;\n",
              "    border-radius: 50%;\n",
              "    cursor: pointer;\n",
              "    display: none;\n",
              "    fill: var(--fill-color);\n",
              "    height: 32px;\n",
              "    padding: 0;\n",
              "    width: 32px;\n",
              "  }\n",
              "\n",
              "  .colab-df-quickchart:hover {\n",
              "    background-color: var(--hover-bg-color);\n",
              "    box-shadow: 0 1px 2px rgba(60, 64, 67, 0.3), 0 1px 3px 1px rgba(60, 64, 67, 0.15);\n",
              "    fill: var(--button-hover-fill-color);\n",
              "  }\n",
              "\n",
              "  .colab-df-quickchart-complete:disabled,\n",
              "  .colab-df-quickchart-complete:disabled:hover {\n",
              "    background-color: var(--disabled-bg-color);\n",
              "    fill: var(--disabled-fill-color);\n",
              "    box-shadow: none;\n",
              "  }\n",
              "\n",
              "  .colab-df-spinner {\n",
              "    border: 2px solid var(--fill-color);\n",
              "    border-color: transparent;\n",
              "    border-bottom-color: var(--fill-color);\n",
              "    animation:\n",
              "      spin 1s steps(1) infinite;\n",
              "  }\n",
              "\n",
              "  @keyframes spin {\n",
              "    0% {\n",
              "      border-color: transparent;\n",
              "      border-bottom-color: var(--fill-color);\n",
              "      border-left-color: var(--fill-color);\n",
              "    }\n",
              "    20% {\n",
              "      border-color: transparent;\n",
              "      border-left-color: var(--fill-color);\n",
              "      border-top-color: var(--fill-color);\n",
              "    }\n",
              "    30% {\n",
              "      border-color: transparent;\n",
              "      border-left-color: var(--fill-color);\n",
              "      border-top-color: var(--fill-color);\n",
              "      border-right-color: var(--fill-color);\n",
              "    }\n",
              "    40% {\n",
              "      border-color: transparent;\n",
              "      border-right-color: var(--fill-color);\n",
              "      border-top-color: var(--fill-color);\n",
              "    }\n",
              "    60% {\n",
              "      border-color: transparent;\n",
              "      border-right-color: var(--fill-color);\n",
              "    }\n",
              "    80% {\n",
              "      border-color: transparent;\n",
              "      border-right-color: var(--fill-color);\n",
              "      border-bottom-color: var(--fill-color);\n",
              "    }\n",
              "    90% {\n",
              "      border-color: transparent;\n",
              "      border-bottom-color: var(--fill-color);\n",
              "    }\n",
              "  }\n",
              "</style>\n",
              "\n",
              "  <script>\n",
              "    async function quickchart(key) {\n",
              "      const quickchartButtonEl =\n",
              "        document.querySelector('#' + key + ' button');\n",
              "      quickchartButtonEl.disabled = true;  // To prevent multiple clicks.\n",
              "      quickchartButtonEl.classList.add('colab-df-spinner');\n",
              "      try {\n",
              "        const charts = await google.colab.kernel.invokeFunction(\n",
              "            'suggestCharts', [key], {});\n",
              "      } catch (error) {\n",
              "        console.error('Error during call to suggestCharts:', error);\n",
              "      }\n",
              "      quickchartButtonEl.classList.remove('colab-df-spinner');\n",
              "      quickchartButtonEl.classList.add('colab-df-quickchart-complete');\n",
              "    }\n",
              "    (() => {\n",
              "      let quickchartButtonEl =\n",
              "        document.querySelector('#df-5670083b-5e3b-4c10-b277-688c35923910 button');\n",
              "      quickchartButtonEl.style.display =\n",
              "        google.colab.kernel.accessAllowed ? 'block' : 'none';\n",
              "    })();\n",
              "  </script>\n",
              "</div>\n",
              "\n",
              "  <div id=\"id_ee83afe8-6e3b-4cda-b9fa-f7fd580b5e73\">\n",
              "    <style>\n",
              "      .colab-df-generate {\n",
              "        background-color: #E8F0FE;\n",
              "        border: none;\n",
              "        border-radius: 50%;\n",
              "        cursor: pointer;\n",
              "        display: none;\n",
              "        fill: #1967D2;\n",
              "        height: 32px;\n",
              "        padding: 0 0 0 0;\n",
              "        width: 32px;\n",
              "      }\n",
              "\n",
              "      .colab-df-generate:hover {\n",
              "        background-color: #E2EBFA;\n",
              "        box-shadow: 0px 1px 2px rgba(60, 64, 67, 0.3), 0px 1px 3px 1px rgba(60, 64, 67, 0.15);\n",
              "        fill: #174EA6;\n",
              "      }\n",
              "\n",
              "      [theme=dark] .colab-df-generate {\n",
              "        background-color: #3B4455;\n",
              "        fill: #D2E3FC;\n",
              "      }\n",
              "\n",
              "      [theme=dark] .colab-df-generate:hover {\n",
              "        background-color: #434B5C;\n",
              "        box-shadow: 0px 1px 3px 1px rgba(0, 0, 0, 0.15);\n",
              "        filter: drop-shadow(0px 1px 2px rgba(0, 0, 0, 0.3));\n",
              "        fill: #FFFFFF;\n",
              "      }\n",
              "    </style>\n",
              "    <button class=\"colab-df-generate\" onclick=\"generateWithVariable('test_dataset')\"\n",
              "            title=\"Generate code using this dataframe.\"\n",
              "            style=\"display:none;\">\n",
              "\n",
              "  <svg xmlns=\"http://www.w3.org/2000/svg\" height=\"24px\"viewBox=\"0 0 24 24\"\n",
              "       width=\"24px\">\n",
              "    <path d=\"M7,19H8.4L18.45,9,17,7.55,7,17.6ZM5,21V16.75L18.45,3.32a2,2,0,0,1,2.83,0l1.4,1.43a1.91,1.91,0,0,1,.58,1.4,1.91,1.91,0,0,1-.58,1.4L9.25,21ZM18.45,9,17,7.55Zm-12,3A5.31,5.31,0,0,0,4.9,8.1,5.31,5.31,0,0,0,1,6.5,5.31,5.31,0,0,0,4.9,4.9,5.31,5.31,0,0,0,6.5,1,5.31,5.31,0,0,0,8.1,4.9,5.31,5.31,0,0,0,12,6.5,5.46,5.46,0,0,0,6.5,12Z\"/>\n",
              "  </svg>\n",
              "    </button>\n",
              "    <script>\n",
              "      (() => {\n",
              "      const buttonEl =\n",
              "        document.querySelector('#id_ee83afe8-6e3b-4cda-b9fa-f7fd580b5e73 button.colab-df-generate');\n",
              "      buttonEl.style.display =\n",
              "        google.colab.kernel.accessAllowed ? 'block' : 'none';\n",
              "\n",
              "      buttonEl.onclick = () => {\n",
              "        google.colab.notebook.generateWithVariable('test_dataset');\n",
              "      }\n",
              "      })();\n",
              "    </script>\n",
              "  </div>\n",
              "\n",
              "    </div>\n",
              "  </div>\n"
            ],
            "application/vnd.google.colaboratory.intrinsic+json": {
              "type": "dataframe",
              "variable_name": "test_dataset",
              "summary": "{\n  \"name\": \"test_dataset\",\n  \"rows\": 300,\n  \"fields\": [\n    {\n      \"column\": \"author\",\n      \"properties\": {\n        \"dtype\": \"category\",\n        \"num_unique_values\": 30,\n        \"samples\": [\n          \"28\",\n          \"16\",\n          \"24\"\n        ],\n        \"semantic_type\": \"\",\n        \"description\": \"\"\n      }\n    },\n    {\n      \"column\": \"article\",\n      \"properties\": {\n        \"dtype\": \"object\",\n        \"semantic_type\": \"\",\n        \"description\": \"\"\n      }\n    }\n  ]\n}"
            }
          },
          "metadata": {},
          "execution_count": 19
        }
      ],
      "source": [
        "test_dataset"
      ]
    },
    {
      "cell_type": "code",
      "execution_count": 20,
      "metadata": {
        "colab": {
          "base_uri": "https://localhost:8080/"
        },
        "id": "TnKsWIR5QfqP",
        "outputId": "b80bec6f-8074-460b-bfa6-566862517e6e"
      },
      "outputs": [
        {
          "output_type": "execute_result",
          "data": {
            "text/plain": [
              "300"
            ]
          },
          "metadata": {},
          "execution_count": 20
        }
      ],
      "source": [
        "len(test_dataset)"
      ]
    },
    {
      "cell_type": "markdown",
      "metadata": {
        "id": "MLrVCwy6TSde"
      },
      "source": [
        "### Build Vocabulary\n",
        "\n",
        "> Create a token set which holds all the tokens in train dataset and a token named as ***\\<UNKNOWN>***, for tokens may appear in test dataset but does not appear in train dataset."
      ]
    },
    {
      "cell_type": "code",
      "execution_count": 21,
      "metadata": {
        "id": "osGGN3GwTVS8"
      },
      "outputs": [],
      "source": [
        "total_tokens = 0\n",
        "token_set = set()\n",
        "for _, tokens in train_dataset[\"article\"].items():\n",
        "  total_tokens += len(tokens)\n",
        "  for token in tokens:\n",
        "    token_set.add(token)\n",
        "\n",
        "# Add <UNKNOWN> to token set for occurence of words that are not in corpus.\n",
        "token_set.add(\"<UNKNOWN>\")"
      ]
    },
    {
      "cell_type": "code",
      "execution_count": 22,
      "metadata": {
        "colab": {
          "base_uri": "https://localhost:8080/"
        },
        "id": "MtTxOYbTT23Z",
        "outputId": "01287000-d2cb-4c49-f38d-aac1b8d06569"
      },
      "outputs": [
        {
          "output_type": "stream",
          "name": "stdout",
          "text": [
            "Corpus size: 452966, Vocabulary size: 32375\n",
            "\n",
            "First 10 tokens:\n",
            "gawande\n",
            "charmingly\n",
            "rugelach\n",
            "pelts\n",
            "lineout\n",
            "colossally\n",
            "naughty\n",
            "ceremonies\n",
            "inaction\n",
            "seated\n"
          ]
        }
      ],
      "source": [
        "print(f\"Corpus size: {total_tokens}, Vocabulary size: {len(token_set)}\\n\")\n",
        "print(\"First 10 tokens:\")\n",
        "i = 0\n",
        "for token in token_set:\n",
        "  if i >= 10:\n",
        "    break\n",
        "  print(token)\n",
        "  i += 1"
      ]
    },
    {
      "cell_type": "markdown",
      "metadata": {
        "id": "XYBOkCR0UGHP"
      },
      "source": [
        "### Vectorization\n",
        "\n",
        "\n",
        "> token2idx: {token: token_idx}\n",
        "\n",
        "> Create train_vector_df with respect to structure [label, vector].\n",
        "vector is calculated using each tokens term frequency. vector's size is equal to vocabulary size (vocab_size)."
      ]
    },
    {
      "cell_type": "code",
      "execution_count": 23,
      "metadata": {
        "id": "Z7xwCm1fUIeo"
      },
      "outputs": [],
      "source": [
        "# token to index mapping\n",
        "token2idx = {}\n",
        "for idx, term in enumerate(token_set):\n",
        "  token2idx.update({term:idx})"
      ]
    },
    {
      "cell_type": "code",
      "execution_count": 24,
      "metadata": {
        "colab": {
          "base_uri": "https://localhost:8080/"
        },
        "id": "UBtnQ-SKUcRC",
        "outputId": "a792d6a2-8642-4c19-bd6e-040b7961e9c8"
      },
      "outputs": [
        {
          "output_type": "stream",
          "name": "stdout",
          "text": [
            "Size: 32375\n",
            "\n",
            "Terms and Indexes:\n",
            "gawande: 0\n",
            "charmingly: 1\n",
            "rugelach: 2\n",
            "pelts: 3\n",
            "lineout: 4\n",
            "colossally: 5\n",
            "naughty: 6\n",
            "ceremonies: 7\n",
            "inaction: 8\n",
            "seated: 9\n"
          ]
        }
      ],
      "source": [
        "print(f\"Size: {len(token2idx)}\\n\\nTerms and Indexes:\")\n",
        "i = 0\n",
        "for key in token2idx:\n",
        "  if i >= 10:\n",
        "    break\n",
        "  print(f\"{key}: {token2idx[key]}\")\n",
        "  i += 1"
      ]
    },
    {
      "cell_type": "code",
      "execution_count": 25,
      "metadata": {
        "id": "Hy4_Fpd1VDim"
      },
      "outputs": [],
      "source": [
        "# Document vectors of Train Set\n",
        "train_vector_df = None\n",
        "vocab_size = len(token_set)\n",
        "article_vectors = []\n",
        "for _, row in train_dataset.iterrows():\n",
        "  vector = [0] * vocab_size\n",
        "  for token in row[\"article\"]:\n",
        "    vector[token2idx[token]] += 1\n",
        "  article_vectors.append([row[\"author\"], vector])\n",
        "\n",
        "train_vector_df = pd.DataFrame(article_vectors, columns=[\"author\", \"vector\"])"
      ]
    },
    {
      "cell_type": "markdown",
      "metadata": {
        "id": "jlSBpsizWDAo"
      },
      "source": [
        "### Model Training\n",
        "\n",
        "> Create a dictionary that holds a vector for each author. **{author: vector}**"
      ]
    },
    {
      "cell_type": "code",
      "execution_count": 26,
      "metadata": {
        "id": "k-Ot0o_QWF_y"
      },
      "outputs": [],
      "source": [
        "import numpy as np\n",
        "\n",
        "# create a dictionary for author vectors, {author: author_vector}\n",
        "author_vectors = {}\n",
        "for author in authors:\n",
        "  author_vectors.update({author:np.array([0] * vocab_size)})\n",
        "\n",
        "# convert train dataset vectors to numpy arrays\n",
        "# calculate author vectors using element-wise addition for each author\n",
        "for _, row in train_vector_df.iterrows():\n",
        "  vector = np.array(row[\"vector\"])\n",
        "  author_vectors[row[\"author\"]] += vector"
      ]
    },
    {
      "cell_type": "code",
      "execution_count": 27,
      "metadata": {
        "colab": {
          "base_uri": "https://localhost:8080/"
        },
        "id": "ZNev5qYpczpn",
        "outputId": "88bf2922-c653-4453-f4eb-500594f03c68"
      },
      "outputs": [
        {
          "output_type": "stream",
          "name": "stdout",
          "text": [
            "Author 1: [0 0 0 0 0 0 2 0 0 0 0 0 0 1 0 0 1 0 0 0]\n",
            "\n",
            "Author 2: [0 0 0 0 0 0 0 0 0 0 0 0 0 0 1 0 0 0 0 0]\n",
            "\n",
            "Author 3: [0 0 0 0 0 0 0 0 0 1 0 0 0 0 0 0 1 0 0 0]\n",
            "\n",
            "Author 4: [0 0 0 0 0 0 0 0 0 0 0 0 0 0 0 0 0 0 0 0]\n",
            "\n",
            "Author 5: [0 0 0 1 0 0 0 0 0 3 0 0 0 0 0 0 0 0 0 0]\n",
            "\n",
            "Author 6: [0 0 0 0 0 0 0 0 1 0 0 0 0 0 0 0 2 0 0 0]\n",
            "\n",
            "Author 7: [0 0 0 0 0 0 0 1 0 0 0 0 0 0 0 0 1 0 0 0]\n",
            "\n",
            "Author 8: [0 0 0 0 0 0 0 0 0 1 0 0 0 0 0 0 0 0 0 2]\n",
            "\n",
            "Author 9: [0 0 0 0 0 0 0 0 0 0 0 0 0 0 0 0 1 0 0 1]\n",
            "\n",
            "Author 10: [0 0 0 0 0 0 0 0 1 0 1 0 0 0 0 0 2 0 0 2]\n",
            "\n",
            "Author 11: [0 0 0 0 0 0 0 0 0 0 0 0 0 0 0 0 0 0 0 0]\n",
            "\n",
            "Author 12: [0 0 0 0 0 0 0 0 0 0 0 0 0 0 0 0 0 0 0 0]\n",
            "\n",
            "Author 13: [0 0 0 0 0 0 0 3 0 0 0 0 0 0 0 0 0 0 0 0]\n",
            "\n",
            "Author 14: [0 1 0 0 0 0 0 0 0 0 0 0 0 0 0 0 2 0 0 0]\n",
            "\n",
            "Author 15: [0 0 1 0 0 0 0 0 0 0 0 1 1 0 0 0 1 0 1 0]\n",
            "\n",
            "Author 16: [2 0 0 0 0 0 0 0 0 0 0 0 0 0 0 0 1 0 0 4]\n",
            "\n",
            "Author 17: [0 0 0 0 0 1 0 0 0 0 3 0 0 0 1 0 1 0 0 1]\n",
            "\n",
            "Author 18: [0 0 0 0 0 0 0 0 0 0 0 0 0 0 2 0 2 0 0 0]\n",
            "\n",
            "Author 19: [0 0 0 0 0 0 0 0 0 0 0 0 1 0 0 0 2 0 0 0]\n",
            "\n",
            "Author 20: [0 0 0 0 0 0 0 0 0 1 0 0 0 1 0 0 4 0 0 0]\n",
            "\n",
            "Author 21: [0 0 0 0 0 0 1 0 0 0 0 0 0 0 1 0 2 0 0 0]\n",
            "\n",
            "Author 22: [0 0 0 0 2 0 0 0 0 0 0 0 0 0 0 0 0 0 0 0]\n",
            "\n",
            "Author 23: [0 0 0 0 0 0 0 0 0 0 0 0 0 0 0 4 0 1 0 2]\n",
            "\n",
            "Author 24: [0 0 0 0 0 0 0 0 0 0 0 0 0 0 0 0 0 0 0 0]\n",
            "\n",
            "Author 25: [0 0 0 0 0 0 0 0 0 0 0 0 0 0 4 0 1 0 0 0]\n",
            "\n",
            "Author 26: [0 0 0 0 0 0 0 0 0 0 0 0 0 0 0 0 0 0 0 0]\n",
            "\n",
            "Author 27: [0 0 0 0 0 0 0 0 0 0 0 0 0 0 0 0 0 0 0 1]\n",
            "\n",
            "Author 28: [0 0 0 0 0 0 1 0 0 1 0 0 0 0 0 0 1 0 0 0]\n",
            "\n",
            "Author 29: [0 0 0 0 0 0 0 0 0 0 0 0 0 0 0 0 1 0 0 0]\n",
            "\n",
            "Author 30: [0 0 0 0 0 0 0 0 0 1 0 0 0 0 0 0 0 0 0 0]\n",
            "\n"
          ]
        }
      ],
      "source": [
        "# First 20 element of each author's vector\n",
        "for author in authors:\n",
        "  print(f\"Author {author}: {author_vectors[author][:20]}\\n\")"
      ]
    },
    {
      "cell_type": "markdown",
      "metadata": {
        "id": "vtKDCQGNdyHr"
      },
      "source": [
        "### Similarity Measure: Cosine\n",
        "\n",
        "> Defining a function which calculates cosine similarity between vectors of the same dimension."
      ]
    },
    {
      "cell_type": "code",
      "execution_count": 28,
      "metadata": {
        "id": "eIvxwoJqd0d9"
      },
      "outputs": [],
      "source": [
        "def cosine_sim(vector1, vector2):\n",
        "  dot_product = np.dot(vector1, vector2)  # dot product of the vectors\n",
        "  magnitude1 = np.linalg.norm(vector1)    # length of vector1\n",
        "  magnitude2 = np.linalg.norm(vector2)    # length of vector2\n",
        "\n",
        "  cosine_similarity = dot_product / (magnitude1 * magnitude2)\n",
        "  return cosine_similarity"
      ]
    },
    {
      "cell_type": "markdown",
      "metadata": {
        "id": "SuUdX16hd9MA"
      },
      "source": [
        "### Testing and Result\n",
        "\n",
        "> Calculate the vector for each review in test_dataset with term frequencies. Predict labels for all reviews using cosine similarity. Finally compare predictions with real labels and calculate the success rate, print out the wrong predictions paired with correct authors."
      ]
    },
    {
      "cell_type": "code",
      "execution_count": 29,
      "metadata": {
        "id": "F9n7L18DeAnz"
      },
      "outputs": [],
      "source": [
        "# Document vectors of Test Set\n",
        "test_vector_df = None\n",
        "vocab_size = len(token_set)\n",
        "test_article_vectors = []\n",
        "for _, row in test_dataset.iterrows():\n",
        "  vector = [0] * vocab_size\n",
        "  for token in row[\"article\"]:\n",
        "    idx = token2idx.get(token, token2idx.get(\"<UNKNOWN>\"))\n",
        "    vector[idx] += 1\n",
        "  test_article_vectors.append([row[\"author\"], vector])\n",
        "\n",
        "test_vector_df = pd.DataFrame(test_article_vectors, columns=[\"author\", \"vector\"])"
      ]
    },
    {
      "cell_type": "code",
      "execution_count": 30,
      "metadata": {
        "colab": {
          "base_uri": "https://localhost:8080/"
        },
        "id": "mkm4ZX9Ie10h",
        "outputId": "8906ed7a-02b9-4d3d-9ea5-da50adfa578b"
      },
      "outputs": [
        {
          "output_type": "execute_result",
          "data": {
            "text/plain": [
              "author\n",
              "28    19\n",
              "13    14\n",
              "10    14\n",
              "27    14\n",
              "29    13\n",
              "22    12\n",
              "4     12\n",
              "15    12\n",
              "24    11\n",
              "9     11\n",
              "3     11\n",
              "11    10\n",
              "25    10\n",
              "14    10\n",
              "18    10\n",
              "20    10\n",
              "30    10\n",
              "12     9\n",
              "5      9\n",
              "19     9\n",
              "21     9\n",
              "26     9\n",
              "6      8\n",
              "17     8\n",
              "1      7\n",
              "7      7\n",
              "2      6\n",
              "8      6\n",
              "16     6\n",
              "23     4\n",
              "Name: count, dtype: int64"
            ]
          },
          "metadata": {},
          "execution_count": 30
        }
      ],
      "source": [
        "# test_authors: true authors of articles\n",
        "test_authors, test_vectors  = test_vector_df.iloc[:,0], test_vector_df.iloc[:,1]\n",
        "test_authors.value_counts()"
      ]
    },
    {
      "cell_type": "code",
      "execution_count": 31,
      "metadata": {
        "id": "Ht8sRU1Ef8sr"
      },
      "outputs": [],
      "source": [
        "# make all predictions\n",
        "predicted_authors = []  # list of predictions\n",
        "for vector in test_vectors:\n",
        "  similarities = []\n",
        "  for author in author_vectors:\n",
        "    similarities.append(cosine_sim(np.array(vector), author_vectors[author]))\n",
        "  max_idx = 0\n",
        "  max_sim = similarities[0]\n",
        "  for i in range(1, len(similarities)):\n",
        "    if similarities[i] > max_sim:\n",
        "      max_sim = similarities[i]\n",
        "      max_idx = i\n",
        "  predicted_authors.append(str(max_idx+1))"
      ]
    },
    {
      "cell_type": "code",
      "execution_count": 32,
      "metadata": {
        "id": "KcMw9RTzldCE",
        "colab": {
          "base_uri": "https://localhost:8080/"
        },
        "outputId": "7f1f1abc-6206-4066-b841-7c229264a292"
      },
      "outputs": [
        {
          "output_type": "stream",
          "name": "stdout",
          "text": [
            "Success rate: 0.8067\n"
          ]
        }
      ],
      "source": [
        "correct_predictions = 0\n",
        "for idx, predicted_author in enumerate(predicted_authors):\n",
        "  if predicted_author == test_authors[idx]:\n",
        "    correct_predictions += 1\n",
        "\n",
        "success_rate = correct_predictions / len(predicted_authors)\n",
        "print(f\"Success rate: {success_rate:.4g}\")"
      ]
    },
    {
      "cell_type": "code",
      "execution_count": 33,
      "metadata": {
        "id": "gO2zhjNA_6na",
        "colab": {
          "base_uri": "https://localhost:8080/"
        },
        "outputId": "014e3674-3432-403b-b657-cf7855b06092"
      },
      "outputs": [
        {
          "output_type": "stream",
          "name": "stdout",
          "text": [
            "Author\tPrediction\n",
            "  1   \t    4     \n",
            "  1   \t    10    \n",
            "  1   \t    5     \n",
            "  2   \t    7     \n",
            "  3   \t    2     \n",
            "  3   \t    10    \n",
            "  3   \t    2     \n",
            "  3   \t    19    \n",
            "  3   \t    8     \n",
            "  4   \t    1     \n",
            "  4   \t    7     \n",
            "  4   \t    10    \n",
            "  4   \t    7     \n",
            "  4   \t    1     \n",
            "  6   \t    10    \n",
            "  6   \t    21    \n",
            "  6   \t    10    \n",
            "  6   \t    10    \n",
            "  6   \t    21    \n",
            "  7   \t    20    \n",
            "  7   \t    2     \n",
            "  7   \t    8     \n",
            "  9   \t    16    \n",
            "  9   \t    16    \n",
            "  9   \t    11    \n",
            "  9   \t    11    \n",
            "  10  \t    5     \n",
            "  11  \t    27    \n",
            "  11  \t    9     \n",
            "  13  \t    14    \n",
            "  14  \t    26    \n",
            "  14  \t    22    \n",
            "  14  \t    12    \n",
            "  14  \t    8     \n",
            "  15  \t    13    \n",
            "  16  \t    29    \n",
            "  16  \t    25    \n",
            "  18  \t    17    \n",
            "  18  \t    19    \n",
            "  18  \t    19    \n",
            "  21  \t    6     \n",
            "  21  \t    20    \n",
            "  24  \t    25    \n",
            "  24  \t    16    \n",
            "  27  \t    9     \n",
            "  27  \t    11    \n",
            "  27  \t    11    \n",
            "  28  \t    12    \n",
            "  28  \t    8     \n",
            "  28  \t    8     \n",
            "  28  \t    26    \n",
            "  28  \t    26    \n",
            "  28  \t    12    \n",
            "  28  \t    8     \n",
            "  28  \t    26    \n",
            "  28  \t    26    \n",
            "  29  \t    11    \n",
            "  30  \t    1     \n"
          ]
        }
      ],
      "source": [
        "# Uncorrect predictions\n",
        "print(\"Author\\tPrediction\")\n",
        "for idx, predicted_author in enumerate(predicted_authors):\n",
        "  if predicted_author != test_authors[idx]:\n",
        "    print(f\"{test_authors[idx]:^6}\\t{predicted_author:^10}\")"
      ]
    }
  ],
  "metadata": {
    "colab": {
      "collapsed_sections": [
        "ld6oNQwlD1me",
        "Uv_d-SNEIxM6",
        "JddpVJT2P00b",
        "MLrVCwy6TSde",
        "XYBOkCR0UGHP",
        "jlSBpsizWDAo",
        "vtKDCQGNdyHr",
        "SuUdX16hd9MA"
      ],
      "provenance": []
    },
    "kernelspec": {
      "display_name": "Python 3",
      "name": "python3"
    },
    "language_info": {
      "name": "python"
    }
  },
  "nbformat": 4,
  "nbformat_minor": 0
}