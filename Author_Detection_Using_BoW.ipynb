{
  "nbformat": 4,
  "nbformat_minor": 0,
  "metadata": {
    "colab": {
      "provenance": [],
      "collapsed_sections": [
        "MLrVCwy6TSde",
        "jlSBpsizWDAo",
        "vtKDCQGNdyHr"
      ]
    },
    "kernelspec": {
      "name": "python3",
      "display_name": "Python 3"
    },
    "language_info": {
      "name": "python"
    }
  },
  "cells": [
    {
      "cell_type": "markdown",
      "source": [
        "###Dataset"
      ],
      "metadata": {
        "id": "aPW9uS0LBYYr"
      }
    },
    {
      "cell_type": "markdown",
      "source": [
        "Name of the data set: **30Columnists**\n",
        "\n",
        "Dataset consist of 30 author's 50 articles each in English.\n",
        "\n",
        "Dataset: [dataset](https://www.kemik.yildiz.edu.tr/veri_kumelerimiz.html)"
      ],
      "metadata": {
        "id": "OZ-c3OkNBbGX"
      }
    },
    {
      "cell_type": "markdown",
      "source": [
        "### Load Dataset"
      ],
      "metadata": {
        "id": "ld6oNQwlD1me"
      }
    },
    {
      "cell_type": "code",
      "source": [
        "from google.colab import files\n",
        "uploaded = files.upload()"
      ],
      "metadata": {
        "colab": {
          "base_uri": "https://localhost:8080/",
          "height": 74
        },
        "id": "LtaziAYwD6Fe",
        "outputId": "1ea5768d-a1be-42d1-fd3c-cfdc5613cf67"
      },
      "execution_count": 1,
      "outputs": [
        {
          "output_type": "display_data",
          "data": {
            "text/plain": [
              "<IPython.core.display.HTML object>"
            ],
            "text/html": [
              "\n",
              "     <input type=\"file\" id=\"files-714dc343-3b23-433e-b147-9e6959de053e\" name=\"files[]\" multiple disabled\n",
              "        style=\"border:none\" />\n",
              "     <output id=\"result-714dc343-3b23-433e-b147-9e6959de053e\">\n",
              "      Upload widget is only available when the cell has been executed in the\n",
              "      current browser session. Please rerun this cell to enable.\n",
              "      </output>\n",
              "      <script>// Copyright 2017 Google LLC\n",
              "//\n",
              "// Licensed under the Apache License, Version 2.0 (the \"License\");\n",
              "// you may not use this file except in compliance with the License.\n",
              "// You may obtain a copy of the License at\n",
              "//\n",
              "//      http://www.apache.org/licenses/LICENSE-2.0\n",
              "//\n",
              "// Unless required by applicable law or agreed to in writing, software\n",
              "// distributed under the License is distributed on an \"AS IS\" BASIS,\n",
              "// WITHOUT WARRANTIES OR CONDITIONS OF ANY KIND, either express or implied.\n",
              "// See the License for the specific language governing permissions and\n",
              "// limitations under the License.\n",
              "\n",
              "/**\n",
              " * @fileoverview Helpers for google.colab Python module.\n",
              " */\n",
              "(function(scope) {\n",
              "function span(text, styleAttributes = {}) {\n",
              "  const element = document.createElement('span');\n",
              "  element.textContent = text;\n",
              "  for (const key of Object.keys(styleAttributes)) {\n",
              "    element.style[key] = styleAttributes[key];\n",
              "  }\n",
              "  return element;\n",
              "}\n",
              "\n",
              "// Max number of bytes which will be uploaded at a time.\n",
              "const MAX_PAYLOAD_SIZE = 100 * 1024;\n",
              "\n",
              "function _uploadFiles(inputId, outputId) {\n",
              "  const steps = uploadFilesStep(inputId, outputId);\n",
              "  const outputElement = document.getElementById(outputId);\n",
              "  // Cache steps on the outputElement to make it available for the next call\n",
              "  // to uploadFilesContinue from Python.\n",
              "  outputElement.steps = steps;\n",
              "\n",
              "  return _uploadFilesContinue(outputId);\n",
              "}\n",
              "\n",
              "// This is roughly an async generator (not supported in the browser yet),\n",
              "// where there are multiple asynchronous steps and the Python side is going\n",
              "// to poll for completion of each step.\n",
              "// This uses a Promise to block the python side on completion of each step,\n",
              "// then passes the result of the previous step as the input to the next step.\n",
              "function _uploadFilesContinue(outputId) {\n",
              "  const outputElement = document.getElementById(outputId);\n",
              "  const steps = outputElement.steps;\n",
              "\n",
              "  const next = steps.next(outputElement.lastPromiseValue);\n",
              "  return Promise.resolve(next.value.promise).then((value) => {\n",
              "    // Cache the last promise value to make it available to the next\n",
              "    // step of the generator.\n",
              "    outputElement.lastPromiseValue = value;\n",
              "    return next.value.response;\n",
              "  });\n",
              "}\n",
              "\n",
              "/**\n",
              " * Generator function which is called between each async step of the upload\n",
              " * process.\n",
              " * @param {string} inputId Element ID of the input file picker element.\n",
              " * @param {string} outputId Element ID of the output display.\n",
              " * @return {!Iterable<!Object>} Iterable of next steps.\n",
              " */\n",
              "function* uploadFilesStep(inputId, outputId) {\n",
              "  const inputElement = document.getElementById(inputId);\n",
              "  inputElement.disabled = false;\n",
              "\n",
              "  const outputElement = document.getElementById(outputId);\n",
              "  outputElement.innerHTML = '';\n",
              "\n",
              "  const pickedPromise = new Promise((resolve) => {\n",
              "    inputElement.addEventListener('change', (e) => {\n",
              "      resolve(e.target.files);\n",
              "    });\n",
              "  });\n",
              "\n",
              "  const cancel = document.createElement('button');\n",
              "  inputElement.parentElement.appendChild(cancel);\n",
              "  cancel.textContent = 'Cancel upload';\n",
              "  const cancelPromise = new Promise((resolve) => {\n",
              "    cancel.onclick = () => {\n",
              "      resolve(null);\n",
              "    };\n",
              "  });\n",
              "\n",
              "  // Wait for the user to pick the files.\n",
              "  const files = yield {\n",
              "    promise: Promise.race([pickedPromise, cancelPromise]),\n",
              "    response: {\n",
              "      action: 'starting',\n",
              "    }\n",
              "  };\n",
              "\n",
              "  cancel.remove();\n",
              "\n",
              "  // Disable the input element since further picks are not allowed.\n",
              "  inputElement.disabled = true;\n",
              "\n",
              "  if (!files) {\n",
              "    return {\n",
              "      response: {\n",
              "        action: 'complete',\n",
              "      }\n",
              "    };\n",
              "  }\n",
              "\n",
              "  for (const file of files) {\n",
              "    const li = document.createElement('li');\n",
              "    li.append(span(file.name, {fontWeight: 'bold'}));\n",
              "    li.append(span(\n",
              "        `(${file.type || 'n/a'}) - ${file.size} bytes, ` +\n",
              "        `last modified: ${\n",
              "            file.lastModifiedDate ? file.lastModifiedDate.toLocaleDateString() :\n",
              "                                    'n/a'} - `));\n",
              "    const percent = span('0% done');\n",
              "    li.appendChild(percent);\n",
              "\n",
              "    outputElement.appendChild(li);\n",
              "\n",
              "    const fileDataPromise = new Promise((resolve) => {\n",
              "      const reader = new FileReader();\n",
              "      reader.onload = (e) => {\n",
              "        resolve(e.target.result);\n",
              "      };\n",
              "      reader.readAsArrayBuffer(file);\n",
              "    });\n",
              "    // Wait for the data to be ready.\n",
              "    let fileData = yield {\n",
              "      promise: fileDataPromise,\n",
              "      response: {\n",
              "        action: 'continue',\n",
              "      }\n",
              "    };\n",
              "\n",
              "    // Use a chunked sending to avoid message size limits. See b/62115660.\n",
              "    let position = 0;\n",
              "    do {\n",
              "      const length = Math.min(fileData.byteLength - position, MAX_PAYLOAD_SIZE);\n",
              "      const chunk = new Uint8Array(fileData, position, length);\n",
              "      position += length;\n",
              "\n",
              "      const base64 = btoa(String.fromCharCode.apply(null, chunk));\n",
              "      yield {\n",
              "        response: {\n",
              "          action: 'append',\n",
              "          file: file.name,\n",
              "          data: base64,\n",
              "        },\n",
              "      };\n",
              "\n",
              "      let percentDone = fileData.byteLength === 0 ?\n",
              "          100 :\n",
              "          Math.round((position / fileData.byteLength) * 100);\n",
              "      percent.textContent = `${percentDone}% done`;\n",
              "\n",
              "    } while (position < fileData.byteLength);\n",
              "  }\n",
              "\n",
              "  // All done.\n",
              "  yield {\n",
              "    response: {\n",
              "      action: 'complete',\n",
              "    }\n",
              "  };\n",
              "}\n",
              "\n",
              "scope.google = scope.google || {};\n",
              "scope.google.colab = scope.google.colab || {};\n",
              "scope.google.colab._files = {\n",
              "  _uploadFiles,\n",
              "  _uploadFilesContinue,\n",
              "};\n",
              "})(self);\n",
              "</script> "
            ]
          },
          "metadata": {}
        },
        {
          "output_type": "stream",
          "name": "stdout",
          "text": [
            "Saving 30Columnists.zip to 30Columnists.zip\n"
          ]
        }
      ]
    },
    {
      "cell_type": "code",
      "source": [
        "!unzip /content/30Columnists.zip -d /content"
      ],
      "metadata": {
        "id": "IhHr2WmoEtFo"
      },
      "execution_count": null,
      "outputs": []
    },
    {
      "cell_type": "code",
      "source": [
        "# Get authors\n",
        "import os\n",
        "PATH = \"/content/30Columnists/raw_texts\"\n",
        "\n",
        "authors = []\n",
        "for author in os.listdir(PATH):\n",
        "  authors.append(author)\n",
        "\n",
        "authors.sort(key = lambda a: int(a))\n",
        "print(authors)"
      ],
      "metadata": {
        "colab": {
          "base_uri": "https://localhost:8080/"
        },
        "id": "Um-ry6YdE7X5",
        "outputId": "ca55f7bb-9425-424e-9c8f-c8e4fb7f4d7d"
      },
      "execution_count": 3,
      "outputs": [
        {
          "output_type": "stream",
          "name": "stdout",
          "text": [
            "['1', '2', '3', '4', '5', '6', '7', '8', '9', '10', '11', '12', '13', '14', '15', '16', '17', '18', '19', '20', '21', '22', '23', '24', '25', '26', '27', '28', '29', '30']\n"
          ]
        }
      ]
    },
    {
      "cell_type": "code",
      "source": [
        "# Read every article of each author and append to dataset\n",
        "import re\n",
        "dataset = []  # [[author, article], [author, article], ...]\n",
        "for author in authors:\n",
        "  author_path = os.path.join(PATH, author)\n",
        "  for article_file in os.listdir(author_path):\n",
        "    if article_file.endswith(\".txt\"):\n",
        "      article_path = os.path.join(author_path, article_file)\n",
        "      with open(article_path, \"rb\") as f:\n",
        "        article = f.read().decode(\"iso-8859-9\")\n",
        "\n",
        "        article = re.sub(r\"[\\n\\r\\f\\x96]\", \"\", article)\n",
        "        dataset.append([author, article])"
      ],
      "metadata": {
        "id": "Tu4rm2XBM3Wa"
      },
      "execution_count": 5,
      "outputs": []
    },
    {
      "cell_type": "code",
      "source": [
        "article_count = {}\n",
        "for author in authors:\n",
        "  article_count.update({author: 0})\n",
        "\n",
        "for row in dataset:\n",
        "  author = row[0]\n",
        "  count = article_count[author]\n",
        "  article_count.update({author: count+1})\n",
        "\n",
        "for author in authors:\n",
        "  print(f\"{author:>2}\\t{article_count[author]}\")"
      ],
      "metadata": {
        "colab": {
          "base_uri": "https://localhost:8080/"
        },
        "id": "zSTxhnGrHy77",
        "outputId": "50ddfd50-4a2c-4829-a732-6372b979fd42"
      },
      "execution_count": 6,
      "outputs": [
        {
          "output_type": "stream",
          "name": "stdout",
          "text": [
            " 1\t50\n",
            " 2\t50\n",
            " 3\t50\n",
            " 4\t50\n",
            " 5\t50\n",
            " 6\t50\n",
            " 7\t50\n",
            " 8\t50\n",
            " 9\t50\n",
            "10\t50\n",
            "11\t50\n",
            "12\t50\n",
            "13\t50\n",
            "14\t50\n",
            "15\t50\n",
            "16\t50\n",
            "17\t50\n",
            "18\t50\n",
            "19\t50\n",
            "20\t50\n",
            "21\t50\n",
            "22\t50\n",
            "23\t50\n",
            "24\t50\n",
            "25\t50\n",
            "26\t50\n",
            "27\t50\n",
            "28\t50\n",
            "29\t50\n",
            "30\t50\n"
          ]
        }
      ]
    },
    {
      "cell_type": "code",
      "source": [
        "import pandas as pd\n",
        "\n",
        "dataset = pd.DataFrame(dataset, columns=[\"author\", \"article\"])\n",
        "print(dataset)"
      ],
      "metadata": {
        "colab": {
          "base_uri": "https://localhost:8080/"
        },
        "id": "STBrKOzUNJhb",
        "outputId": "98ce32ac-be85-4592-e1c5-c72dc035c353"
      },
      "execution_count": 7,
      "outputs": [
        {
          "output_type": "stream",
          "name": "stdout",
          "text": [
            "     author                                            article\n",
            "0         1  LOCAL shopkeepers can rest easy, everything is...\n",
            "1         1  DOES Scottish Labour leader Wendy really know ...\n",
            "2         1  IT was this time last year in the run up to th...\n",
            "3         1  IT was all going so well. The man with the pla...\n",
            "4         1  SCHADENFREUDE! No, it's not a swear word, but ...\n",
            "...     ...                                                ...\n",
            "1495     30  All you'd have to remember is plugging in the ...\n",
            "1496     30  The income tax is the worst thing the U.S. gov...\n",
            "1497     30  Americans are waking up this Christmas Day to ...\n",
            "1498     30  Two cheers for the neighborhood agreement that...\n",
            "1499     30  It was Thanksgiving Day, but no one at the tab...\n",
            "\n",
            "[1500 rows x 2 columns]\n"
          ]
        }
      ]
    },
    {
      "cell_type": "markdown",
      "source": [
        "###Tokenization, Punctuations, Stop Words, Case Folding\n",
        "\n",
        "> Tokeinizing, removing punctuations and stopword, applying case folding."
      ],
      "metadata": {
        "id": "Uv_d-SNEIxM6"
      }
    },
    {
      "cell_type": "code",
      "source": [
        "# nltk library for tokenizing, punctuations and stopwords\n",
        "import nltk\n",
        "nltk.download(\"punkt\")"
      ],
      "metadata": {
        "colab": {
          "base_uri": "https://localhost:8080/"
        },
        "id": "ciTHXfwBIwnf",
        "outputId": "25464a67-a090-4f28-a1ed-1804ec88865f"
      },
      "execution_count": 8,
      "outputs": [
        {
          "output_type": "stream",
          "name": "stderr",
          "text": [
            "[nltk_data] Downloading package punkt to /root/nltk_data...\n",
            "[nltk_data]   Unzipping tokenizers/punkt.zip.\n"
          ]
        },
        {
          "output_type": "execute_result",
          "data": {
            "text/plain": [
              "True"
            ]
          },
          "metadata": {},
          "execution_count": 8
        }
      ]
    },
    {
      "cell_type": "code",
      "source": [
        "from nltk.corpus import stopwords\n",
        "nltk.download(\"stopwords\")\n",
        "stop_words = stopwords.words(\"english\")"
      ],
      "metadata": {
        "colab": {
          "base_uri": "https://localhost:8080/"
        },
        "id": "2Kl2z1GCKh1u",
        "outputId": "89b2a055-2d6c-4d60-ff02-9100093e81b9"
      },
      "execution_count": 9,
      "outputs": [
        {
          "output_type": "stream",
          "name": "stderr",
          "text": [
            "[nltk_data] Downloading package stopwords to /root/nltk_data...\n",
            "[nltk_data]   Unzipping corpora/stopwords.zip.\n"
          ]
        }
      ]
    },
    {
      "cell_type": "code",
      "source": [
        "print(len(stop_words), stop_words)"
      ],
      "metadata": {
        "colab": {
          "base_uri": "https://localhost:8080/"
        },
        "id": "mQ-QCkr-K3mC",
        "outputId": "2bf88097-c8e6-43e5-8ea0-0edbb12c9d3b"
      },
      "execution_count": 10,
      "outputs": [
        {
          "output_type": "stream",
          "name": "stdout",
          "text": [
            "179 ['i', 'me', 'my', 'myself', 'we', 'our', 'ours', 'ourselves', 'you', \"you're\", \"you've\", \"you'll\", \"you'd\", 'your', 'yours', 'yourself', 'yourselves', 'he', 'him', 'his', 'himself', 'she', \"she's\", 'her', 'hers', 'herself', 'it', \"it's\", 'its', 'itself', 'they', 'them', 'their', 'theirs', 'themselves', 'what', 'which', 'who', 'whom', 'this', 'that', \"that'll\", 'these', 'those', 'am', 'is', 'are', 'was', 'were', 'be', 'been', 'being', 'have', 'has', 'had', 'having', 'do', 'does', 'did', 'doing', 'a', 'an', 'the', 'and', 'but', 'if', 'or', 'because', 'as', 'until', 'while', 'of', 'at', 'by', 'for', 'with', 'about', 'against', 'between', 'into', 'through', 'during', 'before', 'after', 'above', 'below', 'to', 'from', 'up', 'down', 'in', 'out', 'on', 'off', 'over', 'under', 'again', 'further', 'then', 'once', 'here', 'there', 'when', 'where', 'why', 'how', 'all', 'any', 'both', 'each', 'few', 'more', 'most', 'other', 'some', 'such', 'no', 'nor', 'not', 'only', 'own', 'same', 'so', 'than', 'too', 'very', 's', 't', 'can', 'will', 'just', 'don', \"don't\", 'should', \"should've\", 'now', 'd', 'll', 'm', 'o', 're', 've', 'y', 'ain', 'aren', \"aren't\", 'couldn', \"couldn't\", 'didn', \"didn't\", 'doesn', \"doesn't\", 'hadn', \"hadn't\", 'hasn', \"hasn't\", 'haven', \"haven't\", 'isn', \"isn't\", 'ma', 'mightn', \"mightn't\", 'mustn', \"mustn't\", 'needn', \"needn't\", 'shan', \"shan't\", 'shouldn', \"shouldn't\", 'wasn', \"wasn't\", 'weren', \"weren't\", 'won', \"won't\", 'wouldn', \"wouldn't\"]\n"
          ]
        }
      ]
    },
    {
      "cell_type": "code",
      "source": [
        "from nltk import word_tokenize\n",
        "import re\n",
        "# Tokenizing, removing punctuations and stopwords, applying case folding\n",
        "for idx, row in dataset.iterrows():\n",
        "  dataset.at[idx, \"article\"] = [token.lower() for token in word_tokenize(re.sub(r\"\\.\", \" . \", row[\"article\"])) if token.isalpha() and (token.lower() not in stop_words)]"
      ],
      "metadata": {
        "id": "jpoDIgJAI8Jz"
      },
      "execution_count": 11,
      "outputs": []
    },
    {
      "cell_type": "code",
      "source": [
        "print(dataset)"
      ],
      "metadata": {
        "colab": {
          "base_uri": "https://localhost:8080/"
        },
        "id": "O1HSKoUQPsqB",
        "outputId": "25039675-d866-41c7-b3e4-4c4f8805877e"
      },
      "execution_count": 12,
      "outputs": [
        {
          "output_type": "stream",
          "name": "stdout",
          "text": [
            "     author                                            article\n",
            "0         1  [local, shopkeepers, rest, easy, everything, g...\n",
            "1         1  [scottish, labour, leader, wendy, really, know...\n",
            "2         1  [time, last, year, run, labour, party, confere...\n",
            "3         1  [going, well, man, plan, sit, back, wait, mayb...\n",
            "4         1  [schadenfreude, swear, word, might, well, like...\n",
            "...     ...                                                ...\n",
            "1495     30  [remember, plugging, car, night, full, tank, m...\n",
            "1496     30  [income, tax, worst, thing, u, government, cit...\n",
            "1497     30  [americans, waking, christmas, day, big, packa...\n",
            "1498     30  [two, cheers, neighborhood, agreement, bring, ...\n",
            "1499     30  [thanksgiving, day, one, table, talking, thank...\n",
            "\n",
            "[1500 rows x 2 columns]\n"
          ]
        }
      ]
    },
    {
      "cell_type": "markdown",
      "source": [
        "###Train-Test Splits\n",
        "\n",
        "> Splitting dataset into Train (80%) and Test (20%)"
      ],
      "metadata": {
        "id": "JddpVJT2P00b"
      }
    },
    {
      "cell_type": "code",
      "source": [
        "# Train Dataset\n",
        "train_dataset = dataset.sample(frac=0.8, random_state=1)"
      ],
      "metadata": {
        "id": "4KXlkDxaP5T7"
      },
      "execution_count": 13,
      "outputs": []
    },
    {
      "cell_type": "code",
      "source": [
        "train_dataset"
      ],
      "metadata": {
        "colab": {
          "base_uri": "https://localhost:8080/",
          "height": 424
        },
        "id": "qbW-MOL0QC5U",
        "outputId": "3115790a-d25a-4d48-de36-c5f0781cc910"
      },
      "execution_count": 17,
      "outputs": [
        {
          "output_type": "execute_result",
          "data": {
            "text/plain": [
              "     author                                            article\n",
              "91        2  [seemed, decided, accepted, almost, predestine...\n",
              "75        2  [lagging, loft, became, hot, issue, holyrood, ...\n",
              "1264     26  [reality, checks, come, different, shapes, pre...\n",
              "330       7  [girls, better, boys, schools, new, report, cl...\n",
              "1349     27  [study, published, ago, online, edition, journ...\n",
              "...     ...                                                ...\n",
              "652      14  [england, scared, slovakia, today, opponents, ...\n",
              "70        2  [captured, many, headlines, election, liberal,...\n",
              "610      13  [hope, springs, eternal, fans, baseball, unite...\n",
              "1174     24  [malignant, lymphomas, two, types, lymphoma, d...\n",
              "1440     29  [old, tale, little, kick, palate, bed, lead, f...\n",
              "\n",
              "[1200 rows x 2 columns]"
            ],
            "text/html": [
              "\n",
              "  <div id=\"df-44e972f2-2af1-4cbb-88bc-edbef1c98f18\" class=\"colab-df-container\">\n",
              "    <div>\n",
              "<style scoped>\n",
              "    .dataframe tbody tr th:only-of-type {\n",
              "        vertical-align: middle;\n",
              "    }\n",
              "\n",
              "    .dataframe tbody tr th {\n",
              "        vertical-align: top;\n",
              "    }\n",
              "\n",
              "    .dataframe thead th {\n",
              "        text-align: right;\n",
              "    }\n",
              "</style>\n",
              "<table border=\"1\" class=\"dataframe\">\n",
              "  <thead>\n",
              "    <tr style=\"text-align: right;\">\n",
              "      <th></th>\n",
              "      <th>author</th>\n",
              "      <th>article</th>\n",
              "    </tr>\n",
              "  </thead>\n",
              "  <tbody>\n",
              "    <tr>\n",
              "      <th>91</th>\n",
              "      <td>2</td>\n",
              "      <td>[seemed, decided, accepted, almost, predestine...</td>\n",
              "    </tr>\n",
              "    <tr>\n",
              "      <th>75</th>\n",
              "      <td>2</td>\n",
              "      <td>[lagging, loft, became, hot, issue, holyrood, ...</td>\n",
              "    </tr>\n",
              "    <tr>\n",
              "      <th>1264</th>\n",
              "      <td>26</td>\n",
              "      <td>[reality, checks, come, different, shapes, pre...</td>\n",
              "    </tr>\n",
              "    <tr>\n",
              "      <th>330</th>\n",
              "      <td>7</td>\n",
              "      <td>[girls, better, boys, schools, new, report, cl...</td>\n",
              "    </tr>\n",
              "    <tr>\n",
              "      <th>1349</th>\n",
              "      <td>27</td>\n",
              "      <td>[study, published, ago, online, edition, journ...</td>\n",
              "    </tr>\n",
              "    <tr>\n",
              "      <th>...</th>\n",
              "      <td>...</td>\n",
              "      <td>...</td>\n",
              "    </tr>\n",
              "    <tr>\n",
              "      <th>652</th>\n",
              "      <td>14</td>\n",
              "      <td>[england, scared, slovakia, today, opponents, ...</td>\n",
              "    </tr>\n",
              "    <tr>\n",
              "      <th>70</th>\n",
              "      <td>2</td>\n",
              "      <td>[captured, many, headlines, election, liberal,...</td>\n",
              "    </tr>\n",
              "    <tr>\n",
              "      <th>610</th>\n",
              "      <td>13</td>\n",
              "      <td>[hope, springs, eternal, fans, baseball, unite...</td>\n",
              "    </tr>\n",
              "    <tr>\n",
              "      <th>1174</th>\n",
              "      <td>24</td>\n",
              "      <td>[malignant, lymphomas, two, types, lymphoma, d...</td>\n",
              "    </tr>\n",
              "    <tr>\n",
              "      <th>1440</th>\n",
              "      <td>29</td>\n",
              "      <td>[old, tale, little, kick, palate, bed, lead, f...</td>\n",
              "    </tr>\n",
              "  </tbody>\n",
              "</table>\n",
              "<p>1200 rows × 2 columns</p>\n",
              "</div>\n",
              "    <div class=\"colab-df-buttons\">\n",
              "\n",
              "  <div class=\"colab-df-container\">\n",
              "    <button class=\"colab-df-convert\" onclick=\"convertToInteractive('df-44e972f2-2af1-4cbb-88bc-edbef1c98f18')\"\n",
              "            title=\"Convert this dataframe to an interactive table.\"\n",
              "            style=\"display:none;\">\n",
              "\n",
              "  <svg xmlns=\"http://www.w3.org/2000/svg\" height=\"24px\" viewBox=\"0 -960 960 960\">\n",
              "    <path d=\"M120-120v-720h720v720H120Zm60-500h600v-160H180v160Zm220 220h160v-160H400v160Zm0 220h160v-160H400v160ZM180-400h160v-160H180v160Zm440 0h160v-160H620v160ZM180-180h160v-160H180v160Zm440 0h160v-160H620v160Z\"/>\n",
              "  </svg>\n",
              "    </button>\n",
              "\n",
              "  <style>\n",
              "    .colab-df-container {\n",
              "      display:flex;\n",
              "      gap: 12px;\n",
              "    }\n",
              "\n",
              "    .colab-df-convert {\n",
              "      background-color: #E8F0FE;\n",
              "      border: none;\n",
              "      border-radius: 50%;\n",
              "      cursor: pointer;\n",
              "      display: none;\n",
              "      fill: #1967D2;\n",
              "      height: 32px;\n",
              "      padding: 0 0 0 0;\n",
              "      width: 32px;\n",
              "    }\n",
              "\n",
              "    .colab-df-convert:hover {\n",
              "      background-color: #E2EBFA;\n",
              "      box-shadow: 0px 1px 2px rgba(60, 64, 67, 0.3), 0px 1px 3px 1px rgba(60, 64, 67, 0.15);\n",
              "      fill: #174EA6;\n",
              "    }\n",
              "\n",
              "    .colab-df-buttons div {\n",
              "      margin-bottom: 4px;\n",
              "    }\n",
              "\n",
              "    [theme=dark] .colab-df-convert {\n",
              "      background-color: #3B4455;\n",
              "      fill: #D2E3FC;\n",
              "    }\n",
              "\n",
              "    [theme=dark] .colab-df-convert:hover {\n",
              "      background-color: #434B5C;\n",
              "      box-shadow: 0px 1px 3px 1px rgba(0, 0, 0, 0.15);\n",
              "      filter: drop-shadow(0px 1px 2px rgba(0, 0, 0, 0.3));\n",
              "      fill: #FFFFFF;\n",
              "    }\n",
              "  </style>\n",
              "\n",
              "    <script>\n",
              "      const buttonEl =\n",
              "        document.querySelector('#df-44e972f2-2af1-4cbb-88bc-edbef1c98f18 button.colab-df-convert');\n",
              "      buttonEl.style.display =\n",
              "        google.colab.kernel.accessAllowed ? 'block' : 'none';\n",
              "\n",
              "      async function convertToInteractive(key) {\n",
              "        const element = document.querySelector('#df-44e972f2-2af1-4cbb-88bc-edbef1c98f18');\n",
              "        const dataTable =\n",
              "          await google.colab.kernel.invokeFunction('convertToInteractive',\n",
              "                                                    [key], {});\n",
              "        if (!dataTable) return;\n",
              "\n",
              "        const docLinkHtml = 'Like what you see? Visit the ' +\n",
              "          '<a target=\"_blank\" href=https://colab.research.google.com/notebooks/data_table.ipynb>data table notebook</a>'\n",
              "          + ' to learn more about interactive tables.';\n",
              "        element.innerHTML = '';\n",
              "        dataTable['output_type'] = 'display_data';\n",
              "        await google.colab.output.renderOutput(dataTable, element);\n",
              "        const docLink = document.createElement('div');\n",
              "        docLink.innerHTML = docLinkHtml;\n",
              "        element.appendChild(docLink);\n",
              "      }\n",
              "    </script>\n",
              "  </div>\n",
              "\n",
              "\n",
              "<div id=\"df-bc4da05a-33cc-486c-ab7b-3a790b64239d\">\n",
              "  <button class=\"colab-df-quickchart\" onclick=\"quickchart('df-bc4da05a-33cc-486c-ab7b-3a790b64239d')\"\n",
              "            title=\"Suggest charts\"\n",
              "            style=\"display:none;\">\n",
              "\n",
              "<svg xmlns=\"http://www.w3.org/2000/svg\" height=\"24px\"viewBox=\"0 0 24 24\"\n",
              "     width=\"24px\">\n",
              "    <g>\n",
              "        <path d=\"M19 3H5c-1.1 0-2 .9-2 2v14c0 1.1.9 2 2 2h14c1.1 0 2-.9 2-2V5c0-1.1-.9-2-2-2zM9 17H7v-7h2v7zm4 0h-2V7h2v10zm4 0h-2v-4h2v4z\"/>\n",
              "    </g>\n",
              "</svg>\n",
              "  </button>\n",
              "\n",
              "<style>\n",
              "  .colab-df-quickchart {\n",
              "      --bg-color: #E8F0FE;\n",
              "      --fill-color: #1967D2;\n",
              "      --hover-bg-color: #E2EBFA;\n",
              "      --hover-fill-color: #174EA6;\n",
              "      --disabled-fill-color: #AAA;\n",
              "      --disabled-bg-color: #DDD;\n",
              "  }\n",
              "\n",
              "  [theme=dark] .colab-df-quickchart {\n",
              "      --bg-color: #3B4455;\n",
              "      --fill-color: #D2E3FC;\n",
              "      --hover-bg-color: #434B5C;\n",
              "      --hover-fill-color: #FFFFFF;\n",
              "      --disabled-bg-color: #3B4455;\n",
              "      --disabled-fill-color: #666;\n",
              "  }\n",
              "\n",
              "  .colab-df-quickchart {\n",
              "    background-color: var(--bg-color);\n",
              "    border: none;\n",
              "    border-radius: 50%;\n",
              "    cursor: pointer;\n",
              "    display: none;\n",
              "    fill: var(--fill-color);\n",
              "    height: 32px;\n",
              "    padding: 0;\n",
              "    width: 32px;\n",
              "  }\n",
              "\n",
              "  .colab-df-quickchart:hover {\n",
              "    background-color: var(--hover-bg-color);\n",
              "    box-shadow: 0 1px 2px rgba(60, 64, 67, 0.3), 0 1px 3px 1px rgba(60, 64, 67, 0.15);\n",
              "    fill: var(--button-hover-fill-color);\n",
              "  }\n",
              "\n",
              "  .colab-df-quickchart-complete:disabled,\n",
              "  .colab-df-quickchart-complete:disabled:hover {\n",
              "    background-color: var(--disabled-bg-color);\n",
              "    fill: var(--disabled-fill-color);\n",
              "    box-shadow: none;\n",
              "  }\n",
              "\n",
              "  .colab-df-spinner {\n",
              "    border: 2px solid var(--fill-color);\n",
              "    border-color: transparent;\n",
              "    border-bottom-color: var(--fill-color);\n",
              "    animation:\n",
              "      spin 1s steps(1) infinite;\n",
              "  }\n",
              "\n",
              "  @keyframes spin {\n",
              "    0% {\n",
              "      border-color: transparent;\n",
              "      border-bottom-color: var(--fill-color);\n",
              "      border-left-color: var(--fill-color);\n",
              "    }\n",
              "    20% {\n",
              "      border-color: transparent;\n",
              "      border-left-color: var(--fill-color);\n",
              "      border-top-color: var(--fill-color);\n",
              "    }\n",
              "    30% {\n",
              "      border-color: transparent;\n",
              "      border-left-color: var(--fill-color);\n",
              "      border-top-color: var(--fill-color);\n",
              "      border-right-color: var(--fill-color);\n",
              "    }\n",
              "    40% {\n",
              "      border-color: transparent;\n",
              "      border-right-color: var(--fill-color);\n",
              "      border-top-color: var(--fill-color);\n",
              "    }\n",
              "    60% {\n",
              "      border-color: transparent;\n",
              "      border-right-color: var(--fill-color);\n",
              "    }\n",
              "    80% {\n",
              "      border-color: transparent;\n",
              "      border-right-color: var(--fill-color);\n",
              "      border-bottom-color: var(--fill-color);\n",
              "    }\n",
              "    90% {\n",
              "      border-color: transparent;\n",
              "      border-bottom-color: var(--fill-color);\n",
              "    }\n",
              "  }\n",
              "</style>\n",
              "\n",
              "  <script>\n",
              "    async function quickchart(key) {\n",
              "      const quickchartButtonEl =\n",
              "        document.querySelector('#' + key + ' button');\n",
              "      quickchartButtonEl.disabled = true;  // To prevent multiple clicks.\n",
              "      quickchartButtonEl.classList.add('colab-df-spinner');\n",
              "      try {\n",
              "        const charts = await google.colab.kernel.invokeFunction(\n",
              "            'suggestCharts', [key], {});\n",
              "      } catch (error) {\n",
              "        console.error('Error during call to suggestCharts:', error);\n",
              "      }\n",
              "      quickchartButtonEl.classList.remove('colab-df-spinner');\n",
              "      quickchartButtonEl.classList.add('colab-df-quickchart-complete');\n",
              "    }\n",
              "    (() => {\n",
              "      let quickchartButtonEl =\n",
              "        document.querySelector('#df-bc4da05a-33cc-486c-ab7b-3a790b64239d button');\n",
              "      quickchartButtonEl.style.display =\n",
              "        google.colab.kernel.accessAllowed ? 'block' : 'none';\n",
              "    })();\n",
              "  </script>\n",
              "</div>\n",
              "\n",
              "  <div id=\"id_eded03e3-9a0c-4524-aaef-7106fa0bb612\">\n",
              "    <style>\n",
              "      .colab-df-generate {\n",
              "        background-color: #E8F0FE;\n",
              "        border: none;\n",
              "        border-radius: 50%;\n",
              "        cursor: pointer;\n",
              "        display: none;\n",
              "        fill: #1967D2;\n",
              "        height: 32px;\n",
              "        padding: 0 0 0 0;\n",
              "        width: 32px;\n",
              "      }\n",
              "\n",
              "      .colab-df-generate:hover {\n",
              "        background-color: #E2EBFA;\n",
              "        box-shadow: 0px 1px 2px rgba(60, 64, 67, 0.3), 0px 1px 3px 1px rgba(60, 64, 67, 0.15);\n",
              "        fill: #174EA6;\n",
              "      }\n",
              "\n",
              "      [theme=dark] .colab-df-generate {\n",
              "        background-color: #3B4455;\n",
              "        fill: #D2E3FC;\n",
              "      }\n",
              "\n",
              "      [theme=dark] .colab-df-generate:hover {\n",
              "        background-color: #434B5C;\n",
              "        box-shadow: 0px 1px 3px 1px rgba(0, 0, 0, 0.15);\n",
              "        filter: drop-shadow(0px 1px 2px rgba(0, 0, 0, 0.3));\n",
              "        fill: #FFFFFF;\n",
              "      }\n",
              "    </style>\n",
              "    <button class=\"colab-df-generate\" onclick=\"generateWithVariable('train_dataset')\"\n",
              "            title=\"Generate code using this dataframe.\"\n",
              "            style=\"display:none;\">\n",
              "\n",
              "  <svg xmlns=\"http://www.w3.org/2000/svg\" height=\"24px\"viewBox=\"0 0 24 24\"\n",
              "       width=\"24px\">\n",
              "    <path d=\"M7,19H8.4L18.45,9,17,7.55,7,17.6ZM5,21V16.75L18.45,3.32a2,2,0,0,1,2.83,0l1.4,1.43a1.91,1.91,0,0,1,.58,1.4,1.91,1.91,0,0,1-.58,1.4L9.25,21ZM18.45,9,17,7.55Zm-12,3A5.31,5.31,0,0,0,4.9,8.1,5.31,5.31,0,0,0,1,6.5,5.31,5.31,0,0,0,4.9,4.9,5.31,5.31,0,0,0,6.5,1,5.31,5.31,0,0,0,8.1,4.9,5.31,5.31,0,0,0,12,6.5,5.46,5.46,0,0,0,6.5,12Z\"/>\n",
              "  </svg>\n",
              "    </button>\n",
              "    <script>\n",
              "      (() => {\n",
              "      const buttonEl =\n",
              "        document.querySelector('#id_eded03e3-9a0c-4524-aaef-7106fa0bb612 button.colab-df-generate');\n",
              "      buttonEl.style.display =\n",
              "        google.colab.kernel.accessAllowed ? 'block' : 'none';\n",
              "\n",
              "      buttonEl.onclick = () => {\n",
              "        google.colab.notebook.generateWithVariable('train_dataset');\n",
              "      }\n",
              "      })();\n",
              "    </script>\n",
              "  </div>\n",
              "\n",
              "    </div>\n",
              "  </div>\n"
            ],
            "application/vnd.google.colaboratory.intrinsic+json": {
              "type": "dataframe",
              "variable_name": "train_dataset",
              "repr_error": "unhashable type: 'list'"
            }
          },
          "metadata": {},
          "execution_count": 17
        }
      ]
    },
    {
      "cell_type": "code",
      "source": [
        "len(train_dataset)"
      ],
      "metadata": {
        "colab": {
          "base_uri": "https://localhost:8080/"
        },
        "id": "kJP7cwFwQJmf",
        "outputId": "7567ec87-d720-457a-a246-8312c86b39c5"
      },
      "execution_count": 15,
      "outputs": [
        {
          "output_type": "execute_result",
          "data": {
            "text/plain": [
              "1200"
            ]
          },
          "metadata": {},
          "execution_count": 15
        }
      ]
    },
    {
      "cell_type": "code",
      "source": [
        "train_dataset[\"author\"].value_counts()"
      ],
      "metadata": {
        "colab": {
          "base_uri": "https://localhost:8080/"
        },
        "id": "_gIU0GzqQLQH",
        "outputId": "b3aa6661-d351-464a-e624-5b1ee6729d20"
      },
      "execution_count": 16,
      "outputs": [
        {
          "output_type": "execute_result",
          "data": {
            "text/plain": [
              "23    46\n",
              "2     44\n",
              "8     44\n",
              "16    44\n",
              "7     43\n",
              "1     43\n",
              "17    42\n",
              "6     42\n",
              "21    41\n",
              "12    41\n",
              "19    41\n",
              "5     41\n",
              "26    41\n",
              "11    40\n",
              "20    40\n",
              "18    40\n",
              "30    40\n",
              "25    40\n",
              "14    40\n",
              "9     39\n",
              "3     39\n",
              "24    39\n",
              "4     38\n",
              "22    38\n",
              "15    38\n",
              "29    37\n",
              "10    36\n",
              "27    36\n",
              "13    36\n",
              "28    31\n",
              "Name: author, dtype: int64"
            ]
          },
          "metadata": {},
          "execution_count": 16
        }
      ]
    },
    {
      "cell_type": "code",
      "source": [
        "# Test Dataset\n",
        "test_dataset = dataset.drop(train_dataset.index)"
      ],
      "metadata": {
        "id": "yoYuZHKuQYS3"
      },
      "execution_count": 18,
      "outputs": []
    },
    {
      "cell_type": "code",
      "source": [
        "test_dataset"
      ],
      "metadata": {
        "colab": {
          "base_uri": "https://localhost:8080/",
          "height": 424
        },
        "id": "I-kVolpVQgWz",
        "outputId": "a708c711-ace9-42dd-aca3-a8abbcc92886"
      },
      "execution_count": 19,
      "outputs": [
        {
          "output_type": "execute_result",
          "data": {
            "text/plain": [
              "     author                                            article\n",
              "15        1  [second, week, ask, alex, salmond, put, first,...\n",
              "20        1  [liberal, snp, councillors, wakening, idea, to...\n",
              "21        1  [ronnie, reagan, tony, blair, seems, first, mi...\n",
              "24        1  [joke, often, find, written, toilet, walls, pr...\n",
              "25        1  [united, kingdom, need, natural, resources, cr...\n",
              "...     ...                                                ...\n",
              "1478     30  [volkswagen, returning, western, pennsylvania,...\n",
              "1485     30  [let, hope, tribune, co, iceberg, tip, iceberg...\n",
              "1495     30  [remember, plugging, car, night, full, tank, m...\n",
              "1498     30  [two, cheers, neighborhood, agreement, bring, ...\n",
              "1499     30  [thanksgiving, day, one, table, talking, thank...\n",
              "\n",
              "[300 rows x 2 columns]"
            ],
            "text/html": [
              "\n",
              "  <div id=\"df-89812422-9dff-41ce-91f5-72b6628d1012\" class=\"colab-df-container\">\n",
              "    <div>\n",
              "<style scoped>\n",
              "    .dataframe tbody tr th:only-of-type {\n",
              "        vertical-align: middle;\n",
              "    }\n",
              "\n",
              "    .dataframe tbody tr th {\n",
              "        vertical-align: top;\n",
              "    }\n",
              "\n",
              "    .dataframe thead th {\n",
              "        text-align: right;\n",
              "    }\n",
              "</style>\n",
              "<table border=\"1\" class=\"dataframe\">\n",
              "  <thead>\n",
              "    <tr style=\"text-align: right;\">\n",
              "      <th></th>\n",
              "      <th>author</th>\n",
              "      <th>article</th>\n",
              "    </tr>\n",
              "  </thead>\n",
              "  <tbody>\n",
              "    <tr>\n",
              "      <th>15</th>\n",
              "      <td>1</td>\n",
              "      <td>[second, week, ask, alex, salmond, put, first,...</td>\n",
              "    </tr>\n",
              "    <tr>\n",
              "      <th>20</th>\n",
              "      <td>1</td>\n",
              "      <td>[liberal, snp, councillors, wakening, idea, to...</td>\n",
              "    </tr>\n",
              "    <tr>\n",
              "      <th>21</th>\n",
              "      <td>1</td>\n",
              "      <td>[ronnie, reagan, tony, blair, seems, first, mi...</td>\n",
              "    </tr>\n",
              "    <tr>\n",
              "      <th>24</th>\n",
              "      <td>1</td>\n",
              "      <td>[joke, often, find, written, toilet, walls, pr...</td>\n",
              "    </tr>\n",
              "    <tr>\n",
              "      <th>25</th>\n",
              "      <td>1</td>\n",
              "      <td>[united, kingdom, need, natural, resources, cr...</td>\n",
              "    </tr>\n",
              "    <tr>\n",
              "      <th>...</th>\n",
              "      <td>...</td>\n",
              "      <td>...</td>\n",
              "    </tr>\n",
              "    <tr>\n",
              "      <th>1478</th>\n",
              "      <td>30</td>\n",
              "      <td>[volkswagen, returning, western, pennsylvania,...</td>\n",
              "    </tr>\n",
              "    <tr>\n",
              "      <th>1485</th>\n",
              "      <td>30</td>\n",
              "      <td>[let, hope, tribune, co, iceberg, tip, iceberg...</td>\n",
              "    </tr>\n",
              "    <tr>\n",
              "      <th>1495</th>\n",
              "      <td>30</td>\n",
              "      <td>[remember, plugging, car, night, full, tank, m...</td>\n",
              "    </tr>\n",
              "    <tr>\n",
              "      <th>1498</th>\n",
              "      <td>30</td>\n",
              "      <td>[two, cheers, neighborhood, agreement, bring, ...</td>\n",
              "    </tr>\n",
              "    <tr>\n",
              "      <th>1499</th>\n",
              "      <td>30</td>\n",
              "      <td>[thanksgiving, day, one, table, talking, thank...</td>\n",
              "    </tr>\n",
              "  </tbody>\n",
              "</table>\n",
              "<p>300 rows × 2 columns</p>\n",
              "</div>\n",
              "    <div class=\"colab-df-buttons\">\n",
              "\n",
              "  <div class=\"colab-df-container\">\n",
              "    <button class=\"colab-df-convert\" onclick=\"convertToInteractive('df-89812422-9dff-41ce-91f5-72b6628d1012')\"\n",
              "            title=\"Convert this dataframe to an interactive table.\"\n",
              "            style=\"display:none;\">\n",
              "\n",
              "  <svg xmlns=\"http://www.w3.org/2000/svg\" height=\"24px\" viewBox=\"0 -960 960 960\">\n",
              "    <path d=\"M120-120v-720h720v720H120Zm60-500h600v-160H180v160Zm220 220h160v-160H400v160Zm0 220h160v-160H400v160ZM180-400h160v-160H180v160Zm440 0h160v-160H620v160ZM180-180h160v-160H180v160Zm440 0h160v-160H620v160Z\"/>\n",
              "  </svg>\n",
              "    </button>\n",
              "\n",
              "  <style>\n",
              "    .colab-df-container {\n",
              "      display:flex;\n",
              "      gap: 12px;\n",
              "    }\n",
              "\n",
              "    .colab-df-convert {\n",
              "      background-color: #E8F0FE;\n",
              "      border: none;\n",
              "      border-radius: 50%;\n",
              "      cursor: pointer;\n",
              "      display: none;\n",
              "      fill: #1967D2;\n",
              "      height: 32px;\n",
              "      padding: 0 0 0 0;\n",
              "      width: 32px;\n",
              "    }\n",
              "\n",
              "    .colab-df-convert:hover {\n",
              "      background-color: #E2EBFA;\n",
              "      box-shadow: 0px 1px 2px rgba(60, 64, 67, 0.3), 0px 1px 3px 1px rgba(60, 64, 67, 0.15);\n",
              "      fill: #174EA6;\n",
              "    }\n",
              "\n",
              "    .colab-df-buttons div {\n",
              "      margin-bottom: 4px;\n",
              "    }\n",
              "\n",
              "    [theme=dark] .colab-df-convert {\n",
              "      background-color: #3B4455;\n",
              "      fill: #D2E3FC;\n",
              "    }\n",
              "\n",
              "    [theme=dark] .colab-df-convert:hover {\n",
              "      background-color: #434B5C;\n",
              "      box-shadow: 0px 1px 3px 1px rgba(0, 0, 0, 0.15);\n",
              "      filter: drop-shadow(0px 1px 2px rgba(0, 0, 0, 0.3));\n",
              "      fill: #FFFFFF;\n",
              "    }\n",
              "  </style>\n",
              "\n",
              "    <script>\n",
              "      const buttonEl =\n",
              "        document.querySelector('#df-89812422-9dff-41ce-91f5-72b6628d1012 button.colab-df-convert');\n",
              "      buttonEl.style.display =\n",
              "        google.colab.kernel.accessAllowed ? 'block' : 'none';\n",
              "\n",
              "      async function convertToInteractive(key) {\n",
              "        const element = document.querySelector('#df-89812422-9dff-41ce-91f5-72b6628d1012');\n",
              "        const dataTable =\n",
              "          await google.colab.kernel.invokeFunction('convertToInteractive',\n",
              "                                                    [key], {});\n",
              "        if (!dataTable) return;\n",
              "\n",
              "        const docLinkHtml = 'Like what you see? Visit the ' +\n",
              "          '<a target=\"_blank\" href=https://colab.research.google.com/notebooks/data_table.ipynb>data table notebook</a>'\n",
              "          + ' to learn more about interactive tables.';\n",
              "        element.innerHTML = '';\n",
              "        dataTable['output_type'] = 'display_data';\n",
              "        await google.colab.output.renderOutput(dataTable, element);\n",
              "        const docLink = document.createElement('div');\n",
              "        docLink.innerHTML = docLinkHtml;\n",
              "        element.appendChild(docLink);\n",
              "      }\n",
              "    </script>\n",
              "  </div>\n",
              "\n",
              "\n",
              "<div id=\"df-197cfe1e-1e82-4567-bfea-99ae54e0088a\">\n",
              "  <button class=\"colab-df-quickchart\" onclick=\"quickchart('df-197cfe1e-1e82-4567-bfea-99ae54e0088a')\"\n",
              "            title=\"Suggest charts\"\n",
              "            style=\"display:none;\">\n",
              "\n",
              "<svg xmlns=\"http://www.w3.org/2000/svg\" height=\"24px\"viewBox=\"0 0 24 24\"\n",
              "     width=\"24px\">\n",
              "    <g>\n",
              "        <path d=\"M19 3H5c-1.1 0-2 .9-2 2v14c0 1.1.9 2 2 2h14c1.1 0 2-.9 2-2V5c0-1.1-.9-2-2-2zM9 17H7v-7h2v7zm4 0h-2V7h2v10zm4 0h-2v-4h2v4z\"/>\n",
              "    </g>\n",
              "</svg>\n",
              "  </button>\n",
              "\n",
              "<style>\n",
              "  .colab-df-quickchart {\n",
              "      --bg-color: #E8F0FE;\n",
              "      --fill-color: #1967D2;\n",
              "      --hover-bg-color: #E2EBFA;\n",
              "      --hover-fill-color: #174EA6;\n",
              "      --disabled-fill-color: #AAA;\n",
              "      --disabled-bg-color: #DDD;\n",
              "  }\n",
              "\n",
              "  [theme=dark] .colab-df-quickchart {\n",
              "      --bg-color: #3B4455;\n",
              "      --fill-color: #D2E3FC;\n",
              "      --hover-bg-color: #434B5C;\n",
              "      --hover-fill-color: #FFFFFF;\n",
              "      --disabled-bg-color: #3B4455;\n",
              "      --disabled-fill-color: #666;\n",
              "  }\n",
              "\n",
              "  .colab-df-quickchart {\n",
              "    background-color: var(--bg-color);\n",
              "    border: none;\n",
              "    border-radius: 50%;\n",
              "    cursor: pointer;\n",
              "    display: none;\n",
              "    fill: var(--fill-color);\n",
              "    height: 32px;\n",
              "    padding: 0;\n",
              "    width: 32px;\n",
              "  }\n",
              "\n",
              "  .colab-df-quickchart:hover {\n",
              "    background-color: var(--hover-bg-color);\n",
              "    box-shadow: 0 1px 2px rgba(60, 64, 67, 0.3), 0 1px 3px 1px rgba(60, 64, 67, 0.15);\n",
              "    fill: var(--button-hover-fill-color);\n",
              "  }\n",
              "\n",
              "  .colab-df-quickchart-complete:disabled,\n",
              "  .colab-df-quickchart-complete:disabled:hover {\n",
              "    background-color: var(--disabled-bg-color);\n",
              "    fill: var(--disabled-fill-color);\n",
              "    box-shadow: none;\n",
              "  }\n",
              "\n",
              "  .colab-df-spinner {\n",
              "    border: 2px solid var(--fill-color);\n",
              "    border-color: transparent;\n",
              "    border-bottom-color: var(--fill-color);\n",
              "    animation:\n",
              "      spin 1s steps(1) infinite;\n",
              "  }\n",
              "\n",
              "  @keyframes spin {\n",
              "    0% {\n",
              "      border-color: transparent;\n",
              "      border-bottom-color: var(--fill-color);\n",
              "      border-left-color: var(--fill-color);\n",
              "    }\n",
              "    20% {\n",
              "      border-color: transparent;\n",
              "      border-left-color: var(--fill-color);\n",
              "      border-top-color: var(--fill-color);\n",
              "    }\n",
              "    30% {\n",
              "      border-color: transparent;\n",
              "      border-left-color: var(--fill-color);\n",
              "      border-top-color: var(--fill-color);\n",
              "      border-right-color: var(--fill-color);\n",
              "    }\n",
              "    40% {\n",
              "      border-color: transparent;\n",
              "      border-right-color: var(--fill-color);\n",
              "      border-top-color: var(--fill-color);\n",
              "    }\n",
              "    60% {\n",
              "      border-color: transparent;\n",
              "      border-right-color: var(--fill-color);\n",
              "    }\n",
              "    80% {\n",
              "      border-color: transparent;\n",
              "      border-right-color: var(--fill-color);\n",
              "      border-bottom-color: var(--fill-color);\n",
              "    }\n",
              "    90% {\n",
              "      border-color: transparent;\n",
              "      border-bottom-color: var(--fill-color);\n",
              "    }\n",
              "  }\n",
              "</style>\n",
              "\n",
              "  <script>\n",
              "    async function quickchart(key) {\n",
              "      const quickchartButtonEl =\n",
              "        document.querySelector('#' + key + ' button');\n",
              "      quickchartButtonEl.disabled = true;  // To prevent multiple clicks.\n",
              "      quickchartButtonEl.classList.add('colab-df-spinner');\n",
              "      try {\n",
              "        const charts = await google.colab.kernel.invokeFunction(\n",
              "            'suggestCharts', [key], {});\n",
              "      } catch (error) {\n",
              "        console.error('Error during call to suggestCharts:', error);\n",
              "      }\n",
              "      quickchartButtonEl.classList.remove('colab-df-spinner');\n",
              "      quickchartButtonEl.classList.add('colab-df-quickchart-complete');\n",
              "    }\n",
              "    (() => {\n",
              "      let quickchartButtonEl =\n",
              "        document.querySelector('#df-197cfe1e-1e82-4567-bfea-99ae54e0088a button');\n",
              "      quickchartButtonEl.style.display =\n",
              "        google.colab.kernel.accessAllowed ? 'block' : 'none';\n",
              "    })();\n",
              "  </script>\n",
              "</div>\n",
              "\n",
              "  <div id=\"id_abcfbcce-cc79-47d5-9fcb-de20a8a068a9\">\n",
              "    <style>\n",
              "      .colab-df-generate {\n",
              "        background-color: #E8F0FE;\n",
              "        border: none;\n",
              "        border-radius: 50%;\n",
              "        cursor: pointer;\n",
              "        display: none;\n",
              "        fill: #1967D2;\n",
              "        height: 32px;\n",
              "        padding: 0 0 0 0;\n",
              "        width: 32px;\n",
              "      }\n",
              "\n",
              "      .colab-df-generate:hover {\n",
              "        background-color: #E2EBFA;\n",
              "        box-shadow: 0px 1px 2px rgba(60, 64, 67, 0.3), 0px 1px 3px 1px rgba(60, 64, 67, 0.15);\n",
              "        fill: #174EA6;\n",
              "      }\n",
              "\n",
              "      [theme=dark] .colab-df-generate {\n",
              "        background-color: #3B4455;\n",
              "        fill: #D2E3FC;\n",
              "      }\n",
              "\n",
              "      [theme=dark] .colab-df-generate:hover {\n",
              "        background-color: #434B5C;\n",
              "        box-shadow: 0px 1px 3px 1px rgba(0, 0, 0, 0.15);\n",
              "        filter: drop-shadow(0px 1px 2px rgba(0, 0, 0, 0.3));\n",
              "        fill: #FFFFFF;\n",
              "      }\n",
              "    </style>\n",
              "    <button class=\"colab-df-generate\" onclick=\"generateWithVariable('test_dataset')\"\n",
              "            title=\"Generate code using this dataframe.\"\n",
              "            style=\"display:none;\">\n",
              "\n",
              "  <svg xmlns=\"http://www.w3.org/2000/svg\" height=\"24px\"viewBox=\"0 0 24 24\"\n",
              "       width=\"24px\">\n",
              "    <path d=\"M7,19H8.4L18.45,9,17,7.55,7,17.6ZM5,21V16.75L18.45,3.32a2,2,0,0,1,2.83,0l1.4,1.43a1.91,1.91,0,0,1,.58,1.4,1.91,1.91,0,0,1-.58,1.4L9.25,21ZM18.45,9,17,7.55Zm-12,3A5.31,5.31,0,0,0,4.9,8.1,5.31,5.31,0,0,0,1,6.5,5.31,5.31,0,0,0,4.9,4.9,5.31,5.31,0,0,0,6.5,1,5.31,5.31,0,0,0,8.1,4.9,5.31,5.31,0,0,0,12,6.5,5.46,5.46,0,0,0,6.5,12Z\"/>\n",
              "  </svg>\n",
              "    </button>\n",
              "    <script>\n",
              "      (() => {\n",
              "      const buttonEl =\n",
              "        document.querySelector('#id_abcfbcce-cc79-47d5-9fcb-de20a8a068a9 button.colab-df-generate');\n",
              "      buttonEl.style.display =\n",
              "        google.colab.kernel.accessAllowed ? 'block' : 'none';\n",
              "\n",
              "      buttonEl.onclick = () => {\n",
              "        google.colab.notebook.generateWithVariable('test_dataset');\n",
              "      }\n",
              "      })();\n",
              "    </script>\n",
              "  </div>\n",
              "\n",
              "    </div>\n",
              "  </div>\n"
            ],
            "application/vnd.google.colaboratory.intrinsic+json": {
              "type": "dataframe",
              "variable_name": "test_dataset",
              "repr_error": "unhashable type: 'list'"
            }
          },
          "metadata": {},
          "execution_count": 19
        }
      ]
    },
    {
      "cell_type": "code",
      "source": [
        "len(test_dataset)"
      ],
      "metadata": {
        "colab": {
          "base_uri": "https://localhost:8080/"
        },
        "id": "TnKsWIR5QfqP",
        "outputId": "fa994da7-61a7-49b5-aecc-6e8110af8c8a"
      },
      "execution_count": 20,
      "outputs": [
        {
          "output_type": "execute_result",
          "data": {
            "text/plain": [
              "300"
            ]
          },
          "metadata": {},
          "execution_count": 20
        }
      ]
    },
    {
      "cell_type": "code",
      "source": [
        "test_dataset[\"author\"].value_counts()"
      ],
      "metadata": {
        "colab": {
          "base_uri": "https://localhost:8080/"
        },
        "id": "NhRxalAjTISe",
        "outputId": "c694e65e-5420-40dd-db73-e2dce39fd52c"
      },
      "execution_count": 21,
      "outputs": [
        {
          "output_type": "execute_result",
          "data": {
            "text/plain": [
              "28    19\n",
              "13    14\n",
              "10    14\n",
              "27    14\n",
              "29    13\n",
              "22    12\n",
              "4     12\n",
              "15    12\n",
              "24    11\n",
              "9     11\n",
              "3     11\n",
              "11    10\n",
              "25    10\n",
              "14    10\n",
              "18    10\n",
              "20    10\n",
              "30    10\n",
              "12     9\n",
              "5      9\n",
              "19     9\n",
              "21     9\n",
              "26     9\n",
              "6      8\n",
              "17     8\n",
              "1      7\n",
              "7      7\n",
              "2      6\n",
              "8      6\n",
              "16     6\n",
              "23     4\n",
              "Name: author, dtype: int64"
            ]
          },
          "metadata": {},
          "execution_count": 21
        }
      ]
    },
    {
      "cell_type": "markdown",
      "source": [
        "###Build Vocabulary"
      ],
      "metadata": {
        "id": "MLrVCwy6TSde"
      }
    },
    {
      "cell_type": "code",
      "source": [
        "total_tokens = 0\n",
        "token_set = set()\n",
        "for _, tokens in train_dataset[\"article\"].items():\n",
        "  total_tokens += len(tokens)\n",
        "  for token in tokens:\n",
        "    token_set.add(token)\n",
        "\n",
        "# Add <UNKNOWN> to token set for occurence of words that are not in corpus.\n",
        "token_set.add(\"<UNKNOWN>\")"
      ],
      "metadata": {
        "id": "osGGN3GwTVS8"
      },
      "execution_count": 22,
      "outputs": []
    },
    {
      "cell_type": "code",
      "source": [
        "print(f\"Corpus size: {total_tokens}, Vocabulary size: {len(token_set)}\\n\")\n",
        "print(\"First 10 tokens:\")\n",
        "i = 0\n",
        "for token in token_set:\n",
        "  if i >= 10:\n",
        "    break\n",
        "  print(token)\n",
        "  i += 1"
      ],
      "metadata": {
        "colab": {
          "base_uri": "https://localhost:8080/"
        },
        "id": "MtTxOYbTT23Z",
        "outputId": "be7b1002-94e2-4bb2-c387-c633ebe24c23"
      },
      "execution_count": 23,
      "outputs": [
        {
          "output_type": "stream",
          "name": "stdout",
          "text": [
            "Corpus size: 450403, Vocabulary size: 32296\n",
            "\n",
            "First 10 tokens:\n",
            "disincentive\n",
            "wolves\n",
            "bounding\n",
            "paterson\n",
            "speechwriter\n",
            "baptisms\n",
            "moaner\n",
            "powell\n",
            "excreted\n",
            "sending\n"
          ]
        }
      ]
    },
    {
      "cell_type": "markdown",
      "source": [
        "###Vectorization\n"
      ],
      "metadata": {
        "id": "XYBOkCR0UGHP"
      }
    },
    {
      "cell_type": "code",
      "source": [
        "# term to index mapping\n",
        "term2idx = {}\n",
        "for idx, term in enumerate(token_set):\n",
        "  term2idx.update({term:idx})"
      ],
      "metadata": {
        "id": "Z7xwCm1fUIeo"
      },
      "execution_count": 24,
      "outputs": []
    },
    {
      "cell_type": "code",
      "source": [
        "print(f\"Size: {len(term2idx)}\\n\\nTerms and Indexes:\")\n",
        "i = 0\n",
        "for key in term2idx:\n",
        "  if i >= 10:\n",
        "    break\n",
        "  print(f\"{key}: {term2idx[key]}\")\n",
        "  i += 1"
      ],
      "metadata": {
        "id": "UBtnQ-SKUcRC",
        "colab": {
          "base_uri": "https://localhost:8080/"
        },
        "outputId": "7463cbb4-531f-4a53-ed6b-982257740b3f"
      },
      "execution_count": 25,
      "outputs": [
        {
          "output_type": "stream",
          "name": "stdout",
          "text": [
            "Size: 32296\n",
            "\n",
            "Terms and Indexes:\n",
            "disincentive: 0\n",
            "wolves: 1\n",
            "bounding: 2\n",
            "paterson: 3\n",
            "speechwriter: 4\n",
            "baptisms: 5\n",
            "moaner: 6\n",
            "powell: 7\n",
            "excreted: 8\n",
            "sending: 9\n"
          ]
        }
      ]
    },
    {
      "cell_type": "code",
      "source": [
        "# Document vectors of Train Set\n",
        "train_vector_df = None\n",
        "vocab_size = len(token_set)\n",
        "article_vectors = []\n",
        "for _, row in train_dataset.iterrows():\n",
        "  vector = [0] * vocab_size\n",
        "  for token in row[\"article\"]:\n",
        "    vector[term2idx[token]] += 1\n",
        "  article_vectors.append([row[\"author\"], vector])\n",
        "\n",
        "train_vector_df = pd.DataFrame(article_vectors, columns=[\"author\", \"vector\"])"
      ],
      "metadata": {
        "id": "Hy4_Fpd1VDim"
      },
      "execution_count": 26,
      "outputs": []
    },
    {
      "cell_type": "markdown",
      "source": [
        "###Model Training"
      ],
      "metadata": {
        "id": "jlSBpsizWDAo"
      }
    },
    {
      "cell_type": "code",
      "source": [
        "import numpy as np\n",
        "\n",
        "author_vectors = {}\n",
        "for author in authors:\n",
        "  author_vectors.update({author:np.array([0] * vocab_size)})\n",
        "\n",
        "for _, row in train_vector_df.iterrows():\n",
        "  vector = np.array(row[\"vector\"])\n",
        "  author_vectors[row[\"author\"]] += vector"
      ],
      "metadata": {
        "id": "k-Ot0o_QWF_y"
      },
      "execution_count": 27,
      "outputs": []
    },
    {
      "cell_type": "code",
      "source": [
        "# First 35 element of each author's vector\n",
        "for author in authors:\n",
        "  print(f\"Author {author}: {author_vectors[author][:35]}\\n\")"
      ],
      "metadata": {
        "id": "ZNev5qYpczpn",
        "colab": {
          "base_uri": "https://localhost:8080/"
        },
        "outputId": "699b4d48-468e-4f85-c107-fabc22ab846a"
      },
      "execution_count": 28,
      "outputs": [
        {
          "output_type": "stream",
          "name": "stdout",
          "text": [
            "Author 1: [0 0 0 0 1 0 0 0 0 0 0 0 0 0 0 0 1 0 0 0 0 0 0 1 0 1 0 0 0 0 0 0 0 0 0]\n",
            "\n",
            "Author 2: [0 0 0 0 0 0 0 0 0 3 0 0 0 0 0 0 0 0 0 0 0 0 0 0 0 3 0 0 0 0 0 0 0 0 0]\n",
            "\n",
            "Author 3: [0 0 0 0 0 0 0 0 0 1 0 0 0 0 0 0 0 0 0 0 0 0 0 0 1 1 0 0 0 0 0 0 0 0 0]\n",
            "\n",
            "Author 4: [1 0 0 0 0 0 0 0 0 1 0 0 0 0 0 0 0 0 0 0 0 1 0 0 2 5 0 0 0 0 0 0 0 0 0]\n",
            "\n",
            "Author 5: [0 2 0 0 0 0 0 0 0 2 0 0 0 0 0 0 0 0 0 0 0 0 0 0 0 2 0 0 0 0 1 0 0 0 0]\n",
            "\n",
            "Author 6: [0 0 0 0 0 0 0 0 0 0 0 0 0 0 0 0 0 0 0 0 0 0 0 0 0 0 0 0 0 0 0 0 0 0 0]\n",
            "\n",
            "Author 7: [0 0 0 0 0 0 0 2 0 0 0 0 0 0 1 1 0 0 0 0 1 0 0 0 2 1 0 0 0 0 0 1 0 0 0]\n",
            "\n",
            "Author 8: [0 0 1 0 0 1 0 0 0 2 0 0 0 0 0 0 0 0 0 0 0 1 0 0 1 2 0 0 0 0 1 0 0 0 0]\n",
            "\n",
            "Author 9: [ 0  0  0  0  0  0  0  0  0  0  0  0  0 21  0  0  0  0  0  0  0  0  0  0\n",
            "  0  0  0  0  0  0  0  0  0  0  0]\n",
            "\n",
            "Author 10: [0 0 0 0 0 0 0 1 0 2 0 1 0 0 0 0 0 0 0 0 0 0 0 0 0 4 0 0 0 0 0 0 0 0 0]\n",
            "\n",
            "Author 11: [0 0 0 0 0 0 0 0 1 0 0 0 0 0 0 0 0 0 0 0 0 0 0 0 0 0 0 0 0 0 0 0 0 0 0]\n",
            "\n",
            "Author 12: [0 0 0 2 0 0 1 0 0 5 0 0 0 0 0 0 0 0 0 1 0 0 0 0 1 7 0 0 0 0 0 0 0 0 0]\n",
            "\n",
            "Author 13: [0 0 0 0 0 0 0 0 0 0 1 0 0 0 0 0 0 1 0 0 0 0 0 0 0 1 0 0 0 0 0 0 1 1 0]\n",
            "\n",
            "Author 14: [0 2 0 0 0 0 0 0 0 0 0 0 0 0 0 0 0 0 0 0 0 0 0 0 0 1 0 0 0 1 0 0 0 0 0]\n",
            "\n",
            "Author 15: [0 0 0 1 0 0 0 0 0 0 0 0 0 0 0 0 0 0 0 0 0 0 0 0 2 1 0 0 0 0 0 0 0 1 0]\n",
            "\n",
            "Author 16: [0 0 0 0 0 0 0 0 0 0 0 0 1 6 0 0 0 1 1 0 0 0 0 0 1 2 2 0 0 0 0 0 0 0 0]\n",
            "\n",
            "Author 17: [0 0 0 0 0 0 0 0 0 0 0 0 0 0 0 0 0 0 0 0 0 0 0 0 1 0 0 0 0 0 0 0 0 0 0]\n",
            "\n",
            "Author 18: [0 0 0 0 0 0 0 0 0 1 0 0 0 0 0 0 0 0 0 0 0 0 0 0 0 0 0 0 0 0 0 0 0 0 0]\n",
            "\n",
            "Author 19: [0 0 0 0 0 0 0 0 0 2 0 0 0 0 0 0 0 0 0 0 0 0 0 0 1 1 0 0 0 0 0 0 0 0 0]\n",
            "\n",
            "Author 20: [0 0 0 0 0 0 0 0 0 0 0 0 0 0 0 0 0 0 0 0 0 0 0 0 3 1 0 0 0 0 0 0 0 0 0]\n",
            "\n",
            "Author 21: [0 0 0 0 0 0 0 0 0 0 0 0 0 0 0 0 0 0 0 0 0 0 0 0 1 2 0 0 0 0 0 0 0 0 0]\n",
            "\n",
            "Author 22: [0 1 0 1 0 0 0 1 0 0 0 0 0 0 0 0 0 0 0 0 0 0 0 0 0 0 0 0 0 0 0 0 0 0 0]\n",
            "\n",
            "Author 23: [0 0 0 0 0 0 0 0 0 2 0 0 0 0 0 0 0 0 0 0 0 0 0 0 0 5 0 0 1 0 0 0 0 0 1]\n",
            "\n",
            "Author 24: [0 0 0 0 0 0 0 0 0 1 0 0 0 0 0 0 0 0 0 0 0 0 0 0 0 1 0 0 0 0 0 0 0 0 0]\n",
            "\n",
            "Author 25: [0 0 0 0 0 0 0 0 0 2 0 0 0 0 0 0 0 0 0 0 0 0 0 0 0 2 0 1 0 0 0 0 0 0 0]\n",
            "\n",
            "Author 26: [0 2 0 0 0 0 0 0 0 2 0 0 0 0 0 0 0 0 0 0 0 0 1 0 0 3 0 0 0 0 0 0 0 0 0]\n",
            "\n",
            "Author 27: [0 0 0 0 0 0 0 0 0 0 0 0 0 1 0 0 0 0 0 0 0 0 0 0 0 0 0 0 0 0 0 0 0 0 0]\n",
            "\n",
            "Author 28: [0 0 0 2 0 0 0 0 0 1 0 0 0 0 1 0 0 0 0 0 0 0 0 0 0 2 0 0 0 0 0 0 0 0 0]\n",
            "\n",
            "Author 29: [0 0 0 0 0 0 0 0 1 0 0 0 0 2 0 0 0 5 0 0 1 0 0 0 0 0 0 0 0 0 0 0 0 0 0]\n",
            "\n",
            "Author 30: [0 0 0 0 0 0 0 0 0 0 0 0 0 0 0 0 0 0 0 3 0 0 0 0 2 0 0 0 0 0 0 0 0 1 0]\n",
            "\n"
          ]
        }
      ]
    },
    {
      "cell_type": "markdown",
      "source": [
        "###Similarity Measure: Cosine"
      ],
      "metadata": {
        "id": "vtKDCQGNdyHr"
      }
    },
    {
      "cell_type": "code",
      "source": [
        "def cosine_sim(vector1, vector2):\n",
        "  dot_product = np.dot(vector1, vector2)  # dot product of the vectors\n",
        "  magnitude1 = np.linalg.norm(vector1)    # length of vector1\n",
        "  magnitude2 = np.linalg.norm(vector2)    # length of vector2\n",
        "\n",
        "  cosine_similarity = dot_product / (magnitude1 * magnitude2)\n",
        "  return cosine_similarity"
      ],
      "metadata": {
        "id": "eIvxwoJqd0d9"
      },
      "execution_count": 30,
      "outputs": []
    },
    {
      "cell_type": "markdown",
      "source": [
        "###Testing and Result"
      ],
      "metadata": {
        "id": "SuUdX16hd9MA"
      }
    },
    {
      "cell_type": "code",
      "source": [
        "# Document vectors of Test Set\n",
        "test_vector_df = None\n",
        "vocab_size = len(token_set)\n",
        "test_article_vectors = []\n",
        "for _, row in test_dataset.iterrows():\n",
        "  vector = [0] * vocab_size\n",
        "  for token in row[\"article\"]:\n",
        "    idx = term2idx.get(token, term2idx.get(\"<UNKNOWN>\"))\n",
        "    vector[idx] += 1\n",
        "  test_article_vectors.append([row[\"author\"], vector])\n",
        "\n",
        "test_vector_df = pd.DataFrame(test_article_vectors, columns=[\"author\", \"vector\"])"
      ],
      "metadata": {
        "id": "F9n7L18DeAnz"
      },
      "execution_count": 31,
      "outputs": []
    },
    {
      "cell_type": "code",
      "source": [
        "# test_authors: true authors of articles\n",
        "test_authors, test_vectors  = test_vector_df.iloc[:,0], test_vector_df.iloc[:,1]\n",
        "test_authors.value_counts()"
      ],
      "metadata": {
        "id": "mkm4ZX9Ie10h",
        "colab": {
          "base_uri": "https://localhost:8080/"
        },
        "outputId": "aa6f6d00-25ee-4683-da5f-e80efd5ab4aa"
      },
      "execution_count": 33,
      "outputs": [
        {
          "output_type": "execute_result",
          "data": {
            "text/plain": [
              "28    19\n",
              "13    14\n",
              "10    14\n",
              "27    14\n",
              "29    13\n",
              "22    12\n",
              "4     12\n",
              "15    12\n",
              "24    11\n",
              "9     11\n",
              "3     11\n",
              "11    10\n",
              "25    10\n",
              "14    10\n",
              "18    10\n",
              "20    10\n",
              "30    10\n",
              "12     9\n",
              "5      9\n",
              "19     9\n",
              "21     9\n",
              "26     9\n",
              "6      8\n",
              "17     8\n",
              "1      7\n",
              "7      7\n",
              "2      6\n",
              "8      6\n",
              "16     6\n",
              "23     4\n",
              "Name: author, dtype: int64"
            ]
          },
          "metadata": {},
          "execution_count": 33
        }
      ]
    },
    {
      "cell_type": "code",
      "source": [
        "# make all predictions\n",
        "predicted_authors = []  # list of predictions\n",
        "for vector in test_vectors:\n",
        "  similarities = []\n",
        "  for author in author_vectors:\n",
        "    similarities.append(cosine_sim(np.array(vector), author_vectors[author]))\n",
        "  max_idx = 0\n",
        "  max_sim = similarities[0]\n",
        "  for i in range(1, len(similarities)):\n",
        "    if similarities[i] > max_sim:\n",
        "      max_sim = similarities[i]\n",
        "      max_idx = i\n",
        "  predicted_authors.append(str(max_idx+1))"
      ],
      "metadata": {
        "id": "Ht8sRU1Ef8sr"
      },
      "execution_count": 34,
      "outputs": []
    },
    {
      "cell_type": "code",
      "source": [
        "correct_predictions = 0\n",
        "for idx, predicted_author in enumerate(predicted_authors):\n",
        "  if predicted_author == test_authors[idx]:\n",
        "    correct_predictions += 1\n",
        "\n",
        "success_rate = correct_predictions / len(predicted_authors)\n",
        "print(f\"Success rate: {success_rate:.4g}\")"
      ],
      "metadata": {
        "colab": {
          "base_uri": "https://localhost:8080/"
        },
        "id": "KcMw9RTzldCE",
        "outputId": "93cc7cd0-8e63-4c71-bfbc-983bc33b82bc"
      },
      "execution_count": 35,
      "outputs": [
        {
          "output_type": "stream",
          "name": "stdout",
          "text": [
            "Success rate: 0.81\n"
          ]
        }
      ]
    },
    {
      "cell_type": "code",
      "source": [
        "# Uncorrect predictions\n",
        "print(\"Author\\tPrediction\")\n",
        "for idx, predicted_author in enumerate(predicted_authors):\n",
        "  if predicted_author != test_authors[idx]:\n",
        "    print(f\"{test_authors[idx]:^6}\\t{predicted_author:^10}\")"
      ],
      "metadata": {
        "colab": {
          "base_uri": "https://localhost:8080/"
        },
        "id": "gO2zhjNA_6na",
        "outputId": "7e489700-b38a-4fec-f447-921a1a57f7d3"
      },
      "execution_count": 42,
      "outputs": [
        {
          "output_type": "stream",
          "name": "stdout",
          "text": [
            "Author\tPrediction\n",
            "  1   \t    4     \n",
            "  1   \t    20    \n",
            "  2   \t    3     \n",
            "  2   \t    7     \n",
            "  3   \t    1     \n",
            "  3   \t    2     \n",
            "  3   \t    4     \n",
            "  4   \t    30    \n",
            "  4   \t    3     \n",
            "  4   \t    10    \n",
            "  4   \t    10    \n",
            "  4   \t    1     \n",
            "  6   \t    21    \n",
            "  6   \t    21    \n",
            "  6   \t    21    \n",
            "  6   \t    10    \n",
            "  6   \t    20    \n",
            "  7   \t    20    \n",
            "  7   \t    8     \n",
            "  8   \t    6     \n",
            "  9   \t    11    \n",
            "  9   \t    11    \n",
            "  9   \t    11    \n",
            "  9   \t    11    \n",
            "  9   \t    11    \n",
            "  10  \t    1     \n",
            "  10  \t    5     \n",
            "  12  \t    8     \n",
            "  13  \t    14    \n",
            "  14  \t    12    \n",
            "  14  \t    28    \n",
            "  14  \t    8     \n",
            "  14  \t    26    \n",
            "  14  \t    12    \n",
            "  15  \t    13    \n",
            "  15  \t    12    \n",
            "  15  \t    13    \n",
            "  16  \t    24    \n",
            "  19  \t    18    \n",
            "  19  \t    11    \n",
            "  24  \t    25    \n",
            "  25  \t    24    \n",
            "  26  \t    28    \n",
            "  26  \t    12    \n",
            "  27  \t    24    \n",
            "  27  \t    23    \n",
            "  27  \t    11    \n",
            "  28  \t    22    \n",
            "  28  \t    26    \n",
            "  28  \t    8     \n",
            "  28  \t    22    \n",
            "  28  \t    26    \n",
            "  28  \t    12    \n",
            "  28  \t    8     \n",
            "  29  \t    11    \n",
            "  29  \t    9     \n",
            "  30  \t    1     \n"
          ]
        }
      ]
    }
  ]
}