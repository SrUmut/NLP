{
  "cells": [
    {
      "cell_type": "markdown",
      "metadata": {
        "id": "aPW9uS0LBYYr"
      },
      "source": [
        "### Dataset"
      ]
    },
    {
      "cell_type": "markdown",
      "metadata": {
        "id": "OZ-c3OkNBbGX"
      },
      "source": [
        "Name of the data set: **30Columnists**\n",
        "\n",
        "The dataset consists of 50 articles for each of the 30 authors.\n",
        "\n",
        "[Here](http://www.kemik.yildiz.edu.tr/veri_kumelerimiz.html) is the link to dataset."
      ]
    },
    {
      "cell_type": "markdown",
      "metadata": {
        "id": "ld6oNQwlD1me"
      },
      "source": [
        "### Load Dataset\n",
        "\n",
        "> Load the dataset, unzip it, remove unnecessary stuff, construct the dataframe out of it with respect to columns **[author, article]**."
      ]
    },
    {
      "cell_type": "markdown",
      "source": [
        "> **You can use the curl command the download dataset from its source *(1)*. You can upload the dataset yourself *(2)*.**"
      ],
      "metadata": {
        "id": "UPYsgYuyGvrs"
      }
    },
    {
      "cell_type": "code",
      "execution_count": 1,
      "metadata": {
        "colab": {
          "base_uri": "https://localhost:8080/"
        },
        "id": "LtaziAYwD6Fe",
        "outputId": "c9041a57-b563-4e52-ece3-aa08c6e6173d"
      },
      "outputs": [
        {
          "output_type": "stream",
          "name": "stdout",
          "text": [
            "  % Total    % Received % Xferd  Average Speed   Time    Time     Time  Current\n",
            "                                 Dload  Upload   Total   Spent    Left  Speed\n",
            "100 7208k  100 7208k    0     0   430k      0  0:00:16  0:00:16 --:--:--  452k\n"
          ]
        }
      ],
      "source": [
        "# 1\n",
        "!curl http://www.kemik.yildiz.edu.tr/data/File/30Columnists.zip -o ./30Columnists.zip"
      ]
    },
    {
      "cell_type": "code",
      "source": [
        "# 2\n",
        "#from google.colab import files\n",
        "#uploaded = files.upload()"
      ],
      "metadata": {
        "id": "Il-JFstoG0RK"
      },
      "execution_count": 2,
      "outputs": []
    },
    {
      "cell_type": "code",
      "execution_count": 3,
      "metadata": {
        "id": "IhHr2WmoEtFo"
      },
      "outputs": [],
      "source": [
        "!unzip /content/30Columnists.zip -d /content > /dev/null"
      ]
    },
    {
      "cell_type": "code",
      "source": [
        "# Remove unnecessary files and directories\n",
        "!rm -f /content/30Columnists/*.doc\n",
        "!rm -f /content/30Columnists/*.tmp\n",
        "!rm -rf /content/30Columnists/arff_files\n",
        "!mv /content/30Columnists/raw_texts/* /content/30Columnists\n",
        "!rmdir /content/30Columnists/raw_texts"
      ],
      "metadata": {
        "id": "vHHsOtNGIAhV"
      },
      "execution_count": 4,
      "outputs": []
    },
    {
      "cell_type": "code",
      "execution_count": 5,
      "metadata": {
        "id": "Um-ry6YdE7X5",
        "colab": {
          "base_uri": "https://localhost:8080/"
        },
        "outputId": "86f7aa64-ae86-4c75-93ec-dcf75c190c3c"
      },
      "outputs": [
        {
          "output_type": "stream",
          "name": "stdout",
          "text": [
            "['1', '2', '3', '4', '5', '6', '7', '8', '9', '10', '11', '12', '13', '14', '15', '16', '17', '18', '19', '20', '21', '22', '23', '24', '25', '26', '27', '28', '29', '30']\n"
          ]
        }
      ],
      "source": [
        "# Get authors\n",
        "import os\n",
        "PATH = \"/content/30Columnists\"\n",
        "\n",
        "authors = []\n",
        "for author in os.listdir(PATH):\n",
        "  authors.append(author)\n",
        "\n",
        "authors.sort(key = lambda a: int(a))\n",
        "print(authors)"
      ]
    },
    {
      "cell_type": "code",
      "execution_count": 6,
      "metadata": {
        "id": "Tu4rm2XBM3Wa"
      },
      "outputs": [],
      "source": [
        "# Read every article of each author and append to dataset\n",
        "import re\n",
        "dataset = []  # [[author, article], [author, article], ...]\n",
        "for author in authors:\n",
        "  author_path = os.path.join(PATH, author)\n",
        "  for article_file in os.listdir(author_path):\n",
        "    if article_file.endswith(\".txt\"):\n",
        "      article_path = os.path.join(author_path, article_file)\n",
        "      with open(article_path, \"rb\") as f:\n",
        "        article = f.read().decode(\"iso-8859-9\")\n",
        "\n",
        "        article = re.sub(r\"[\\n\\r\\f\\x96]\", \"\", article)\n",
        "        dataset.append([author, article])"
      ]
    },
    {
      "cell_type": "code",
      "execution_count": 7,
      "metadata": {
        "id": "zSTxhnGrHy77",
        "colab": {
          "base_uri": "https://localhost:8080/"
        },
        "outputId": "94cf7bce-cc0e-43ae-a675-969dd25cf9ca"
      },
      "outputs": [
        {
          "output_type": "stream",
          "name": "stdout",
          "text": [
            " 1\t50\n",
            " 2\t50\n",
            " 3\t50\n",
            " 4\t50\n",
            " 5\t50\n",
            " 6\t50\n",
            " 7\t50\n",
            " 8\t50\n",
            " 9\t50\n",
            "10\t50\n",
            "11\t50\n",
            "12\t50\n",
            "13\t50\n",
            "14\t50\n",
            "15\t50\n",
            "16\t50\n",
            "17\t50\n",
            "18\t50\n",
            "19\t50\n",
            "20\t50\n",
            "21\t50\n",
            "22\t50\n",
            "23\t50\n",
            "24\t50\n",
            "25\t50\n",
            "26\t50\n",
            "27\t50\n",
            "28\t50\n",
            "29\t50\n",
            "30\t50\n"
          ]
        }
      ],
      "source": [
        "article_count = {}\n",
        "for author in authors:\n",
        "  article_count.update({author: 0})\n",
        "\n",
        "for row in dataset:\n",
        "  author = row[0]\n",
        "  count = article_count[author]\n",
        "  article_count.update({author: count+1})\n",
        "\n",
        "for author in authors:\n",
        "  print(f\"{author:>2}\\t{article_count[author]}\")"
      ]
    },
    {
      "cell_type": "code",
      "execution_count": 8,
      "metadata": {
        "id": "STBrKOzUNJhb",
        "colab": {
          "base_uri": "https://localhost:8080/"
        },
        "outputId": "21ceb9a2-2201-4d6e-b900-ca557d565111"
      },
      "outputs": [
        {
          "output_type": "stream",
          "name": "stdout",
          "text": [
            "     author                                            article\n",
            "0         1  WHY is it  that some politicians think that if...\n",
            "1         1  PRIVATE bets are now being taken in the Scotti...\n",
            "2         1  IT was meant to be flagship policy, designed t...\n",
            "3         1  THERE's always a risk of writing about the sta...\n",
            "4         1  HOW was it for you? Have you already had the R...\n",
            "...     ...                                                ...\n",
            "1495     30  One bad thing about days like Monday and Wedne...\n",
            "1496     30  Learning goes on all the time in the business ...\n",
            "1497     30  All you'd have to remember is plugging in the ...\n",
            "1498     30  We the People were smart enough to write a Con...\n",
            "1499     30  Imagine an airline putting its worst foot forw...\n",
            "\n",
            "[1500 rows x 2 columns]\n"
          ]
        }
      ],
      "source": [
        "import pandas as pd\n",
        "\n",
        "dataset = pd.DataFrame(dataset, columns=[\"author\", \"article\"])\n",
        "print(dataset)"
      ]
    },
    {
      "cell_type": "markdown",
      "metadata": {
        "id": "Uv_d-SNEIxM6"
      },
      "source": [
        "### Tokenization, Punctuations, Stop Words, Case Folding\n",
        "\n",
        "> Tokeinize, remove punctuations and stopwords, apply case folding."
      ]
    },
    {
      "cell_type": "code",
      "execution_count": 9,
      "metadata": {
        "colab": {
          "base_uri": "https://localhost:8080/"
        },
        "id": "ciTHXfwBIwnf",
        "outputId": "bf26130a-08d2-4518-b3af-b9a27bc310ef"
      },
      "outputs": [
        {
          "output_type": "stream",
          "name": "stderr",
          "text": [
            "[nltk_data] Downloading package punkt to /root/nltk_data...\n",
            "[nltk_data]   Unzipping tokenizers/punkt.zip.\n"
          ]
        },
        {
          "output_type": "execute_result",
          "data": {
            "text/plain": [
              "True"
            ]
          },
          "metadata": {},
          "execution_count": 9
        }
      ],
      "source": [
        "# nltk library for tokenizing, punctuations and stopwords\n",
        "import nltk\n",
        "nltk.download(\"punkt\")"
      ]
    },
    {
      "cell_type": "code",
      "execution_count": 10,
      "metadata": {
        "colab": {
          "base_uri": "https://localhost:8080/"
        },
        "id": "2Kl2z1GCKh1u",
        "outputId": "f2b8b0fe-396a-4e06-cbdc-c6f388459241"
      },
      "outputs": [
        {
          "output_type": "stream",
          "name": "stderr",
          "text": [
            "[nltk_data] Downloading package stopwords to /root/nltk_data...\n",
            "[nltk_data]   Unzipping corpora/stopwords.zip.\n"
          ]
        }
      ],
      "source": [
        "from nltk.corpus import stopwords\n",
        "nltk.download(\"stopwords\")\n",
        "stop_words = stopwords.words(\"english\")"
      ]
    },
    {
      "cell_type": "code",
      "execution_count": 11,
      "metadata": {
        "colab": {
          "base_uri": "https://localhost:8080/"
        },
        "id": "mQ-QCkr-K3mC",
        "outputId": "bb5d7010-8e94-45bf-9e37-629d1e540ea4"
      },
      "outputs": [
        {
          "output_type": "stream",
          "name": "stdout",
          "text": [
            "179 ['i', 'me', 'my', 'myself', 'we', 'our', 'ours', 'ourselves', 'you', \"you're\", \"you've\", \"you'll\", \"you'd\", 'your', 'yours', 'yourself', 'yourselves', 'he', 'him', 'his', 'himself', 'she', \"she's\", 'her', 'hers', 'herself', 'it', \"it's\", 'its', 'itself', 'they', 'them', 'their', 'theirs', 'themselves', 'what', 'which', 'who', 'whom', 'this', 'that', \"that'll\", 'these', 'those', 'am', 'is', 'are', 'was', 'were', 'be', 'been', 'being', 'have', 'has', 'had', 'having', 'do', 'does', 'did', 'doing', 'a', 'an', 'the', 'and', 'but', 'if', 'or', 'because', 'as', 'until', 'while', 'of', 'at', 'by', 'for', 'with', 'about', 'against', 'between', 'into', 'through', 'during', 'before', 'after', 'above', 'below', 'to', 'from', 'up', 'down', 'in', 'out', 'on', 'off', 'over', 'under', 'again', 'further', 'then', 'once', 'here', 'there', 'when', 'where', 'why', 'how', 'all', 'any', 'both', 'each', 'few', 'more', 'most', 'other', 'some', 'such', 'no', 'nor', 'not', 'only', 'own', 'same', 'so', 'than', 'too', 'very', 's', 't', 'can', 'will', 'just', 'don', \"don't\", 'should', \"should've\", 'now', 'd', 'll', 'm', 'o', 're', 've', 'y', 'ain', 'aren', \"aren't\", 'couldn', \"couldn't\", 'didn', \"didn't\", 'doesn', \"doesn't\", 'hadn', \"hadn't\", 'hasn', \"hasn't\", 'haven', \"haven't\", 'isn', \"isn't\", 'ma', 'mightn', \"mightn't\", 'mustn', \"mustn't\", 'needn', \"needn't\", 'shan', \"shan't\", 'shouldn', \"shouldn't\", 'wasn', \"wasn't\", 'weren', \"weren't\", 'won', \"won't\", 'wouldn', \"wouldn't\"]\n"
          ]
        }
      ],
      "source": [
        "print(len(stop_words), stop_words)"
      ]
    },
    {
      "cell_type": "code",
      "execution_count": 12,
      "metadata": {
        "id": "jpoDIgJAI8Jz"
      },
      "outputs": [],
      "source": [
        "from nltk import word_tokenize\n",
        "import re\n",
        "# Tokenizing, removing punctuations and stopwords, applying case folding\n",
        "for idx, row in dataset.iterrows():\n",
        "  dataset.at[idx, \"article\"] = [token.lower() for token in word_tokenize(re.sub(r\"\\.\", \" . \", row[\"article\"])) if token.isalpha() and (token.lower() not in stop_words)]"
      ]
    },
    {
      "cell_type": "code",
      "execution_count": 13,
      "metadata": {
        "colab": {
          "base_uri": "https://localhost:8080/"
        },
        "id": "O1HSKoUQPsqB",
        "outputId": "42595d0b-cbe2-4ce8-f28d-5d3e23b327e5"
      },
      "outputs": [
        {
          "output_type": "stream",
          "name": "stdout",
          "text": [
            "     author                                            article\n",
            "0         1  [politicians, think, ban, something, make, dif...\n",
            "1         1  [private, bets, taken, scottish, parliament, f...\n",
            "2         1  [meant, flagship, policy, designed, show, snp,...\n",
            "3         1  [always, risk, writing, state, worlds, financi...\n",
            "4         1  [already, rennies, resolve, ibuprofen, cocktai...\n",
            "...     ...                                                ...\n",
            "1495     30  [one, bad, thing, days, like, monday, wednesda...\n",
            "1496     30  [learning, goes, time, business, life, constan...\n",
            "1497     30  [remember, plugging, car, night, full, tank, m...\n",
            "1498     30  [people, smart, enough, write, constitution, f...\n",
            "1499     30  [imagine, airline, putting, worst, foot, forwa...\n",
            "\n",
            "[1500 rows x 2 columns]\n"
          ]
        }
      ],
      "source": [
        "print(dataset)"
      ]
    },
    {
      "cell_type": "markdown",
      "metadata": {
        "id": "JddpVJT2P00b"
      },
      "source": [
        "### Train-Test Splits\n",
        "\n",
        "> Split dataset into 2 parts **train dataset** (80%) and **test dataset** (20%)."
      ]
    },
    {
      "cell_type": "code",
      "execution_count": 14,
      "metadata": {
        "id": "4KXlkDxaP5T7"
      },
      "outputs": [],
      "source": [
        "# Train Dataset\n",
        "train_dataset = dataset.sample(frac=0.8, random_state=1)"
      ]
    },
    {
      "cell_type": "code",
      "execution_count": 15,
      "metadata": {
        "colab": {
          "base_uri": "https://localhost:8080/",
          "height": 0
        },
        "id": "qbW-MOL0QC5U",
        "outputId": "f0152ef6-dc9e-4635-b5e4-ed7e44e14968"
      },
      "outputs": [
        {
          "output_type": "execute_result",
          "data": {
            "text/plain": [
              "     author                                            article\n",
              "91        2  [first, indications, alistair, darling, packag...\n",
              "75        2  [seven, days, humiliation, budget, rejected, s...\n",
              "1264     26  [harry, redknapp, probably, thinks, credit, cr...\n",
              "330       7  [guardian, publication, today, amateur, footag...\n",
              "1349     27  [latest, hyped, study, potential, link, cell, ...\n",
              "...     ...                                                ...\n",
              "652      14  [living, society, tony, adams, said, week, mus...\n",
              "70        2  [wendy, alexander, faces, major, test, weekend...\n",
              "610      13  [movie, trainspotting, sick, boy, played, jonn...\n",
              "1174     24  [ovarian, cancer, common, condition, women, se...\n",
              "1440     29  [well, known, much, soda, increase, risk, diab...\n",
              "\n",
              "[1200 rows x 2 columns]"
            ],
            "text/html": [
              "\n",
              "  <div id=\"df-f411328c-a757-451f-b2e5-227fe2eeeb04\" class=\"colab-df-container\">\n",
              "    <div>\n",
              "<style scoped>\n",
              "    .dataframe tbody tr th:only-of-type {\n",
              "        vertical-align: middle;\n",
              "    }\n",
              "\n",
              "    .dataframe tbody tr th {\n",
              "        vertical-align: top;\n",
              "    }\n",
              "\n",
              "    .dataframe thead th {\n",
              "        text-align: right;\n",
              "    }\n",
              "</style>\n",
              "<table border=\"1\" class=\"dataframe\">\n",
              "  <thead>\n",
              "    <tr style=\"text-align: right;\">\n",
              "      <th></th>\n",
              "      <th>author</th>\n",
              "      <th>article</th>\n",
              "    </tr>\n",
              "  </thead>\n",
              "  <tbody>\n",
              "    <tr>\n",
              "      <th>91</th>\n",
              "      <td>2</td>\n",
              "      <td>[first, indications, alistair, darling, packag...</td>\n",
              "    </tr>\n",
              "    <tr>\n",
              "      <th>75</th>\n",
              "      <td>2</td>\n",
              "      <td>[seven, days, humiliation, budget, rejected, s...</td>\n",
              "    </tr>\n",
              "    <tr>\n",
              "      <th>1264</th>\n",
              "      <td>26</td>\n",
              "      <td>[harry, redknapp, probably, thinks, credit, cr...</td>\n",
              "    </tr>\n",
              "    <tr>\n",
              "      <th>330</th>\n",
              "      <td>7</td>\n",
              "      <td>[guardian, publication, today, amateur, footag...</td>\n",
              "    </tr>\n",
              "    <tr>\n",
              "      <th>1349</th>\n",
              "      <td>27</td>\n",
              "      <td>[latest, hyped, study, potential, link, cell, ...</td>\n",
              "    </tr>\n",
              "    <tr>\n",
              "      <th>...</th>\n",
              "      <td>...</td>\n",
              "      <td>...</td>\n",
              "    </tr>\n",
              "    <tr>\n",
              "      <th>652</th>\n",
              "      <td>14</td>\n",
              "      <td>[living, society, tony, adams, said, week, mus...</td>\n",
              "    </tr>\n",
              "    <tr>\n",
              "      <th>70</th>\n",
              "      <td>2</td>\n",
              "      <td>[wendy, alexander, faces, major, test, weekend...</td>\n",
              "    </tr>\n",
              "    <tr>\n",
              "      <th>610</th>\n",
              "      <td>13</td>\n",
              "      <td>[movie, trainspotting, sick, boy, played, jonn...</td>\n",
              "    </tr>\n",
              "    <tr>\n",
              "      <th>1174</th>\n",
              "      <td>24</td>\n",
              "      <td>[ovarian, cancer, common, condition, women, se...</td>\n",
              "    </tr>\n",
              "    <tr>\n",
              "      <th>1440</th>\n",
              "      <td>29</td>\n",
              "      <td>[well, known, much, soda, increase, risk, diab...</td>\n",
              "    </tr>\n",
              "  </tbody>\n",
              "</table>\n",
              "<p>1200 rows × 2 columns</p>\n",
              "</div>\n",
              "    <div class=\"colab-df-buttons\">\n",
              "\n",
              "  <div class=\"colab-df-container\">\n",
              "    <button class=\"colab-df-convert\" onclick=\"convertToInteractive('df-f411328c-a757-451f-b2e5-227fe2eeeb04')\"\n",
              "            title=\"Convert this dataframe to an interactive table.\"\n",
              "            style=\"display:none;\">\n",
              "\n",
              "  <svg xmlns=\"http://www.w3.org/2000/svg\" height=\"24px\" viewBox=\"0 -960 960 960\">\n",
              "    <path d=\"M120-120v-720h720v720H120Zm60-500h600v-160H180v160Zm220 220h160v-160H400v160Zm0 220h160v-160H400v160ZM180-400h160v-160H180v160Zm440 0h160v-160H620v160ZM180-180h160v-160H180v160Zm440 0h160v-160H620v160Z\"/>\n",
              "  </svg>\n",
              "    </button>\n",
              "\n",
              "  <style>\n",
              "    .colab-df-container {\n",
              "      display:flex;\n",
              "      gap: 12px;\n",
              "    }\n",
              "\n",
              "    .colab-df-convert {\n",
              "      background-color: #E8F0FE;\n",
              "      border: none;\n",
              "      border-radius: 50%;\n",
              "      cursor: pointer;\n",
              "      display: none;\n",
              "      fill: #1967D2;\n",
              "      height: 32px;\n",
              "      padding: 0 0 0 0;\n",
              "      width: 32px;\n",
              "    }\n",
              "\n",
              "    .colab-df-convert:hover {\n",
              "      background-color: #E2EBFA;\n",
              "      box-shadow: 0px 1px 2px rgba(60, 64, 67, 0.3), 0px 1px 3px 1px rgba(60, 64, 67, 0.15);\n",
              "      fill: #174EA6;\n",
              "    }\n",
              "\n",
              "    .colab-df-buttons div {\n",
              "      margin-bottom: 4px;\n",
              "    }\n",
              "\n",
              "    [theme=dark] .colab-df-convert {\n",
              "      background-color: #3B4455;\n",
              "      fill: #D2E3FC;\n",
              "    }\n",
              "\n",
              "    [theme=dark] .colab-df-convert:hover {\n",
              "      background-color: #434B5C;\n",
              "      box-shadow: 0px 1px 3px 1px rgba(0, 0, 0, 0.15);\n",
              "      filter: drop-shadow(0px 1px 2px rgba(0, 0, 0, 0.3));\n",
              "      fill: #FFFFFF;\n",
              "    }\n",
              "  </style>\n",
              "\n",
              "    <script>\n",
              "      const buttonEl =\n",
              "        document.querySelector('#df-f411328c-a757-451f-b2e5-227fe2eeeb04 button.colab-df-convert');\n",
              "      buttonEl.style.display =\n",
              "        google.colab.kernel.accessAllowed ? 'block' : 'none';\n",
              "\n",
              "      async function convertToInteractive(key) {\n",
              "        const element = document.querySelector('#df-f411328c-a757-451f-b2e5-227fe2eeeb04');\n",
              "        const dataTable =\n",
              "          await google.colab.kernel.invokeFunction('convertToInteractive',\n",
              "                                                    [key], {});\n",
              "        if (!dataTable) return;\n",
              "\n",
              "        const docLinkHtml = 'Like what you see? Visit the ' +\n",
              "          '<a target=\"_blank\" href=https://colab.research.google.com/notebooks/data_table.ipynb>data table notebook</a>'\n",
              "          + ' to learn more about interactive tables.';\n",
              "        element.innerHTML = '';\n",
              "        dataTable['output_type'] = 'display_data';\n",
              "        await google.colab.output.renderOutput(dataTable, element);\n",
              "        const docLink = document.createElement('div');\n",
              "        docLink.innerHTML = docLinkHtml;\n",
              "        element.appendChild(docLink);\n",
              "      }\n",
              "    </script>\n",
              "  </div>\n",
              "\n",
              "\n",
              "<div id=\"df-75fc39f7-4f31-4ed8-92a6-007aaa90c903\">\n",
              "  <button class=\"colab-df-quickchart\" onclick=\"quickchart('df-75fc39f7-4f31-4ed8-92a6-007aaa90c903')\"\n",
              "            title=\"Suggest charts\"\n",
              "            style=\"display:none;\">\n",
              "\n",
              "<svg xmlns=\"http://www.w3.org/2000/svg\" height=\"24px\"viewBox=\"0 0 24 24\"\n",
              "     width=\"24px\">\n",
              "    <g>\n",
              "        <path d=\"M19 3H5c-1.1 0-2 .9-2 2v14c0 1.1.9 2 2 2h14c1.1 0 2-.9 2-2V5c0-1.1-.9-2-2-2zM9 17H7v-7h2v7zm4 0h-2V7h2v10zm4 0h-2v-4h2v4z\"/>\n",
              "    </g>\n",
              "</svg>\n",
              "  </button>\n",
              "\n",
              "<style>\n",
              "  .colab-df-quickchart {\n",
              "      --bg-color: #E8F0FE;\n",
              "      --fill-color: #1967D2;\n",
              "      --hover-bg-color: #E2EBFA;\n",
              "      --hover-fill-color: #174EA6;\n",
              "      --disabled-fill-color: #AAA;\n",
              "      --disabled-bg-color: #DDD;\n",
              "  }\n",
              "\n",
              "  [theme=dark] .colab-df-quickchart {\n",
              "      --bg-color: #3B4455;\n",
              "      --fill-color: #D2E3FC;\n",
              "      --hover-bg-color: #434B5C;\n",
              "      --hover-fill-color: #FFFFFF;\n",
              "      --disabled-bg-color: #3B4455;\n",
              "      --disabled-fill-color: #666;\n",
              "  }\n",
              "\n",
              "  .colab-df-quickchart {\n",
              "    background-color: var(--bg-color);\n",
              "    border: none;\n",
              "    border-radius: 50%;\n",
              "    cursor: pointer;\n",
              "    display: none;\n",
              "    fill: var(--fill-color);\n",
              "    height: 32px;\n",
              "    padding: 0;\n",
              "    width: 32px;\n",
              "  }\n",
              "\n",
              "  .colab-df-quickchart:hover {\n",
              "    background-color: var(--hover-bg-color);\n",
              "    box-shadow: 0 1px 2px rgba(60, 64, 67, 0.3), 0 1px 3px 1px rgba(60, 64, 67, 0.15);\n",
              "    fill: var(--button-hover-fill-color);\n",
              "  }\n",
              "\n",
              "  .colab-df-quickchart-complete:disabled,\n",
              "  .colab-df-quickchart-complete:disabled:hover {\n",
              "    background-color: var(--disabled-bg-color);\n",
              "    fill: var(--disabled-fill-color);\n",
              "    box-shadow: none;\n",
              "  }\n",
              "\n",
              "  .colab-df-spinner {\n",
              "    border: 2px solid var(--fill-color);\n",
              "    border-color: transparent;\n",
              "    border-bottom-color: var(--fill-color);\n",
              "    animation:\n",
              "      spin 1s steps(1) infinite;\n",
              "  }\n",
              "\n",
              "  @keyframes spin {\n",
              "    0% {\n",
              "      border-color: transparent;\n",
              "      border-bottom-color: var(--fill-color);\n",
              "      border-left-color: var(--fill-color);\n",
              "    }\n",
              "    20% {\n",
              "      border-color: transparent;\n",
              "      border-left-color: var(--fill-color);\n",
              "      border-top-color: var(--fill-color);\n",
              "    }\n",
              "    30% {\n",
              "      border-color: transparent;\n",
              "      border-left-color: var(--fill-color);\n",
              "      border-top-color: var(--fill-color);\n",
              "      border-right-color: var(--fill-color);\n",
              "    }\n",
              "    40% {\n",
              "      border-color: transparent;\n",
              "      border-right-color: var(--fill-color);\n",
              "      border-top-color: var(--fill-color);\n",
              "    }\n",
              "    60% {\n",
              "      border-color: transparent;\n",
              "      border-right-color: var(--fill-color);\n",
              "    }\n",
              "    80% {\n",
              "      border-color: transparent;\n",
              "      border-right-color: var(--fill-color);\n",
              "      border-bottom-color: var(--fill-color);\n",
              "    }\n",
              "    90% {\n",
              "      border-color: transparent;\n",
              "      border-bottom-color: var(--fill-color);\n",
              "    }\n",
              "  }\n",
              "</style>\n",
              "\n",
              "  <script>\n",
              "    async function quickchart(key) {\n",
              "      const quickchartButtonEl =\n",
              "        document.querySelector('#' + key + ' button');\n",
              "      quickchartButtonEl.disabled = true;  // To prevent multiple clicks.\n",
              "      quickchartButtonEl.classList.add('colab-df-spinner');\n",
              "      try {\n",
              "        const charts = await google.colab.kernel.invokeFunction(\n",
              "            'suggestCharts', [key], {});\n",
              "      } catch (error) {\n",
              "        console.error('Error during call to suggestCharts:', error);\n",
              "      }\n",
              "      quickchartButtonEl.classList.remove('colab-df-spinner');\n",
              "      quickchartButtonEl.classList.add('colab-df-quickchart-complete');\n",
              "    }\n",
              "    (() => {\n",
              "      let quickchartButtonEl =\n",
              "        document.querySelector('#df-75fc39f7-4f31-4ed8-92a6-007aaa90c903 button');\n",
              "      quickchartButtonEl.style.display =\n",
              "        google.colab.kernel.accessAllowed ? 'block' : 'none';\n",
              "    })();\n",
              "  </script>\n",
              "</div>\n",
              "\n",
              "  <div id=\"id_36e9e91d-80f1-4f37-b8f8-db2088805b7b\">\n",
              "    <style>\n",
              "      .colab-df-generate {\n",
              "        background-color: #E8F0FE;\n",
              "        border: none;\n",
              "        border-radius: 50%;\n",
              "        cursor: pointer;\n",
              "        display: none;\n",
              "        fill: #1967D2;\n",
              "        height: 32px;\n",
              "        padding: 0 0 0 0;\n",
              "        width: 32px;\n",
              "      }\n",
              "\n",
              "      .colab-df-generate:hover {\n",
              "        background-color: #E2EBFA;\n",
              "        box-shadow: 0px 1px 2px rgba(60, 64, 67, 0.3), 0px 1px 3px 1px rgba(60, 64, 67, 0.15);\n",
              "        fill: #174EA6;\n",
              "      }\n",
              "\n",
              "      [theme=dark] .colab-df-generate {\n",
              "        background-color: #3B4455;\n",
              "        fill: #D2E3FC;\n",
              "      }\n",
              "\n",
              "      [theme=dark] .colab-df-generate:hover {\n",
              "        background-color: #434B5C;\n",
              "        box-shadow: 0px 1px 3px 1px rgba(0, 0, 0, 0.15);\n",
              "        filter: drop-shadow(0px 1px 2px rgba(0, 0, 0, 0.3));\n",
              "        fill: #FFFFFF;\n",
              "      }\n",
              "    </style>\n",
              "    <button class=\"colab-df-generate\" onclick=\"generateWithVariable('train_dataset')\"\n",
              "            title=\"Generate code using this dataframe.\"\n",
              "            style=\"display:none;\">\n",
              "\n",
              "  <svg xmlns=\"http://www.w3.org/2000/svg\" height=\"24px\"viewBox=\"0 0 24 24\"\n",
              "       width=\"24px\">\n",
              "    <path d=\"M7,19H8.4L18.45,9,17,7.55,7,17.6ZM5,21V16.75L18.45,3.32a2,2,0,0,1,2.83,0l1.4,1.43a1.91,1.91,0,0,1,.58,1.4,1.91,1.91,0,0,1-.58,1.4L9.25,21ZM18.45,9,17,7.55Zm-12,3A5.31,5.31,0,0,0,4.9,8.1,5.31,5.31,0,0,0,1,6.5,5.31,5.31,0,0,0,4.9,4.9,5.31,5.31,0,0,0,6.5,1,5.31,5.31,0,0,0,8.1,4.9,5.31,5.31,0,0,0,12,6.5,5.46,5.46,0,0,0,6.5,12Z\"/>\n",
              "  </svg>\n",
              "    </button>\n",
              "    <script>\n",
              "      (() => {\n",
              "      const buttonEl =\n",
              "        document.querySelector('#id_36e9e91d-80f1-4f37-b8f8-db2088805b7b button.colab-df-generate');\n",
              "      buttonEl.style.display =\n",
              "        google.colab.kernel.accessAllowed ? 'block' : 'none';\n",
              "\n",
              "      buttonEl.onclick = () => {\n",
              "        google.colab.notebook.generateWithVariable('train_dataset');\n",
              "      }\n",
              "      })();\n",
              "    </script>\n",
              "  </div>\n",
              "\n",
              "    </div>\n",
              "  </div>\n"
            ],
            "application/vnd.google.colaboratory.intrinsic+json": {
              "type": "dataframe",
              "variable_name": "train_dataset",
              "summary": "{\n  \"name\": \"train_dataset\",\n  \"rows\": 1200,\n  \"fields\": [\n    {\n      \"column\": \"author\",\n      \"properties\": {\n        \"dtype\": \"category\",\n        \"num_unique_values\": 30,\n        \"samples\": [\n          \"8\",\n          \"30\",\n          \"10\"\n        ],\n        \"semantic_type\": \"\",\n        \"description\": \"\"\n      }\n    },\n    {\n      \"column\": \"article\",\n      \"properties\": {\n        \"dtype\": \"object\",\n        \"semantic_type\": \"\",\n        \"description\": \"\"\n      }\n    }\n  ]\n}"
            }
          },
          "metadata": {},
          "execution_count": 15
        }
      ],
      "source": [
        "train_dataset"
      ]
    },
    {
      "cell_type": "code",
      "execution_count": 16,
      "metadata": {
        "colab": {
          "base_uri": "https://localhost:8080/"
        },
        "id": "kJP7cwFwQJmf",
        "outputId": "48d700b8-76bc-4593-9581-0a5ae1d3bea5"
      },
      "outputs": [
        {
          "output_type": "execute_result",
          "data": {
            "text/plain": [
              "1200"
            ]
          },
          "metadata": {},
          "execution_count": 16
        }
      ],
      "source": [
        "len(train_dataset)"
      ]
    },
    {
      "cell_type": "code",
      "execution_count": 17,
      "metadata": {
        "colab": {
          "base_uri": "https://localhost:8080/"
        },
        "id": "_gIU0GzqQLQH",
        "outputId": "fc86a3ba-d668-40d9-dc15-8503b99a1e1b"
      },
      "outputs": [
        {
          "output_type": "execute_result",
          "data": {
            "text/plain": [
              "author\n",
              "23    46\n",
              "2     44\n",
              "8     44\n",
              "16    44\n",
              "7     43\n",
              "1     43\n",
              "17    42\n",
              "6     42\n",
              "21    41\n",
              "12    41\n",
              "19    41\n",
              "5     41\n",
              "26    41\n",
              "11    40\n",
              "20    40\n",
              "18    40\n",
              "30    40\n",
              "25    40\n",
              "14    40\n",
              "9     39\n",
              "3     39\n",
              "24    39\n",
              "4     38\n",
              "22    38\n",
              "15    38\n",
              "29    37\n",
              "10    36\n",
              "27    36\n",
              "13    36\n",
              "28    31\n",
              "Name: count, dtype: int64"
            ]
          },
          "metadata": {},
          "execution_count": 17
        }
      ],
      "source": [
        "train_dataset[\"author\"].value_counts()"
      ]
    },
    {
      "cell_type": "code",
      "execution_count": 18,
      "metadata": {
        "id": "yoYuZHKuQYS3"
      },
      "outputs": [],
      "source": [
        "# Test Dataset\n",
        "test_dataset = dataset.drop(train_dataset.index)"
      ]
    },
    {
      "cell_type": "code",
      "execution_count": 19,
      "metadata": {
        "colab": {
          "base_uri": "https://localhost:8080/",
          "height": 0
        },
        "id": "I-kVolpVQgWz",
        "outputId": "322a7f7f-ffdf-4085-e0e9-a385ee877517"
      },
      "outputs": [
        {
          "output_type": "execute_result",
          "data": {
            "text/plain": [
              "     author                                            article\n",
              "15        1  [doubt, edinburgh, huge, tourist, attraction, ...\n",
              "20        1  [past, scottish, conservative, election, parti...\n",
              "21        1  [joke, often, find, written, toilet, walls, pr...\n",
              "24        1  [suspect, different, scottish, folk, trip, abr...\n",
              "25        1  [small, assembly, rather, embarrassed, anonymo...\n",
              "...     ...                                                ...\n",
              "1478     30  [seven, score, five, years, abraham, lincoln, ...\n",
              "1485     30  [capitalism, seems, stranded, passengers, vehi...\n",
              "1495     30  [one, bad, thing, days, like, monday, wednesda...\n",
              "1498     30  [people, smart, enough, write, constitution, f...\n",
              "1499     30  [imagine, airline, putting, worst, foot, forwa...\n",
              "\n",
              "[300 rows x 2 columns]"
            ],
            "text/html": [
              "\n",
              "  <div id=\"df-60b70822-088e-47a4-8165-3e36b901e719\" class=\"colab-df-container\">\n",
              "    <div>\n",
              "<style scoped>\n",
              "    .dataframe tbody tr th:only-of-type {\n",
              "        vertical-align: middle;\n",
              "    }\n",
              "\n",
              "    .dataframe tbody tr th {\n",
              "        vertical-align: top;\n",
              "    }\n",
              "\n",
              "    .dataframe thead th {\n",
              "        text-align: right;\n",
              "    }\n",
              "</style>\n",
              "<table border=\"1\" class=\"dataframe\">\n",
              "  <thead>\n",
              "    <tr style=\"text-align: right;\">\n",
              "      <th></th>\n",
              "      <th>author</th>\n",
              "      <th>article</th>\n",
              "    </tr>\n",
              "  </thead>\n",
              "  <tbody>\n",
              "    <tr>\n",
              "      <th>15</th>\n",
              "      <td>1</td>\n",
              "      <td>[doubt, edinburgh, huge, tourist, attraction, ...</td>\n",
              "    </tr>\n",
              "    <tr>\n",
              "      <th>20</th>\n",
              "      <td>1</td>\n",
              "      <td>[past, scottish, conservative, election, parti...</td>\n",
              "    </tr>\n",
              "    <tr>\n",
              "      <th>21</th>\n",
              "      <td>1</td>\n",
              "      <td>[joke, often, find, written, toilet, walls, pr...</td>\n",
              "    </tr>\n",
              "    <tr>\n",
              "      <th>24</th>\n",
              "      <td>1</td>\n",
              "      <td>[suspect, different, scottish, folk, trip, abr...</td>\n",
              "    </tr>\n",
              "    <tr>\n",
              "      <th>25</th>\n",
              "      <td>1</td>\n",
              "      <td>[small, assembly, rather, embarrassed, anonymo...</td>\n",
              "    </tr>\n",
              "    <tr>\n",
              "      <th>...</th>\n",
              "      <td>...</td>\n",
              "      <td>...</td>\n",
              "    </tr>\n",
              "    <tr>\n",
              "      <th>1478</th>\n",
              "      <td>30</td>\n",
              "      <td>[seven, score, five, years, abraham, lincoln, ...</td>\n",
              "    </tr>\n",
              "    <tr>\n",
              "      <th>1485</th>\n",
              "      <td>30</td>\n",
              "      <td>[capitalism, seems, stranded, passengers, vehi...</td>\n",
              "    </tr>\n",
              "    <tr>\n",
              "      <th>1495</th>\n",
              "      <td>30</td>\n",
              "      <td>[one, bad, thing, days, like, monday, wednesda...</td>\n",
              "    </tr>\n",
              "    <tr>\n",
              "      <th>1498</th>\n",
              "      <td>30</td>\n",
              "      <td>[people, smart, enough, write, constitution, f...</td>\n",
              "    </tr>\n",
              "    <tr>\n",
              "      <th>1499</th>\n",
              "      <td>30</td>\n",
              "      <td>[imagine, airline, putting, worst, foot, forwa...</td>\n",
              "    </tr>\n",
              "  </tbody>\n",
              "</table>\n",
              "<p>300 rows × 2 columns</p>\n",
              "</div>\n",
              "    <div class=\"colab-df-buttons\">\n",
              "\n",
              "  <div class=\"colab-df-container\">\n",
              "    <button class=\"colab-df-convert\" onclick=\"convertToInteractive('df-60b70822-088e-47a4-8165-3e36b901e719')\"\n",
              "            title=\"Convert this dataframe to an interactive table.\"\n",
              "            style=\"display:none;\">\n",
              "\n",
              "  <svg xmlns=\"http://www.w3.org/2000/svg\" height=\"24px\" viewBox=\"0 -960 960 960\">\n",
              "    <path d=\"M120-120v-720h720v720H120Zm60-500h600v-160H180v160Zm220 220h160v-160H400v160Zm0 220h160v-160H400v160ZM180-400h160v-160H180v160Zm440 0h160v-160H620v160ZM180-180h160v-160H180v160Zm440 0h160v-160H620v160Z\"/>\n",
              "  </svg>\n",
              "    </button>\n",
              "\n",
              "  <style>\n",
              "    .colab-df-container {\n",
              "      display:flex;\n",
              "      gap: 12px;\n",
              "    }\n",
              "\n",
              "    .colab-df-convert {\n",
              "      background-color: #E8F0FE;\n",
              "      border: none;\n",
              "      border-radius: 50%;\n",
              "      cursor: pointer;\n",
              "      display: none;\n",
              "      fill: #1967D2;\n",
              "      height: 32px;\n",
              "      padding: 0 0 0 0;\n",
              "      width: 32px;\n",
              "    }\n",
              "\n",
              "    .colab-df-convert:hover {\n",
              "      background-color: #E2EBFA;\n",
              "      box-shadow: 0px 1px 2px rgba(60, 64, 67, 0.3), 0px 1px 3px 1px rgba(60, 64, 67, 0.15);\n",
              "      fill: #174EA6;\n",
              "    }\n",
              "\n",
              "    .colab-df-buttons div {\n",
              "      margin-bottom: 4px;\n",
              "    }\n",
              "\n",
              "    [theme=dark] .colab-df-convert {\n",
              "      background-color: #3B4455;\n",
              "      fill: #D2E3FC;\n",
              "    }\n",
              "\n",
              "    [theme=dark] .colab-df-convert:hover {\n",
              "      background-color: #434B5C;\n",
              "      box-shadow: 0px 1px 3px 1px rgba(0, 0, 0, 0.15);\n",
              "      filter: drop-shadow(0px 1px 2px rgba(0, 0, 0, 0.3));\n",
              "      fill: #FFFFFF;\n",
              "    }\n",
              "  </style>\n",
              "\n",
              "    <script>\n",
              "      const buttonEl =\n",
              "        document.querySelector('#df-60b70822-088e-47a4-8165-3e36b901e719 button.colab-df-convert');\n",
              "      buttonEl.style.display =\n",
              "        google.colab.kernel.accessAllowed ? 'block' : 'none';\n",
              "\n",
              "      async function convertToInteractive(key) {\n",
              "        const element = document.querySelector('#df-60b70822-088e-47a4-8165-3e36b901e719');\n",
              "        const dataTable =\n",
              "          await google.colab.kernel.invokeFunction('convertToInteractive',\n",
              "                                                    [key], {});\n",
              "        if (!dataTable) return;\n",
              "\n",
              "        const docLinkHtml = 'Like what you see? Visit the ' +\n",
              "          '<a target=\"_blank\" href=https://colab.research.google.com/notebooks/data_table.ipynb>data table notebook</a>'\n",
              "          + ' to learn more about interactive tables.';\n",
              "        element.innerHTML = '';\n",
              "        dataTable['output_type'] = 'display_data';\n",
              "        await google.colab.output.renderOutput(dataTable, element);\n",
              "        const docLink = document.createElement('div');\n",
              "        docLink.innerHTML = docLinkHtml;\n",
              "        element.appendChild(docLink);\n",
              "      }\n",
              "    </script>\n",
              "  </div>\n",
              "\n",
              "\n",
              "<div id=\"df-ab0cd6df-4bcc-484a-a16e-b15450a7028f\">\n",
              "  <button class=\"colab-df-quickchart\" onclick=\"quickchart('df-ab0cd6df-4bcc-484a-a16e-b15450a7028f')\"\n",
              "            title=\"Suggest charts\"\n",
              "            style=\"display:none;\">\n",
              "\n",
              "<svg xmlns=\"http://www.w3.org/2000/svg\" height=\"24px\"viewBox=\"0 0 24 24\"\n",
              "     width=\"24px\">\n",
              "    <g>\n",
              "        <path d=\"M19 3H5c-1.1 0-2 .9-2 2v14c0 1.1.9 2 2 2h14c1.1 0 2-.9 2-2V5c0-1.1-.9-2-2-2zM9 17H7v-7h2v7zm4 0h-2V7h2v10zm4 0h-2v-4h2v4z\"/>\n",
              "    </g>\n",
              "</svg>\n",
              "  </button>\n",
              "\n",
              "<style>\n",
              "  .colab-df-quickchart {\n",
              "      --bg-color: #E8F0FE;\n",
              "      --fill-color: #1967D2;\n",
              "      --hover-bg-color: #E2EBFA;\n",
              "      --hover-fill-color: #174EA6;\n",
              "      --disabled-fill-color: #AAA;\n",
              "      --disabled-bg-color: #DDD;\n",
              "  }\n",
              "\n",
              "  [theme=dark] .colab-df-quickchart {\n",
              "      --bg-color: #3B4455;\n",
              "      --fill-color: #D2E3FC;\n",
              "      --hover-bg-color: #434B5C;\n",
              "      --hover-fill-color: #FFFFFF;\n",
              "      --disabled-bg-color: #3B4455;\n",
              "      --disabled-fill-color: #666;\n",
              "  }\n",
              "\n",
              "  .colab-df-quickchart {\n",
              "    background-color: var(--bg-color);\n",
              "    border: none;\n",
              "    border-radius: 50%;\n",
              "    cursor: pointer;\n",
              "    display: none;\n",
              "    fill: var(--fill-color);\n",
              "    height: 32px;\n",
              "    padding: 0;\n",
              "    width: 32px;\n",
              "  }\n",
              "\n",
              "  .colab-df-quickchart:hover {\n",
              "    background-color: var(--hover-bg-color);\n",
              "    box-shadow: 0 1px 2px rgba(60, 64, 67, 0.3), 0 1px 3px 1px rgba(60, 64, 67, 0.15);\n",
              "    fill: var(--button-hover-fill-color);\n",
              "  }\n",
              "\n",
              "  .colab-df-quickchart-complete:disabled,\n",
              "  .colab-df-quickchart-complete:disabled:hover {\n",
              "    background-color: var(--disabled-bg-color);\n",
              "    fill: var(--disabled-fill-color);\n",
              "    box-shadow: none;\n",
              "  }\n",
              "\n",
              "  .colab-df-spinner {\n",
              "    border: 2px solid var(--fill-color);\n",
              "    border-color: transparent;\n",
              "    border-bottom-color: var(--fill-color);\n",
              "    animation:\n",
              "      spin 1s steps(1) infinite;\n",
              "  }\n",
              "\n",
              "  @keyframes spin {\n",
              "    0% {\n",
              "      border-color: transparent;\n",
              "      border-bottom-color: var(--fill-color);\n",
              "      border-left-color: var(--fill-color);\n",
              "    }\n",
              "    20% {\n",
              "      border-color: transparent;\n",
              "      border-left-color: var(--fill-color);\n",
              "      border-top-color: var(--fill-color);\n",
              "    }\n",
              "    30% {\n",
              "      border-color: transparent;\n",
              "      border-left-color: var(--fill-color);\n",
              "      border-top-color: var(--fill-color);\n",
              "      border-right-color: var(--fill-color);\n",
              "    }\n",
              "    40% {\n",
              "      border-color: transparent;\n",
              "      border-right-color: var(--fill-color);\n",
              "      border-top-color: var(--fill-color);\n",
              "    }\n",
              "    60% {\n",
              "      border-color: transparent;\n",
              "      border-right-color: var(--fill-color);\n",
              "    }\n",
              "    80% {\n",
              "      border-color: transparent;\n",
              "      border-right-color: var(--fill-color);\n",
              "      border-bottom-color: var(--fill-color);\n",
              "    }\n",
              "    90% {\n",
              "      border-color: transparent;\n",
              "      border-bottom-color: var(--fill-color);\n",
              "    }\n",
              "  }\n",
              "</style>\n",
              "\n",
              "  <script>\n",
              "    async function quickchart(key) {\n",
              "      const quickchartButtonEl =\n",
              "        document.querySelector('#' + key + ' button');\n",
              "      quickchartButtonEl.disabled = true;  // To prevent multiple clicks.\n",
              "      quickchartButtonEl.classList.add('colab-df-spinner');\n",
              "      try {\n",
              "        const charts = await google.colab.kernel.invokeFunction(\n",
              "            'suggestCharts', [key], {});\n",
              "      } catch (error) {\n",
              "        console.error('Error during call to suggestCharts:', error);\n",
              "      }\n",
              "      quickchartButtonEl.classList.remove('colab-df-spinner');\n",
              "      quickchartButtonEl.classList.add('colab-df-quickchart-complete');\n",
              "    }\n",
              "    (() => {\n",
              "      let quickchartButtonEl =\n",
              "        document.querySelector('#df-ab0cd6df-4bcc-484a-a16e-b15450a7028f button');\n",
              "      quickchartButtonEl.style.display =\n",
              "        google.colab.kernel.accessAllowed ? 'block' : 'none';\n",
              "    })();\n",
              "  </script>\n",
              "</div>\n",
              "\n",
              "  <div id=\"id_42b06893-f44e-4efe-8515-7ceefe8db878\">\n",
              "    <style>\n",
              "      .colab-df-generate {\n",
              "        background-color: #E8F0FE;\n",
              "        border: none;\n",
              "        border-radius: 50%;\n",
              "        cursor: pointer;\n",
              "        display: none;\n",
              "        fill: #1967D2;\n",
              "        height: 32px;\n",
              "        padding: 0 0 0 0;\n",
              "        width: 32px;\n",
              "      }\n",
              "\n",
              "      .colab-df-generate:hover {\n",
              "        background-color: #E2EBFA;\n",
              "        box-shadow: 0px 1px 2px rgba(60, 64, 67, 0.3), 0px 1px 3px 1px rgba(60, 64, 67, 0.15);\n",
              "        fill: #174EA6;\n",
              "      }\n",
              "\n",
              "      [theme=dark] .colab-df-generate {\n",
              "        background-color: #3B4455;\n",
              "        fill: #D2E3FC;\n",
              "      }\n",
              "\n",
              "      [theme=dark] .colab-df-generate:hover {\n",
              "        background-color: #434B5C;\n",
              "        box-shadow: 0px 1px 3px 1px rgba(0, 0, 0, 0.15);\n",
              "        filter: drop-shadow(0px 1px 2px rgba(0, 0, 0, 0.3));\n",
              "        fill: #FFFFFF;\n",
              "      }\n",
              "    </style>\n",
              "    <button class=\"colab-df-generate\" onclick=\"generateWithVariable('test_dataset')\"\n",
              "            title=\"Generate code using this dataframe.\"\n",
              "            style=\"display:none;\">\n",
              "\n",
              "  <svg xmlns=\"http://www.w3.org/2000/svg\" height=\"24px\"viewBox=\"0 0 24 24\"\n",
              "       width=\"24px\">\n",
              "    <path d=\"M7,19H8.4L18.45,9,17,7.55,7,17.6ZM5,21V16.75L18.45,3.32a2,2,0,0,1,2.83,0l1.4,1.43a1.91,1.91,0,0,1,.58,1.4,1.91,1.91,0,0,1-.58,1.4L9.25,21ZM18.45,9,17,7.55Zm-12,3A5.31,5.31,0,0,0,4.9,8.1,5.31,5.31,0,0,0,1,6.5,5.31,5.31,0,0,0,4.9,4.9,5.31,5.31,0,0,0,6.5,1,5.31,5.31,0,0,0,8.1,4.9,5.31,5.31,0,0,0,12,6.5,5.46,5.46,0,0,0,6.5,12Z\"/>\n",
              "  </svg>\n",
              "    </button>\n",
              "    <script>\n",
              "      (() => {\n",
              "      const buttonEl =\n",
              "        document.querySelector('#id_42b06893-f44e-4efe-8515-7ceefe8db878 button.colab-df-generate');\n",
              "      buttonEl.style.display =\n",
              "        google.colab.kernel.accessAllowed ? 'block' : 'none';\n",
              "\n",
              "      buttonEl.onclick = () => {\n",
              "        google.colab.notebook.generateWithVariable('test_dataset');\n",
              "      }\n",
              "      })();\n",
              "    </script>\n",
              "  </div>\n",
              "\n",
              "    </div>\n",
              "  </div>\n"
            ],
            "application/vnd.google.colaboratory.intrinsic+json": {
              "type": "dataframe",
              "variable_name": "test_dataset",
              "summary": "{\n  \"name\": \"test_dataset\",\n  \"rows\": 300,\n  \"fields\": [\n    {\n      \"column\": \"author\",\n      \"properties\": {\n        \"dtype\": \"category\",\n        \"num_unique_values\": 30,\n        \"samples\": [\n          \"28\",\n          \"16\",\n          \"24\"\n        ],\n        \"semantic_type\": \"\",\n        \"description\": \"\"\n      }\n    },\n    {\n      \"column\": \"article\",\n      \"properties\": {\n        \"dtype\": \"object\",\n        \"semantic_type\": \"\",\n        \"description\": \"\"\n      }\n    }\n  ]\n}"
            }
          },
          "metadata": {},
          "execution_count": 19
        }
      ],
      "source": [
        "test_dataset"
      ]
    },
    {
      "cell_type": "code",
      "execution_count": 20,
      "metadata": {
        "colab": {
          "base_uri": "https://localhost:8080/"
        },
        "id": "TnKsWIR5QfqP",
        "outputId": "d3287d7b-c939-44eb-97eb-3be019864176"
      },
      "outputs": [
        {
          "output_type": "execute_result",
          "data": {
            "text/plain": [
              "300"
            ]
          },
          "metadata": {},
          "execution_count": 20
        }
      ],
      "source": [
        "len(test_dataset)"
      ]
    },
    {
      "cell_type": "markdown",
      "metadata": {
        "id": "MLrVCwy6TSde"
      },
      "source": [
        "### Build Vocabulary\n",
        "\n",
        "> Create a token set which holds all the tokens in train dataset and a token named as ***\\<UNKNOWN>***, for tokens may appear in test dataset but does not appear in train dataset."
      ]
    },
    {
      "cell_type": "code",
      "execution_count": 21,
      "metadata": {
        "id": "osGGN3GwTVS8"
      },
      "outputs": [],
      "source": [
        "total_tokens = 0\n",
        "token_set = set()\n",
        "for _, tokens in train_dataset[\"article\"].items():\n",
        "  total_tokens += len(tokens)\n",
        "  for token in tokens:\n",
        "    token_set.add(token)\n",
        "\n",
        "# Add <UNKNOWN> to token set for occurence of words that are not in corpus.\n",
        "token_set.add(\"<UNKNOWN>\")"
      ]
    },
    {
      "cell_type": "code",
      "execution_count": 22,
      "metadata": {
        "colab": {
          "base_uri": "https://localhost:8080/"
        },
        "id": "MtTxOYbTT23Z",
        "outputId": "34d9ecc2-169b-4844-ed55-e112230d499a"
      },
      "outputs": [
        {
          "output_type": "stream",
          "name": "stdout",
          "text": [
            "Corpus size: 453981, Vocabulary size: 32366\n",
            "\n",
            "First 10 tokens:\n",
            "butterfly\n",
            "clearest\n",
            "duties\n",
            "glued\n",
            "vulgar\n",
            "wounding\n",
            "onlooker\n",
            "clump\n",
            "fronted\n",
            "regulators\n"
          ]
        }
      ],
      "source": [
        "print(f\"Corpus size: {total_tokens}, Vocabulary size: {len(token_set)}\\n\")\n",
        "print(\"First 10 tokens:\")\n",
        "i = 0\n",
        "for token in token_set:\n",
        "  if i >= 10:\n",
        "    break\n",
        "  print(token)\n",
        "  i += 1"
      ]
    },
    {
      "cell_type": "markdown",
      "metadata": {
        "id": "XYBOkCR0UGHP"
      },
      "source": [
        "### Vectorization\n",
        "\n",
        "\n",
        "> token2idx: {token: token_idx}\n",
        "\n",
        "> Create train_vector_df with respect to structure [label, vector].\n",
        "vector is calculated using each tokens term frequency. vector's size is equal to vocabulary size (vocab_size)."
      ]
    },
    {
      "cell_type": "code",
      "execution_count": 23,
      "metadata": {
        "id": "Z7xwCm1fUIeo"
      },
      "outputs": [],
      "source": [
        "# token to index mapping\n",
        "token2idx = {}\n",
        "for idx, term in enumerate(token_set):\n",
        "  token2idx.update({term:idx})"
      ]
    },
    {
      "cell_type": "code",
      "execution_count": 24,
      "metadata": {
        "colab": {
          "base_uri": "https://localhost:8080/"
        },
        "id": "UBtnQ-SKUcRC",
        "outputId": "929f5004-cd57-40be-c34b-374fd40a5090"
      },
      "outputs": [
        {
          "output_type": "stream",
          "name": "stdout",
          "text": [
            "Size: 32366\n",
            "\n",
            "Terms and Indexes:\n",
            "butterfly: 0\n",
            "clearest: 1\n",
            "duties: 2\n",
            "glued: 3\n",
            "vulgar: 4\n",
            "wounding: 5\n",
            "onlooker: 6\n",
            "clump: 7\n",
            "fronted: 8\n",
            "regulators: 9\n"
          ]
        }
      ],
      "source": [
        "print(f\"Size: {len(token2idx)}\\n\\nTerms and Indexes:\")\n",
        "i = 0\n",
        "for key in token2idx:\n",
        "  if i >= 10:\n",
        "    break\n",
        "  print(f\"{key}: {token2idx[key]}\")\n",
        "  i += 1"
      ]
    },
    {
      "cell_type": "code",
      "execution_count": 25,
      "metadata": {
        "id": "Hy4_Fpd1VDim"
      },
      "outputs": [],
      "source": [
        "# Document vectors of Train Set\n",
        "train_vector_df = None\n",
        "vocab_size = len(token_set)\n",
        "article_vectors = []\n",
        "\n",
        "for _, row in train_dataset.iterrows():\n",
        "  vector = [0.0] * vocab_size\n",
        "  for token in row[\"article\"]:\n",
        "    vector[token2idx[token]] += 1\n",
        "\n",
        "  # Normalize the vectors by dividing TFs to number of tokens in the article\n",
        "  for token in set(row[\"article\"]):\n",
        "    idx = token2idx.get(token, token2idx.get(\"<UNKNOWN>\"))\n",
        "    vector[idx] /= len(row[\"article\"])\n",
        "\n",
        "  article_vectors.append([row[\"author\"], vector])\n",
        "\n",
        "train_vector_df = pd.DataFrame(article_vectors, columns=[\"author\", \"vector\"])"
      ]
    },
    {
      "cell_type": "markdown",
      "metadata": {
        "id": "jlSBpsizWDAo"
      },
      "source": [
        "### Model Training\n",
        "\n",
        "> Create a dictionary that holds a vector for each author. **{author: vector}**"
      ]
    },
    {
      "cell_type": "code",
      "execution_count": 26,
      "metadata": {
        "id": "k-Ot0o_QWF_y"
      },
      "outputs": [],
      "source": [
        "import numpy as np\n",
        "\n",
        "# create a dictionary for author vectors, {author: author_vector}\n",
        "author_vectors = {}\n",
        "for author in authors:\n",
        "  author_vectors.update({author:np.array([0.0] * vocab_size)})\n",
        "\n",
        "# convert train dataset vectors to numpy arrays\n",
        "# calculate author vectors using element-wise addition for each author\n",
        "for _, row in train_vector_df.iterrows():\n",
        "  vector = np.array(row[\"vector\"])\n",
        "  author_vectors[row[\"author\"]] += vector"
      ]
    },
    {
      "cell_type": "code",
      "execution_count": 27,
      "metadata": {
        "colab": {
          "base_uri": "https://localhost:8080/"
        },
        "id": "ZNev5qYpczpn",
        "outputId": "21fea88f-03b6-4255-e608-74d6bd6a367d"
      },
      "outputs": [
        {
          "output_type": "stream",
          "name": "stdout",
          "text": [
            "Author 1: [0.         0.         0.00447427 0.         0.         0.\n",
            " 0.         0.         0.         0.         0.         0.00230947\n",
            " 0.         0.         0.         0.         0.         0.\n",
            " 0.         0.        ]\n",
            "\n",
            "Author 2: [0.         0.         0.         0.         0.         0.\n",
            " 0.         0.         0.         0.         0.         0.\n",
            " 0.         0.         0.         0.         0.         0.\n",
            " 0.00226244 0.        ]\n",
            "\n",
            "Author 3: [0.         0.         0.00726927 0.00227273 0.         0.\n",
            " 0.         0.         0.         0.         0.         0.\n",
            " 0.         0.         0.         0.         0.         0.\n",
            " 0.         0.        ]\n",
            "\n",
            "Author 4: [0.         0.         0.         0.         0.         0.\n",
            " 0.         0.         0.         0.         0.         0.\n",
            " 0.         0.         0.00205339 0.         0.         0.\n",
            " 0.00210526 0.00276243]\n",
            "\n",
            "Author 5: [0.         0.         0.00228311 0.         0.         0.\n",
            " 0.         0.         0.         0.00250627 0.         0.\n",
            " 0.         0.         0.         0.00246914 0.         0.\n",
            " 0.         0.        ]\n",
            "\n",
            "Author 6: [0.         0.         0.00961538 0.         0.         0.\n",
            " 0.         0.         0.         0.01530612 0.         0.\n",
            " 0.         0.         0.         0.         0.         0.\n",
            " 0.         0.        ]\n",
            "\n",
            "Author 7: [0.         0.         0.         0.         0.         0.\n",
            " 0.         0.         0.         0.00230947 0.00297619 0.\n",
            " 0.         0.         0.         0.         0.         0.\n",
            " 0.         0.        ]\n",
            "\n",
            "Author 8: [0.         0.00151745 0.         0.         0.         0.\n",
            " 0.         0.         0.         0.         0.         0.\n",
            " 0.         0.         0.         0.         0.         0.\n",
            " 0.         0.        ]\n",
            "\n",
            "Author 9: [0. 0. 0. 0. 0. 0. 0. 0. 0. 0. 0. 0. 0. 0. 0. 0. 0. 0. 0. 0.]\n",
            "\n",
            "Author 10: [0.         0.         0.0013089  0.         0.         0.00379551\n",
            " 0.         0.00106157 0.         0.         0.         0.\n",
            " 0.         0.         0.         0.         0.         0.\n",
            " 0.00131234 0.        ]\n",
            "\n",
            "Author 11: [0.         0.         0.         0.         0.         0.\n",
            " 0.         0.         0.         0.         0.         0.00119332\n",
            " 0.         0.         0.         0.         0.         0.\n",
            " 0.         0.        ]\n",
            "\n",
            "Author 12: [0.         0.         0.00755495 0.         0.         0.\n",
            " 0.         0.         0.         0.         0.         0.\n",
            " 0.         0.         0.         0.         0.         0.\n",
            " 0.         0.        ]\n",
            "\n",
            "Author 13: [0.         0.         0.         0.00185874 0.         0.\n",
            " 0.         0.         0.         0.         0.         0.\n",
            " 0.         0.         0.         0.         0.         0.\n",
            " 0.         0.        ]\n",
            "\n",
            "Author 14: [0.         0.         0.00298507 0.         0.00144718 0.\n",
            " 0.         0.         0.00628931 0.         0.         0.\n",
            " 0.         0.         0.         0.         0.00342466 0.\n",
            " 0.         0.        ]\n",
            "\n",
            "Author 15: [0.        0.        0.        0.        0.        0.        0.\n",
            " 0.        0.        0.        0.        0.0021322 0.        0.\n",
            " 0.        0.        0.        0.        0.        0.       ]\n",
            "\n",
            "Author 16: [0.         0.         0.         0.         0.         0.\n",
            " 0.         0.         0.         0.         0.         0.\n",
            " 0.         0.         0.         0.         0.         0.00239234\n",
            " 0.         0.        ]\n",
            "\n",
            "Author 17: [0.         0.         0.         0.         0.         0.00239234\n",
            " 0.         0.         0.         0.00504549 0.         0.\n",
            " 0.         0.         0.         0.         0.         0.\n",
            " 0.         0.        ]\n",
            "\n",
            "Author 18: [0.         0.         0.         0.         0.         0.\n",
            " 0.         0.         0.         0.00176056 0.         0.\n",
            " 0.0097561  0.         0.         0.         0.         0.\n",
            " 0.         0.        ]\n",
            "\n",
            "Author 19: [0.         0.         0.         0.         0.         0.\n",
            " 0.         0.         0.         0.01383836 0.00103306 0.\n",
            " 0.04783002 0.         0.         0.         0.         0.\n",
            " 0.         0.        ]\n",
            "\n",
            "Author 20: [0.         0.         0.         0.         0.         0.\n",
            " 0.         0.         0.         0.00882547 0.         0.00214592\n",
            " 0.         0.         0.         0.         0.         0.\n",
            " 0.         0.        ]\n",
            "\n",
            "Author 21: [0.         0.         0.00461538 0.         0.         0.\n",
            " 0.         0.         0.         0.01275502 0.         0.\n",
            " 0.01376053 0.         0.         0.         0.         0.\n",
            " 0.         0.        ]\n",
            "\n",
            "Author 22: [0.         0.         0.         0.         0.         0.\n",
            " 0.         0.         0.         0.         0.         0.002331\n",
            " 0.         0.         0.         0.         0.         0.\n",
            " 0.         0.00200401]\n",
            "\n",
            "Author 23: [0.00235849 0.         0.         0.00330033 0.         0.\n",
            " 0.         0.00287356 0.         0.         0.         0.\n",
            " 0.         0.         0.         0.         0.         0.\n",
            " 0.         0.        ]\n",
            "\n",
            "Author 24: [0.         0.         0.         0.         0.         0.\n",
            " 0.         0.         0.         0.         0.         0.\n",
            " 0.         0.         0.         0.         0.         0.00258398\n",
            " 0.         0.        ]\n",
            "\n",
            "Author 25: [0. 0. 0. 0. 0. 0. 0. 0. 0. 0. 0. 0. 0. 0. 0. 0. 0. 0. 0. 0.]\n",
            "\n",
            "Author 26: [0.         0.         0.         0.         0.0023753  0.\n",
            " 0.00276243 0.         0.         0.         0.         0.\n",
            " 0.         0.002      0.         0.         0.         0.\n",
            " 0.         0.        ]\n",
            "\n",
            "Author 27: [0.      0.      0.      0.      0.      0.      0.      0.      0.\n",
            " 0.00625 0.      0.      0.      0.      0.      0.      0.      0.\n",
            " 0.      0.     ]\n",
            "\n",
            "Author 28: [0. 0. 0. 0. 0. 0. 0. 0. 0. 0. 0. 0. 0. 0. 0. 0. 0. 0. 0. 0.]\n",
            "\n",
            "Author 29: [0. 0. 0. 0. 0. 0. 0. 0. 0. 0. 0. 0. 0. 0. 0. 0. 0. 0. 0. 0.]\n",
            "\n",
            "Author 30: [0.         0.00396825 0.         0.         0.         0.\n",
            " 0.         0.         0.         0.00363636 0.         0.\n",
            " 0.         0.         0.         0.         0.         0.\n",
            " 0.         0.        ]\n",
            "\n"
          ]
        }
      ],
      "source": [
        "# First 20 element of each author's vector\n",
        "for author in authors:\n",
        "  print(f\"Author {author}: {author_vectors[author][:20]}\\n\")"
      ]
    },
    {
      "cell_type": "markdown",
      "metadata": {
        "id": "vtKDCQGNdyHr"
      },
      "source": [
        "### Similarity Measure: Cosine\n",
        "\n",
        "> Defining a function which calculates cosine similarity between vectors of the same dimension."
      ]
    },
    {
      "cell_type": "code",
      "execution_count": 28,
      "metadata": {
        "id": "eIvxwoJqd0d9"
      },
      "outputs": [],
      "source": [
        "def cosine_sim(vector1, vector2):\n",
        "  dot_product = np.dot(vector1, vector2)  # dot product of the vectors\n",
        "  magnitude1 = np.linalg.norm(vector1)    # length of vector1\n",
        "  magnitude2 = np.linalg.norm(vector2)    # length of vector2\n",
        "\n",
        "  cosine_similarity = dot_product / (magnitude1 * magnitude2)\n",
        "  return cosine_similarity"
      ]
    },
    {
      "cell_type": "markdown",
      "metadata": {
        "id": "SuUdX16hd9MA"
      },
      "source": [
        "### Testing and Result\n",
        "\n",
        "> Calculate the vector for each review in test_dataset with term frequencies. Predict labels for all reviews using cosine similarity. Finally compare predictions with real labels and calculate the success rate, print out the wrong predictions paired with correct authors."
      ]
    },
    {
      "cell_type": "code",
      "execution_count": 29,
      "metadata": {
        "id": "F9n7L18DeAnz"
      },
      "outputs": [],
      "source": [
        "# Document vectors of Test Set\n",
        "test_vector_df = None\n",
        "vocab_size = len(token_set)\n",
        "test_article_vectors = []\n",
        "\n",
        "for _, row in test_dataset.iterrows():\n",
        "  vector = [0.0] * vocab_size\n",
        "  for token in row[\"article\"]:\n",
        "    idx = token2idx.get(token, token2idx.get(\"<UNKNOWN>\"))\n",
        "    vector[idx] += 1\n",
        "\n",
        "  # Normalize the vectors by dividing TFs to number of tokens in the article\n",
        "  for token in set(row[\"article\"]):\n",
        "    idx = token2idx.get(token, token2idx.get(\"<UNKNOWN>\"))\n",
        "    vector[idx] /= len(row[\"article\"])\n",
        "\n",
        "  test_article_vectors.append([row[\"author\"], vector])\n",
        "\n",
        "test_vector_df = pd.DataFrame(test_article_vectors, columns=[\"author\", \"vector\"])"
      ]
    },
    {
      "cell_type": "code",
      "execution_count": 30,
      "metadata": {
        "colab": {
          "base_uri": "https://localhost:8080/"
        },
        "id": "mkm4ZX9Ie10h",
        "outputId": "eadb76ad-3b3d-4510-d33b-067818a1d4bf"
      },
      "outputs": [
        {
          "output_type": "execute_result",
          "data": {
            "text/plain": [
              "author\n",
              "28    19\n",
              "13    14\n",
              "10    14\n",
              "27    14\n",
              "29    13\n",
              "22    12\n",
              "4     12\n",
              "15    12\n",
              "24    11\n",
              "9     11\n",
              "3     11\n",
              "11    10\n",
              "25    10\n",
              "14    10\n",
              "18    10\n",
              "20    10\n",
              "30    10\n",
              "12     9\n",
              "5      9\n",
              "19     9\n",
              "21     9\n",
              "26     9\n",
              "6      8\n",
              "17     8\n",
              "1      7\n",
              "7      7\n",
              "2      6\n",
              "8      6\n",
              "16     6\n",
              "23     4\n",
              "Name: count, dtype: int64"
            ]
          },
          "metadata": {},
          "execution_count": 30
        }
      ],
      "source": [
        "# test_authors: true authors of articles\n",
        "test_authors, test_vectors  = test_vector_df.iloc[:,0], test_vector_df.iloc[:,1]\n",
        "test_authors.value_counts()"
      ]
    },
    {
      "cell_type": "code",
      "execution_count": 31,
      "metadata": {
        "id": "Ht8sRU1Ef8sr"
      },
      "outputs": [],
      "source": [
        "# make all predictions\n",
        "predicted_authors = []  # list of predictions\n",
        "for vector in test_vectors:\n",
        "  similarities = []\n",
        "  for author in author_vectors:\n",
        "    similarities.append(cosine_sim(np.array(vector), author_vectors[author]))\n",
        "  max_idx = 0\n",
        "  max_sim = similarities[0]\n",
        "  for i in range(1, len(similarities)):\n",
        "    if similarities[i] > max_sim:\n",
        "      max_sim = similarities[i]\n",
        "      max_idx = i\n",
        "  predicted_authors.append(str(max_idx+1))"
      ]
    },
    {
      "cell_type": "code",
      "execution_count": 32,
      "metadata": {
        "id": "KcMw9RTzldCE",
        "colab": {
          "base_uri": "https://localhost:8080/"
        },
        "outputId": "9ffd05fb-1f9e-4b02-e56a-4dbf207f3af7"
      },
      "outputs": [
        {
          "output_type": "stream",
          "name": "stdout",
          "text": [
            "Success rate: 0.7733\n"
          ]
        }
      ],
      "source": [
        "correct_predictions = 0\n",
        "for idx, predicted_author in enumerate(predicted_authors):\n",
        "  if predicted_author == test_authors[idx]:\n",
        "    correct_predictions += 1\n",
        "\n",
        "success_rate = correct_predictions / len(predicted_authors)\n",
        "print(f\"Success rate: {success_rate:.4g}\")"
      ]
    },
    {
      "cell_type": "code",
      "execution_count": 33,
      "metadata": {
        "id": "gO2zhjNA_6na",
        "colab": {
          "base_uri": "https://localhost:8080/"
        },
        "outputId": "501287dc-c97e-44cc-e42b-0dffd99105d9"
      },
      "outputs": [
        {
          "output_type": "stream",
          "name": "stdout",
          "text": [
            "Author\tPrediction\n",
            "  1   \t    3     \n",
            "  1   \t    5     \n",
            "  1   \t    20    \n",
            "  1   \t    4     \n",
            "  2   \t    3     \n",
            "  2   \t    3     \n",
            "  3   \t    10    \n",
            "  3   \t    18    \n",
            "  3   \t    2     \n",
            "  3   \t    2     \n",
            "  4   \t    7     \n",
            "  4   \t    2     \n",
            "  4   \t    2     \n",
            "  4   \t    2     \n",
            "  4   \t    1     \n",
            "  4   \t    10    \n",
            "  4   \t    3     \n",
            "  4   \t    1     \n",
            "  4   \t    2     \n",
            "  6   \t    10    \n",
            "  6   \t    1     \n",
            "  6   \t    3     \n",
            "  6   \t    10    \n",
            "  6   \t    10    \n",
            "  8   \t    22    \n",
            "  8   \t    28    \n",
            "  8   \t    6     \n",
            "  9   \t    11    \n",
            "  9   \t    11    \n",
            "  9   \t    16    \n",
            "  9   \t    24    \n",
            "  10  \t    5     \n",
            "  12  \t    26    \n",
            "  13  \t    14    \n",
            "  14  \t    26    \n",
            "  14  \t    26    \n",
            "  14  \t    22    \n",
            "  14  \t    12    \n",
            "  14  \t    22    \n",
            "  15  \t    13    \n",
            "  18  \t    19    \n",
            "  18  \t    19    \n",
            "  18  \t    19    \n",
            "  19  \t    11    \n",
            "  20  \t    10    \n",
            "  22  \t    14    \n",
            "  24  \t    16    \n",
            "  24  \t    16    \n",
            "  26  \t    14    \n",
            "  26  \t    22    \n",
            "  27  \t    23    \n",
            "  27  \t    11    \n",
            "  27  \t    23    \n",
            "  28  \t    12    \n",
            "  28  \t    12    \n",
            "  28  \t    8     \n",
            "  28  \t    12    \n",
            "  28  \t    8     \n",
            "  28  \t    26    \n",
            "  28  \t    12    \n",
            "  28  \t    26    \n",
            "  28  \t    12    \n",
            "  29  \t    16    \n",
            "  29  \t    27    \n",
            "  29  \t    11    \n",
            "  29  \t    11    \n",
            "  30  \t    15    \n",
            "  30  \t    21    \n"
          ]
        }
      ],
      "source": [
        "# Uncorrect predictions\n",
        "print(\"Author\\tPrediction\")\n",
        "for idx, predicted_author in enumerate(predicted_authors):\n",
        "  if predicted_author != test_authors[idx]:\n",
        "    print(f\"{test_authors[idx]:^6}\\t{predicted_author:^10}\")"
      ]
    }
  ],
  "metadata": {
    "colab": {
      "collapsed_sections": [
        "ld6oNQwlD1me",
        "Uv_d-SNEIxM6",
        "JddpVJT2P00b",
        "MLrVCwy6TSde",
        "XYBOkCR0UGHP",
        "jlSBpsizWDAo",
        "vtKDCQGNdyHr",
        "SuUdX16hd9MA"
      ],
      "provenance": []
    },
    "kernelspec": {
      "display_name": "Python 3",
      "name": "python3"
    },
    "language_info": {
      "name": "python"
    }
  },
  "nbformat": 4,
  "nbformat_minor": 0
}