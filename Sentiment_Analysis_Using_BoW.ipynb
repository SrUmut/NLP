{
  "nbformat": 4,
  "nbformat_minor": 0,
  "metadata": {
    "colab": {
      "provenance": [],
      "collapsed_sections": [
        "lFe-jdNSBiT6",
        "RsSJ58n9g88-",
        "ux2t6n3jzjSK",
        "5mHWVEhYq__V",
        "o59riYTSrny8",
        "zecgvvUX1yqw",
        "iP9Ryh9S3B5B"
      ]
    },
    "kernelspec": {
      "name": "python3",
      "display_name": "Python 3"
    },
    "language_info": {
      "name": "python"
    }
  },
  "cells": [
    {
      "cell_type": "markdown",
      "source": [
        "###Dataset"
      ],
      "metadata": {
        "id": "lFe-jdNSBiT6"
      }
    },
    {
      "cell_type": "markdown",
      "source": [
        ">Dataset is taken from https://www.win.tue.nl/~mpechen/projects/smm/.\n",
        "\n",
        ">It consists of 5331 positive and 5331 negative movie reviews in Turkish."
      ],
      "metadata": {
        "id": "JIXZ_4EgBt9m"
      }
    },
    {
      "cell_type": "markdown",
      "source": [],
      "metadata": {
        "id": "QLibqRmnCZGl"
      }
    },
    {
      "cell_type": "markdown",
      "source": [
        "###Load Dataset"
      ],
      "metadata": {
        "id": "RsSJ58n9g88-"
      }
    },
    {
      "cell_type": "code",
      "execution_count": null,
      "metadata": {
        "colab": {
          "base_uri": "https://localhost:8080/"
        },
        "id": "yEOuH16vg4zV",
        "outputId": "30f5a2f3-0315-4708-d2dd-6d17cd58905c"
      },
      "outputs": [
        {
          "output_type": "stream",
          "name": "stdout",
          "text": [
            "  % Total    % Received % Xferd  Average Speed   Time    Time     Time  Current\n",
            "                                 Dload  Upload   Total   Spent    Left  Speed\n",
            "\r  0     0    0     0    0     0      0      0 --:--:-- --:--:-- --:--:--     0\r100  520k  100  520k    0     0  3225k      0 --:--:-- --:--:-- --:--:-- 3234k\n"
          ]
        }
      ],
      "source": [
        "!curl https://www.win.tue.nl/~mpechen/projects/smm/Turkish_Movie_Sentiment.zip -o ./Turkish_Movie_Sentiment.zip"
      ]
    },
    {
      "cell_type": "code",
      "source": [
        "!unzip /content/Turkish_Movie_Sentiment.zip -d /content"
      ],
      "metadata": {
        "colab": {
          "base_uri": "https://localhost:8080/"
        },
        "id": "-BsACHdohCHr",
        "outputId": "3d549196-8bfa-4512-b072-979ba88afdcc"
      },
      "execution_count": null,
      "outputs": [
        {
          "output_type": "stream",
          "name": "stdout",
          "text": [
            "Archive:  /content/Turkish_Movie_Sentiment.zip\n",
            "replace /content/tr_polarity.neg? [y]es, [n]o, [A]ll, [N]one, [r]ename: "
          ]
        }
      ]
    },
    {
      "cell_type": "markdown",
      "source": [
        "> Each line in the review files is one review."
      ],
      "metadata": {
        "id": "6MUvsfUchVSB"
      }
    },
    {
      "cell_type": "code",
      "source": [
        "# Positive Reviews\n",
        "with open(\"./tr_polarity.pos\", \"rb\") as f:\n",
        "  review_pos_list = f.read().decode(\"iso-8859-9\").replace(\"\\r\", \"\").split(\"\\n\")\n",
        "\n",
        "# Negative Reviews\n",
        "with open(\"./tr_polarity.neg\", \"rb\") as f:\n",
        "  review_neg_list = f.read().decode(\"iso-8859-9\").replace(\"\\r\", \"\").split(\"\\n\")"
      ],
      "metadata": {
        "id": "U0SMDDenhZUl"
      },
      "execution_count": null,
      "outputs": []
    },
    {
      "cell_type": "code",
      "source": [
        "print(f\"First 5 positive reviews of total {len(review_pos_list)}:\\n \", *review_pos_list[:5], sep=\"\\n\")\n",
        "print(f\"\\n\\nFirst 5 negative review of total {len(review_neg_list)}:\\n \", *review_neg_list[:5], sep=\"\\n\")"
      ],
      "metadata": {
        "colab": {
          "base_uri": "https://localhost:8080/"
        },
        "id": "gmPnXGvNh9tu",
        "outputId": "99713d4a-db92-43c9-eade-e272ac2086b4"
      },
      "execution_count": null,
      "outputs": [
        {
          "output_type": "stream",
          "name": "stdout",
          "text": [
            "First 5 positive reviews of total 5332:\n",
            " \n",
            "gerçekten harika bir yapim birçok kez izledim gene izlerim özgürlük askini ve ingilizlerin ne kadar vahset olduklarini gözler önüne seren bir film ve tabi ki ask.... \n",
            "her izledigimde hayranlik duydugum gerçek klasik diyebilecegimiz filmlerden . içinde teknik hatalar barindirsa bile sinema olgusunun en üst noktalarindan.. \n",
            "gerçekten tarihi savas filmleri arasinda tartismasiz en iyisi , 12 yil boyunca acaba ikincisi çekirimi diye bekledigim bir film ,belki william wallace babasinin ölümünden sonra amcasi yanina almisti onu yetistirmisti belki bunu anlatan mükkemmel bir filim olablilr=). \n",
            "aldigi ödülleri sonuna dek hak eden muhtesem bir basyapit . \n",
            "özgürlük denilince aklima gelen ilk film.bir basyapit.. \n",
            "\n",
            "\n",
            "First 5 negative review of total 5332:\n",
            " \n",
            "giseye oynayan bir film.mel gibson'in oyunculugu yine çok kötü.film bastan sona duygu sömürüsü ama anlayan nerde!. \n",
            "bircok yonden sahip olduklari zayifliklari populerligi iyi kullanmasiyla gidermis zayif bir yapim... \n",
            "1995 ten bu yana bu tür filmler artti , o zamanlar basarili sayilabilecekse de suan emin degilim. konusu baya siradan .. \n",
            "mel gibson tam bir ingiliz düsmani her filminde belirtiyor bunu. film yine cok iyi. biz kurtulus mücadelemizi böyle bir filmle simgeleyemedik. üzülüyorum bu yüzden.. \n",
            "milliyetçi bir film tavsiye etmiyorum.... \n"
          ]
        }
      ]
    },
    {
      "cell_type": "code",
      "source": [
        "for idx, rev in enumerate(review_pos_list):\n",
        "  if not rev:\n",
        "    print(idx)\n",
        "\n",
        "for idx, rev in enumerate(review_neg_list):\n",
        "  if not rev:\n",
        "    print(idx)"
      ],
      "metadata": {
        "colab": {
          "base_uri": "https://localhost:8080/"
        },
        "id": "inhKdcVUDVcp",
        "outputId": "d799516c-41f1-4847-e914-5c6564867c2b"
      },
      "execution_count": null,
      "outputs": [
        {
          "output_type": "stream",
          "name": "stdout",
          "text": [
            "5331\n",
            "4890\n",
            "5331\n"
          ]
        }
      ]
    },
    {
      "cell_type": "markdown",
      "source": [
        "We will use pandas for dataset operations using DataFrame."
      ],
      "metadata": {
        "id": "0zOz-KdiqJdO"
      }
    },
    {
      "cell_type": "code",
      "source": [
        "import pandas as pd"
      ],
      "metadata": {
        "id": "nnHKzr43qLGr"
      },
      "execution_count": null,
      "outputs": []
    },
    {
      "cell_type": "markdown",
      "source": [
        "We will use NLTK library for text preprocessing\n"
      ],
      "metadata": {
        "id": "dAxTA00YqNje"
      }
    },
    {
      "cell_type": "code",
      "source": [
        "import nltk\n",
        "nltk.download(\"punkt\")"
      ],
      "metadata": {
        "colab": {
          "base_uri": "https://localhost:8080/"
        },
        "id": "eDsKpKmtqPbh",
        "outputId": "59710051-a715-4e6c-ff2b-aa56d4ade1a7"
      },
      "execution_count": null,
      "outputs": [
        {
          "output_type": "stream",
          "name": "stderr",
          "text": [
            "[nltk_data] Downloading package punkt to /root/nltk_data...\n",
            "[nltk_data]   Package punkt is already up-to-date!\n"
          ]
        },
        {
          "output_type": "execute_result",
          "data": {
            "text/plain": [
              "True"
            ]
          },
          "metadata": {},
          "execution_count": 30
        }
      ]
    },
    {
      "cell_type": "markdown",
      "source": [
        "Convert positive and negative reviews to dataframe.\n",
        "\n",
        "To do that, we first convert the reviews a list of list such that:\n",
        "\n",
        "```\n",
        "[ [1, 'review'], [1, 'review'], ..., [0, 'review'], [0, 'review'], ...]\n",
        "```"
      ],
      "metadata": {
        "id": "smAP9ZL3qatX"
      }
    },
    {
      "cell_type": "code",
      "source": [
        "# Convert reviews to pandas dataframe\n",
        "dataset = pd.DataFrame([[1, prev] for prev in review_pos_list if prev] + [[0, nrev] for nrev in review_neg_list if nrev] , columns=[\"label\", \"review\"])\n",
        "\n",
        "dataset.info()"
      ],
      "metadata": {
        "colab": {
          "base_uri": "https://localhost:8080/"
        },
        "id": "nJq6BOM6qTeP",
        "outputId": "23182027-6ce7-4fd0-c5d5-59793cb18e9d"
      },
      "execution_count": null,
      "outputs": [
        {
          "output_type": "stream",
          "name": "stdout",
          "text": [
            "<class 'pandas.core.frame.DataFrame'>\n",
            "RangeIndex: 10661 entries, 0 to 10660\n",
            "Data columns (total 2 columns):\n",
            " #   Column  Non-Null Count  Dtype \n",
            "---  ------  --------------  ----- \n",
            " 0   label   10661 non-null  int64 \n",
            " 1   review  10661 non-null  object\n",
            "dtypes: int64(1), object(1)\n",
            "memory usage: 166.7+ KB\n"
          ]
        }
      ]
    },
    {
      "cell_type": "markdown",
      "source": [
        "Tokenize the documents"
      ],
      "metadata": {
        "id": "2dWmCxZfqi_k"
      }
    },
    {
      "cell_type": "markdown",
      "source": [
        "####Punctuations Stop Words Case Folding"
      ],
      "metadata": {
        "id": "aHOMjtQeagB7"
      }
    },
    {
      "cell_type": "code",
      "source": [
        "from nltk.corpus import stopwords;\n",
        "nltk.download(\"stopwords\");\n",
        "stop_words = stopwords.words(\"turkish\");"
      ],
      "metadata": {
        "colab": {
          "base_uri": "https://localhost:8080/"
        },
        "id": "1KrZpFnYb66c",
        "outputId": "ce2488b8-a674-431a-865f-154463e7d60c"
      },
      "execution_count": null,
      "outputs": [
        {
          "output_type": "stream",
          "name": "stderr",
          "text": [
            "[nltk_data] Downloading package stopwords to /root/nltk_data...\n",
            "[nltk_data]   Package stopwords is already up-to-date!\n"
          ]
        }
      ]
    },
    {
      "cell_type": "code",
      "source": [
        "print(stop_words)"
      ],
      "metadata": {
        "colab": {
          "base_uri": "https://localhost:8080/"
        },
        "id": "Z1xzD7tW3TaJ",
        "outputId": "9a1b80b6-0d88-461f-c8d8-6fb7184a05b8"
      },
      "execution_count": null,
      "outputs": [
        {
          "output_type": "stream",
          "name": "stdout",
          "text": [
            "['acaba', 'ama', 'aslında', 'az', 'bazı', 'belki', 'biri', 'birkaç', 'birşey', 'biz', 'bu', 'çok', 'çünkü', 'da', 'daha', 'de', 'defa', 'diye', 'eğer', 'en', 'gibi', 'hem', 'hep', 'hepsi', 'her', 'hiç', 'için', 'ile', 'ise', 'kez', 'ki', 'kim', 'mı', 'mu', 'mü', 'nasıl', 'ne', 'neden', 'nerde', 'nerede', 'nereye', 'niçin', 'niye', 'o', 'sanki', 'şey', 'siz', 'şu', 'tüm', 've', 'veya', 'ya', 'yani']\n"
          ]
        }
      ]
    },
    {
      "cell_type": "code",
      "source": [
        "from nltk.tokenize import word_tokenize\n",
        "import re\n",
        "# Removing punctuations and stop words, and applying case folding\n",
        "for idx, row in dataset.iterrows():\n",
        "    dataset.at[idx, \"review\"] = [token.lower() for token in word_tokenize(re.sub(r\"\\.\", \" . \", row[\"review\"]))  if token.isalpha() and (token.lower() not in stop_words)]"
      ],
      "metadata": {
        "id": "PTbFAW3la_Gt"
      },
      "execution_count": null,
      "outputs": []
    },
    {
      "cell_type": "markdown",
      "source": [
        "###Train-Test Splits"
      ],
      "metadata": {
        "id": "ux2t6n3jzjSK"
      }
    },
    {
      "cell_type": "code",
      "source": [
        "# Train Dataset\n",
        "train_dataset = dataset.sample(frac=0.8, random_state=1)"
      ],
      "metadata": {
        "id": "L2zfmE5uziyG"
      },
      "execution_count": null,
      "outputs": []
    },
    {
      "cell_type": "code",
      "source": [
        "train_dataset"
      ],
      "metadata": {
        "colab": {
          "base_uri": "https://localhost:8080/",
          "height": 424
        },
        "id": "FkNV4JMyz11Z",
        "outputId": "ee1c2b96-2e30-4a79-9708-80c994713f7d"
      },
      "execution_count": null,
      "outputs": [
        {
          "output_type": "execute_result",
          "data": {
            "text/plain": [
              "       label                                             review\n",
              "1777       1  [iyi, film, noluyor, lan, demekten, filme, kon...\n",
              "6818       0  [das, experimenti, yeniden, çekmisler, gerek, ...\n",
              "1305       1  [yaw, herhangi, bir, kanal, filmi, yayinlasa, ...\n",
              "6106       0  [filmi, dün, gece, izledim, bekledigim, çikmad...\n",
              "1185       1   [tom, hanks, senaryo, iyi, film, zaten, asmisss]\n",
              "...      ...                                                ...\n",
              "7062       0  [acayip, zorlama, bir, film, olmus, puani, pop...\n",
              "4690       1  [dvd, sini, nerdeyse, hafta, önce, izledim, sa...\n",
              "6497       0  [serinin, iyi, filmiydi, serinin, ilk, filmi, ...\n",
              "10558      0  [seyrettim, foktan, filimdi, gidip, korsanini,...\n",
              "8334       0  [umdugum, bulmadim, kesinlikle, çocuklara, yön...\n",
              "\n",
              "[8529 rows x 2 columns]"
            ],
            "text/html": [
              "\n",
              "  <div id=\"df-4354e8e0-47a4-4556-9dfb-0c0bf03c45de\" class=\"colab-df-container\">\n",
              "    <div>\n",
              "<style scoped>\n",
              "    .dataframe tbody tr th:only-of-type {\n",
              "        vertical-align: middle;\n",
              "    }\n",
              "\n",
              "    .dataframe tbody tr th {\n",
              "        vertical-align: top;\n",
              "    }\n",
              "\n",
              "    .dataframe thead th {\n",
              "        text-align: right;\n",
              "    }\n",
              "</style>\n",
              "<table border=\"1\" class=\"dataframe\">\n",
              "  <thead>\n",
              "    <tr style=\"text-align: right;\">\n",
              "      <th></th>\n",
              "      <th>label</th>\n",
              "      <th>review</th>\n",
              "    </tr>\n",
              "  </thead>\n",
              "  <tbody>\n",
              "    <tr>\n",
              "      <th>1777</th>\n",
              "      <td>1</td>\n",
              "      <td>[iyi, film, noluyor, lan, demekten, filme, kon...</td>\n",
              "    </tr>\n",
              "    <tr>\n",
              "      <th>6818</th>\n",
              "      <td>0</td>\n",
              "      <td>[das, experimenti, yeniden, çekmisler, gerek, ...</td>\n",
              "    </tr>\n",
              "    <tr>\n",
              "      <th>1305</th>\n",
              "      <td>1</td>\n",
              "      <td>[yaw, herhangi, bir, kanal, filmi, yayinlasa, ...</td>\n",
              "    </tr>\n",
              "    <tr>\n",
              "      <th>6106</th>\n",
              "      <td>0</td>\n",
              "      <td>[filmi, dün, gece, izledim, bekledigim, çikmad...</td>\n",
              "    </tr>\n",
              "    <tr>\n",
              "      <th>1185</th>\n",
              "      <td>1</td>\n",
              "      <td>[tom, hanks, senaryo, iyi, film, zaten, asmisss]</td>\n",
              "    </tr>\n",
              "    <tr>\n",
              "      <th>...</th>\n",
              "      <td>...</td>\n",
              "      <td>...</td>\n",
              "    </tr>\n",
              "    <tr>\n",
              "      <th>7062</th>\n",
              "      <td>0</td>\n",
              "      <td>[acayip, zorlama, bir, film, olmus, puani, pop...</td>\n",
              "    </tr>\n",
              "    <tr>\n",
              "      <th>4690</th>\n",
              "      <td>1</td>\n",
              "      <td>[dvd, sini, nerdeyse, hafta, önce, izledim, sa...</td>\n",
              "    </tr>\n",
              "    <tr>\n",
              "      <th>6497</th>\n",
              "      <td>0</td>\n",
              "      <td>[serinin, iyi, filmiydi, serinin, ilk, filmi, ...</td>\n",
              "    </tr>\n",
              "    <tr>\n",
              "      <th>10558</th>\n",
              "      <td>0</td>\n",
              "      <td>[seyrettim, foktan, filimdi, gidip, korsanini,...</td>\n",
              "    </tr>\n",
              "    <tr>\n",
              "      <th>8334</th>\n",
              "      <td>0</td>\n",
              "      <td>[umdugum, bulmadim, kesinlikle, çocuklara, yön...</td>\n",
              "    </tr>\n",
              "  </tbody>\n",
              "</table>\n",
              "<p>8529 rows × 2 columns</p>\n",
              "</div>\n",
              "    <div class=\"colab-df-buttons\">\n",
              "\n",
              "  <div class=\"colab-df-container\">\n",
              "    <button class=\"colab-df-convert\" onclick=\"convertToInteractive('df-4354e8e0-47a4-4556-9dfb-0c0bf03c45de')\"\n",
              "            title=\"Convert this dataframe to an interactive table.\"\n",
              "            style=\"display:none;\">\n",
              "\n",
              "  <svg xmlns=\"http://www.w3.org/2000/svg\" height=\"24px\" viewBox=\"0 -960 960 960\">\n",
              "    <path d=\"M120-120v-720h720v720H120Zm60-500h600v-160H180v160Zm220 220h160v-160H400v160Zm0 220h160v-160H400v160ZM180-400h160v-160H180v160Zm440 0h160v-160H620v160ZM180-180h160v-160H180v160Zm440 0h160v-160H620v160Z\"/>\n",
              "  </svg>\n",
              "    </button>\n",
              "\n",
              "  <style>\n",
              "    .colab-df-container {\n",
              "      display:flex;\n",
              "      gap: 12px;\n",
              "    }\n",
              "\n",
              "    .colab-df-convert {\n",
              "      background-color: #E8F0FE;\n",
              "      border: none;\n",
              "      border-radius: 50%;\n",
              "      cursor: pointer;\n",
              "      display: none;\n",
              "      fill: #1967D2;\n",
              "      height: 32px;\n",
              "      padding: 0 0 0 0;\n",
              "      width: 32px;\n",
              "    }\n",
              "\n",
              "    .colab-df-convert:hover {\n",
              "      background-color: #E2EBFA;\n",
              "      box-shadow: 0px 1px 2px rgba(60, 64, 67, 0.3), 0px 1px 3px 1px rgba(60, 64, 67, 0.15);\n",
              "      fill: #174EA6;\n",
              "    }\n",
              "\n",
              "    .colab-df-buttons div {\n",
              "      margin-bottom: 4px;\n",
              "    }\n",
              "\n",
              "    [theme=dark] .colab-df-convert {\n",
              "      background-color: #3B4455;\n",
              "      fill: #D2E3FC;\n",
              "    }\n",
              "\n",
              "    [theme=dark] .colab-df-convert:hover {\n",
              "      background-color: #434B5C;\n",
              "      box-shadow: 0px 1px 3px 1px rgba(0, 0, 0, 0.15);\n",
              "      filter: drop-shadow(0px 1px 2px rgba(0, 0, 0, 0.3));\n",
              "      fill: #FFFFFF;\n",
              "    }\n",
              "  </style>\n",
              "\n",
              "    <script>\n",
              "      const buttonEl =\n",
              "        document.querySelector('#df-4354e8e0-47a4-4556-9dfb-0c0bf03c45de button.colab-df-convert');\n",
              "      buttonEl.style.display =\n",
              "        google.colab.kernel.accessAllowed ? 'block' : 'none';\n",
              "\n",
              "      async function convertToInteractive(key) {\n",
              "        const element = document.querySelector('#df-4354e8e0-47a4-4556-9dfb-0c0bf03c45de');\n",
              "        const dataTable =\n",
              "          await google.colab.kernel.invokeFunction('convertToInteractive',\n",
              "                                                    [key], {});\n",
              "        if (!dataTable) return;\n",
              "\n",
              "        const docLinkHtml = 'Like what you see? Visit the ' +\n",
              "          '<a target=\"_blank\" href=https://colab.research.google.com/notebooks/data_table.ipynb>data table notebook</a>'\n",
              "          + ' to learn more about interactive tables.';\n",
              "        element.innerHTML = '';\n",
              "        dataTable['output_type'] = 'display_data';\n",
              "        await google.colab.output.renderOutput(dataTable, element);\n",
              "        const docLink = document.createElement('div');\n",
              "        docLink.innerHTML = docLinkHtml;\n",
              "        element.appendChild(docLink);\n",
              "      }\n",
              "    </script>\n",
              "  </div>\n",
              "\n",
              "\n",
              "<div id=\"df-3eb52046-e1ac-4ea4-a737-5dabc72575ca\">\n",
              "  <button class=\"colab-df-quickchart\" onclick=\"quickchart('df-3eb52046-e1ac-4ea4-a737-5dabc72575ca')\"\n",
              "            title=\"Suggest charts\"\n",
              "            style=\"display:none;\">\n",
              "\n",
              "<svg xmlns=\"http://www.w3.org/2000/svg\" height=\"24px\"viewBox=\"0 0 24 24\"\n",
              "     width=\"24px\">\n",
              "    <g>\n",
              "        <path d=\"M19 3H5c-1.1 0-2 .9-2 2v14c0 1.1.9 2 2 2h14c1.1 0 2-.9 2-2V5c0-1.1-.9-2-2-2zM9 17H7v-7h2v7zm4 0h-2V7h2v10zm4 0h-2v-4h2v4z\"/>\n",
              "    </g>\n",
              "</svg>\n",
              "  </button>\n",
              "\n",
              "<style>\n",
              "  .colab-df-quickchart {\n",
              "      --bg-color: #E8F0FE;\n",
              "      --fill-color: #1967D2;\n",
              "      --hover-bg-color: #E2EBFA;\n",
              "      --hover-fill-color: #174EA6;\n",
              "      --disabled-fill-color: #AAA;\n",
              "      --disabled-bg-color: #DDD;\n",
              "  }\n",
              "\n",
              "  [theme=dark] .colab-df-quickchart {\n",
              "      --bg-color: #3B4455;\n",
              "      --fill-color: #D2E3FC;\n",
              "      --hover-bg-color: #434B5C;\n",
              "      --hover-fill-color: #FFFFFF;\n",
              "      --disabled-bg-color: #3B4455;\n",
              "      --disabled-fill-color: #666;\n",
              "  }\n",
              "\n",
              "  .colab-df-quickchart {\n",
              "    background-color: var(--bg-color);\n",
              "    border: none;\n",
              "    border-radius: 50%;\n",
              "    cursor: pointer;\n",
              "    display: none;\n",
              "    fill: var(--fill-color);\n",
              "    height: 32px;\n",
              "    padding: 0;\n",
              "    width: 32px;\n",
              "  }\n",
              "\n",
              "  .colab-df-quickchart:hover {\n",
              "    background-color: var(--hover-bg-color);\n",
              "    box-shadow: 0 1px 2px rgba(60, 64, 67, 0.3), 0 1px 3px 1px rgba(60, 64, 67, 0.15);\n",
              "    fill: var(--button-hover-fill-color);\n",
              "  }\n",
              "\n",
              "  .colab-df-quickchart-complete:disabled,\n",
              "  .colab-df-quickchart-complete:disabled:hover {\n",
              "    background-color: var(--disabled-bg-color);\n",
              "    fill: var(--disabled-fill-color);\n",
              "    box-shadow: none;\n",
              "  }\n",
              "\n",
              "  .colab-df-spinner {\n",
              "    border: 2px solid var(--fill-color);\n",
              "    border-color: transparent;\n",
              "    border-bottom-color: var(--fill-color);\n",
              "    animation:\n",
              "      spin 1s steps(1) infinite;\n",
              "  }\n",
              "\n",
              "  @keyframes spin {\n",
              "    0% {\n",
              "      border-color: transparent;\n",
              "      border-bottom-color: var(--fill-color);\n",
              "      border-left-color: var(--fill-color);\n",
              "    }\n",
              "    20% {\n",
              "      border-color: transparent;\n",
              "      border-left-color: var(--fill-color);\n",
              "      border-top-color: var(--fill-color);\n",
              "    }\n",
              "    30% {\n",
              "      border-color: transparent;\n",
              "      border-left-color: var(--fill-color);\n",
              "      border-top-color: var(--fill-color);\n",
              "      border-right-color: var(--fill-color);\n",
              "    }\n",
              "    40% {\n",
              "      border-color: transparent;\n",
              "      border-right-color: var(--fill-color);\n",
              "      border-top-color: var(--fill-color);\n",
              "    }\n",
              "    60% {\n",
              "      border-color: transparent;\n",
              "      border-right-color: var(--fill-color);\n",
              "    }\n",
              "    80% {\n",
              "      border-color: transparent;\n",
              "      border-right-color: var(--fill-color);\n",
              "      border-bottom-color: var(--fill-color);\n",
              "    }\n",
              "    90% {\n",
              "      border-color: transparent;\n",
              "      border-bottom-color: var(--fill-color);\n",
              "    }\n",
              "  }\n",
              "</style>\n",
              "\n",
              "  <script>\n",
              "    async function quickchart(key) {\n",
              "      const quickchartButtonEl =\n",
              "        document.querySelector('#' + key + ' button');\n",
              "      quickchartButtonEl.disabled = true;  // To prevent multiple clicks.\n",
              "      quickchartButtonEl.classList.add('colab-df-spinner');\n",
              "      try {\n",
              "        const charts = await google.colab.kernel.invokeFunction(\n",
              "            'suggestCharts', [key], {});\n",
              "      } catch (error) {\n",
              "        console.error('Error during call to suggestCharts:', error);\n",
              "      }\n",
              "      quickchartButtonEl.classList.remove('colab-df-spinner');\n",
              "      quickchartButtonEl.classList.add('colab-df-quickchart-complete');\n",
              "    }\n",
              "    (() => {\n",
              "      let quickchartButtonEl =\n",
              "        document.querySelector('#df-3eb52046-e1ac-4ea4-a737-5dabc72575ca button');\n",
              "      quickchartButtonEl.style.display =\n",
              "        google.colab.kernel.accessAllowed ? 'block' : 'none';\n",
              "    })();\n",
              "  </script>\n",
              "</div>\n",
              "\n",
              "  <div id=\"id_5babc0fb-6637-41a7-9f0f-f2018905274d\">\n",
              "    <style>\n",
              "      .colab-df-generate {\n",
              "        background-color: #E8F0FE;\n",
              "        border: none;\n",
              "        border-radius: 50%;\n",
              "        cursor: pointer;\n",
              "        display: none;\n",
              "        fill: #1967D2;\n",
              "        height: 32px;\n",
              "        padding: 0 0 0 0;\n",
              "        width: 32px;\n",
              "      }\n",
              "\n",
              "      .colab-df-generate:hover {\n",
              "        background-color: #E2EBFA;\n",
              "        box-shadow: 0px 1px 2px rgba(60, 64, 67, 0.3), 0px 1px 3px 1px rgba(60, 64, 67, 0.15);\n",
              "        fill: #174EA6;\n",
              "      }\n",
              "\n",
              "      [theme=dark] .colab-df-generate {\n",
              "        background-color: #3B4455;\n",
              "        fill: #D2E3FC;\n",
              "      }\n",
              "\n",
              "      [theme=dark] .colab-df-generate:hover {\n",
              "        background-color: #434B5C;\n",
              "        box-shadow: 0px 1px 3px 1px rgba(0, 0, 0, 0.15);\n",
              "        filter: drop-shadow(0px 1px 2px rgba(0, 0, 0, 0.3));\n",
              "        fill: #FFFFFF;\n",
              "      }\n",
              "    </style>\n",
              "    <button class=\"colab-df-generate\" onclick=\"generateWithVariable('train_dataset')\"\n",
              "            title=\"Generate code using this dataframe.\"\n",
              "            style=\"display:none;\">\n",
              "\n",
              "  <svg xmlns=\"http://www.w3.org/2000/svg\" height=\"24px\"viewBox=\"0 0 24 24\"\n",
              "       width=\"24px\">\n",
              "    <path d=\"M7,19H8.4L18.45,9,17,7.55,7,17.6ZM5,21V16.75L18.45,3.32a2,2,0,0,1,2.83,0l1.4,1.43a1.91,1.91,0,0,1,.58,1.4,1.91,1.91,0,0,1-.58,1.4L9.25,21ZM18.45,9,17,7.55Zm-12,3A5.31,5.31,0,0,0,4.9,8.1,5.31,5.31,0,0,0,1,6.5,5.31,5.31,0,0,0,4.9,4.9,5.31,5.31,0,0,0,6.5,1,5.31,5.31,0,0,0,8.1,4.9,5.31,5.31,0,0,0,12,6.5,5.46,5.46,0,0,0,6.5,12Z\"/>\n",
              "  </svg>\n",
              "    </button>\n",
              "    <script>\n",
              "      (() => {\n",
              "      const buttonEl =\n",
              "        document.querySelector('#id_5babc0fb-6637-41a7-9f0f-f2018905274d button.colab-df-generate');\n",
              "      buttonEl.style.display =\n",
              "        google.colab.kernel.accessAllowed ? 'block' : 'none';\n",
              "\n",
              "      buttonEl.onclick = () => {\n",
              "        google.colab.notebook.generateWithVariable('train_dataset');\n",
              "      }\n",
              "      })();\n",
              "    </script>\n",
              "  </div>\n",
              "\n",
              "    </div>\n",
              "  </div>\n"
            ]
          },
          "metadata": {},
          "execution_count": 44
        }
      ]
    },
    {
      "cell_type": "code",
      "source": [
        "len(train_dataset)"
      ],
      "metadata": {
        "colab": {
          "base_uri": "https://localhost:8080/"
        },
        "id": "aZ7rcms8z5u2",
        "outputId": "a17f5b74-d0e3-40cb-a2fc-bd4619fe2b28"
      },
      "execution_count": null,
      "outputs": [
        {
          "output_type": "execute_result",
          "data": {
            "text/plain": [
              "8529"
            ]
          },
          "metadata": {},
          "execution_count": 45
        }
      ]
    },
    {
      "cell_type": "code",
      "source": [
        "train_dataset[\"label\"].value_counts()"
      ],
      "metadata": {
        "colab": {
          "base_uri": "https://localhost:8080/"
        },
        "id": "8g1aN_ODz81j",
        "outputId": "3e78bc63-0211-4c32-e2c9-2ac88b841388"
      },
      "execution_count": null,
      "outputs": [
        {
          "output_type": "execute_result",
          "data": {
            "text/plain": [
              "1    4275\n",
              "0    4254\n",
              "Name: label, dtype: int64"
            ]
          },
          "metadata": {},
          "execution_count": 46
        }
      ]
    },
    {
      "cell_type": "code",
      "source": [
        "# Test Dataset\n",
        "test_dataset = dataset.drop(train_dataset.index)"
      ],
      "metadata": {
        "id": "1lLxEp9q0CbG"
      },
      "execution_count": null,
      "outputs": []
    },
    {
      "cell_type": "code",
      "source": [
        "test_dataset"
      ],
      "metadata": {
        "colab": {
          "base_uri": "https://localhost:8080/",
          "height": 424
        },
        "id": "MiLIqjso0K03",
        "outputId": "4d951079-65a8-4cd6-81de-c6cd82aad0e7"
      },
      "execution_count": null,
      "outputs": [
        {
          "output_type": "execute_result",
          "data": {
            "text/plain": [
              "       label                                             review\n",
              "0          1  [gerçekten, harika, bir, yapim, birçok, izledi...\n",
              "2          1  [gerçekten, tarihi, savas, filmleri, arasinda,...\n",
              "15         1  [önce, bir, çikarip, izledim, senedir, arada, ...\n",
              "18         1  [iskoçyanin, evlatlari, baslayip, özgürlügü, a...\n",
              "20         1  [kesinlikle, kaçirilmamasi, gerekne, filmlerin...\n",
              "...      ...                                                ...\n",
              "10639      0  [hafta, sonu, izledim, basrol, oyuncusunun, ka...\n",
              "10644      0        [yakinda, apoya, film, çekilirse, sasirmam]\n",
              "10647      0  [kendileri, inanacakki, karsiyida, inandirarak...\n",
              "10650      0  [oldu, olacak, oscara, aday, gösterelim, filmm...\n",
              "10656      0  [yarisina, bile, gelmeden, sikilip, biraktim, ...\n",
              "\n",
              "[2132 rows x 2 columns]"
            ],
            "text/html": [
              "\n",
              "  <div id=\"df-c3348565-d7f6-4ea5-805a-a85de67fff8d\" class=\"colab-df-container\">\n",
              "    <div>\n",
              "<style scoped>\n",
              "    .dataframe tbody tr th:only-of-type {\n",
              "        vertical-align: middle;\n",
              "    }\n",
              "\n",
              "    .dataframe tbody tr th {\n",
              "        vertical-align: top;\n",
              "    }\n",
              "\n",
              "    .dataframe thead th {\n",
              "        text-align: right;\n",
              "    }\n",
              "</style>\n",
              "<table border=\"1\" class=\"dataframe\">\n",
              "  <thead>\n",
              "    <tr style=\"text-align: right;\">\n",
              "      <th></th>\n",
              "      <th>label</th>\n",
              "      <th>review</th>\n",
              "    </tr>\n",
              "  </thead>\n",
              "  <tbody>\n",
              "    <tr>\n",
              "      <th>0</th>\n",
              "      <td>1</td>\n",
              "      <td>[gerçekten, harika, bir, yapim, birçok, izledi...</td>\n",
              "    </tr>\n",
              "    <tr>\n",
              "      <th>2</th>\n",
              "      <td>1</td>\n",
              "      <td>[gerçekten, tarihi, savas, filmleri, arasinda,...</td>\n",
              "    </tr>\n",
              "    <tr>\n",
              "      <th>15</th>\n",
              "      <td>1</td>\n",
              "      <td>[önce, bir, çikarip, izledim, senedir, arada, ...</td>\n",
              "    </tr>\n",
              "    <tr>\n",
              "      <th>18</th>\n",
              "      <td>1</td>\n",
              "      <td>[iskoçyanin, evlatlari, baslayip, özgürlügü, a...</td>\n",
              "    </tr>\n",
              "    <tr>\n",
              "      <th>20</th>\n",
              "      <td>1</td>\n",
              "      <td>[kesinlikle, kaçirilmamasi, gerekne, filmlerin...</td>\n",
              "    </tr>\n",
              "    <tr>\n",
              "      <th>...</th>\n",
              "      <td>...</td>\n",
              "      <td>...</td>\n",
              "    </tr>\n",
              "    <tr>\n",
              "      <th>10639</th>\n",
              "      <td>0</td>\n",
              "      <td>[hafta, sonu, izledim, basrol, oyuncusunun, ka...</td>\n",
              "    </tr>\n",
              "    <tr>\n",
              "      <th>10644</th>\n",
              "      <td>0</td>\n",
              "      <td>[yakinda, apoya, film, çekilirse, sasirmam]</td>\n",
              "    </tr>\n",
              "    <tr>\n",
              "      <th>10647</th>\n",
              "      <td>0</td>\n",
              "      <td>[kendileri, inanacakki, karsiyida, inandirarak...</td>\n",
              "    </tr>\n",
              "    <tr>\n",
              "      <th>10650</th>\n",
              "      <td>0</td>\n",
              "      <td>[oldu, olacak, oscara, aday, gösterelim, filmm...</td>\n",
              "    </tr>\n",
              "    <tr>\n",
              "      <th>10656</th>\n",
              "      <td>0</td>\n",
              "      <td>[yarisina, bile, gelmeden, sikilip, biraktim, ...</td>\n",
              "    </tr>\n",
              "  </tbody>\n",
              "</table>\n",
              "<p>2132 rows × 2 columns</p>\n",
              "</div>\n",
              "    <div class=\"colab-df-buttons\">\n",
              "\n",
              "  <div class=\"colab-df-container\">\n",
              "    <button class=\"colab-df-convert\" onclick=\"convertToInteractive('df-c3348565-d7f6-4ea5-805a-a85de67fff8d')\"\n",
              "            title=\"Convert this dataframe to an interactive table.\"\n",
              "            style=\"display:none;\">\n",
              "\n",
              "  <svg xmlns=\"http://www.w3.org/2000/svg\" height=\"24px\" viewBox=\"0 -960 960 960\">\n",
              "    <path d=\"M120-120v-720h720v720H120Zm60-500h600v-160H180v160Zm220 220h160v-160H400v160Zm0 220h160v-160H400v160ZM180-400h160v-160H180v160Zm440 0h160v-160H620v160ZM180-180h160v-160H180v160Zm440 0h160v-160H620v160Z\"/>\n",
              "  </svg>\n",
              "    </button>\n",
              "\n",
              "  <style>\n",
              "    .colab-df-container {\n",
              "      display:flex;\n",
              "      gap: 12px;\n",
              "    }\n",
              "\n",
              "    .colab-df-convert {\n",
              "      background-color: #E8F0FE;\n",
              "      border: none;\n",
              "      border-radius: 50%;\n",
              "      cursor: pointer;\n",
              "      display: none;\n",
              "      fill: #1967D2;\n",
              "      height: 32px;\n",
              "      padding: 0 0 0 0;\n",
              "      width: 32px;\n",
              "    }\n",
              "\n",
              "    .colab-df-convert:hover {\n",
              "      background-color: #E2EBFA;\n",
              "      box-shadow: 0px 1px 2px rgba(60, 64, 67, 0.3), 0px 1px 3px 1px rgba(60, 64, 67, 0.15);\n",
              "      fill: #174EA6;\n",
              "    }\n",
              "\n",
              "    .colab-df-buttons div {\n",
              "      margin-bottom: 4px;\n",
              "    }\n",
              "\n",
              "    [theme=dark] .colab-df-convert {\n",
              "      background-color: #3B4455;\n",
              "      fill: #D2E3FC;\n",
              "    }\n",
              "\n",
              "    [theme=dark] .colab-df-convert:hover {\n",
              "      background-color: #434B5C;\n",
              "      box-shadow: 0px 1px 3px 1px rgba(0, 0, 0, 0.15);\n",
              "      filter: drop-shadow(0px 1px 2px rgba(0, 0, 0, 0.3));\n",
              "      fill: #FFFFFF;\n",
              "    }\n",
              "  </style>\n",
              "\n",
              "    <script>\n",
              "      const buttonEl =\n",
              "        document.querySelector('#df-c3348565-d7f6-4ea5-805a-a85de67fff8d button.colab-df-convert');\n",
              "      buttonEl.style.display =\n",
              "        google.colab.kernel.accessAllowed ? 'block' : 'none';\n",
              "\n",
              "      async function convertToInteractive(key) {\n",
              "        const element = document.querySelector('#df-c3348565-d7f6-4ea5-805a-a85de67fff8d');\n",
              "        const dataTable =\n",
              "          await google.colab.kernel.invokeFunction('convertToInteractive',\n",
              "                                                    [key], {});\n",
              "        if (!dataTable) return;\n",
              "\n",
              "        const docLinkHtml = 'Like what you see? Visit the ' +\n",
              "          '<a target=\"_blank\" href=https://colab.research.google.com/notebooks/data_table.ipynb>data table notebook</a>'\n",
              "          + ' to learn more about interactive tables.';\n",
              "        element.innerHTML = '';\n",
              "        dataTable['output_type'] = 'display_data';\n",
              "        await google.colab.output.renderOutput(dataTable, element);\n",
              "        const docLink = document.createElement('div');\n",
              "        docLink.innerHTML = docLinkHtml;\n",
              "        element.appendChild(docLink);\n",
              "      }\n",
              "    </script>\n",
              "  </div>\n",
              "\n",
              "\n",
              "<div id=\"df-dd014a75-e643-4544-8493-6a23da08bad2\">\n",
              "  <button class=\"colab-df-quickchart\" onclick=\"quickchart('df-dd014a75-e643-4544-8493-6a23da08bad2')\"\n",
              "            title=\"Suggest charts\"\n",
              "            style=\"display:none;\">\n",
              "\n",
              "<svg xmlns=\"http://www.w3.org/2000/svg\" height=\"24px\"viewBox=\"0 0 24 24\"\n",
              "     width=\"24px\">\n",
              "    <g>\n",
              "        <path d=\"M19 3H5c-1.1 0-2 .9-2 2v14c0 1.1.9 2 2 2h14c1.1 0 2-.9 2-2V5c0-1.1-.9-2-2-2zM9 17H7v-7h2v7zm4 0h-2V7h2v10zm4 0h-2v-4h2v4z\"/>\n",
              "    </g>\n",
              "</svg>\n",
              "  </button>\n",
              "\n",
              "<style>\n",
              "  .colab-df-quickchart {\n",
              "      --bg-color: #E8F0FE;\n",
              "      --fill-color: #1967D2;\n",
              "      --hover-bg-color: #E2EBFA;\n",
              "      --hover-fill-color: #174EA6;\n",
              "      --disabled-fill-color: #AAA;\n",
              "      --disabled-bg-color: #DDD;\n",
              "  }\n",
              "\n",
              "  [theme=dark] .colab-df-quickchart {\n",
              "      --bg-color: #3B4455;\n",
              "      --fill-color: #D2E3FC;\n",
              "      --hover-bg-color: #434B5C;\n",
              "      --hover-fill-color: #FFFFFF;\n",
              "      --disabled-bg-color: #3B4455;\n",
              "      --disabled-fill-color: #666;\n",
              "  }\n",
              "\n",
              "  .colab-df-quickchart {\n",
              "    background-color: var(--bg-color);\n",
              "    border: none;\n",
              "    border-radius: 50%;\n",
              "    cursor: pointer;\n",
              "    display: none;\n",
              "    fill: var(--fill-color);\n",
              "    height: 32px;\n",
              "    padding: 0;\n",
              "    width: 32px;\n",
              "  }\n",
              "\n",
              "  .colab-df-quickchart:hover {\n",
              "    background-color: var(--hover-bg-color);\n",
              "    box-shadow: 0 1px 2px rgba(60, 64, 67, 0.3), 0 1px 3px 1px rgba(60, 64, 67, 0.15);\n",
              "    fill: var(--button-hover-fill-color);\n",
              "  }\n",
              "\n",
              "  .colab-df-quickchart-complete:disabled,\n",
              "  .colab-df-quickchart-complete:disabled:hover {\n",
              "    background-color: var(--disabled-bg-color);\n",
              "    fill: var(--disabled-fill-color);\n",
              "    box-shadow: none;\n",
              "  }\n",
              "\n",
              "  .colab-df-spinner {\n",
              "    border: 2px solid var(--fill-color);\n",
              "    border-color: transparent;\n",
              "    border-bottom-color: var(--fill-color);\n",
              "    animation:\n",
              "      spin 1s steps(1) infinite;\n",
              "  }\n",
              "\n",
              "  @keyframes spin {\n",
              "    0% {\n",
              "      border-color: transparent;\n",
              "      border-bottom-color: var(--fill-color);\n",
              "      border-left-color: var(--fill-color);\n",
              "    }\n",
              "    20% {\n",
              "      border-color: transparent;\n",
              "      border-left-color: var(--fill-color);\n",
              "      border-top-color: var(--fill-color);\n",
              "    }\n",
              "    30% {\n",
              "      border-color: transparent;\n",
              "      border-left-color: var(--fill-color);\n",
              "      border-top-color: var(--fill-color);\n",
              "      border-right-color: var(--fill-color);\n",
              "    }\n",
              "    40% {\n",
              "      border-color: transparent;\n",
              "      border-right-color: var(--fill-color);\n",
              "      border-top-color: var(--fill-color);\n",
              "    }\n",
              "    60% {\n",
              "      border-color: transparent;\n",
              "      border-right-color: var(--fill-color);\n",
              "    }\n",
              "    80% {\n",
              "      border-color: transparent;\n",
              "      border-right-color: var(--fill-color);\n",
              "      border-bottom-color: var(--fill-color);\n",
              "    }\n",
              "    90% {\n",
              "      border-color: transparent;\n",
              "      border-bottom-color: var(--fill-color);\n",
              "    }\n",
              "  }\n",
              "</style>\n",
              "\n",
              "  <script>\n",
              "    async function quickchart(key) {\n",
              "      const quickchartButtonEl =\n",
              "        document.querySelector('#' + key + ' button');\n",
              "      quickchartButtonEl.disabled = true;  // To prevent multiple clicks.\n",
              "      quickchartButtonEl.classList.add('colab-df-spinner');\n",
              "      try {\n",
              "        const charts = await google.colab.kernel.invokeFunction(\n",
              "            'suggestCharts', [key], {});\n",
              "      } catch (error) {\n",
              "        console.error('Error during call to suggestCharts:', error);\n",
              "      }\n",
              "      quickchartButtonEl.classList.remove('colab-df-spinner');\n",
              "      quickchartButtonEl.classList.add('colab-df-quickchart-complete');\n",
              "    }\n",
              "    (() => {\n",
              "      let quickchartButtonEl =\n",
              "        document.querySelector('#df-dd014a75-e643-4544-8493-6a23da08bad2 button');\n",
              "      quickchartButtonEl.style.display =\n",
              "        google.colab.kernel.accessAllowed ? 'block' : 'none';\n",
              "    })();\n",
              "  </script>\n",
              "</div>\n",
              "\n",
              "  <div id=\"id_b0088a40-578b-46bd-b7f8-68d9d3a7ac01\">\n",
              "    <style>\n",
              "      .colab-df-generate {\n",
              "        background-color: #E8F0FE;\n",
              "        border: none;\n",
              "        border-radius: 50%;\n",
              "        cursor: pointer;\n",
              "        display: none;\n",
              "        fill: #1967D2;\n",
              "        height: 32px;\n",
              "        padding: 0 0 0 0;\n",
              "        width: 32px;\n",
              "      }\n",
              "\n",
              "      .colab-df-generate:hover {\n",
              "        background-color: #E2EBFA;\n",
              "        box-shadow: 0px 1px 2px rgba(60, 64, 67, 0.3), 0px 1px 3px 1px rgba(60, 64, 67, 0.15);\n",
              "        fill: #174EA6;\n",
              "      }\n",
              "\n",
              "      [theme=dark] .colab-df-generate {\n",
              "        background-color: #3B4455;\n",
              "        fill: #D2E3FC;\n",
              "      }\n",
              "\n",
              "      [theme=dark] .colab-df-generate:hover {\n",
              "        background-color: #434B5C;\n",
              "        box-shadow: 0px 1px 3px 1px rgba(0, 0, 0, 0.15);\n",
              "        filter: drop-shadow(0px 1px 2px rgba(0, 0, 0, 0.3));\n",
              "        fill: #FFFFFF;\n",
              "      }\n",
              "    </style>\n",
              "    <button class=\"colab-df-generate\" onclick=\"generateWithVariable('test_dataset')\"\n",
              "            title=\"Generate code using this dataframe.\"\n",
              "            style=\"display:none;\">\n",
              "\n",
              "  <svg xmlns=\"http://www.w3.org/2000/svg\" height=\"24px\"viewBox=\"0 0 24 24\"\n",
              "       width=\"24px\">\n",
              "    <path d=\"M7,19H8.4L18.45,9,17,7.55,7,17.6ZM5,21V16.75L18.45,3.32a2,2,0,0,1,2.83,0l1.4,1.43a1.91,1.91,0,0,1,.58,1.4,1.91,1.91,0,0,1-.58,1.4L9.25,21ZM18.45,9,17,7.55Zm-12,3A5.31,5.31,0,0,0,4.9,8.1,5.31,5.31,0,0,0,1,6.5,5.31,5.31,0,0,0,4.9,4.9,5.31,5.31,0,0,0,6.5,1,5.31,5.31,0,0,0,8.1,4.9,5.31,5.31,0,0,0,12,6.5,5.46,5.46,0,0,0,6.5,12Z\"/>\n",
              "  </svg>\n",
              "    </button>\n",
              "    <script>\n",
              "      (() => {\n",
              "      const buttonEl =\n",
              "        document.querySelector('#id_b0088a40-578b-46bd-b7f8-68d9d3a7ac01 button.colab-df-generate');\n",
              "      buttonEl.style.display =\n",
              "        google.colab.kernel.accessAllowed ? 'block' : 'none';\n",
              "\n",
              "      buttonEl.onclick = () => {\n",
              "        google.colab.notebook.generateWithVariable('test_dataset');\n",
              "      }\n",
              "      })();\n",
              "    </script>\n",
              "  </div>\n",
              "\n",
              "    </div>\n",
              "  </div>\n"
            ]
          },
          "metadata": {},
          "execution_count": 48
        }
      ]
    },
    {
      "cell_type": "code",
      "source": [
        "len(test_dataset)"
      ],
      "metadata": {
        "colab": {
          "base_uri": "https://localhost:8080/"
        },
        "id": "1fqlVruK7Zhx",
        "outputId": "283030f2-c967-4e43-994f-6271cb3266fe"
      },
      "execution_count": null,
      "outputs": [
        {
          "output_type": "execute_result",
          "data": {
            "text/plain": [
              "2132"
            ]
          },
          "metadata": {},
          "execution_count": 49
        }
      ]
    },
    {
      "cell_type": "code",
      "source": [
        "test_dataset[\"label\"].value_counts()"
      ],
      "metadata": {
        "colab": {
          "base_uri": "https://localhost:8080/"
        },
        "id": "cVpkwCzs_av8",
        "outputId": "07eeadc9-d845-4655-a765-3d04f8c00553"
      },
      "execution_count": null,
      "outputs": [
        {
          "output_type": "execute_result",
          "data": {
            "text/plain": [
              "0    1076\n",
              "1    1056\n",
              "Name: label, dtype: int64"
            ]
          },
          "metadata": {},
          "execution_count": 50
        }
      ]
    },
    {
      "cell_type": "markdown",
      "source": [
        "### Build Vocabulary"
      ],
      "metadata": {
        "id": "5mHWVEhYq__V"
      }
    },
    {
      "cell_type": "code",
      "source": [
        "total_tokens = 0\n",
        "token_set = set()\n",
        "for _, tokens in train_dataset[\"review\"].items():\n",
        "  total_tokens += len(tokens)\n",
        "  for token in tokens:\n",
        "    token_set.add(token)\n",
        "\n",
        "# Add <UNKNOWN> to token set for occurence of words that are not in corpus.\n",
        "token_set.add(\"<UNKNOWN>\")\n",
        "\n",
        "print(f\"Corpus size: {total_tokens}, Vocabulary size: {len(token_set)}\")\n",
        "print(\"First 10 tokens:\")\n",
        "\n",
        "i = 0\n",
        "for token in token_set:\n",
        "  if i >= 10:\n",
        "    break\n",
        "  print(token)\n",
        "  i += 1\n",
        "\n"
      ],
      "metadata": {
        "colab": {
          "base_uri": "https://localhost:8080/"
        },
        "id": "o9Kkb_GirB4L",
        "outputId": "00868ea1-3f60-42ac-ab36-30e3aac1e537"
      },
      "execution_count": null,
      "outputs": [
        {
          "output_type": "stream",
          "name": "stdout",
          "text": [
            "Corpus size: 145979, Vocabulary size: 25227\n",
            "First 10 tokens:\n",
            "unlu\n",
            "bayginn\n",
            "kahkalara\n",
            "seydir\n",
            "irmaki\n",
            "hizla\n",
            "misiniz\n",
            "birlestirilmis\n",
            "kolik\n",
            "fumba\n"
          ]
        }
      ]
    },
    {
      "cell_type": "markdown",
      "source": [
        "### Vectorization of Movie Reviews:\n",
        "\n",
        "- Once the vocabulary is established, each document is represented as a numerical vector. The length of the vector is equal to the size of the vocabulary, and each element in the vector corresponds to the count of the respective word in the document."
      ],
      "metadata": {
        "id": "o59riYTSrny8"
      }
    },
    {
      "cell_type": "code",
      "source": [
        "# term-to-index mapping\n",
        "term2idx = {}\n",
        "for idx, term in enumerate(token_set):\n",
        "  term2idx.update({term:idx})\n",
        "\n",
        "print(f\"term-to-index mapping:\\nSize: {len(term2idx)}\\nterms and indices:\\n\")\n",
        "i = 0\n",
        "for key in term2idx:\n",
        "  if i >= 10:\n",
        "    break\n",
        "  print(f\"{key}: {term2idx[key]}\")\n",
        "  i += 1"
      ],
      "metadata": {
        "colab": {
          "base_uri": "https://localhost:8080/"
        },
        "id": "Dq8_DoihrvrY",
        "outputId": "34865a14-9af9-4963-c85b-72e95babf32c"
      },
      "execution_count": null,
      "outputs": [
        {
          "output_type": "stream",
          "name": "stdout",
          "text": [
            "term-to-index mapping:\n",
            "Size: 25227\n",
            "terms and indices:\n",
            "\n",
            "unlu: 0\n",
            "bayginn: 1\n",
            "kahkalara: 2\n",
            "seydir: 3\n",
            "irmaki: 4\n",
            "hizla: 5\n",
            "misiniz: 6\n",
            "birlestirilmis: 7\n",
            "kolik: 8\n",
            "fumba: 9\n"
          ]
        }
      ]
    },
    {
      "cell_type": "code",
      "source": [
        "# Document vectors of Train Set\n",
        "train_vector_df = None\n",
        "vocab_size = len(token_set)\n",
        "doc_vectors = []\n",
        "for _, row in train_dataset.iterrows():\n",
        "  doc_vector = [0] * vocab_size # initial vector\n",
        "  for token in row[\"review\"]:\n",
        "    doc_vector[term2idx[token]] += 1\n",
        "  doc_vectors.append([row[\"label\"], doc_vector])\n",
        "\n",
        "train_vector_df = pd.DataFrame(doc_vectors, columns= [\"label\", \"vector\"])"
      ],
      "metadata": {
        "id": "s9qhh1-IsKxl"
      },
      "execution_count": null,
      "outputs": []
    },
    {
      "cell_type": "markdown",
      "source": [
        "###Model Training\n",
        "Here, we simply use aggregation (sum) of the review vectors for each sentiment category as the sentiment representation."
      ],
      "metadata": {
        "id": "zecgvvUX1yqw"
      }
    },
    {
      "cell_type": "code",
      "source": [
        "import numpy as np\n",
        "\n",
        "# Aggregated vectors for positive & negative sentiments\n",
        "V = len(token_set)\n",
        "pos_vector = np.array([0] * V) # Initial positive sentiment vector\n",
        "neg_vector = np.array([0] * V) # Initial negative sentiment vector\n",
        "\n",
        "for _, row in train_vector_df.iterrows():\n",
        "  curr_review_vec = np.array(row['vector'])\n",
        "  if row['label'] == 0:\n",
        "      neg_vector += curr_review_vec\n",
        "  else:\n",
        "      pos_vector += curr_review_vec\n"
      ],
      "metadata": {
        "id": "810fAkt71x2s"
      },
      "execution_count": null,
      "outputs": []
    },
    {
      "cell_type": "code",
      "source": [
        "print(f\"positive sentiment vector of size: {len(pos_vector)}\\n\", pos_vector[:180])\n",
        "print(f\"negative sentiment vector of size: {len(neg_vector)}\\n\", neg_vector[:180])"
      ],
      "metadata": {
        "colab": {
          "base_uri": "https://localhost:8080/"
        },
        "id": "mnXCt1bs2iSo",
        "outputId": "b4fb5e27-dab6-4f4e-bb77-30cda0f61433"
      },
      "execution_count": null,
      "outputs": [
        {
          "output_type": "stream",
          "name": "stdout",
          "text": [
            "positive sentiment vector of size: 25227\n",
            " [ 6  1  2  1  3  1  3  1  5  1  1  1  1  0  1  1  2  0  0 30  1  2  0  6\n",
            "  0  1  5  0  1  0  7  0  3  1  1  1  2  1  0  0  1  1  0  1  0  1  0  0\n",
            "  0  0  1  0  1  0  0  0  1  0  1  7  0  0  1  5  0  0  0  0  0  0  0  0\n",
            "  1  2  0  0  0  1  0  0  0  0  1  1  2  1  2  0  1  1  1  0  1  0  0  2\n",
            "  0  0  4  0  0 12  0  0  2  0  1  5 29  1  0  0  0  6  0  1  0  1  0  1\n",
            "  2  0  1  0  0  1  0  0  2  0  1  0  1  1  1  0  1  1  1  0  2  0  1  0\n",
            "  0  1  0  0  1  2  0  0  1  1  1  1  9  1  1  2  1  1  4  2  1  3  1  0\n",
            "  0  1  1  0  0  0  0  1  0  0  1  1]\n",
            "negative sentiment vector of size: 25227\n",
            " [13  0  0  1  1  0  0  3  4  2  0  0  0  1  0  0 14  2  1 23  0  4  2  0\n",
            "  1  1 10  1  0  1  0  2  2  0  0  1  0  0  1  1  2  0  2  0  1  0  1  1\n",
            "  1  1  0  1  0  1  1  1  1  1  2  0  1  1  0  9  7  1  2  1  1  1  1  1\n",
            "  0  3  1  1  1  0  1  1  1  1  5  1  2  0  0  2  2  0  0  1  0  1  1  1\n",
            "  1  1  2  4  1  6  1  2  3  1  0  7 18  0  3  1  2  0  1  3  1  2  1  0\n",
            "  0  1  1  3  1  0  1  1  1  1  0  1  1  0  0  1  0  0  3  1  7  1  0  2\n",
            "  3  0  1  1  0  1  1  1  1  3  1  0 21  3  0  1  0  0  5  0  0  0  0  1\n",
            "  1  0  0  2  1  1  2  0  2  2  0  2]\n"
          ]
        }
      ]
    },
    {
      "cell_type": "markdown",
      "source": [
        "### Similarity Measure: Cosine\n",
        "\n",
        "Using cosine measure, classify each review in the **test** dataset, such that,\n",
        "\n",
        "* Ff the review has a cosine similarity score closer to the **pos** reviews in training dataset, then mark the review as **pos**;\n",
        "\n",
        "* Otherwise, mark it as **neg**\n"
      ],
      "metadata": {
        "id": "iP9Ryh9S3B5B"
      }
    },
    {
      "cell_type": "code",
      "source": [
        "def cosine_sim(vector1, vector2):\n",
        "  dot_product = np.dot(vector1, vector2)  # dot product of the vectors\n",
        "  magnitude1 = np.linalg.norm(vector1)    # norm => length of vector1\n",
        "  magnitude2 = np.linalg.norm(vector2)    # norm => length of vector2\n",
        "\n",
        "  cosine_similarity = dot_product / (magnitude1 * magnitude2)\n",
        "  return cosine_similarity"
      ],
      "metadata": {
        "id": "62N7DvcU3Fk5"
      },
      "execution_count": null,
      "outputs": []
    },
    {
      "cell_type": "markdown",
      "source": [
        "###Testing and Result"
      ],
      "metadata": {
        "id": "mJENwAxP36WQ"
      }
    },
    {
      "cell_type": "code",
      "source": [
        "# Document vectors of Test Set\n",
        "test_vector_df = None\n",
        "vocab_size = len(token_set)\n",
        "test_doc_vectors = []\n",
        "for _, row in test_dataset.iterrows():\n",
        "  doc_vector = [0] * vocab_size # initial vector\n",
        "  for token in row[\"review\"]:\n",
        "    doc_vector[term2idx.get(token, term2idx.get(\"<UNKNOWN>\"))] += 1\n",
        "  test_doc_vectors.append([row[\"label\"], doc_vector])\n",
        "\n",
        "test_vector_df = pd.DataFrame(test_doc_vectors, columns= [\"label\", \"vector\"])"
      ],
      "metadata": {
        "id": "i9GIA3S13-yM"
      },
      "execution_count": null,
      "outputs": []
    },
    {
      "cell_type": "code",
      "source": [
        "test_labels, test_vectors  = test_vector_df.iloc[:,0], test_vector_df.iloc[:,1]\n",
        "test_labels.value_counts()\n",
        "test_labels.values"
      ],
      "metadata": {
        "colab": {
          "base_uri": "https://localhost:8080/"
        },
        "id": "AqcRgarf47FP",
        "outputId": "a13a8ade-2859-4b34-ce21-ca2a53fcb953"
      },
      "execution_count": null,
      "outputs": [
        {
          "output_type": "execute_result",
          "data": {
            "text/plain": [
              "array([1, 1, 1, ..., 0, 0, 0])"
            ]
          },
          "metadata": {},
          "execution_count": 30
        }
      ]
    },
    {
      "cell_type": "code",
      "source": [
        "# make all predictions\n",
        "predicted_labels = []\n",
        "for vector in test_vectors:\n",
        "  pos_sim = cosine_sim(np.array(vector), pos_vector)\n",
        "  neg_sim = cosine_sim(np.array(vector), neg_vector)\n",
        "  predicted_labels.append((1 if pos_sim > neg_sim else 0))"
      ],
      "metadata": {
        "colab": {
          "base_uri": "https://localhost:8080/"
        },
        "id": "vGEsFfHv5O-H",
        "outputId": "83bf9c37-c2eb-44af-b125-07819782175d"
      },
      "execution_count": null,
      "outputs": [
        {
          "output_type": "stream",
          "name": "stderr",
          "text": [
            "<ipython-input-28-5a200f9499e2>:6: RuntimeWarning: invalid value encountered in double_scalars\n",
            "  cosine_similarity = dot_product / (magnitude1 * magnitude2)\n"
          ]
        }
      ]
    },
    {
      "cell_type": "code",
      "source": [
        "# Check predictions\n",
        "len(predicted_labels)"
      ],
      "metadata": {
        "colab": {
          "base_uri": "https://localhost:8080/"
        },
        "id": "MdofmpAJ5T1g",
        "outputId": "51ff3823-0d15-4416-b556-f9d9c6cbcc58"
      },
      "execution_count": null,
      "outputs": [
        {
          "output_type": "execute_result",
          "data": {
            "text/plain": [
              "2132"
            ]
          },
          "metadata": {},
          "execution_count": 32
        }
      ]
    },
    {
      "cell_type": "code",
      "source": [
        "# check if prediction made correctly or not for each prediction\n",
        "total_predictions = len(predicted_labels)\n",
        "correct_predictions = 0\n",
        "pos_pos = 0 # predicted pos, it is pos   (correct prediction)\n",
        "neg_neg = 0 # predicted neg, it is neg   (correct prediction)\n",
        "pos_neg = 0 # predicted pos, it is neg   (uncorrect prediction)\n",
        "neg_pos = 0 # predicted neg, it is pos   (uncorrect prediction)\n",
        "for idx ,prediction in enumerate(predicted_labels):\n",
        "  label = test_labels[idx]\n",
        "\n",
        "  if prediction and label:\n",
        "    pos_pos += 1\n",
        "  elif prediction and not label:\n",
        "    pos_neg += 1\n",
        "  elif not prediction and not label:\n",
        "    neg_neg += 1\n",
        "  else:\n",
        "    neg_pos += 1\n",
        "\n",
        "  correct_predictions += 1 if prediction == test_labels[idx] else 0\n",
        "\n",
        "print(f\"Success rate: {correct_predictions / total_predictions:.4f}\")\n",
        "print(f\"\\nPrediction\\tLabel\")\n",
        "print(f\"positive\\tpositive\\t{pos_pos / total_predictions:.4f}\")\n",
        "print(f\"negative\\tnegative\\t{neg_neg / total_predictions:.4f}\")\n",
        "print(f\"positive\\tnegative\\t{pos_neg / total_predictions:.4f}\")\n",
        "print(f\"negative\\tpositive\\t{neg_pos / total_predictions:.4f}\")"
      ],
      "metadata": {
        "colab": {
          "base_uri": "https://localhost:8080/"
        },
        "id": "hygQx9ug7eIX",
        "outputId": "a002e4f8-1c0b-41ea-9e52-3c31b1896733"
      },
      "execution_count": null,
      "outputs": [
        {
          "output_type": "stream",
          "name": "stdout",
          "text": [
            "Success rate: 0.8007\n",
            "\n",
            "Prediction\tLabel\n",
            "positive\tpositive\t0.4029\n",
            "negative\tnegative\t0.3977\n",
            "positive\tnegative\t0.1069\n",
            "negative\tpositive\t0.0924\n"
          ]
        }
      ]
    }
  ]
}