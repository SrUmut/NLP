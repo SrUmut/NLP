{
  "nbformat": 4,
  "nbformat_minor": 0,
  "metadata": {
    "colab": {
      "provenance": [],
      "collapsed_sections": [
        "RsSJ58n9g88-",
        "aHOMjtQeagB7",
        "ux2t6n3jzjSK",
        "5mHWVEhYq__V",
        "zecgvvUX1yqw",
        "mJENwAxP36WQ"
      ]
    },
    "kernelspec": {
      "name": "python3",
      "display_name": "Python 3"
    },
    "language_info": {
      "name": "python"
    }
  },
  "cells": [
    {
      "cell_type": "markdown",
      "source": [
        "### Dataset"
      ],
      "metadata": {
        "id": "lFe-jdNSBiT6"
      }
    },
    {
      "cell_type": "markdown",
      "source": [
        ">Dataset: [Turkish_Movie_Sentiment](https://www.win.tue.nl/~mpechen/projects/smm/)\n",
        "\n",
        ">It consists of 5331 positive and 5331 negative movie reviews in Turkish."
      ],
      "metadata": {
        "id": "JIXZ_4EgBt9m"
      }
    },
    {
      "cell_type": "markdown",
      "source": [
        "### Load Dataset\n",
        "\n",
        "> Load the dataset, unzip it, construct the dataframe out of it with respect to columns **[label, review]**."
      ],
      "metadata": {
        "id": "RsSJ58n9g88-"
      }
    },
    {
      "cell_type": "markdown",
      "source": [
        "> **You can use the curl command the download dataset from its source *(1)*. You can upload the dataset yourself *(2)*.**"
      ],
      "metadata": {
        "id": "y12aS55ZtI0Q"
      }
    },
    {
      "cell_type": "code",
      "execution_count": 1,
      "metadata": {
        "colab": {
          "base_uri": "https://localhost:8080/"
        },
        "id": "yEOuH16vg4zV",
        "outputId": "436b7172-c2d6-4068-b9b0-5db51ba9da38"
      },
      "outputs": [
        {
          "output_type": "stream",
          "name": "stdout",
          "text": [
            "  % Total    % Received % Xferd  Average Speed   Time    Time     Time  Current\n",
            "                                 Dload  Upload   Total   Spent    Left  Speed\n",
            "100  520k  100  520k    0     0   506k      0  0:00:01  0:00:01 --:--:--  507k\n"
          ]
        }
      ],
      "source": [
        "# 1\n",
        "!curl https://www.win.tue.nl/~mpechen/projects/smm/Turkish_Movie_Sentiment.zip -o ./Turkish_Movie_Sentiment.zip"
      ]
    },
    {
      "cell_type": "code",
      "source": [
        "# 2\n",
        "#from google.colab import files\n",
        "#uploaded = files.upload()"
      ],
      "metadata": {
        "id": "riiJ12qNtX8P"
      },
      "execution_count": 2,
      "outputs": []
    },
    {
      "cell_type": "code",
      "source": [
        "!unzip /content/Turkish_Movie_Sentiment.zip -d /content > /dev/null"
      ],
      "metadata": {
        "id": "-BsACHdohCHr"
      },
      "execution_count": 3,
      "outputs": []
    },
    {
      "cell_type": "markdown",
      "source": [
        "> **Each line is a review.**"
      ],
      "metadata": {
        "id": "6MUvsfUchVSB"
      }
    },
    {
      "cell_type": "code",
      "source": [
        "# Positive Reviews\n",
        "with open(\"./tr_polarity.pos\", \"rb\") as f:\n",
        "  review_pos_list = f.read().decode(\"iso-8859-9\").replace(\"\\r\", \"\").split(\"\\n\")\n",
        "\n",
        "# Negative Reviews\n",
        "with open(\"./tr_polarity.neg\", \"rb\") as f:\n",
        "  review_neg_list = f.read().decode(\"iso-8859-9\").replace(\"\\r\", \"\").split(\"\\n\")"
      ],
      "metadata": {
        "id": "U0SMDDenhZUl"
      },
      "execution_count": 4,
      "outputs": []
    },
    {
      "cell_type": "code",
      "source": [
        "print(f\"First 5 of total {len(review_pos_list)} positive reviews:\\n \", *review_pos_list[:5], sep=\"\\n\")\n",
        "print(f\"\\n\\nFirst 5 of total {len(review_neg_list)} negative reviews:\\n \", *review_neg_list[:5], sep=\"\\n\")"
      ],
      "metadata": {
        "colab": {
          "base_uri": "https://localhost:8080/"
        },
        "id": "gmPnXGvNh9tu",
        "outputId": "2164a0d9-68ee-4c38-9847-ca275d8c0647"
      },
      "execution_count": 5,
      "outputs": [
        {
          "output_type": "stream",
          "name": "stdout",
          "text": [
            "First 5 of total 5332 positive reviews:\n",
            " \n",
            "gerçekten harika bir yapim birçok kez izledim gene izlerim özgürlük askini ve ingilizlerin ne kadar vahset olduklarini gözler önüne seren bir film ve tabi ki ask.... \n",
            "her izledigimde hayranlik duydugum gerçek klasik diyebilecegimiz filmlerden . içinde teknik hatalar barindirsa bile sinema olgusunun en üst noktalarindan.. \n",
            "gerçekten tarihi savas filmleri arasinda tartismasiz en iyisi , 12 yil boyunca acaba ikincisi çekirimi diye bekledigim bir film ,belki william wallace babasinin ölümünden sonra amcasi yanina almisti onu yetistirmisti belki bunu anlatan mükkemmel bir filim olablilr=). \n",
            "aldigi ödülleri sonuna dek hak eden muhtesem bir basyapit . \n",
            "özgürlük denilince aklima gelen ilk film.bir basyapit.. \n",
            "\n",
            "\n",
            "First 5 of total 5332 negative reviews:\n",
            " \n",
            "giseye oynayan bir film.mel gibson'in oyunculugu yine çok kötü.film bastan sona duygu sömürüsü ama anlayan nerde!. \n",
            "bircok yonden sahip olduklari zayifliklari populerligi iyi kullanmasiyla gidermis zayif bir yapim... \n",
            "1995 ten bu yana bu tür filmler artti , o zamanlar basarili sayilabilecekse de suan emin degilim. konusu baya siradan .. \n",
            "mel gibson tam bir ingiliz düsmani her filminde belirtiyor bunu. film yine cok iyi. biz kurtulus mücadelemizi böyle bir filmle simgeleyemedik. üzülüyorum bu yüzden.. \n",
            "milliyetçi bir film tavsiye etmiyorum.... \n"
          ]
        }
      ]
    },
    {
      "cell_type": "code",
      "source": [
        "import pandas as pd"
      ],
      "metadata": {
        "id": "qabCbkhgETDo"
      },
      "execution_count": 6,
      "outputs": []
    },
    {
      "cell_type": "code",
      "source": [
        "# Convert reviews to pandas dataframe\n",
        "dataset = pd.DataFrame([[1, prev] for prev in review_pos_list if prev] + [[0, nrev] for nrev in review_neg_list if nrev] , columns=[\"label\", \"review\"])\n",
        "dataset"
      ],
      "metadata": {
        "colab": {
          "base_uri": "https://localhost:8080/",
          "height": 0
        },
        "id": "nJq6BOM6qTeP",
        "outputId": "e31c9c35-03f6-43bd-c64b-164f67f86fc8"
      },
      "execution_count": 7,
      "outputs": [
        {
          "output_type": "execute_result",
          "data": {
            "text/plain": [
              "       label                                             review\n",
              "0          1  gerçekten harika bir yapim birçok kez izledim ...\n",
              "1          1  her izledigimde hayranlik duydugum gerçek klas...\n",
              "2          1  gerçekten tarihi savas filmleri arasinda tarti...\n",
              "3          1  aldigi ödülleri sonuna dek hak eden muhtesem b...\n",
              "4          1  özgürlük denilince aklima gelen ilk film.bir b...\n",
              "...      ...                                                ...\n",
              "10656      0  yarisina bile gelmeden sikilip biraktim,murat ...\n",
              "10657      0  rezalet bir senaryo rezalet oyunculuklar(tuba ...\n",
              "10658      0  nerden bulmuslar böyle yönetmeni oyuncuyu bast...\n",
              "10659      0  konu:bilindik senaryo:basit kurgu:çakma geriye...\n",
              "10660      0  agda sahnesini iyi pazarlayan , oyunculuk dene...\n",
              "\n",
              "[10661 rows x 2 columns]"
            ],
            "text/html": [
              "\n",
              "  <div id=\"df-7e1a4d96-616b-4b73-a0b6-13cd149cd15d\" class=\"colab-df-container\">\n",
              "    <div>\n",
              "<style scoped>\n",
              "    .dataframe tbody tr th:only-of-type {\n",
              "        vertical-align: middle;\n",
              "    }\n",
              "\n",
              "    .dataframe tbody tr th {\n",
              "        vertical-align: top;\n",
              "    }\n",
              "\n",
              "    .dataframe thead th {\n",
              "        text-align: right;\n",
              "    }\n",
              "</style>\n",
              "<table border=\"1\" class=\"dataframe\">\n",
              "  <thead>\n",
              "    <tr style=\"text-align: right;\">\n",
              "      <th></th>\n",
              "      <th>label</th>\n",
              "      <th>review</th>\n",
              "    </tr>\n",
              "  </thead>\n",
              "  <tbody>\n",
              "    <tr>\n",
              "      <th>0</th>\n",
              "      <td>1</td>\n",
              "      <td>gerçekten harika bir yapim birçok kez izledim ...</td>\n",
              "    </tr>\n",
              "    <tr>\n",
              "      <th>1</th>\n",
              "      <td>1</td>\n",
              "      <td>her izledigimde hayranlik duydugum gerçek klas...</td>\n",
              "    </tr>\n",
              "    <tr>\n",
              "      <th>2</th>\n",
              "      <td>1</td>\n",
              "      <td>gerçekten tarihi savas filmleri arasinda tarti...</td>\n",
              "    </tr>\n",
              "    <tr>\n",
              "      <th>3</th>\n",
              "      <td>1</td>\n",
              "      <td>aldigi ödülleri sonuna dek hak eden muhtesem b...</td>\n",
              "    </tr>\n",
              "    <tr>\n",
              "      <th>4</th>\n",
              "      <td>1</td>\n",
              "      <td>özgürlük denilince aklima gelen ilk film.bir b...</td>\n",
              "    </tr>\n",
              "    <tr>\n",
              "      <th>...</th>\n",
              "      <td>...</td>\n",
              "      <td>...</td>\n",
              "    </tr>\n",
              "    <tr>\n",
              "      <th>10656</th>\n",
              "      <td>0</td>\n",
              "      <td>yarisina bile gelmeden sikilip biraktim,murat ...</td>\n",
              "    </tr>\n",
              "    <tr>\n",
              "      <th>10657</th>\n",
              "      <td>0</td>\n",
              "      <td>rezalet bir senaryo rezalet oyunculuklar(tuba ...</td>\n",
              "    </tr>\n",
              "    <tr>\n",
              "      <th>10658</th>\n",
              "      <td>0</td>\n",
              "      <td>nerden bulmuslar böyle yönetmeni oyuncuyu bast...</td>\n",
              "    </tr>\n",
              "    <tr>\n",
              "      <th>10659</th>\n",
              "      <td>0</td>\n",
              "      <td>konu:bilindik senaryo:basit kurgu:çakma geriye...</td>\n",
              "    </tr>\n",
              "    <tr>\n",
              "      <th>10660</th>\n",
              "      <td>0</td>\n",
              "      <td>agda sahnesini iyi pazarlayan , oyunculuk dene...</td>\n",
              "    </tr>\n",
              "  </tbody>\n",
              "</table>\n",
              "<p>10661 rows × 2 columns</p>\n",
              "</div>\n",
              "    <div class=\"colab-df-buttons\">\n",
              "\n",
              "  <div class=\"colab-df-container\">\n",
              "    <button class=\"colab-df-convert\" onclick=\"convertToInteractive('df-7e1a4d96-616b-4b73-a0b6-13cd149cd15d')\"\n",
              "            title=\"Convert this dataframe to an interactive table.\"\n",
              "            style=\"display:none;\">\n",
              "\n",
              "  <svg xmlns=\"http://www.w3.org/2000/svg\" height=\"24px\" viewBox=\"0 -960 960 960\">\n",
              "    <path d=\"M120-120v-720h720v720H120Zm60-500h600v-160H180v160Zm220 220h160v-160H400v160Zm0 220h160v-160H400v160ZM180-400h160v-160H180v160Zm440 0h160v-160H620v160ZM180-180h160v-160H180v160Zm440 0h160v-160H620v160Z\"/>\n",
              "  </svg>\n",
              "    </button>\n",
              "\n",
              "  <style>\n",
              "    .colab-df-container {\n",
              "      display:flex;\n",
              "      gap: 12px;\n",
              "    }\n",
              "\n",
              "    .colab-df-convert {\n",
              "      background-color: #E8F0FE;\n",
              "      border: none;\n",
              "      border-radius: 50%;\n",
              "      cursor: pointer;\n",
              "      display: none;\n",
              "      fill: #1967D2;\n",
              "      height: 32px;\n",
              "      padding: 0 0 0 0;\n",
              "      width: 32px;\n",
              "    }\n",
              "\n",
              "    .colab-df-convert:hover {\n",
              "      background-color: #E2EBFA;\n",
              "      box-shadow: 0px 1px 2px rgba(60, 64, 67, 0.3), 0px 1px 3px 1px rgba(60, 64, 67, 0.15);\n",
              "      fill: #174EA6;\n",
              "    }\n",
              "\n",
              "    .colab-df-buttons div {\n",
              "      margin-bottom: 4px;\n",
              "    }\n",
              "\n",
              "    [theme=dark] .colab-df-convert {\n",
              "      background-color: #3B4455;\n",
              "      fill: #D2E3FC;\n",
              "    }\n",
              "\n",
              "    [theme=dark] .colab-df-convert:hover {\n",
              "      background-color: #434B5C;\n",
              "      box-shadow: 0px 1px 3px 1px rgba(0, 0, 0, 0.15);\n",
              "      filter: drop-shadow(0px 1px 2px rgba(0, 0, 0, 0.3));\n",
              "      fill: #FFFFFF;\n",
              "    }\n",
              "  </style>\n",
              "\n",
              "    <script>\n",
              "      const buttonEl =\n",
              "        document.querySelector('#df-7e1a4d96-616b-4b73-a0b6-13cd149cd15d button.colab-df-convert');\n",
              "      buttonEl.style.display =\n",
              "        google.colab.kernel.accessAllowed ? 'block' : 'none';\n",
              "\n",
              "      async function convertToInteractive(key) {\n",
              "        const element = document.querySelector('#df-7e1a4d96-616b-4b73-a0b6-13cd149cd15d');\n",
              "        const dataTable =\n",
              "          await google.colab.kernel.invokeFunction('convertToInteractive',\n",
              "                                                    [key], {});\n",
              "        if (!dataTable) return;\n",
              "\n",
              "        const docLinkHtml = 'Like what you see? Visit the ' +\n",
              "          '<a target=\"_blank\" href=https://colab.research.google.com/notebooks/data_table.ipynb>data table notebook</a>'\n",
              "          + ' to learn more about interactive tables.';\n",
              "        element.innerHTML = '';\n",
              "        dataTable['output_type'] = 'display_data';\n",
              "        await google.colab.output.renderOutput(dataTable, element);\n",
              "        const docLink = document.createElement('div');\n",
              "        docLink.innerHTML = docLinkHtml;\n",
              "        element.appendChild(docLink);\n",
              "      }\n",
              "    </script>\n",
              "  </div>\n",
              "\n",
              "\n",
              "<div id=\"df-c32a3131-c661-4bbf-b932-9f0298bd8a3e\">\n",
              "  <button class=\"colab-df-quickchart\" onclick=\"quickchart('df-c32a3131-c661-4bbf-b932-9f0298bd8a3e')\"\n",
              "            title=\"Suggest charts\"\n",
              "            style=\"display:none;\">\n",
              "\n",
              "<svg xmlns=\"http://www.w3.org/2000/svg\" height=\"24px\"viewBox=\"0 0 24 24\"\n",
              "     width=\"24px\">\n",
              "    <g>\n",
              "        <path d=\"M19 3H5c-1.1 0-2 .9-2 2v14c0 1.1.9 2 2 2h14c1.1 0 2-.9 2-2V5c0-1.1-.9-2-2-2zM9 17H7v-7h2v7zm4 0h-2V7h2v10zm4 0h-2v-4h2v4z\"/>\n",
              "    </g>\n",
              "</svg>\n",
              "  </button>\n",
              "\n",
              "<style>\n",
              "  .colab-df-quickchart {\n",
              "      --bg-color: #E8F0FE;\n",
              "      --fill-color: #1967D2;\n",
              "      --hover-bg-color: #E2EBFA;\n",
              "      --hover-fill-color: #174EA6;\n",
              "      --disabled-fill-color: #AAA;\n",
              "      --disabled-bg-color: #DDD;\n",
              "  }\n",
              "\n",
              "  [theme=dark] .colab-df-quickchart {\n",
              "      --bg-color: #3B4455;\n",
              "      --fill-color: #D2E3FC;\n",
              "      --hover-bg-color: #434B5C;\n",
              "      --hover-fill-color: #FFFFFF;\n",
              "      --disabled-bg-color: #3B4455;\n",
              "      --disabled-fill-color: #666;\n",
              "  }\n",
              "\n",
              "  .colab-df-quickchart {\n",
              "    background-color: var(--bg-color);\n",
              "    border: none;\n",
              "    border-radius: 50%;\n",
              "    cursor: pointer;\n",
              "    display: none;\n",
              "    fill: var(--fill-color);\n",
              "    height: 32px;\n",
              "    padding: 0;\n",
              "    width: 32px;\n",
              "  }\n",
              "\n",
              "  .colab-df-quickchart:hover {\n",
              "    background-color: var(--hover-bg-color);\n",
              "    box-shadow: 0 1px 2px rgba(60, 64, 67, 0.3), 0 1px 3px 1px rgba(60, 64, 67, 0.15);\n",
              "    fill: var(--button-hover-fill-color);\n",
              "  }\n",
              "\n",
              "  .colab-df-quickchart-complete:disabled,\n",
              "  .colab-df-quickchart-complete:disabled:hover {\n",
              "    background-color: var(--disabled-bg-color);\n",
              "    fill: var(--disabled-fill-color);\n",
              "    box-shadow: none;\n",
              "  }\n",
              "\n",
              "  .colab-df-spinner {\n",
              "    border: 2px solid var(--fill-color);\n",
              "    border-color: transparent;\n",
              "    border-bottom-color: var(--fill-color);\n",
              "    animation:\n",
              "      spin 1s steps(1) infinite;\n",
              "  }\n",
              "\n",
              "  @keyframes spin {\n",
              "    0% {\n",
              "      border-color: transparent;\n",
              "      border-bottom-color: var(--fill-color);\n",
              "      border-left-color: var(--fill-color);\n",
              "    }\n",
              "    20% {\n",
              "      border-color: transparent;\n",
              "      border-left-color: var(--fill-color);\n",
              "      border-top-color: var(--fill-color);\n",
              "    }\n",
              "    30% {\n",
              "      border-color: transparent;\n",
              "      border-left-color: var(--fill-color);\n",
              "      border-top-color: var(--fill-color);\n",
              "      border-right-color: var(--fill-color);\n",
              "    }\n",
              "    40% {\n",
              "      border-color: transparent;\n",
              "      border-right-color: var(--fill-color);\n",
              "      border-top-color: var(--fill-color);\n",
              "    }\n",
              "    60% {\n",
              "      border-color: transparent;\n",
              "      border-right-color: var(--fill-color);\n",
              "    }\n",
              "    80% {\n",
              "      border-color: transparent;\n",
              "      border-right-color: var(--fill-color);\n",
              "      border-bottom-color: var(--fill-color);\n",
              "    }\n",
              "    90% {\n",
              "      border-color: transparent;\n",
              "      border-bottom-color: var(--fill-color);\n",
              "    }\n",
              "  }\n",
              "</style>\n",
              "\n",
              "  <script>\n",
              "    async function quickchart(key) {\n",
              "      const quickchartButtonEl =\n",
              "        document.querySelector('#' + key + ' button');\n",
              "      quickchartButtonEl.disabled = true;  // To prevent multiple clicks.\n",
              "      quickchartButtonEl.classList.add('colab-df-spinner');\n",
              "      try {\n",
              "        const charts = await google.colab.kernel.invokeFunction(\n",
              "            'suggestCharts', [key], {});\n",
              "      } catch (error) {\n",
              "        console.error('Error during call to suggestCharts:', error);\n",
              "      }\n",
              "      quickchartButtonEl.classList.remove('colab-df-spinner');\n",
              "      quickchartButtonEl.classList.add('colab-df-quickchart-complete');\n",
              "    }\n",
              "    (() => {\n",
              "      let quickchartButtonEl =\n",
              "        document.querySelector('#df-c32a3131-c661-4bbf-b932-9f0298bd8a3e button');\n",
              "      quickchartButtonEl.style.display =\n",
              "        google.colab.kernel.accessAllowed ? 'block' : 'none';\n",
              "    })();\n",
              "  </script>\n",
              "</div>\n",
              "\n",
              "  <div id=\"id_53ceeed7-f6ae-4cdc-a8ad-2e021b0b286b\">\n",
              "    <style>\n",
              "      .colab-df-generate {\n",
              "        background-color: #E8F0FE;\n",
              "        border: none;\n",
              "        border-radius: 50%;\n",
              "        cursor: pointer;\n",
              "        display: none;\n",
              "        fill: #1967D2;\n",
              "        height: 32px;\n",
              "        padding: 0 0 0 0;\n",
              "        width: 32px;\n",
              "      }\n",
              "\n",
              "      .colab-df-generate:hover {\n",
              "        background-color: #E2EBFA;\n",
              "        box-shadow: 0px 1px 2px rgba(60, 64, 67, 0.3), 0px 1px 3px 1px rgba(60, 64, 67, 0.15);\n",
              "        fill: #174EA6;\n",
              "      }\n",
              "\n",
              "      [theme=dark] .colab-df-generate {\n",
              "        background-color: #3B4455;\n",
              "        fill: #D2E3FC;\n",
              "      }\n",
              "\n",
              "      [theme=dark] .colab-df-generate:hover {\n",
              "        background-color: #434B5C;\n",
              "        box-shadow: 0px 1px 3px 1px rgba(0, 0, 0, 0.15);\n",
              "        filter: drop-shadow(0px 1px 2px rgba(0, 0, 0, 0.3));\n",
              "        fill: #FFFFFF;\n",
              "      }\n",
              "    </style>\n",
              "    <button class=\"colab-df-generate\" onclick=\"generateWithVariable('dataset')\"\n",
              "            title=\"Generate code using this dataframe.\"\n",
              "            style=\"display:none;\">\n",
              "\n",
              "  <svg xmlns=\"http://www.w3.org/2000/svg\" height=\"24px\"viewBox=\"0 0 24 24\"\n",
              "       width=\"24px\">\n",
              "    <path d=\"M7,19H8.4L18.45,9,17,7.55,7,17.6ZM5,21V16.75L18.45,3.32a2,2,0,0,1,2.83,0l1.4,1.43a1.91,1.91,0,0,1,.58,1.4,1.91,1.91,0,0,1-.58,1.4L9.25,21ZM18.45,9,17,7.55Zm-12,3A5.31,5.31,0,0,0,4.9,8.1,5.31,5.31,0,0,0,1,6.5,5.31,5.31,0,0,0,4.9,4.9,5.31,5.31,0,0,0,6.5,1,5.31,5.31,0,0,0,8.1,4.9,5.31,5.31,0,0,0,12,6.5,5.46,5.46,0,0,0,6.5,12Z\"/>\n",
              "  </svg>\n",
              "    </button>\n",
              "    <script>\n",
              "      (() => {\n",
              "      const buttonEl =\n",
              "        document.querySelector('#id_53ceeed7-f6ae-4cdc-a8ad-2e021b0b286b button.colab-df-generate');\n",
              "      buttonEl.style.display =\n",
              "        google.colab.kernel.accessAllowed ? 'block' : 'none';\n",
              "\n",
              "      buttonEl.onclick = () => {\n",
              "        google.colab.notebook.generateWithVariable('dataset');\n",
              "      }\n",
              "      })();\n",
              "    </script>\n",
              "  </div>\n",
              "\n",
              "    </div>\n",
              "  </div>\n"
            ],
            "application/vnd.google.colaboratory.intrinsic+json": {
              "type": "dataframe",
              "variable_name": "dataset",
              "summary": "{\n  \"name\": \"dataset\",\n  \"rows\": 10661,\n  \"fields\": [\n    {\n      \"column\": \"label\",\n      \"properties\": {\n        \"dtype\": \"number\",\n        \"std\": 0,\n        \"min\": 0,\n        \"max\": 1,\n        \"num_unique_values\": 2,\n        \"samples\": [\n          0,\n          1\n        ],\n        \"semantic_type\": \"\",\n        \"description\": \"\"\n      }\n    },\n    {\n      \"column\": \"review\",\n      \"properties\": {\n        \"dtype\": \"string\",\n        \"num_unique_values\": 10639,\n        \"samples\": [\n          \"b\\u00f6yle g\\u00fczel bir filmi neden daha \\u00f6nce izleyemedim diye kendime kizdim..hakikaten s\\u00fcr\\u00fckleyici bir \\u00fcslubunun yanisira;zaman zamanda insani duygulandiriyor..izlemelisiniz derim... \",\n          \"sole bise soyliyim.. filmin cok yerde bittigini sandim... o sekilde bile filme hayran kaldim.. yanee o muhtesem sonu olmasa bilee filme mukemmel derdim . adamlar bide son yapmiss helal olsun valla......... \"\n        ],\n        \"semantic_type\": \"\",\n        \"description\": \"\"\n      }\n    }\n  ]\n}"
            }
          },
          "metadata": {},
          "execution_count": 7
        }
      ]
    },
    {
      "cell_type": "markdown",
      "source": [
        "### Tokenization, Punctuations, Stop Words, Case Folding\n",
        "\n",
        "> Tokeinize, remove punctuations and stopwords, apply case folding."
      ],
      "metadata": {
        "id": "aHOMjtQeagB7"
      }
    },
    {
      "cell_type": "code",
      "source": [
        "# nltk library for tokenizing, punctuations and stopwords\n",
        "import nltk\n",
        "nltk.download(\"punkt\")"
      ],
      "metadata": {
        "colab": {
          "base_uri": "https://localhost:8080/"
        },
        "id": "PBlGwbztDiy0",
        "outputId": "3cf337c2-101a-464b-ebe2-3e70ec165866"
      },
      "execution_count": 8,
      "outputs": [
        {
          "output_type": "stream",
          "name": "stderr",
          "text": [
            "[nltk_data] Downloading package punkt to /root/nltk_data...\n",
            "[nltk_data]   Unzipping tokenizers/punkt.zip.\n"
          ]
        },
        {
          "output_type": "execute_result",
          "data": {
            "text/plain": [
              "True"
            ]
          },
          "metadata": {},
          "execution_count": 8
        }
      ]
    },
    {
      "cell_type": "code",
      "source": [
        "from nltk.corpus import stopwords;\n",
        "nltk.download(\"stopwords\");\n",
        "stop_words = stopwords.words(\"turkish\");"
      ],
      "metadata": {
        "colab": {
          "base_uri": "https://localhost:8080/"
        },
        "id": "1KrZpFnYb66c",
        "outputId": "463fddcf-7ce7-4bdb-95ca-c21c9f7167c3"
      },
      "execution_count": 9,
      "outputs": [
        {
          "output_type": "stream",
          "name": "stderr",
          "text": [
            "[nltk_data] Downloading package stopwords to /root/nltk_data...\n",
            "[nltk_data]   Unzipping corpora/stopwords.zip.\n"
          ]
        }
      ]
    },
    {
      "cell_type": "code",
      "source": [
        "print(stop_words)"
      ],
      "metadata": {
        "colab": {
          "base_uri": "https://localhost:8080/"
        },
        "id": "Z1xzD7tW3TaJ",
        "outputId": "2df95194-c475-4ab2-bff8-a40351df2a1d"
      },
      "execution_count": 10,
      "outputs": [
        {
          "output_type": "stream",
          "name": "stdout",
          "text": [
            "['acaba', 'ama', 'aslında', 'az', 'bazı', 'belki', 'biri', 'birkaç', 'birşey', 'biz', 'bu', 'çok', 'çünkü', 'da', 'daha', 'de', 'defa', 'diye', 'eğer', 'en', 'gibi', 'hem', 'hep', 'hepsi', 'her', 'hiç', 'için', 'ile', 'ise', 'kez', 'ki', 'kim', 'mı', 'mu', 'mü', 'nasıl', 'ne', 'neden', 'nerde', 'nerede', 'nereye', 'niçin', 'niye', 'o', 'sanki', 'şey', 'siz', 'şu', 'tüm', 've', 'veya', 'ya', 'yani']\n"
          ]
        }
      ]
    },
    {
      "cell_type": "code",
      "source": [
        "from nltk.tokenize import word_tokenize\n",
        "import re\n",
        "# Tokenizing, removing punctuations and stop words, applying case folding\n",
        "for idx, row in dataset.iterrows():\n",
        "    dataset.at[idx, \"review\"] = [token.lower() for token in word_tokenize(re.sub(r\"\\.\", \" . \", row[\"review\"]))  if token.isalpha() and (token.lower() not in stop_words)]"
      ],
      "metadata": {
        "id": "PTbFAW3la_Gt"
      },
      "execution_count": 11,
      "outputs": []
    },
    {
      "cell_type": "markdown",
      "source": [
        "### Train-Test Splits\n",
        "\n",
        "> Split dataset into 2 parts **train dataset** (80%) and **test dataset** (20%)."
      ],
      "metadata": {
        "id": "ux2t6n3jzjSK"
      }
    },
    {
      "cell_type": "code",
      "source": [
        "# Train Dataset\n",
        "train_dataset = dataset.sample(frac=0.8, random_state=1)"
      ],
      "metadata": {
        "id": "L2zfmE5uziyG"
      },
      "execution_count": 12,
      "outputs": []
    },
    {
      "cell_type": "code",
      "source": [
        "train_dataset"
      ],
      "metadata": {
        "colab": {
          "base_uri": "https://localhost:8080/",
          "height": 0
        },
        "id": "FkNV4JMyz11Z",
        "outputId": "e197e208-3218-46ba-b93f-03d6c4f7ab5f"
      },
      "execution_count": 13,
      "outputs": [
        {
          "output_type": "execute_result",
          "data": {
            "text/plain": [
              "       label                                             review\n",
              "1777       1  [iyi, film, noluyor, lan, demekten, filme, kon...\n",
              "6818       0  [das, experimenti, yeniden, çekmisler, gerek, ...\n",
              "1305       1  [yaw, herhangi, bir, kanal, filmi, yayinlasa, ...\n",
              "6106       0  [filmi, dün, gece, izledim, bekledigim, çikmad...\n",
              "1185       1   [tom, hanks, senaryo, iyi, film, zaten, asmisss]\n",
              "...      ...                                                ...\n",
              "7062       0  [acayip, zorlama, bir, film, olmus, puani, pop...\n",
              "4690       1  [dvd, sini, nerdeyse, hafta, önce, izledim, sa...\n",
              "6497       0  [serinin, iyi, filmiydi, serinin, ilk, filmi, ...\n",
              "10558      0  [seyrettim, foktan, filimdi, gidip, korsanini,...\n",
              "8334       0  [umdugum, bulmadim, kesinlikle, çocuklara, yön...\n",
              "\n",
              "[8529 rows x 2 columns]"
            ],
            "text/html": [
              "\n",
              "  <div id=\"df-c84f4ed6-162d-4a87-b5b0-ba9e83f60110\" class=\"colab-df-container\">\n",
              "    <div>\n",
              "<style scoped>\n",
              "    .dataframe tbody tr th:only-of-type {\n",
              "        vertical-align: middle;\n",
              "    }\n",
              "\n",
              "    .dataframe tbody tr th {\n",
              "        vertical-align: top;\n",
              "    }\n",
              "\n",
              "    .dataframe thead th {\n",
              "        text-align: right;\n",
              "    }\n",
              "</style>\n",
              "<table border=\"1\" class=\"dataframe\">\n",
              "  <thead>\n",
              "    <tr style=\"text-align: right;\">\n",
              "      <th></th>\n",
              "      <th>label</th>\n",
              "      <th>review</th>\n",
              "    </tr>\n",
              "  </thead>\n",
              "  <tbody>\n",
              "    <tr>\n",
              "      <th>1777</th>\n",
              "      <td>1</td>\n",
              "      <td>[iyi, film, noluyor, lan, demekten, filme, kon...</td>\n",
              "    </tr>\n",
              "    <tr>\n",
              "      <th>6818</th>\n",
              "      <td>0</td>\n",
              "      <td>[das, experimenti, yeniden, çekmisler, gerek, ...</td>\n",
              "    </tr>\n",
              "    <tr>\n",
              "      <th>1305</th>\n",
              "      <td>1</td>\n",
              "      <td>[yaw, herhangi, bir, kanal, filmi, yayinlasa, ...</td>\n",
              "    </tr>\n",
              "    <tr>\n",
              "      <th>6106</th>\n",
              "      <td>0</td>\n",
              "      <td>[filmi, dün, gece, izledim, bekledigim, çikmad...</td>\n",
              "    </tr>\n",
              "    <tr>\n",
              "      <th>1185</th>\n",
              "      <td>1</td>\n",
              "      <td>[tom, hanks, senaryo, iyi, film, zaten, asmisss]</td>\n",
              "    </tr>\n",
              "    <tr>\n",
              "      <th>...</th>\n",
              "      <td>...</td>\n",
              "      <td>...</td>\n",
              "    </tr>\n",
              "    <tr>\n",
              "      <th>7062</th>\n",
              "      <td>0</td>\n",
              "      <td>[acayip, zorlama, bir, film, olmus, puani, pop...</td>\n",
              "    </tr>\n",
              "    <tr>\n",
              "      <th>4690</th>\n",
              "      <td>1</td>\n",
              "      <td>[dvd, sini, nerdeyse, hafta, önce, izledim, sa...</td>\n",
              "    </tr>\n",
              "    <tr>\n",
              "      <th>6497</th>\n",
              "      <td>0</td>\n",
              "      <td>[serinin, iyi, filmiydi, serinin, ilk, filmi, ...</td>\n",
              "    </tr>\n",
              "    <tr>\n",
              "      <th>10558</th>\n",
              "      <td>0</td>\n",
              "      <td>[seyrettim, foktan, filimdi, gidip, korsanini,...</td>\n",
              "    </tr>\n",
              "    <tr>\n",
              "      <th>8334</th>\n",
              "      <td>0</td>\n",
              "      <td>[umdugum, bulmadim, kesinlikle, çocuklara, yön...</td>\n",
              "    </tr>\n",
              "  </tbody>\n",
              "</table>\n",
              "<p>8529 rows × 2 columns</p>\n",
              "</div>\n",
              "    <div class=\"colab-df-buttons\">\n",
              "\n",
              "  <div class=\"colab-df-container\">\n",
              "    <button class=\"colab-df-convert\" onclick=\"convertToInteractive('df-c84f4ed6-162d-4a87-b5b0-ba9e83f60110')\"\n",
              "            title=\"Convert this dataframe to an interactive table.\"\n",
              "            style=\"display:none;\">\n",
              "\n",
              "  <svg xmlns=\"http://www.w3.org/2000/svg\" height=\"24px\" viewBox=\"0 -960 960 960\">\n",
              "    <path d=\"M120-120v-720h720v720H120Zm60-500h600v-160H180v160Zm220 220h160v-160H400v160Zm0 220h160v-160H400v160ZM180-400h160v-160H180v160Zm440 0h160v-160H620v160ZM180-180h160v-160H180v160Zm440 0h160v-160H620v160Z\"/>\n",
              "  </svg>\n",
              "    </button>\n",
              "\n",
              "  <style>\n",
              "    .colab-df-container {\n",
              "      display:flex;\n",
              "      gap: 12px;\n",
              "    }\n",
              "\n",
              "    .colab-df-convert {\n",
              "      background-color: #E8F0FE;\n",
              "      border: none;\n",
              "      border-radius: 50%;\n",
              "      cursor: pointer;\n",
              "      display: none;\n",
              "      fill: #1967D2;\n",
              "      height: 32px;\n",
              "      padding: 0 0 0 0;\n",
              "      width: 32px;\n",
              "    }\n",
              "\n",
              "    .colab-df-convert:hover {\n",
              "      background-color: #E2EBFA;\n",
              "      box-shadow: 0px 1px 2px rgba(60, 64, 67, 0.3), 0px 1px 3px 1px rgba(60, 64, 67, 0.15);\n",
              "      fill: #174EA6;\n",
              "    }\n",
              "\n",
              "    .colab-df-buttons div {\n",
              "      margin-bottom: 4px;\n",
              "    }\n",
              "\n",
              "    [theme=dark] .colab-df-convert {\n",
              "      background-color: #3B4455;\n",
              "      fill: #D2E3FC;\n",
              "    }\n",
              "\n",
              "    [theme=dark] .colab-df-convert:hover {\n",
              "      background-color: #434B5C;\n",
              "      box-shadow: 0px 1px 3px 1px rgba(0, 0, 0, 0.15);\n",
              "      filter: drop-shadow(0px 1px 2px rgba(0, 0, 0, 0.3));\n",
              "      fill: #FFFFFF;\n",
              "    }\n",
              "  </style>\n",
              "\n",
              "    <script>\n",
              "      const buttonEl =\n",
              "        document.querySelector('#df-c84f4ed6-162d-4a87-b5b0-ba9e83f60110 button.colab-df-convert');\n",
              "      buttonEl.style.display =\n",
              "        google.colab.kernel.accessAllowed ? 'block' : 'none';\n",
              "\n",
              "      async function convertToInteractive(key) {\n",
              "        const element = document.querySelector('#df-c84f4ed6-162d-4a87-b5b0-ba9e83f60110');\n",
              "        const dataTable =\n",
              "          await google.colab.kernel.invokeFunction('convertToInteractive',\n",
              "                                                    [key], {});\n",
              "        if (!dataTable) return;\n",
              "\n",
              "        const docLinkHtml = 'Like what you see? Visit the ' +\n",
              "          '<a target=\"_blank\" href=https://colab.research.google.com/notebooks/data_table.ipynb>data table notebook</a>'\n",
              "          + ' to learn more about interactive tables.';\n",
              "        element.innerHTML = '';\n",
              "        dataTable['output_type'] = 'display_data';\n",
              "        await google.colab.output.renderOutput(dataTable, element);\n",
              "        const docLink = document.createElement('div');\n",
              "        docLink.innerHTML = docLinkHtml;\n",
              "        element.appendChild(docLink);\n",
              "      }\n",
              "    </script>\n",
              "  </div>\n",
              "\n",
              "\n",
              "<div id=\"df-ed0d6757-298b-411a-aeca-ff7809dbb3e3\">\n",
              "  <button class=\"colab-df-quickchart\" onclick=\"quickchart('df-ed0d6757-298b-411a-aeca-ff7809dbb3e3')\"\n",
              "            title=\"Suggest charts\"\n",
              "            style=\"display:none;\">\n",
              "\n",
              "<svg xmlns=\"http://www.w3.org/2000/svg\" height=\"24px\"viewBox=\"0 0 24 24\"\n",
              "     width=\"24px\">\n",
              "    <g>\n",
              "        <path d=\"M19 3H5c-1.1 0-2 .9-2 2v14c0 1.1.9 2 2 2h14c1.1 0 2-.9 2-2V5c0-1.1-.9-2-2-2zM9 17H7v-7h2v7zm4 0h-2V7h2v10zm4 0h-2v-4h2v4z\"/>\n",
              "    </g>\n",
              "</svg>\n",
              "  </button>\n",
              "\n",
              "<style>\n",
              "  .colab-df-quickchart {\n",
              "      --bg-color: #E8F0FE;\n",
              "      --fill-color: #1967D2;\n",
              "      --hover-bg-color: #E2EBFA;\n",
              "      --hover-fill-color: #174EA6;\n",
              "      --disabled-fill-color: #AAA;\n",
              "      --disabled-bg-color: #DDD;\n",
              "  }\n",
              "\n",
              "  [theme=dark] .colab-df-quickchart {\n",
              "      --bg-color: #3B4455;\n",
              "      --fill-color: #D2E3FC;\n",
              "      --hover-bg-color: #434B5C;\n",
              "      --hover-fill-color: #FFFFFF;\n",
              "      --disabled-bg-color: #3B4455;\n",
              "      --disabled-fill-color: #666;\n",
              "  }\n",
              "\n",
              "  .colab-df-quickchart {\n",
              "    background-color: var(--bg-color);\n",
              "    border: none;\n",
              "    border-radius: 50%;\n",
              "    cursor: pointer;\n",
              "    display: none;\n",
              "    fill: var(--fill-color);\n",
              "    height: 32px;\n",
              "    padding: 0;\n",
              "    width: 32px;\n",
              "  }\n",
              "\n",
              "  .colab-df-quickchart:hover {\n",
              "    background-color: var(--hover-bg-color);\n",
              "    box-shadow: 0 1px 2px rgba(60, 64, 67, 0.3), 0 1px 3px 1px rgba(60, 64, 67, 0.15);\n",
              "    fill: var(--button-hover-fill-color);\n",
              "  }\n",
              "\n",
              "  .colab-df-quickchart-complete:disabled,\n",
              "  .colab-df-quickchart-complete:disabled:hover {\n",
              "    background-color: var(--disabled-bg-color);\n",
              "    fill: var(--disabled-fill-color);\n",
              "    box-shadow: none;\n",
              "  }\n",
              "\n",
              "  .colab-df-spinner {\n",
              "    border: 2px solid var(--fill-color);\n",
              "    border-color: transparent;\n",
              "    border-bottom-color: var(--fill-color);\n",
              "    animation:\n",
              "      spin 1s steps(1) infinite;\n",
              "  }\n",
              "\n",
              "  @keyframes spin {\n",
              "    0% {\n",
              "      border-color: transparent;\n",
              "      border-bottom-color: var(--fill-color);\n",
              "      border-left-color: var(--fill-color);\n",
              "    }\n",
              "    20% {\n",
              "      border-color: transparent;\n",
              "      border-left-color: var(--fill-color);\n",
              "      border-top-color: var(--fill-color);\n",
              "    }\n",
              "    30% {\n",
              "      border-color: transparent;\n",
              "      border-left-color: var(--fill-color);\n",
              "      border-top-color: var(--fill-color);\n",
              "      border-right-color: var(--fill-color);\n",
              "    }\n",
              "    40% {\n",
              "      border-color: transparent;\n",
              "      border-right-color: var(--fill-color);\n",
              "      border-top-color: var(--fill-color);\n",
              "    }\n",
              "    60% {\n",
              "      border-color: transparent;\n",
              "      border-right-color: var(--fill-color);\n",
              "    }\n",
              "    80% {\n",
              "      border-color: transparent;\n",
              "      border-right-color: var(--fill-color);\n",
              "      border-bottom-color: var(--fill-color);\n",
              "    }\n",
              "    90% {\n",
              "      border-color: transparent;\n",
              "      border-bottom-color: var(--fill-color);\n",
              "    }\n",
              "  }\n",
              "</style>\n",
              "\n",
              "  <script>\n",
              "    async function quickchart(key) {\n",
              "      const quickchartButtonEl =\n",
              "        document.querySelector('#' + key + ' button');\n",
              "      quickchartButtonEl.disabled = true;  // To prevent multiple clicks.\n",
              "      quickchartButtonEl.classList.add('colab-df-spinner');\n",
              "      try {\n",
              "        const charts = await google.colab.kernel.invokeFunction(\n",
              "            'suggestCharts', [key], {});\n",
              "      } catch (error) {\n",
              "        console.error('Error during call to suggestCharts:', error);\n",
              "      }\n",
              "      quickchartButtonEl.classList.remove('colab-df-spinner');\n",
              "      quickchartButtonEl.classList.add('colab-df-quickchart-complete');\n",
              "    }\n",
              "    (() => {\n",
              "      let quickchartButtonEl =\n",
              "        document.querySelector('#df-ed0d6757-298b-411a-aeca-ff7809dbb3e3 button');\n",
              "      quickchartButtonEl.style.display =\n",
              "        google.colab.kernel.accessAllowed ? 'block' : 'none';\n",
              "    })();\n",
              "  </script>\n",
              "</div>\n",
              "\n",
              "  <div id=\"id_8c91035c-99d7-409c-8eec-a9f9870658aa\">\n",
              "    <style>\n",
              "      .colab-df-generate {\n",
              "        background-color: #E8F0FE;\n",
              "        border: none;\n",
              "        border-radius: 50%;\n",
              "        cursor: pointer;\n",
              "        display: none;\n",
              "        fill: #1967D2;\n",
              "        height: 32px;\n",
              "        padding: 0 0 0 0;\n",
              "        width: 32px;\n",
              "      }\n",
              "\n",
              "      .colab-df-generate:hover {\n",
              "        background-color: #E2EBFA;\n",
              "        box-shadow: 0px 1px 2px rgba(60, 64, 67, 0.3), 0px 1px 3px 1px rgba(60, 64, 67, 0.15);\n",
              "        fill: #174EA6;\n",
              "      }\n",
              "\n",
              "      [theme=dark] .colab-df-generate {\n",
              "        background-color: #3B4455;\n",
              "        fill: #D2E3FC;\n",
              "      }\n",
              "\n",
              "      [theme=dark] .colab-df-generate:hover {\n",
              "        background-color: #434B5C;\n",
              "        box-shadow: 0px 1px 3px 1px rgba(0, 0, 0, 0.15);\n",
              "        filter: drop-shadow(0px 1px 2px rgba(0, 0, 0, 0.3));\n",
              "        fill: #FFFFFF;\n",
              "      }\n",
              "    </style>\n",
              "    <button class=\"colab-df-generate\" onclick=\"generateWithVariable('train_dataset')\"\n",
              "            title=\"Generate code using this dataframe.\"\n",
              "            style=\"display:none;\">\n",
              "\n",
              "  <svg xmlns=\"http://www.w3.org/2000/svg\" height=\"24px\"viewBox=\"0 0 24 24\"\n",
              "       width=\"24px\">\n",
              "    <path d=\"M7,19H8.4L18.45,9,17,7.55,7,17.6ZM5,21V16.75L18.45,3.32a2,2,0,0,1,2.83,0l1.4,1.43a1.91,1.91,0,0,1,.58,1.4,1.91,1.91,0,0,1-.58,1.4L9.25,21ZM18.45,9,17,7.55Zm-12,3A5.31,5.31,0,0,0,4.9,8.1,5.31,5.31,0,0,0,1,6.5,5.31,5.31,0,0,0,4.9,4.9,5.31,5.31,0,0,0,6.5,1,5.31,5.31,0,0,0,8.1,4.9,5.31,5.31,0,0,0,12,6.5,5.46,5.46,0,0,0,6.5,12Z\"/>\n",
              "  </svg>\n",
              "    </button>\n",
              "    <script>\n",
              "      (() => {\n",
              "      const buttonEl =\n",
              "        document.querySelector('#id_8c91035c-99d7-409c-8eec-a9f9870658aa button.colab-df-generate');\n",
              "      buttonEl.style.display =\n",
              "        google.colab.kernel.accessAllowed ? 'block' : 'none';\n",
              "\n",
              "      buttonEl.onclick = () => {\n",
              "        google.colab.notebook.generateWithVariable('train_dataset');\n",
              "      }\n",
              "      })();\n",
              "    </script>\n",
              "  </div>\n",
              "\n",
              "    </div>\n",
              "  </div>\n"
            ],
            "application/vnd.google.colaboratory.intrinsic+json": {
              "type": "dataframe",
              "variable_name": "train_dataset",
              "summary": "{\n  \"name\": \"train_dataset\",\n  \"rows\": 8529,\n  \"fields\": [\n    {\n      \"column\": \"label\",\n      \"properties\": {\n        \"dtype\": \"number\",\n        \"std\": 0,\n        \"min\": 0,\n        \"max\": 1,\n        \"num_unique_values\": 2,\n        \"samples\": [\n          0,\n          1\n        ],\n        \"semantic_type\": \"\",\n        \"description\": \"\"\n      }\n    },\n    {\n      \"column\": \"review\",\n      \"properties\": {\n        \"dtype\": \"object\",\n        \"semantic_type\": \"\",\n        \"description\": \"\"\n      }\n    }\n  ]\n}"
            }
          },
          "metadata": {},
          "execution_count": 13
        }
      ]
    },
    {
      "cell_type": "code",
      "source": [
        "len(train_dataset)"
      ],
      "metadata": {
        "colab": {
          "base_uri": "https://localhost:8080/"
        },
        "id": "aZ7rcms8z5u2",
        "outputId": "c8d63e65-c46c-4f92-abd6-fe4255cfc2dc"
      },
      "execution_count": 14,
      "outputs": [
        {
          "output_type": "execute_result",
          "data": {
            "text/plain": [
              "8529"
            ]
          },
          "metadata": {},
          "execution_count": 14
        }
      ]
    },
    {
      "cell_type": "code",
      "source": [
        "train_dataset[\"label\"].value_counts()"
      ],
      "metadata": {
        "colab": {
          "base_uri": "https://localhost:8080/"
        },
        "id": "8g1aN_ODz81j",
        "outputId": "8b41b499-5fc9-4136-a616-9e2ca3ee8494"
      },
      "execution_count": 15,
      "outputs": [
        {
          "output_type": "execute_result",
          "data": {
            "text/plain": [
              "label\n",
              "1    4275\n",
              "0    4254\n",
              "Name: count, dtype: int64"
            ]
          },
          "metadata": {},
          "execution_count": 15
        }
      ]
    },
    {
      "cell_type": "code",
      "source": [
        "# Test Dataset\n",
        "test_dataset = dataset.drop(train_dataset.index)"
      ],
      "metadata": {
        "id": "1lLxEp9q0CbG"
      },
      "execution_count": 16,
      "outputs": []
    },
    {
      "cell_type": "code",
      "source": [
        "test_dataset"
      ],
      "metadata": {
        "colab": {
          "base_uri": "https://localhost:8080/",
          "height": 0
        },
        "id": "MiLIqjso0K03",
        "outputId": "4e522884-c24d-4cde-9f75-553cc09fe639"
      },
      "execution_count": 17,
      "outputs": [
        {
          "output_type": "execute_result",
          "data": {
            "text/plain": [
              "       label                                             review\n",
              "0          1  [gerçekten, harika, bir, yapim, birçok, izledi...\n",
              "2          1  [gerçekten, tarihi, savas, filmleri, arasinda,...\n",
              "15         1  [önce, bir, çikarip, izledim, senedir, arada, ...\n",
              "18         1  [iskoçyanin, evlatlari, baslayip, özgürlügü, a...\n",
              "20         1  [kesinlikle, kaçirilmamasi, gerekne, filmlerin...\n",
              "...      ...                                                ...\n",
              "10639      0  [hafta, sonu, izledim, basrol, oyuncusunun, ka...\n",
              "10644      0        [yakinda, apoya, film, çekilirse, sasirmam]\n",
              "10647      0  [kendileri, inanacakki, karsiyida, inandirarak...\n",
              "10650      0  [oldu, olacak, oscara, aday, gösterelim, filmm...\n",
              "10656      0  [yarisina, bile, gelmeden, sikilip, biraktim, ...\n",
              "\n",
              "[2132 rows x 2 columns]"
            ],
            "text/html": [
              "\n",
              "  <div id=\"df-9a2c9e86-b94e-4be8-b0b3-3fb56ff4678d\" class=\"colab-df-container\">\n",
              "    <div>\n",
              "<style scoped>\n",
              "    .dataframe tbody tr th:only-of-type {\n",
              "        vertical-align: middle;\n",
              "    }\n",
              "\n",
              "    .dataframe tbody tr th {\n",
              "        vertical-align: top;\n",
              "    }\n",
              "\n",
              "    .dataframe thead th {\n",
              "        text-align: right;\n",
              "    }\n",
              "</style>\n",
              "<table border=\"1\" class=\"dataframe\">\n",
              "  <thead>\n",
              "    <tr style=\"text-align: right;\">\n",
              "      <th></th>\n",
              "      <th>label</th>\n",
              "      <th>review</th>\n",
              "    </tr>\n",
              "  </thead>\n",
              "  <tbody>\n",
              "    <tr>\n",
              "      <th>0</th>\n",
              "      <td>1</td>\n",
              "      <td>[gerçekten, harika, bir, yapim, birçok, izledi...</td>\n",
              "    </tr>\n",
              "    <tr>\n",
              "      <th>2</th>\n",
              "      <td>1</td>\n",
              "      <td>[gerçekten, tarihi, savas, filmleri, arasinda,...</td>\n",
              "    </tr>\n",
              "    <tr>\n",
              "      <th>15</th>\n",
              "      <td>1</td>\n",
              "      <td>[önce, bir, çikarip, izledim, senedir, arada, ...</td>\n",
              "    </tr>\n",
              "    <tr>\n",
              "      <th>18</th>\n",
              "      <td>1</td>\n",
              "      <td>[iskoçyanin, evlatlari, baslayip, özgürlügü, a...</td>\n",
              "    </tr>\n",
              "    <tr>\n",
              "      <th>20</th>\n",
              "      <td>1</td>\n",
              "      <td>[kesinlikle, kaçirilmamasi, gerekne, filmlerin...</td>\n",
              "    </tr>\n",
              "    <tr>\n",
              "      <th>...</th>\n",
              "      <td>...</td>\n",
              "      <td>...</td>\n",
              "    </tr>\n",
              "    <tr>\n",
              "      <th>10639</th>\n",
              "      <td>0</td>\n",
              "      <td>[hafta, sonu, izledim, basrol, oyuncusunun, ka...</td>\n",
              "    </tr>\n",
              "    <tr>\n",
              "      <th>10644</th>\n",
              "      <td>0</td>\n",
              "      <td>[yakinda, apoya, film, çekilirse, sasirmam]</td>\n",
              "    </tr>\n",
              "    <tr>\n",
              "      <th>10647</th>\n",
              "      <td>0</td>\n",
              "      <td>[kendileri, inanacakki, karsiyida, inandirarak...</td>\n",
              "    </tr>\n",
              "    <tr>\n",
              "      <th>10650</th>\n",
              "      <td>0</td>\n",
              "      <td>[oldu, olacak, oscara, aday, gösterelim, filmm...</td>\n",
              "    </tr>\n",
              "    <tr>\n",
              "      <th>10656</th>\n",
              "      <td>0</td>\n",
              "      <td>[yarisina, bile, gelmeden, sikilip, biraktim, ...</td>\n",
              "    </tr>\n",
              "  </tbody>\n",
              "</table>\n",
              "<p>2132 rows × 2 columns</p>\n",
              "</div>\n",
              "    <div class=\"colab-df-buttons\">\n",
              "\n",
              "  <div class=\"colab-df-container\">\n",
              "    <button class=\"colab-df-convert\" onclick=\"convertToInteractive('df-9a2c9e86-b94e-4be8-b0b3-3fb56ff4678d')\"\n",
              "            title=\"Convert this dataframe to an interactive table.\"\n",
              "            style=\"display:none;\">\n",
              "\n",
              "  <svg xmlns=\"http://www.w3.org/2000/svg\" height=\"24px\" viewBox=\"0 -960 960 960\">\n",
              "    <path d=\"M120-120v-720h720v720H120Zm60-500h600v-160H180v160Zm220 220h160v-160H400v160Zm0 220h160v-160H400v160ZM180-400h160v-160H180v160Zm440 0h160v-160H620v160ZM180-180h160v-160H180v160Zm440 0h160v-160H620v160Z\"/>\n",
              "  </svg>\n",
              "    </button>\n",
              "\n",
              "  <style>\n",
              "    .colab-df-container {\n",
              "      display:flex;\n",
              "      gap: 12px;\n",
              "    }\n",
              "\n",
              "    .colab-df-convert {\n",
              "      background-color: #E8F0FE;\n",
              "      border: none;\n",
              "      border-radius: 50%;\n",
              "      cursor: pointer;\n",
              "      display: none;\n",
              "      fill: #1967D2;\n",
              "      height: 32px;\n",
              "      padding: 0 0 0 0;\n",
              "      width: 32px;\n",
              "    }\n",
              "\n",
              "    .colab-df-convert:hover {\n",
              "      background-color: #E2EBFA;\n",
              "      box-shadow: 0px 1px 2px rgba(60, 64, 67, 0.3), 0px 1px 3px 1px rgba(60, 64, 67, 0.15);\n",
              "      fill: #174EA6;\n",
              "    }\n",
              "\n",
              "    .colab-df-buttons div {\n",
              "      margin-bottom: 4px;\n",
              "    }\n",
              "\n",
              "    [theme=dark] .colab-df-convert {\n",
              "      background-color: #3B4455;\n",
              "      fill: #D2E3FC;\n",
              "    }\n",
              "\n",
              "    [theme=dark] .colab-df-convert:hover {\n",
              "      background-color: #434B5C;\n",
              "      box-shadow: 0px 1px 3px 1px rgba(0, 0, 0, 0.15);\n",
              "      filter: drop-shadow(0px 1px 2px rgba(0, 0, 0, 0.3));\n",
              "      fill: #FFFFFF;\n",
              "    }\n",
              "  </style>\n",
              "\n",
              "    <script>\n",
              "      const buttonEl =\n",
              "        document.querySelector('#df-9a2c9e86-b94e-4be8-b0b3-3fb56ff4678d button.colab-df-convert');\n",
              "      buttonEl.style.display =\n",
              "        google.colab.kernel.accessAllowed ? 'block' : 'none';\n",
              "\n",
              "      async function convertToInteractive(key) {\n",
              "        const element = document.querySelector('#df-9a2c9e86-b94e-4be8-b0b3-3fb56ff4678d');\n",
              "        const dataTable =\n",
              "          await google.colab.kernel.invokeFunction('convertToInteractive',\n",
              "                                                    [key], {});\n",
              "        if (!dataTable) return;\n",
              "\n",
              "        const docLinkHtml = 'Like what you see? Visit the ' +\n",
              "          '<a target=\"_blank\" href=https://colab.research.google.com/notebooks/data_table.ipynb>data table notebook</a>'\n",
              "          + ' to learn more about interactive tables.';\n",
              "        element.innerHTML = '';\n",
              "        dataTable['output_type'] = 'display_data';\n",
              "        await google.colab.output.renderOutput(dataTable, element);\n",
              "        const docLink = document.createElement('div');\n",
              "        docLink.innerHTML = docLinkHtml;\n",
              "        element.appendChild(docLink);\n",
              "      }\n",
              "    </script>\n",
              "  </div>\n",
              "\n",
              "\n",
              "<div id=\"df-bddd0f71-29d9-480a-ac68-29b811e57836\">\n",
              "  <button class=\"colab-df-quickchart\" onclick=\"quickchart('df-bddd0f71-29d9-480a-ac68-29b811e57836')\"\n",
              "            title=\"Suggest charts\"\n",
              "            style=\"display:none;\">\n",
              "\n",
              "<svg xmlns=\"http://www.w3.org/2000/svg\" height=\"24px\"viewBox=\"0 0 24 24\"\n",
              "     width=\"24px\">\n",
              "    <g>\n",
              "        <path d=\"M19 3H5c-1.1 0-2 .9-2 2v14c0 1.1.9 2 2 2h14c1.1 0 2-.9 2-2V5c0-1.1-.9-2-2-2zM9 17H7v-7h2v7zm4 0h-2V7h2v10zm4 0h-2v-4h2v4z\"/>\n",
              "    </g>\n",
              "</svg>\n",
              "  </button>\n",
              "\n",
              "<style>\n",
              "  .colab-df-quickchart {\n",
              "      --bg-color: #E8F0FE;\n",
              "      --fill-color: #1967D2;\n",
              "      --hover-bg-color: #E2EBFA;\n",
              "      --hover-fill-color: #174EA6;\n",
              "      --disabled-fill-color: #AAA;\n",
              "      --disabled-bg-color: #DDD;\n",
              "  }\n",
              "\n",
              "  [theme=dark] .colab-df-quickchart {\n",
              "      --bg-color: #3B4455;\n",
              "      --fill-color: #D2E3FC;\n",
              "      --hover-bg-color: #434B5C;\n",
              "      --hover-fill-color: #FFFFFF;\n",
              "      --disabled-bg-color: #3B4455;\n",
              "      --disabled-fill-color: #666;\n",
              "  }\n",
              "\n",
              "  .colab-df-quickchart {\n",
              "    background-color: var(--bg-color);\n",
              "    border: none;\n",
              "    border-radius: 50%;\n",
              "    cursor: pointer;\n",
              "    display: none;\n",
              "    fill: var(--fill-color);\n",
              "    height: 32px;\n",
              "    padding: 0;\n",
              "    width: 32px;\n",
              "  }\n",
              "\n",
              "  .colab-df-quickchart:hover {\n",
              "    background-color: var(--hover-bg-color);\n",
              "    box-shadow: 0 1px 2px rgba(60, 64, 67, 0.3), 0 1px 3px 1px rgba(60, 64, 67, 0.15);\n",
              "    fill: var(--button-hover-fill-color);\n",
              "  }\n",
              "\n",
              "  .colab-df-quickchart-complete:disabled,\n",
              "  .colab-df-quickchart-complete:disabled:hover {\n",
              "    background-color: var(--disabled-bg-color);\n",
              "    fill: var(--disabled-fill-color);\n",
              "    box-shadow: none;\n",
              "  }\n",
              "\n",
              "  .colab-df-spinner {\n",
              "    border: 2px solid var(--fill-color);\n",
              "    border-color: transparent;\n",
              "    border-bottom-color: var(--fill-color);\n",
              "    animation:\n",
              "      spin 1s steps(1) infinite;\n",
              "  }\n",
              "\n",
              "  @keyframes spin {\n",
              "    0% {\n",
              "      border-color: transparent;\n",
              "      border-bottom-color: var(--fill-color);\n",
              "      border-left-color: var(--fill-color);\n",
              "    }\n",
              "    20% {\n",
              "      border-color: transparent;\n",
              "      border-left-color: var(--fill-color);\n",
              "      border-top-color: var(--fill-color);\n",
              "    }\n",
              "    30% {\n",
              "      border-color: transparent;\n",
              "      border-left-color: var(--fill-color);\n",
              "      border-top-color: var(--fill-color);\n",
              "      border-right-color: var(--fill-color);\n",
              "    }\n",
              "    40% {\n",
              "      border-color: transparent;\n",
              "      border-right-color: var(--fill-color);\n",
              "      border-top-color: var(--fill-color);\n",
              "    }\n",
              "    60% {\n",
              "      border-color: transparent;\n",
              "      border-right-color: var(--fill-color);\n",
              "    }\n",
              "    80% {\n",
              "      border-color: transparent;\n",
              "      border-right-color: var(--fill-color);\n",
              "      border-bottom-color: var(--fill-color);\n",
              "    }\n",
              "    90% {\n",
              "      border-color: transparent;\n",
              "      border-bottom-color: var(--fill-color);\n",
              "    }\n",
              "  }\n",
              "</style>\n",
              "\n",
              "  <script>\n",
              "    async function quickchart(key) {\n",
              "      const quickchartButtonEl =\n",
              "        document.querySelector('#' + key + ' button');\n",
              "      quickchartButtonEl.disabled = true;  // To prevent multiple clicks.\n",
              "      quickchartButtonEl.classList.add('colab-df-spinner');\n",
              "      try {\n",
              "        const charts = await google.colab.kernel.invokeFunction(\n",
              "            'suggestCharts', [key], {});\n",
              "      } catch (error) {\n",
              "        console.error('Error during call to suggestCharts:', error);\n",
              "      }\n",
              "      quickchartButtonEl.classList.remove('colab-df-spinner');\n",
              "      quickchartButtonEl.classList.add('colab-df-quickchart-complete');\n",
              "    }\n",
              "    (() => {\n",
              "      let quickchartButtonEl =\n",
              "        document.querySelector('#df-bddd0f71-29d9-480a-ac68-29b811e57836 button');\n",
              "      quickchartButtonEl.style.display =\n",
              "        google.colab.kernel.accessAllowed ? 'block' : 'none';\n",
              "    })();\n",
              "  </script>\n",
              "</div>\n",
              "\n",
              "  <div id=\"id_eb8e26fe-3dda-4f92-a1d0-b1de6e7c8cf0\">\n",
              "    <style>\n",
              "      .colab-df-generate {\n",
              "        background-color: #E8F0FE;\n",
              "        border: none;\n",
              "        border-radius: 50%;\n",
              "        cursor: pointer;\n",
              "        display: none;\n",
              "        fill: #1967D2;\n",
              "        height: 32px;\n",
              "        padding: 0 0 0 0;\n",
              "        width: 32px;\n",
              "      }\n",
              "\n",
              "      .colab-df-generate:hover {\n",
              "        background-color: #E2EBFA;\n",
              "        box-shadow: 0px 1px 2px rgba(60, 64, 67, 0.3), 0px 1px 3px 1px rgba(60, 64, 67, 0.15);\n",
              "        fill: #174EA6;\n",
              "      }\n",
              "\n",
              "      [theme=dark] .colab-df-generate {\n",
              "        background-color: #3B4455;\n",
              "        fill: #D2E3FC;\n",
              "      }\n",
              "\n",
              "      [theme=dark] .colab-df-generate:hover {\n",
              "        background-color: #434B5C;\n",
              "        box-shadow: 0px 1px 3px 1px rgba(0, 0, 0, 0.15);\n",
              "        filter: drop-shadow(0px 1px 2px rgba(0, 0, 0, 0.3));\n",
              "        fill: #FFFFFF;\n",
              "      }\n",
              "    </style>\n",
              "    <button class=\"colab-df-generate\" onclick=\"generateWithVariable('test_dataset')\"\n",
              "            title=\"Generate code using this dataframe.\"\n",
              "            style=\"display:none;\">\n",
              "\n",
              "  <svg xmlns=\"http://www.w3.org/2000/svg\" height=\"24px\"viewBox=\"0 0 24 24\"\n",
              "       width=\"24px\">\n",
              "    <path d=\"M7,19H8.4L18.45,9,17,7.55,7,17.6ZM5,21V16.75L18.45,3.32a2,2,0,0,1,2.83,0l1.4,1.43a1.91,1.91,0,0,1,.58,1.4,1.91,1.91,0,0,1-.58,1.4L9.25,21ZM18.45,9,17,7.55Zm-12,3A5.31,5.31,0,0,0,4.9,8.1,5.31,5.31,0,0,0,1,6.5,5.31,5.31,0,0,0,4.9,4.9,5.31,5.31,0,0,0,6.5,1,5.31,5.31,0,0,0,8.1,4.9,5.31,5.31,0,0,0,12,6.5,5.46,5.46,0,0,0,6.5,12Z\"/>\n",
              "  </svg>\n",
              "    </button>\n",
              "    <script>\n",
              "      (() => {\n",
              "      const buttonEl =\n",
              "        document.querySelector('#id_eb8e26fe-3dda-4f92-a1d0-b1de6e7c8cf0 button.colab-df-generate');\n",
              "      buttonEl.style.display =\n",
              "        google.colab.kernel.accessAllowed ? 'block' : 'none';\n",
              "\n",
              "      buttonEl.onclick = () => {\n",
              "        google.colab.notebook.generateWithVariable('test_dataset');\n",
              "      }\n",
              "      })();\n",
              "    </script>\n",
              "  </div>\n",
              "\n",
              "    </div>\n",
              "  </div>\n"
            ],
            "application/vnd.google.colaboratory.intrinsic+json": {
              "type": "dataframe",
              "variable_name": "test_dataset",
              "summary": "{\n  \"name\": \"test_dataset\",\n  \"rows\": 2132,\n  \"fields\": [\n    {\n      \"column\": \"label\",\n      \"properties\": {\n        \"dtype\": \"number\",\n        \"std\": 0,\n        \"min\": 0,\n        \"max\": 1,\n        \"num_unique_values\": 2,\n        \"samples\": [\n          0,\n          1\n        ],\n        \"semantic_type\": \"\",\n        \"description\": \"\"\n      }\n    },\n    {\n      \"column\": \"review\",\n      \"properties\": {\n        \"dtype\": \"object\",\n        \"semantic_type\": \"\",\n        \"description\": \"\"\n      }\n    }\n  ]\n}"
            }
          },
          "metadata": {},
          "execution_count": 17
        }
      ]
    },
    {
      "cell_type": "code",
      "source": [
        "len(test_dataset)"
      ],
      "metadata": {
        "colab": {
          "base_uri": "https://localhost:8080/"
        },
        "id": "1fqlVruK7Zhx",
        "outputId": "f62a6343-6056-40a8-cd46-768708f8b9fd"
      },
      "execution_count": 18,
      "outputs": [
        {
          "output_type": "execute_result",
          "data": {
            "text/plain": [
              "2132"
            ]
          },
          "metadata": {},
          "execution_count": 18
        }
      ]
    },
    {
      "cell_type": "markdown",
      "source": [
        "### Build Vocabulary\n",
        "\n",
        "> Create a token set which holds all the tokens in train dataset and a token named as ***\\<UNKNOWN>***, for tokens may appear in test dataset but does not appear in train dataset."
      ],
      "metadata": {
        "id": "5mHWVEhYq__V"
      }
    },
    {
      "cell_type": "code",
      "source": [
        "total_tokens = 0\n",
        "token_set = set()\n",
        "for _, tokens in train_dataset[\"review\"].items():\n",
        "  total_tokens += len(tokens)\n",
        "  for token in tokens:\n",
        "    token_set.add(token)\n",
        "\n",
        "# Add <UNKNOWN> to token set for occurence of words that are not in corpus.\n",
        "token_set.add(\"<UNKNOWN>\")"
      ],
      "metadata": {
        "id": "o9Kkb_GirB4L"
      },
      "execution_count": 19,
      "outputs": []
    },
    {
      "cell_type": "code",
      "source": [
        "print(f\"Corpus size: {total_tokens}, Vocabulary size: {len(token_set)}\\n\")\n",
        "print(\"First 10 tokens:\")\n",
        "i = 0\n",
        "for token in token_set:\n",
        "  if i >= 10:\n",
        "    break\n",
        "  print(token)\n",
        "  i += 1"
      ],
      "metadata": {
        "colab": {
          "base_uri": "https://localhost:8080/"
        },
        "id": "FkC3LmdRUAqm",
        "outputId": "234546fa-5258-4514-a19e-f13445ae975d"
      },
      "execution_count": 20,
      "outputs": [
        {
          "output_type": "stream",
          "name": "stdout",
          "text": [
            "Corpus size: 145979, Vocabulary size: 25227\n",
            "\n",
            "First 10 tokens:\n",
            "anlarmadan\n",
            "izlememesi\n",
            "süphem\n",
            "ersoy\n",
            "notebook\n",
            "vermeyecegim\n",
            "sigara\n",
            "mizansenler\n",
            "anlarsin\n",
            "çevirdigi\n"
          ]
        }
      ]
    },
    {
      "cell_type": "markdown",
      "source": [
        "### Vectorization\n",
        "\n",
        "\n",
        "> token2idx: {token: token_idx}\n",
        "\n",
        "> Create train_vector_df with respect to structure [label, vector].\n",
        "vector is calculated using each tokens term frequency. vector's size is equal to vocabulary size (vocab_size)."
      ],
      "metadata": {
        "id": "o59riYTSrny8"
      }
    },
    {
      "cell_type": "code",
      "source": [
        "# token to index mapping\n",
        "token2idx = {}\n",
        "for idx, term in enumerate(token_set):\n",
        "  token2idx.update({term:idx})"
      ],
      "metadata": {
        "id": "Dq8_DoihrvrY"
      },
      "execution_count": 21,
      "outputs": []
    },
    {
      "cell_type": "code",
      "source": [
        "print(f\"Size: {len(token2idx)}\\n\\nTerms and Indexes:\")\n",
        "i = 0\n",
        "for key in token2idx:\n",
        "  if i >= 10:\n",
        "    break\n",
        "  print(f\"{key}: {token2idx[key]}\")\n",
        "  i += 1"
      ],
      "metadata": {
        "colab": {
          "base_uri": "https://localhost:8080/"
        },
        "id": "IkhaumvqUnli",
        "outputId": "7f8f5087-c5a4-4b01-c1d6-3229172bfa72"
      },
      "execution_count": 22,
      "outputs": [
        {
          "output_type": "stream",
          "name": "stdout",
          "text": [
            "Size: 25227\n",
            "\n",
            "Terms and Indexes:\n",
            "anlarmadan: 0\n",
            "izlememesi: 1\n",
            "süphem: 2\n",
            "ersoy: 3\n",
            "notebook: 4\n",
            "vermeyecegim: 5\n",
            "sigara: 6\n",
            "mizansenler: 7\n",
            "anlarsin: 8\n",
            "çevirdigi: 9\n"
          ]
        }
      ]
    },
    {
      "cell_type": "code",
      "source": [
        "# Document vectors of Train Set\n",
        "train_vector_df = None\n",
        "vocab_size = len(token_set)\n",
        "doc_vectors = []\n",
        "for _, row in train_dataset.iterrows():\n",
        "  vector = [0.0] * vocab_size # initial vector\n",
        "  for token in row[\"review\"]:\n",
        "    vector[token2idx[token]] += 1\n",
        "\n",
        "  # Normalize the vectors by dividing TFs to number of tokens in the review\n",
        "  for token in set(row[\"review\"]):\n",
        "    idx = token2idx.get(token, token2idx.get(\"<UNKNOWN>\"))\n",
        "    vector[idx] /= len(row[\"review\"])\n",
        "\n",
        "  doc_vectors.append([row[\"label\"], vector])\n",
        "\n",
        "train_vector_df = pd.DataFrame(doc_vectors, columns= [\"label\", \"vector\"])"
      ],
      "metadata": {
        "id": "s9qhh1-IsKxl"
      },
      "execution_count": 23,
      "outputs": []
    },
    {
      "cell_type": "markdown",
      "source": [
        "### Model Training\n",
        "\n",
        "> Calculating a vector for positive reviews and a vector for negative reviews using element-wise addition."
      ],
      "metadata": {
        "id": "zecgvvUX1yqw"
      }
    },
    {
      "cell_type": "code",
      "source": [
        "import numpy as np\n",
        "\n",
        "# Vectors for positive & negative sentiments\n",
        "V = len(token_set)\n",
        "pos_vector = np.array([0.0] * V) # Initial positive sentiment vector\n",
        "neg_vector = np.array([0.0] * V) # Initial negative sentiment vector\n",
        "\n",
        "for _, row in train_vector_df.iterrows():\n",
        "  vector = np.array(row[\"vector\"])\n",
        "  if row[\"label\"] == 0:\n",
        "      neg_vector += vector\n",
        "  else:\n",
        "      pos_vector += vector\n"
      ],
      "metadata": {
        "id": "810fAkt71x2s"
      },
      "execution_count": 25,
      "outputs": []
    },
    {
      "cell_type": "code",
      "source": [
        "print(f\"positive sentiment vector of size: {len(pos_vector)}\\n\", pos_vector[:100])\n",
        "print(f\"negative sentiment vector of size: {len(neg_vector)}\\n\", neg_vector[:100])"
      ],
      "metadata": {
        "colab": {
          "base_uri": "https://localhost:8080/"
        },
        "id": "mnXCt1bs2iSo",
        "outputId": "7b3fb185-e9bc-4fb3-adad-53dfbbb33c9e"
      },
      "execution_count": 26,
      "outputs": [
        {
          "output_type": "stream",
          "name": "stdout",
          "text": [
            "positive sentiment vector of size: 25227\n",
            " [0.         0.         0.03571429 0.06666667 0.         0.\n",
            " 0.03846154 0.         0.10846561 0.10416667 0.         0.10998133\n",
            " 0.         0.         0.03448276 0.         1.98722964 0.07107843\n",
            " 0.         0.04166667 0.09444444 0.07142857 0.14285714 0.\n",
            " 0.         0.04       0.         0.         0.         0.07142857\n",
            " 0.09978214 0.         0.38453397 0.05882353 0.45900794 0.04\n",
            " 0.03030303 0.02777778 0.         0.125      0.         0.\n",
            " 0.24798535 0.         0.05       0.         0.         0.075\n",
            " 0.         0.         0.         0.         0.37618629 0.04545455\n",
            " 0.84761777 0.         1.68522441 0.         0.         0.02702703\n",
            " 0.04545455 0.14818713 0.14285714 0.08703704 0.03333333 0.\n",
            " 0.         0.         0.20238095 0.02941176 0.04761905 0.\n",
            " 0.         0.05       0.         0.04545455 0.40465749 0.\n",
            " 0.08608059 0.03333333 2.66223697 0.         0.03333333 0.02941176\n",
            " 0.03846154 0.         0.14136905 0.         0.         0.\n",
            " 0.0707196  0.         0.         0.03448276 0.03225806 0.1547619\n",
            " 0.04545455 0.07692308 0.18079323 0.12692308]\n",
            "negative sentiment vector of size: 25227\n",
            " [0.04545455 0.11655012 0.         0.         0.03571429 0.03225806\n",
            " 0.         0.07142857 0.         0.         0.08333333 0.\n",
            " 0.03846154 0.35047959 0.04166667 0.13888889 0.72295894 0.\n",
            " 0.04347826 0.         0.27878788 0.         0.         0.02631579\n",
            " 0.05555556 0.         0.08055556 0.04347826 0.09429825 0.\n",
            " 0.12941176 0.03846154 0.11857143 0.         1.143198   0.\n",
            " 0.         0.         0.04166667 0.         0.05882353 0.04761905\n",
            " 0.12328549 0.16041667 0.         0.06666667 0.27563101 0.03225806\n",
            " 0.16233766 0.03333333 0.03030303 0.11309524 0.         0.\n",
            " 1.05296011 0.03448276 0.38846154 0.04       0.03448276 0.\n",
            " 0.         0.07030303 0.         0.         0.         0.03333333\n",
            " 0.04       0.04545455 0.16380568 0.56077385 0.         0.125\n",
            " 0.05296167 0.17511521 0.08333333 0.04347826 0.45357337 0.075\n",
            " 0.09109731 0.         1.43784393 0.09090909 0.14559387 0.\n",
            " 0.03125    0.08333333 0.08488964 0.03225806 0.04347826 0.02702703\n",
            " 0.15972222 0.08333333 0.04761905 0.         0.08333333 0.08333333\n",
            " 0.         0.22398268 0.07225806 0.0548048 ]\n"
          ]
        }
      ]
    },
    {
      "cell_type": "markdown",
      "source": [
        "### Similarity Measure: Cosine\n",
        "\n",
        "> Defining a function which calculates cosine similarity between vectors of the same dimension."
      ],
      "metadata": {
        "id": "iP9Ryh9S3B5B"
      }
    },
    {
      "cell_type": "code",
      "source": [
        "def cosine_sim(vector1, vector2):\n",
        "  dot_product = np.dot(vector1, vector2)  # dot product of the vectors\n",
        "  magnitude1 = np.linalg.norm(vector1)    # length of vector1\n",
        "  magnitude2 = np.linalg.norm(vector2)    # length of vector2\n",
        "\n",
        "  cosine_similarity = dot_product / (magnitude1 * magnitude2)\n",
        "  return cosine_similarity"
      ],
      "metadata": {
        "id": "3821f94LqHqE"
      },
      "execution_count": 27,
      "outputs": []
    },
    {
      "cell_type": "markdown",
      "source": [
        "### Testing and Result\n",
        "\n",
        "> Calculate the vector for each review in test_dataset with term frequencies. Predict labels for all reviews using cosine similarity. Finally compare predictions with real labels and calculate the success rate."
      ],
      "metadata": {
        "id": "mJENwAxP36WQ"
      }
    },
    {
      "cell_type": "code",
      "source": [
        "# Document vectors of Test Set\n",
        "test_vector_df = None\n",
        "vocab_size = len(token_set)\n",
        "test_doc_vectors = []\n",
        "for _, row in test_dataset.iterrows():\n",
        "  vector = [0.0] * vocab_size # initial vector\n",
        "  for token in row[\"review\"]:\n",
        "    idx = token2idx.get(token, token2idx.get(\"<UNKNOWN>\"))\n",
        "    vector[idx] += 1\n",
        "\n",
        "  # Normalize the vectors by dividing TFs to number of tokens in the review\n",
        "  for token in set(row[\"review\"]):\n",
        "    idx = token2idx.get(token, token2idx.get(\"<UNKNOWN>\"))\n",
        "    vector[idx] /= len(row[\"review\"])\n",
        "\n",
        "  test_doc_vectors.append([row[\"label\"], vector])\n",
        "\n",
        "test_vector_df = pd.DataFrame(test_doc_vectors, columns= [\"label\", \"vector\"])"
      ],
      "metadata": {
        "id": "i9GIA3S13-yM"
      },
      "execution_count": 28,
      "outputs": []
    },
    {
      "cell_type": "code",
      "source": [
        "test_labels, test_vectors  = test_vector_df.iloc[:,0], test_vector_df.iloc[:,1]\n",
        "test_labels.value_counts()"
      ],
      "metadata": {
        "colab": {
          "base_uri": "https://localhost:8080/"
        },
        "id": "AqcRgarf47FP",
        "outputId": "f4ba54b1-2e07-405c-e09e-0b94727f0731"
      },
      "execution_count": 29,
      "outputs": [
        {
          "output_type": "execute_result",
          "data": {
            "text/plain": [
              "label\n",
              "0    1076\n",
              "1    1056\n",
              "Name: count, dtype: int64"
            ]
          },
          "metadata": {},
          "execution_count": 29
        }
      ]
    },
    {
      "cell_type": "code",
      "source": [
        "# make all predictions\n",
        "predicted_labels = []\n",
        "for vector in test_vectors:\n",
        "  pos_sim = cosine_sim(np.array(vector), pos_vector)\n",
        "  neg_sim = cosine_sim(np.array(vector), neg_vector)\n",
        "  predicted_labels.append((1 if pos_sim > neg_sim else 0))"
      ],
      "metadata": {
        "colab": {
          "base_uri": "https://localhost:8080/"
        },
        "id": "vGEsFfHv5O-H",
        "outputId": "71d7a247-c92c-49a0-fc7c-b4c3376f5b22"
      },
      "execution_count": 30,
      "outputs": [
        {
          "output_type": "stream",
          "name": "stderr",
          "text": [
            "<ipython-input-27-c806a6ff87e3>:6: RuntimeWarning: invalid value encountered in scalar divide\n",
            "  cosine_similarity = dot_product / (magnitude1 * magnitude2)\n"
          ]
        }
      ]
    },
    {
      "cell_type": "code",
      "source": [
        "# Check predictions\n",
        "len(predicted_labels)"
      ],
      "metadata": {
        "colab": {
          "base_uri": "https://localhost:8080/"
        },
        "id": "MdofmpAJ5T1g",
        "outputId": "5f5ed37c-0e4e-4d65-839e-358fb669ddf7"
      },
      "execution_count": 31,
      "outputs": [
        {
          "output_type": "execute_result",
          "data": {
            "text/plain": [
              "2132"
            ]
          },
          "metadata": {},
          "execution_count": 31
        }
      ]
    },
    {
      "cell_type": "code",
      "source": [
        "# check if prediction made correctly or not for each prediction\n",
        "total_predictions = len(predicted_labels)\n",
        "correct_predictions = 0\n",
        "pos_pos = 0 # predicted pos, it is pos   (correct prediction)\n",
        "neg_neg = 0 # predicted neg, it is neg   (correct prediction)\n",
        "pos_neg = 0 # predicted pos, it is neg   (uncorrect prediction)\n",
        "neg_pos = 0 # predicted neg, it is pos   (uncorrect prediction)\n",
        "for idx ,prediction in enumerate(predicted_labels):\n",
        "  label = test_labels[idx]\n",
        "\n",
        "  if prediction and label:\n",
        "    pos_pos += 1\n",
        "  elif prediction and not label:\n",
        "    pos_neg += 1\n",
        "  elif not prediction and not label:\n",
        "    neg_neg += 1\n",
        "  else:\n",
        "    neg_pos += 1\n",
        "\n",
        "  correct_predictions += 1 if prediction == test_labels[idx] else 0\n",
        "\n",
        "print(f\"Success rate: {correct_predictions / total_predictions:.4g}\")\n",
        "print(f\"\\nPrediction\\tLabel\")\n",
        "print(f\"positive\\tpositive\\t{pos_pos / total_predictions:.4g}\")\n",
        "print(f\"negative\\tnegative\\t{neg_neg / total_predictions:.4g}\")\n",
        "print(f\"positive\\tnegative\\t{pos_neg / total_predictions:.4g}\")\n",
        "print(f\"negative\\tpositive\\t{neg_pos / total_predictions:.4g}\")"
      ],
      "metadata": {
        "colab": {
          "base_uri": "https://localhost:8080/"
        },
        "id": "hygQx9ug7eIX",
        "outputId": "36b496d4-d09a-4990-b56a-1b941f87887d"
      },
      "execution_count": 32,
      "outputs": [
        {
          "output_type": "stream",
          "name": "stdout",
          "text": [
            "Success rate: 0.811\n",
            "\n",
            "Prediction\tLabel\n",
            "positive\tpositive\t0.4081\n",
            "negative\tnegative\t0.4029\n",
            "positive\tnegative\t0.1018\n",
            "negative\tpositive\t0.08724\n"
          ]
        }
      ]
    }
  ]
}